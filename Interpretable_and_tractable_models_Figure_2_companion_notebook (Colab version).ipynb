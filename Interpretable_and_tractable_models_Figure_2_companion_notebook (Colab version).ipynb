{
  "cells": [
    {
      "cell_type": "markdown",
      "metadata": {
        "id": "view-in-github",
        "colab_type": "text"
      },
      "source": [
        "<a href=\"https://colab.research.google.com/github/pachterlab/GVFP_2021/blob/main/Interpretable_and_tractable_models_Figure_2_companion_notebook%20(Colab%20version).ipynb\" target=\"_parent\"><img src=\"https://colab.research.google.com/assets/colab-badge.svg\" alt=\"Open In Colab\"/></a>"
      ]
    },
    {
      "cell_type": "markdown",
      "metadata": {
        "id": "rbadFXMwYnCe"
      },
      "source": [
        "# \"Interpretable and tractable models of transcriptional noise for the rational design of single-molecule quantification experiments\"\n",
        "## by Gennady Gorin<sup>*</sup>, John Vastola<sup>*</sup>, Meichen Fang, and Lior Pachter\n",
        "### <sup>*</sup> These authors contributed equally to this work.\n",
        "# Companion notebook for Figure 2"
      ]
    },
    {
      "cell_type": "markdown",
      "metadata": {
        "id": "lhbmi0JNYnCm"
      },
      "source": [
        "This notebook is self-contained, and generates plots used in panel b. of Figure 2."
      ]
    },
    {
      "cell_type": "code",
      "execution_count": 14,
      "metadata": {
        "colab": {
          "base_uri": "https://localhost:8080/",
          "height": 17
        },
        "id": "sBIPN7YMYnCn",
        "outputId": "39980f51-140c-4079-da26-73a5f3b6242e"
      },
      "outputs": [
        {
          "output_type": "display_data",
          "data": {
            "application/javascript": [
              "IPython.OutputArea.prototype._should_scroll = function(lines) {\n",
              "    return false;\n",
              "}"
            ],
            "text/plain": [
              "<IPython.core.display.Javascript object>"
            ]
          },
          "metadata": {}
        }
      ],
      "source": [
        "%%javascript\n",
        "IPython.OutputArea.prototype._should_scroll = function(lines) {\n",
        "    return false;\n",
        "}"
      ]
    },
    {
      "cell_type": "code",
      "execution_count": 15,
      "metadata": {
        "id": "JyYAV6PgYnCs"
      },
      "outputs": [],
      "source": [
        "# Scientific computing imports\n",
        "import numpy as np\n",
        "from scipy.fft import irfft, irfftn\n",
        "from scipy.stats import nbinom, poisson\n",
        "from scipy.stats import gamma as gammadist\n",
        "import scipy.io as sio\n",
        "\n",
        "# Plotting\n",
        "import matplotlib.pyplot as plt"
      ]
    },
    {
      "cell_type": "markdown",
      "source": [
        "Download simulation data."
      ],
      "metadata": {
        "id": "O-D_OU7scbWM"
      }
    },
    {
      "cell_type": "code",
      "source": [
        "!git clone https://github.com/pachterlab/GVFP_2021.git"
      ],
      "metadata": {
        "colab": {
          "base_uri": "https://localhost:8080/"
        },
        "id": "Cce6inOAb_MH",
        "outputId": "3b912257-c79d-49aa-90bc-7afdc89ff344"
      },
      "execution_count": 16,
      "outputs": [
        {
          "output_type": "stream",
          "name": "stdout",
          "text": [
            "fatal: destination path 'GVFP_2021' already exists and is not an empty directory.\n"
          ]
        }
      ]
    },
    {
      "cell_type": "markdown",
      "source": [
        "Move simulation data to current working directory."
      ],
      "metadata": {
        "id": "GWiq88Y6cgNk"
      }
    },
    {
      "cell_type": "code",
      "source": [
        "!mv GVFP_2021/data/* ."
      ],
      "metadata": {
        "colab": {
          "base_uri": "https://localhost:8080/"
        },
        "id": "PzEcGNh0cR2H",
        "outputId": "3824fa0a-6c5c-44f8-8a4f-4d4846272707"
      },
      "execution_count": 17,
      "outputs": [
        {
          "output_type": "stream",
          "name": "stdout",
          "text": [
            "mv: cannot stat 'GVFP_2021/data/*': No such file or directory\n"
          ]
        }
      ]
    },
    {
      "cell_type": "markdown",
      "metadata": {
        "id": "tW-zUQDQYnCu"
      },
      "source": [
        "------------------------------"
      ]
    },
    {
      "cell_type": "markdown",
      "metadata": {
        "id": "J0KBv4_2YnCw"
      },
      "source": [
        "## Functions"
      ]
    },
    {
      "cell_type": "markdown",
      "metadata": {
        "id": "a1Mx5PdFYnCx"
      },
      "source": [
        "### $\\Gamma$-OU likelihood function"
      ]
    },
    {
      "cell_type": "code",
      "execution_count": 18,
      "metadata": {
        "id": "7Ox_UzmDYnCz"
      },
      "outputs": [],
      "source": [
        "# Get 1 species GOU generating function using ODE method\n",
        "def get_gf_GOU_1sp_ODE(g, params):\n",
        "    gamma, kappa, theta, a = params[0], params[1], params[2], params[3]     # get parameters\n",
        "    \n",
        "    max_fudge = 10                                                 # Determine integration time scale / length\n",
        "    t_max = np.max([1/kappa, 1/gamma, 1/theta, 1/a])*max_fudge\n",
        "    min_fudge = 1   # good: 0.1\n",
        "    dt = np.min([1/kappa, 1/gamma, 1/theta, 1/a])*min_fudge\n",
        "    num_tsteps = int(np.ceil(t_max/dt))\n",
        "\n",
        "    q = np.zeros((g.shape[0], num_tsteps + 1), dtype=np.complex64)    # initialize array to store ODE\n",
        "    \n",
        "    t_array = np.linspace(0, t_max, num_tsteps+1)\n",
        "    t_array = t_array.reshape((1, num_tsteps + 1))\n",
        "    g = g.reshape((g.shape[0],1))\n",
        "    q = theta*g*(np.exp(-gamma*t_array) - np.exp(-kappa*t_array))/(kappa - gamma)\n",
        "    integrand = q/(1-q)\n",
        "    integral = np.trapz(integrand, dx=dt, axis=1)     # integrate ODE solution\n",
        "    gf = np.exp(a* integral)               # get generating function\n",
        "        \n",
        "    return gf\n",
        "\n",
        "\n",
        "# Get Pss for 1 species GOU model via ODE method\n",
        "def get_GOU_analytic(mx, params):\n",
        "    half = mx[0]//2 + 1\n",
        "    l = np.arange(half) \n",
        "    u = np.exp(-2j*np.pi*l/mx[0])-1                # Choose values of g on unit circle\n",
        "       \n",
        "    gf = get_gf_GOU_1sp_ODE(u, params)             # Get generating function\n",
        " \n",
        "    Pss = irfft(gf, n=mx[0])                       # inverse rFFT\n",
        "    Pss = np.abs(Pss)/np.sum(np.abs(Pss))          # normalize\n",
        "    return Pss\n"
      ]
    },
    {
      "cell_type": "markdown",
      "metadata": {
        "id": "_WR40xcQYnC3"
      },
      "source": [
        "### CIR likelihood function"
      ]
    },
    {
      "cell_type": "code",
      "execution_count": 19,
      "metadata": {
        "id": "jhkX9ib6YnC6"
      },
      "outputs": [],
      "source": [
        "# ODE for 1 species model\n",
        "def f_1sp(q, t, g, params):\n",
        "    gamma, kappa, theta, a = params\n",
        "    \n",
        "    result = - kappa*q + (kappa*theta)*q*q + g*np.exp(-gamma*t)\n",
        "    return result\n",
        "\n",
        "\n",
        "# RK4 implementation for 1 species model\n",
        "def RK4_1sp(q, f, t, g, step_size, param):\n",
        "    j1 = f(q, t, g, param)\n",
        "    j2 = f(q + (step_size/2)*j1, t + (step_size/2), g, param)   \n",
        "    j3 = f(q + (step_size/2)*j2, t + (step_size/2), g, param)   \n",
        "    j4 = f(q + (step_size)*j3, t + (step_size), g, param)  \n",
        "    q_new = q + (step_size/6)*(j1 + 2*j2 + 2*j3 + j4)\n",
        "  \n",
        "    return q_new\n",
        "\n",
        "\n",
        "# Get 1 species CIR generating function using ODE method\n",
        "def get_gf_CIR_1sp_ODE(g, params):\n",
        "    gamma, kappa, theta, a = params[0], params[1], params[2], params[3]     # get parameters\n",
        "    \n",
        "    max_fudge = 10                                                 # Determine integration time scale / length\n",
        "    t_max = np.max([1/kappa, 1/gamma, 1/theta, 1/a])*max_fudge\n",
        "    min_fudge = 1   # good: 0.1\n",
        "    dt = np.min([1/kappa, 1/gamma, 1/theta, 1/a])*min_fudge\n",
        "    num_tsteps = int(np.ceil(t_max/dt))\n",
        "\n",
        "    q = np.zeros((g.shape[0], num_tsteps + 1), dtype=np.complex64)    # initialize array to store ODE\n",
        "    \n",
        "    # Solve ODE using RK4\n",
        "    for i in range(0, num_tsteps):\n",
        "        t = i*dt\n",
        "        q[:,i+1] = RK4_1sp(q[:,i], f_1sp, t, g, dt, params)\n",
        "    \n",
        "    integral = np.trapz(q, dx=dt, axis=1)     # integrate ODE solution\n",
        "    gf = np.exp(a*theta*integral)               # get generating function\n",
        "        \n",
        "    return gf\n",
        "\n",
        "\n",
        "# Get Pss for 1 species CIR model via ODE method\n",
        "def get_CIR_analytic(mx, params):\n",
        "    half = mx[0]//2 + 1\n",
        "    l = np.arange(half) \n",
        "    u = np.exp(-2j*np.pi*l/mx[0])-1                # Choose values of g on unit circle\n",
        "       \n",
        "    gf = get_gf_CIR_1sp_ODE(u, params)             # Get generating function\n",
        " \n",
        "    Pss = irfft(gf, n=mx[0])                       # inverse rFFT\n",
        "    Pss = np.abs(Pss)/np.sum(np.abs(Pss))          # normalize\n",
        "    return Pss"
      ]
    },
    {
      "cell_type": "markdown",
      "metadata": {
        "id": "d4K2dty_YnC8"
      },
      "source": [
        "### Exact likelihood functions for limiting cases (constitutive, mixture, high gain $\\Gamma$-OU, high gain CIR)"
      ]
    },
    {
      "cell_type": "code",
      "execution_count": 20,
      "metadata": {
        "id": "4gCxO3P_YnC-"
      },
      "outputs": [],
      "source": [
        "# Constitutive model likelihood (just a Poisson distribution)\n",
        "def get_const_nascent(x, params):\n",
        "    gamma, kappa, theta, a = params\n",
        "    K_avg = (a*theta)/kappa\n",
        "    mu = K_avg/gamma\n",
        "    \n",
        "    return poisson.pmf(x, mu)\n",
        "\n",
        "\n",
        "# Mixture / slow mean-reversion model likelihood (just a negative binomial distribution)\n",
        "def get_slowrev_nascent(x, params):\n",
        "    gamma, kappa, theta, a = params\n",
        "    r = a/kappa\n",
        "    p = 1/(1 + theta) \n",
        "    \n",
        "    return nbinom.pmf(x, n=r, p=p)\n",
        "\n",
        "\n",
        "# High gain GOU model likelihood (also just a negative binomial distribution, but with different parameters)\n",
        "def get_highgain_GOU_nascent(x, params):\n",
        "    gamma, kappa, theta, a = params\n",
        "    r = a/gamma\n",
        "    p = kappa/(kappa + theta) \n",
        "    \n",
        "    return nbinom.pmf(x, n=r, p=p)\n",
        "\n",
        "\n",
        "# High gain CIR model likelihood (more complicated than the others; not a well-characterized parametric family)\n",
        "def get_highgain_CIR_nascent(mx, params):\n",
        "    gamma, kappa, theta, a = params\n",
        "    b = theta/kappa\n",
        "    \n",
        "    half = mx[0]//2 + 1\n",
        "    l = np.arange(half) \n",
        "    g = np.exp(-2j*np.pi*l/mx[0])-1                # Choose values of g on unit circle\n",
        "    \n",
        "    max_fudge = 10                                                 # Determine integration time scale / length\n",
        "    t_max = np.max([1/kappa, 1/gamma, 1/theta, 1/a])*max_fudge\n",
        "    min_fudge = 1   # good: 0.1\n",
        "    dt = np.min([1/kappa, 1/gamma, 1/theta, 1/a])*min_fudge\n",
        "    num_tsteps = int(np.ceil(t_max/dt))\n",
        "\n",
        "    q = np.zeros((g.shape[0], num_tsteps + 1), dtype=np.complex64)    # initialize array to store ODE\n",
        "    \n",
        "    t_array = np.linspace(0, t_max, num_tsteps+1)\n",
        "    t_array = t_array.reshape((1, num_tsteps + 1))\n",
        "    g = g.reshape((g.shape[0],1))\n",
        "    q = 1 - np.sqrt(1 - 4*b*g*np.exp(-gamma*t_array) )\n",
        "    integrand = q\n",
        "    integral = np.trapz(integrand, dx=dt, axis=1)     # integrate ODE solution\n",
        "    gf = np.exp((a/2)* integral)               # get generating function\n",
        "    \n",
        "    Pss = irfft(gf, n=mx[0])                       # inverse rFFT\n",
        "    Pss = np.abs(Pss)/np.sum(np.abs(Pss))          # normalize\n",
        "    return Pss"
      ]
    },
    {
      "cell_type": "markdown",
      "metadata": {
        "id": "-T2eHHbrYnDA"
      },
      "source": [
        "----------------------------------------------------------------------------"
      ]
    },
    {
      "cell_type": "markdown",
      "metadata": {
        "id": "BtRvTMFxYnDA"
      },
      "source": [
        "## Sample plot of limiting cases"
      ]
    },
    {
      "cell_type": "markdown",
      "metadata": {
        "id": "rLdejlQxYnDB"
      },
      "source": [
        "Set up parameters."
      ]
    },
    {
      "cell_type": "code",
      "execution_count": 21,
      "metadata": {
        "id": "2HFKG01vYnDC"
      },
      "outputs": [],
      "source": [
        "mx = [60]       # domain size\n",
        "\n",
        "gamma = 1    # splicing rate (or, in 1 species case, degradation rate)\n",
        "a = 1            # a*theta is ext. noise production rate\n",
        "kappa = 0.5      # extrinsic noise time scale / decay rate \n",
        "theta = 5             # theta is scale parameter of Gamma dist. Bigger = more spread out transcription rate values\n",
        "params = [gamma, kappa, theta, a]\n",
        "\n",
        "x = np.arange(mx[0])"
      ]
    },
    {
      "cell_type": "markdown",
      "metadata": {
        "id": "68GJWk5RYnDD"
      },
      "source": [
        "Compute exact probability distributions."
      ]
    },
    {
      "cell_type": "code",
      "execution_count": 22,
      "metadata": {
        "id": "RHw5oAJTYnDE"
      },
      "outputs": [],
      "source": [
        "p_const_nascent = get_const_nascent(x, params)\n",
        "p_slowrev_nascent = get_slowrev_nascent(x, params)\n",
        "p_highgain_GOU_nascent = get_highgain_GOU_nascent(x, params)\n",
        "p_highgain_CIR_nascent = get_highgain_CIR_nascent(mx, params)"
      ]
    },
    {
      "cell_type": "markdown",
      "metadata": {
        "id": "TgtR8OiIYnDF"
      },
      "source": [
        "Plot sample results."
      ]
    },
    {
      "cell_type": "code",
      "execution_count": 23,
      "metadata": {
        "colab": {
          "base_uri": "https://localhost:8080/",
          "height": 319
        },
        "id": "EGJkXKv7YnDF",
        "outputId": "72726c98-1606-4e89-a078-136eac55c728"
      },
      "outputs": [
        {
          "output_type": "display_data",
          "data": {
            "image/png": "[encoded data removed]",
            "text/plain": [
              "<Figure size 432x288 with 1 Axes>"
            ]
          },
          "metadata": {
            "needs_background": "light"
          }
        }
      ],
      "source": [
        "# plot results\n",
        "plt.plot(x, p_const_nascent, linewidth=2, label='constitutive')\n",
        "plt.plot(x, p_slowrev_nascent, linewidth=2, label='mixture')\n",
        "plt.plot(x, p_highgain_GOU_nascent, linewidth=2, label='high gain GOU')\n",
        "plt.plot(x, p_highgain_CIR_nascent, linewidth=2, label='high gain CIR')\n",
        "plt.xlabel(\"# nascent\", fontsize=30)\n",
        "plt.ylabel('Probability', fontsize=30)\n",
        "plt.title(\"Sample plot of limiting cases\", fontsize=20)\n",
        "plt.legend(fontsize=20, loc='upper right')\n",
        "plt.show()"
      ]
    },
    {
      "cell_type": "markdown",
      "metadata": {
        "id": "V3xxk-C5YnDH"
      },
      "source": [
        "----------------------------------"
      ]
    },
    {
      "cell_type": "markdown",
      "metadata": {
        "id": "-Ma5jlCnYnDH"
      },
      "source": [
        "## Plot panels used in Figure 2"
      ]
    },
    {
      "cell_type": "markdown",
      "metadata": {
        "id": "96v2OrydYnDH"
      },
      "source": [
        "Get names of external simulation data sets used."
      ]
    },
    {
      "cell_type": "code",
      "execution_count": 24,
      "metadata": {
        "id": "sGWNqCUGYnDI"
      },
      "outputs": [],
      "source": [
        "names = ['CIR_3_poisson.mat', 'gou_2_extrinsic.mat', 'gou_1_intrinsic.mat', 'CIR_1_intrinsic.mat']\n",
        "N = len(names)"
      ]
    },
    {
      "cell_type": "markdown",
      "metadata": {
        "id": "CdxEXzBYYnDJ"
      },
      "source": [
        "Function that imports external data."
      ]
    },
    {
      "cell_type": "code",
      "execution_count": 25,
      "metadata": {
        "id": "Fl-g3gPPYnDJ"
      },
      "outputs": [],
      "source": [
        "IND_ = [4, 6, 18, 18]           # indices of relevant features\n",
        "\n",
        "def get_data(i):\n",
        "    F = sio.loadmat(names[i])\n",
        "    X_s = F['X_s'][:,0,:].astype('int')\n",
        "    tvec = F['tvec_sde'][0]\n",
        "    \n",
        "    K_t = F['SDE_t'][IND_[i],:]\n",
        "    \n",
        "    x_N = X_s[:,0]\n",
        "    x_M = X_s[:,1]\n",
        "    \n",
        "    x_N_max = np.max(x_N)\n",
        "    x_M_max = np.max(x_M)\n",
        "    \n",
        "    x_N_bins = np.arange(x_N_max + 2) - 0.5\n",
        "    x_M_bins = np.arange(x_M_max + 1) - 0.5\n",
        "    \n",
        "    kappa = F['kappa'][0,0]\n",
        "    alpha = F['alpha'][0][0]\n",
        "    a = alpha*kappa\n",
        "    theta = 1/F['eta'][0,0]\n",
        "    beta = 1.2\n",
        "    gamma = F['gamma'][0][0]\n",
        "    \n",
        "    params = [beta, kappa, theta, a]\n",
        "    \n",
        "    x_N_arg = np.arange(x_N_max + 1)\n",
        "    \n",
        "    return params, tvec, K_t, x_N, x_N_bins, x_N_arg"
      ]
    },
    {
      "cell_type": "markdown",
      "metadata": {
        "id": "dz_vzfT2YnDK"
      },
      "source": [
        "Get external data."
      ]
    },
    {
      "cell_type": "code",
      "execution_count": 26,
      "metadata": {
        "id": "PnVkZVBTYnDK"
      },
      "outputs": [],
      "source": [
        "# constitutive data\n",
        "params_const, tvec_const, K_t_const, x_N_const, x_N_bins_const, x_N_arg_const = get_data(0)\n",
        "\n",
        "# slow reversion data\n",
        "params_slowrev, tvec_slowrev, K_t_slowrev, x_N_slowrev, x_N_bins_slowrev, x_N_arg_slowrev = get_data(1)\n",
        "\n",
        "# geometric bursts data\n",
        "params_gb, tvec_gb, K_t_gb, x_N_gb, x_N_bins_gb, x_N_arg_gb = get_data(2)\n",
        "\n",
        "# quasi-bursty data\n",
        "params_qb, tvec_qb, K_t_qb, x_N_qb, x_N_bins_qb, x_N_arg_qb = get_data(3)"
      ]
    },
    {
      "cell_type": "markdown",
      "metadata": {
        "id": "Oi7upZtCYnDL"
      },
      "source": [
        "Histogram bin plotting preferences."
      ]
    },
    {
      "cell_type": "code",
      "execution_count": 27,
      "metadata": {
        "id": "ALTpyXzGYnDL"
      },
      "outputs": [],
      "source": [
        "manual_cap = 6\n",
        "manual_bins =  np.arange(manual_cap + 2) - 0.5\n",
        "x_manual = np.arange(manual_cap + 1)\n",
        "mx_manual = [manual_cap]\n",
        "\n",
        "t_min = 0"
      ]
    },
    {
      "cell_type": "markdown",
      "metadata": {
        "id": "uIbh4SZ-YnDM"
      },
      "source": [
        "Produce plots for Figure 2."
      ]
    },
    {
      "cell_type": "code",
      "execution_count": 28,
      "metadata": {
        "colab": {
          "base_uri": "https://localhost:8080/",
          "height": 1000
        },
        "id": "hfmiY83qYnDM",
        "outputId": "ef89bf8a-f12f-4cdf-ebf7-075198519814"
      },
      "outputs": [
        {
          "output_type": "display_data",
          "data": {
            "image/png": "[encoded data removed]",
            "text/plain": [
              "<Figure size 432x288 with 1 Axes>"
            ]
          },
          "metadata": {}
        },
        {
          "output_type": "display_data",
          "data": {
            "image/png": "[encoded data removed]",
            "text/plain": [
              "<Figure size 432x288 with 1 Axes>"
            ]
          },
          "metadata": {}
        },
        {
          "output_type": "display_data",
          "data": {
            "image/png": "[encoded data removed]",
            "text/plain": [
              "<Figure size 432x288 with 1 Axes>"
            ]
          },
          "metadata": {}
        },
        {
          "output_type": "display_data",
          "data": {
            "image/png": "[encoded data removed]",
            "text/plain": [
              "<Figure size 432x288 with 1 Axes>"
            ]
          },
          "metadata": {}
        },
        {
          "output_type": "display_data",
          "data": {
            "image/png": "[encoded data removed]",
            "text/plain": [
              "<Figure size 432x288 with 1 Axes>"
            ]
          },
          "metadata": {}
        },
        {
          "output_type": "display_data",
          "data": {
            "image/png": "[encoded data removed]",
            "text/plain": [
              "<Figure size 432x288 with 1 Axes>"
            ]
          },
          "metadata": {}
        },
        {
          "output_type": "display_data",
          "data": {
            "image/png": "[encoded data removed]",
            "text/plain": [
              "<Figure size 432x288 with 1 Axes>"
            ]
          },
          "metadata": {}
        },
        {
          "output_type": "display_data",
          "data": {
            "image/png": "[encoded data removed]",
            "text/plain": [
              "<Figure size 432x288 with 1 Axes>"
            ]
          },
          "metadata": {}
        }
      ],
      "source": [
        "# CONSTITUTIVE PLOT\n",
        "ax = plt.subplot(111)\n",
        "p_const_nascent = get_const_nascent(x_N_arg_const, params_const)\n",
        "\n",
        "t_len = len(tvec_const)\n",
        "beta, kappa, theta, a = params_const\n",
        "K_avg = (a*theta/kappa)\n",
        "K_const = K_avg*np.ones(t_len)\n",
        "\n",
        "\n",
        "plt.plot(tvec_const, K_const, color='black', linewidth=2)\n",
        "plt.xlabel('time', fontsize=30)\n",
        "plt.ylabel('trans. rate', fontsize=30)\n",
        "plt.xticks([])\n",
        "plt.yticks([])\n",
        "ax.spines['right'].set_visible(False)\n",
        "ax.spines['top'].set_visible(False)\n",
        "plt.savefig('results/K_const.png')\n",
        "plt.savefig('results/K_const.pdf')\n",
        "plt.show()\n",
        "\n",
        "ax = plt.subplot(111)\n",
        "plt.hist(x_N_const, density=True, bins=x_N_bins_const, color='limegreen', alpha=0.3)\n",
        "plt.plot(x_N_arg_const, p_const_nascent, linewidth=2, color='black', linestyle='--')\n",
        "plt.scatter(x_N_arg_const, p_const_nascent,color='black',zorder=3, s= 100)\n",
        "plt.xlabel('# nascent', fontsize=30)\n",
        "plt.ylabel('Probability', fontsize=30)\n",
        "plt.xticks([])\n",
        "plt.yticks([])\n",
        "ax.spines['right'].set_visible(False)\n",
        "ax.spines['top'].set_visible(False)\n",
        "plt.savefig('results/p_nascent_const.png')\n",
        "plt.savefig('results/p_nascent_const.pdf')\n",
        "plt.show()\n",
        "    \n",
        "    \n",
        "    \n",
        "# SLOWREV PLOT\n",
        "\n",
        "np.random.seed(10)\n",
        "t_len = len(tvec_slowrev)\n",
        "num_samples = 8\n",
        "gamma, kappa, theta, a = params\n",
        "r = a/kappa\n",
        "p = 1/(1 + theta) \n",
        "K_vals = gammadist.rvs(a/kappa, loc=0, scale=theta, size=num_samples, random_state=None)\n",
        "\n",
        "K_vals = np.sort(K_vals)\n",
        "\n",
        "colors = ['whitesmoke', 'gainsboro', 'lightgray', 'silver', 'darkgray', 'gray', 'dimgray', 'black']\n",
        "K_pop = np.zeros((num_samples, t_len))\n",
        "for i in range(num_samples):\n",
        "    K_pop[i,:] = K_vals[i]*np.ones(t_len)\n",
        "\n",
        "\n",
        "ax = plt.subplot(111)\n",
        "p_slowrev_nascent = get_slowrev_nascent(x_N_arg_slowrev, params_slowrev)[:manual_cap + 1]\n",
        "\n",
        "for i in range(num_samples):\n",
        "    plt.plot(tvec_slowrev, K_pop[i,:], color=colors[i], linewidth=2)\n",
        "plt.xlabel('time', fontsize=30)\n",
        "plt.ylabel('trans. rate', fontsize=30)\n",
        "plt.xticks([])\n",
        "plt.yticks([])\n",
        "ax.spines['right'].set_visible(False)\n",
        "ax.spines['top'].set_visible(False)\n",
        "plt.savefig('results/K_slowrev.png')\n",
        "plt.savefig('results/K_slowrev.pdf')\n",
        "plt.show()\n",
        "\n",
        "ax = plt.subplot(111)\n",
        "plt.hist(x_N_slowrev, density=True, bins=manual_bins, color='darkorange', alpha=0.3)\n",
        "plt.plot(x_manual, p_slowrev_nascent, linewidth=2, color='black', linestyle='--')\n",
        "plt.scatter(x_manual, p_slowrev_nascent,color='black',zorder=3, s= 100)\n",
        "plt.xlabel('# nascent', fontsize=30)\n",
        "plt.ylabel('Probability', fontsize=30)\n",
        "plt.xticks([])\n",
        "plt.yticks([])\n",
        "ax.spines['right'].set_visible(False)\n",
        "ax.spines['top'].set_visible(False)\n",
        "plt.savefig('results/p_nascent_slowrev.png')\n",
        "plt.savefig('results/p_nascent_slowrev.pdf')\n",
        "plt.show()\n",
        "\n",
        "\n",
        "\n",
        "# HIGH GAIN GOU PLOT\n",
        "ax = plt.subplot(111)\n",
        "p_gb_nascent = get_highgain_GOU_nascent(x_N_arg_gb, params_gb)[:manual_cap + 1]\n",
        "plt.plot(tvec_gb[t_min:], K_t_gb[t_min:], color='black', linewidth=2)\n",
        "plt.xlabel('time', fontsize=30)\n",
        "plt.ylabel('trans. rate', fontsize=30)\n",
        "plt.xticks([])\n",
        "plt.yticks([])\n",
        "ax.spines['right'].set_visible(False)\n",
        "ax.spines['top'].set_visible(False)\n",
        "plt.savefig('results/K_gb.png')\n",
        "plt.savefig('results/K_gb.pdf')\n",
        "plt.show()\n",
        "\n",
        "ax = plt.subplot(111)\n",
        "plt.hist(x_N_gb, density=True, bins=manual_bins, color='darkorange', alpha=0.3)\n",
        "plt.plot(x_manual, p_gb_nascent, linewidth=2, color='black', linestyle='--')\n",
        "plt.scatter(x_manual, p_gb_nascent,color='black',zorder=3, s= 100)\n",
        "plt.xlabel('# nascent', fontsize=30)\n",
        "plt.ylabel('Probability', fontsize=30)\n",
        "plt.xticks([])\n",
        "plt.yticks([])\n",
        "ax.spines['right'].set_visible(False)\n",
        "ax.spines['top'].set_visible(False)\n",
        "plt.savefig('results/p_nascent_gb.png')\n",
        "plt.savefig('results/p_nascent_gb.pdf')\n",
        "plt.show()\n",
        "\n",
        "\n",
        "\n",
        "# HIGH GAIN CIR PLOT\n",
        "ax = plt.subplot(111)\n",
        "p_qb_nascent = get_highgain_CIR_nascent([30], params_gb)[:manual_cap+1]\n",
        "plt.plot(tvec_qb, K_t_qb, color='black', linewidth=2)\n",
        "plt.xlabel('time', fontsize=30)\n",
        "plt.ylabel('trans. rate', fontsize=30)\n",
        "plt.xticks([])\n",
        "plt.yticks([])\n",
        "ax.spines['right'].set_visible(False)\n",
        "ax.spines['top'].set_visible(False)\n",
        "plt.savefig('results/K_qb.png')\n",
        "plt.savefig('results/K_qb.pdf')\n",
        "plt.show()\n",
        "\n",
        "ax = plt.subplot(111)\n",
        "plt.hist(x_N_qb, density=True, bins=manual_bins, color='darkorange', alpha=0.3)\n",
        "plt.plot(x_manual, p_qb_nascent, linewidth=2, color='black', linestyle='--')\n",
        "plt.scatter(x_manual, p_qb_nascent,color='black',zorder=3, s= 100)\n",
        "plt.xlabel('# nascent', fontsize=30)\n",
        "plt.ylabel('Probability', fontsize=30)\n",
        "plt.xticks([])\n",
        "plt.yticks([])\n",
        "ax.spines['right'].set_visible(False)\n",
        "ax.spines['top'].set_visible(False)\n",
        "plt.savefig('results/p_nascent_qb.png')\n",
        "plt.savefig('results/p_nascent_qb.pdf')\n",
        "plt.show()\n",
        "\n",
        "    "
      ]
    }
  ],
  "metadata": {
    "kernelspec": {
      "display_name": "Python 3",
      "language": "python",
      "name": "python3"
    },
    "language_info": {
      "codemirror_mode": {
        "name": "ipython",
        "version": 3
      },
      "file_extension": ".py",
      "mimetype": "text/x-python",
      "name": "python",
      "nbconvert_exporter": "python",
      "pygments_lexer": "ipython3",
      "version": "3.8.5"
    },
    "colab": {
      "name": "Interpretable and tractable models - Figure 2 companion notebook.ipynb",
      "provenance": [],
      "include_colab_link": true
    }
  },
  "nbformat": 4,
  "nbformat_minor": 0
}