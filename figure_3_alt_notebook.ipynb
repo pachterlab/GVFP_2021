{
 "cells": [
  {
   "cell_type": "markdown",
   "metadata": {},
   "source": [
    "# \"Interpretable and tractable models of transcriptional noise for the rational design of single-molecule quantification experiments\"\n",
    "## by Gennady Gorin<sup>*</sup>, John Vastola<sup>*</sup>, Meichen Fang, and Lior Pachter\n",
    "### <sup>*</sup> These authors contributed equally to this work.\n",
    "# Companion notebook for Figure 3 (alternate version)"
   ]
  },
  {
   "cell_type": "markdown",
   "metadata": {},
   "source": [
    "This notebook is self-contained, and generates the panels used in the alternative version Figure 3a presented in the SI (albeit without axis labels). "
   ]
  },
  {
   "cell_type": "code",
   "execution_count": 1,
   "metadata": {},
   "outputs": [],
   "source": [
    "# Scientific computing imports\n",
    "import numpy as np\n",
    "from numpy.fft import irfftn\n",
    "from numpy.random import choice\n",
    "from scipy.stats import rv_discrete, poisson, nbinom, gaussian_kde\n",
    "import matplotlib.pyplot as plt\n",
    "\n",
    "# PyMC3-related imports\n",
    "import pymc3 as pm\n",
    "import theano.tensor as tt\n",
    "\n",
    "# Plotting\n",
    "import matplotlib.pyplot as plt\n",
    "import arviz as az\n",
    "import matplotlib as mpl\n",
    "\n",
    "# Timer\n",
    "import time as ti"
   ]
  },
  {
   "cell_type": "code",
   "execution_count": 2,
   "metadata": {},
   "outputs": [
    {
     "data": {
      "application/javascript": [
       "IPython.OutputArea.prototype._should_scroll = function(lines) {\n",
       "    return false;\n",
       "}\n"
      ],
      "text/plain": [
       "<IPython.core.display.Javascript object>"
      ]
     },
     "metadata": {},
     "output_type": "display_data"
    }
   ],
   "source": [
    "%%javascript\n",
    "IPython.OutputArea.prototype._should_scroll = function(lines) {\n",
    "    return false;\n",
    "}"
   ]
  },
  {
   "cell_type": "markdown",
   "metadata": {},
   "source": [
    "------------------------------------------------"
   ]
  },
  {
   "cell_type": "markdown",
   "metadata": {},
   "source": [
    "## Functions"
   ]
  },
  {
   "cell_type": "markdown",
   "metadata": {},
   "source": [
    "### General-purpose functions"
   ]
  },
  {
   "cell_type": "code",
   "execution_count": 3,
   "metadata": {},
   "outputs": [],
   "source": [
    "# Utility function that converts between (x, y) qualitative regime coordinates to original parameters.\n",
    "def convert_xy_to_params(x, y, beta, gamma, K_avg):\n",
    "    kappa = (beta + gamma)*(x/(1-x))\n",
    "    a_over_th = 1/y - 1\n",
    "    theta = np.sqrt(kappa*K_avg/a_over_th)\n",
    "    a = K_avg*kappa/theta\n",
    "    return a, kappa, theta\n",
    "\n",
    "\n",
    "# Sample from flattened 2D probability distribution p. \n",
    "# mx = [mx0, mx1] is the shape of the 2D domain we're sampling.\n",
    "def sample_from_p(mx, num_data_points, p_flat):\n",
    "    x_N, x_M = np.arange(mx[0]), np.arange(mx[1])\n",
    "    X_N, X_M = np.meshgrid(x_N, x_M, indexing='ij')    # get grid of possible values\n",
    "    x_choices = np.arange(np.prod(mx))                 # represent each grid point as a point in a 1D vector\n",
    "    \n",
    "    samples = choice(x_choices, size=num_data_points, replace=True, p=p_flat)\n",
    "    d_N, d_M = X_N.flatten()[samples], X_M.flatten()[samples]    \n",
    "    return d_N, d_M\n",
    "\n",
    "\n",
    "# Get maximum of a 2D array\n",
    "def get_2D_max(array):\n",
    "    return np.unravel_index(array.argmax(), array.shape)\n",
    "\n",
    "\n",
    "# Get KDE for smooth-looking heatmaps.\n",
    "def get_2D_KDE(x_stats, y_stats, x_min=0, x_max=1, y_min=0, y_max=1):\n",
    "    num_pts = 100                          # hyperparameter\n",
    "    x_arg = np.linspace(x_min, x_max, num_pts)\n",
    "    y_arg = np.linspace(y_min, y_max, num_pts)\n",
    "\n",
    "    X_arg, Y_arg = np.meshgrid(x_arg, y_arg, indexing='ij')      # grid of points      X0, X1\n",
    "\n",
    " \n",
    "    positions = np.vstack([X_arg.ravel(), Y_arg.ravel()])\n",
    "    kernel = gaussian_kde([x_stats, y_stats])\n",
    "    KDE = np.reshape(kernel(positions).T, X_arg.shape)\n",
    "    return KDE, x_arg, y_arg\n",
    "    "
   ]
  },
  {
   "cell_type": "markdown",
   "metadata": {},
   "source": [
    "### Trivial model (constitutive/Poisson and mixture/NB) likelihood functions"
   ]
  },
  {
   "cell_type": "code",
   "execution_count": 4,
   "metadata": {},
   "outputs": [],
   "source": [
    "# Constitutive model likelihood function.\n",
    "def get_Poiss_2sp(mx, params):\n",
    "    beta, gamma, a, kappa, theta = params \n",
    "    K_avg = (a*theta)/kappa\n",
    "    mu_N, mu_M = K_avg/beta, K_avg/gamma\n",
    "    \n",
    "    x_N, x_M = np.arange(mx[0]), np.arange(mx[1])\n",
    "    X_N, X_M = np.meshgrid(x_N, x_M, indexing='ij')\n",
    "    \n",
    "    return poisson.pmf(X_N, mu_N)*poisson.pmf(X_M, mu_M)\n",
    "\n",
    "\n",
    "# Mixture model likelihood function.\n",
    "def get_NB_2sp(mx, params):\n",
    "    beta, gamma, a, kappa, theta = params \n",
    "    \n",
    "    # Get generating function argument\n",
    "    u = []\n",
    "    half = mx[:]\n",
    "    half[-1] = mx[-1]//2 + 1\n",
    "    for i in range(len(mx)):\n",
    "        l = np.arange(half[i])\n",
    "        u_ = np.exp(-2j*np.pi*l/mx[i])-1\n",
    "        u.append(u_)\n",
    "    g = np.meshgrid(*[u_ for u_ in u], indexing='ij')\n",
    "    for i in range(len(mx)):\n",
    "        g[i] = g[i].flatten()\n",
    "    \n",
    "    # Get generating function\n",
    "    gf = np.exp(- (a/kappa)*np.log(1 - theta*(g[0]/beta + g[1]/gamma)))\n",
    "    gf = gf.reshape(tuple(half))\n",
    "                              \n",
    "    Pss = irfftn(gf, s=mx)                        # Get Pss by inverse fast Fourier transform\n",
    "    Pss = np.abs(Pss)/np.sum(np.abs(Pss))           # Normalize\n",
    "    return Pss"
   ]
  },
  {
   "cell_type": "markdown",
   "metadata": {},
   "source": [
    "### $\\Gamma$-OU likelihood functions"
   ]
  },
  {
   "cell_type": "code",
   "execution_count": 5,
   "metadata": {},
   "outputs": [],
   "source": [
    "# Get 2 species GOU generating function using ODE method\n",
    "def get_gf_GOU_2sp_ODE(g0, g1, params):\n",
    "    beta_0, beta_1, a, kappa, theta = params     # get parameters\n",
    "    \n",
    "    c0 = (g0) + (beta_0/(beta_1 - beta_0))*(g1)       #  relevant linear combinations of g_i\n",
    "    c1 = - (beta_0/(beta_1 - beta_0))*(g1)   \n",
    "    \n",
    "    min_fudge, max_fudge = 0.25, 10                                     # Determine integration time scale / length\n",
    "    dt = np.min([1/kappa, 1/theta, 1/a, 1/beta_0, 1/beta_1])*min_fudge\n",
    "    t_max = np.max([1/kappa, 1/theta, 1/a, 1/beta_0, 1/beta_1])*max_fudge\n",
    "    num_tsteps = int(np.ceil(t_max/dt))\n",
    "    t_array = np.linspace(0, t_max, num_tsteps+1)\n",
    "    t_array = t_array.reshape((1, num_tsteps + 1))\n",
    "    \n",
    "    q = np.zeros((g0.shape[0], num_tsteps + 1), dtype=np.complex64)    # initialize array to store ODE\n",
    "    c0 = c0.reshape((c0.shape[0],1))\n",
    "    c1 = c1.reshape((c1.shape[0],1))\n",
    "    q0 = theta*c0*(np.exp(-beta_0*t_array) - np.exp(-kappa*t_array))/(kappa - beta_0) \n",
    "    q1 = theta*c1*(np.exp(-beta_1*t_array) - np.exp(-kappa*t_array))/(kappa - beta_1)\n",
    "    q = q0 + q1\n",
    "    \n",
    "\n",
    "    integrand = q/(1-q)\n",
    "    integral = np.trapz(integrand, dx=dt, axis=1)     # integrate ODE solution\n",
    "    gf = np.exp( a*integral)               # get generating function\n",
    "    return gf\n",
    "\n",
    "\n",
    "# Get Pss for 2 species GOU model via ODE method\n",
    "def get_GOU_2sp(mx, params):\n",
    "    # Get generating function argument\n",
    "    u = []\n",
    "    half = mx[:]\n",
    "    half[-1] = mx[-1]//2 + 1\n",
    "    for i in range(len(mx)):\n",
    "        l = np.arange(half[i])\n",
    "        u_ = np.exp(-2j*np.pi*l/mx[i])-1\n",
    "        u.append(u_)\n",
    "    g = np.meshgrid(*[u_ for u_ in u], indexing='ij')\n",
    "    for i in range(len(mx)):\n",
    "        g[i] = g[i].flatten()\n",
    "    \n",
    "    # Get generating function\n",
    "    gf = get_gf_GOU_2sp_ODE(g[0], g[1], params)                    \n",
    "    gf = gf.reshape(tuple(half))\n",
    "    \n",
    "    Pss = irfftn(gf, s=mx)                        # Get Pss by inverse fast Fourier transform\n",
    "    Pss = np.abs(Pss)/np.sum(np.abs(Pss))           # Normalize\n",
    "    return Pss\n",
    "\n",
    "\n",
    "# Log likelihood of GOU model given data. Uses (x,y) as input instead of (kappa, theta).\n",
    "def ll_GOU(phi, const, mx, data):\n",
    "    # Get parameters\n",
    "    x, y = phi\n",
    "    beta, gamma, K_avg = const\n",
    "    \n",
    "    # Convert from (x, y) to original parameters\n",
    "    a, kappa, theta = convert_xy_to_params(x, y, beta, gamma, K_avg)\n",
    "    params = [beta, gamma, a, kappa, theta]\n",
    "    \n",
    "    Pss = get_GOU_2sp(mx, params)    # Compute Pss\n",
    "\n",
    "    lp = np.log(Pss)\n",
    "    result = np.sum(lp[tuple(data)])\n",
    "    return result\n",
    "\n",
    "\n",
    "# Combines the above functions into one to reduce overhead associated with Python function calls.\n",
    "# Helpful when doing expensive posterior sampling (since many likelihood function calls are required).\n",
    "def ll_GOU2(phi, const, mx, data):\n",
    "    # Get parameters\n",
    "    x, y = phi\n",
    "    beta, gamma, K_avg = const\n",
    "    \n",
    "    \n",
    "    # Convert from (x, y) to original parameters\n",
    "    a, kappa, theta = convert_xy_to_params(x, y, beta, gamma, K_avg)\n",
    "    params = [beta, gamma, a, kappa, theta]\n",
    "    \n",
    "    \n",
    "    # Get generating function argument\n",
    "    u = []\n",
    "    half = mx[:]\n",
    "    half[-1] = mx[-1]//2 + 1\n",
    "    for i in range(len(mx)):\n",
    "        l = np.arange(half[i])\n",
    "        u_ = np.exp(-2j*np.pi*l/mx[i])-1\n",
    "        u.append(u_)\n",
    "    g = np.meshgrid(*[u_ for u_ in u], indexing='ij')\n",
    "    for i in range(len(mx)):\n",
    "        g[i] = g[i].flatten()\n",
    "    \n",
    "    # Get generating function\n",
    "    beta_0 = beta\n",
    "    beta_1 = gamma\n",
    "    \n",
    "    c0 = (g[0]) + (beta_0/(beta_1 - beta_0))*(g[1])       #  relevant linear combinations of g_i\n",
    "    c1 = - (beta_0/(beta_1 - beta_0))*(g[1])   \n",
    "    \n",
    "    min_fudge, max_fudge = 0.5, 10                                     # Determine integration time scale / length\n",
    "    dt = np.min([1/kappa, 1/theta, 1/beta_0, 1/beta_1])*min_fudge\n",
    "    t_max = np.max([1/kappa, 1/theta, 1/beta_0, 1/beta_1])*max_fudge\n",
    "    num_tsteps = int(np.ceil(t_max/dt))\n",
    "    \n",
    "    t_array = np.linspace(0, t_max, num_tsteps+1)\n",
    "    t_array = t_array.reshape((1, num_tsteps + 1))\n",
    "    \n",
    "    q = np.zeros((c0.shape[0], num_tsteps + 1), dtype=np.complex64)    # initialize array to store ODE\n",
    "    c0 = c0.reshape((c0.shape[0],1))\n",
    "    c1 = c1.reshape((c1.shape[0],1))\n",
    "    q0 = theta*c0*(np.exp(-beta_0*t_array) - np.exp(-kappa*t_array))/(kappa - beta_0) \n",
    "    q1 = theta*c1*(np.exp(-beta_1*t_array) - np.exp(-kappa*t_array))/(kappa - beta_1)\n",
    "    q = q0 + q1\n",
    "\n",
    "    integrand = q/(1-q)\n",
    "    integral = np.trapz(integrand, dx=dt, axis=1)     # integrate ODE solution\n",
    "    gf = np.exp( a*integral)               # get generating function\n",
    "    \n",
    "    gf = gf.reshape(tuple(half))\n",
    "    \n",
    "    Pss = irfftn(gf, s=mx)                        # Get Pss by inverse fast Fourier transform\n",
    "    Pss = np.abs(Pss)/np.sum(np.abs(Pss))           # Normalize\n",
    "\n",
    "    lp = np.log(Pss)\n",
    "    result = np.sum(lp[tuple(data)])\n",
    "    return result"
   ]
  },
  {
   "cell_type": "markdown",
   "metadata": {},
   "source": [
    "### CIR likelihood functions"
   ]
  },
  {
   "cell_type": "code",
   "execution_count": 6,
   "metadata": {},
   "outputs": [],
   "source": [
    "# ODE for 2 species CIR model\n",
    "def f_2sp(q, t, c0, c1, params):\n",
    "    beta_0, beta_1, a, kappa, theta = params\n",
    "    result = - kappa*q + theta*q*q + kappa*( c0*np.exp(-beta_0*t) + c1*np.exp(-beta_1*t)  ) \n",
    "    return result\n",
    "\n",
    "\n",
    "# Vectorized RK4 implementation for 2 species CIR model\n",
    "def RK4_2sp(q, f, t, c0, c1, step_size, param):\n",
    "    j1 = f(q, t, c0, c1, param)\n",
    "    j2 = f(q + (step_size/2)*j1, t + (step_size/2), c0, c1, param)   \n",
    "    j3 = f(q + (step_size/2)*j2, t + (step_size/2), c0, c1, param)   \n",
    "    j4 = f(q + (step_size)*j3, t + (step_size), c0, c1, param)  \n",
    "    \n",
    "    q_new = q + (step_size/6)*(j1 + 2*j2 + 2*j3 + j4)\n",
    "    return q_new\n",
    "\n",
    "\n",
    "# Get 2 species CIR generating function using ODE method\n",
    "def get_gf_CIR_2sp(g0, g1, params):\n",
    "    beta_0, beta_1, a, kappa, theta = params     # get parameters\n",
    "    \n",
    "    c0 = (g0) + (beta_0/(beta_1 - beta_0))*(g1)       #  relevant linear combinations of g_i\n",
    "    c1 = - (beta_0/(beta_1 - beta_0))*(g1)   \n",
    "    \n",
    "    min_fudge, max_fudge = 0.25, 10                                     # Determine integration time scale / length\n",
    "    dt = np.min([1/kappa, 1/theta, 1/a, 1/beta_0, 1/beta_1])*min_fudge\n",
    "    t_max = np.max([1/kappa, 1/theta, 1/a, 1/beta_0, 1/beta_1])*max_fudge\n",
    "    num_tsteps = int(np.ceil(t_max/dt))\n",
    "     \n",
    "    q = np.zeros((g0.shape[0], num_tsteps + 1), dtype=np.complex64)    # initialize array to store ODE\n",
    "    \n",
    "    # Solve ODE using RK4 method \n",
    "    for i in range(0, num_tsteps):\n",
    "        t = i*dt\n",
    "        q[:,i+1] = RK4_2sp(q[:,i], f_2sp, t, c0, c1, dt, params)\n",
    "        \n",
    "    integral = np.trapz(q, dx=dt, axis=1)     # integrate ODE solution\n",
    "    gf = np.exp((a*theta/kappa)*integral)               # get generating function\n",
    "    return gf\n",
    "\n",
    "\n",
    "# Get Pss for 2 species CIR model via ODE method\n",
    "def get_CIR_2sp(mx, params):\n",
    "    # Get generating function argument\n",
    "    u = []\n",
    "    half = mx[:]\n",
    "    half[-1] = mx[-1]//2 + 1\n",
    "    for i in range(len(mx)):\n",
    "        l = np.arange(half[i])\n",
    "        u_ = np.exp(-2j*np.pi*l/mx[i])-1\n",
    "        u.append(u_)\n",
    "    g = np.meshgrid(*[u_ for u_ in u], indexing='ij')\n",
    "    for i in range(len(mx)):\n",
    "        g[i] = g[i].flatten()\n",
    "    \n",
    "    # Get generating function\n",
    "    gf = get_gf_CIR_2sp(g[0], g[1], params)                    \n",
    "    gf = gf.reshape(tuple(half))\n",
    "                              \n",
    "    Pss = irfftn(gf, s=mx)                        # Get Pss by inverse fast Fourier transform\n",
    "    Pss = np.abs(Pss)/np.sum(np.abs(Pss))           # Normalize\n",
    "    return Pss\n",
    "\n",
    "\n",
    "# Log likelihood of CIR model given data. Uses (x,y) as input instead of (kappa, theta).\n",
    "def ll_CIR(phi, const, mx, data):\n",
    "    # Get parameters\n",
    "    x, y = phi\n",
    "    beta, gamma, K_avg = const\n",
    "    \n",
    "    # Convert from (x, y) to original parameters\n",
    "    a, kappa, theta = convert_xy_to_params(x, y, beta, gamma, K_avg)\n",
    "    params = [beta, gamma, a, kappa, theta]\n",
    "    \n",
    "    Pss = get_CIR_2sp(mx, params)    # Compute Pss\n",
    "\n",
    "    lp = np.log(Pss)\n",
    "    result = np.sum(lp[data])\n",
    "    return result"
   ]
  },
  {
   "cell_type": "markdown",
   "metadata": {},
   "source": [
    "### Bayes factor functions"
   ]
  },
  {
   "cell_type": "code",
   "execution_count": 7,
   "metadata": {},
   "outputs": [],
   "source": [
    "# Generates synthetic data (either CIR or GOU) and computes log Bayes factor (e.g. P(CIR)/P(GOU))).\n",
    "# Does this averaged over many trials (num_trials).\n",
    "# Does this assuming different numbers of data points (e.g. num_data_points = [100, 200, 1000]). \n",
    "def log_bayes_factor_avg(model, num_data_points, num_trials, mx, params):\n",
    "    \n",
    "    # Initialize log BF arrays \n",
    "    num_kinds = len(num_data_points) \n",
    "    log_bf_joint = np.zeros((num_kinds, num_trials))\n",
    "    log_bf_nascent = np.zeros((num_kinds, num_trials))\n",
    "    log_bf_mature = np.zeros((num_kinds, num_trials))\n",
    "    \n",
    "    # Get Pss for each model given this parameter set\n",
    "    if model=='CIR':\n",
    "        pss = get_CIR_2sp(mx, params)\n",
    "        pss_other = get_GOU_2sp(mx, params)\n",
    "    elif model=='GOU':\n",
    "        pss = get_GOU_2sp(mx, params)\n",
    "        pss_other = get_CIR_2sp(mx, params)\n",
    "    p_flat = pss.flatten()\n",
    "    \n",
    "    \n",
    "    \n",
    "\n",
    "    # Log-likelihood functions\n",
    "    lp = np.log10(pss)    # shape: x_N_domain by x_M_domain\n",
    "    lp_nascent = np.log10(np.sum(pss, axis=1))\n",
    "    lp_mature = np.log10(np.sum(pss, axis=0))\n",
    "\n",
    "    lp_other = np.log10(pss_other)\n",
    "    lp_other_nascent = np.log10(np.sum(pss_other, axis=1))\n",
    "    lp_other_mature = np.log10(np.sum(pss_other, axis=0))\n",
    "    \n",
    "    \n",
    "\n",
    "    \n",
    "    # Get fake data\n",
    "    for r in range(0, num_kinds):\n",
    "            \n",
    "        # Sample nascent and mature counts\n",
    "        d_N, d_M = sample_from_p(mx, (num_data_points[r], num_trials), p_flat)\n",
    "\n",
    "        # Log-likelihoods given data\n",
    "        ll_joint = np.sum(lp[d_N, d_M], axis=0)\n",
    "        ll_nascent = np.sum(lp_nascent[d_N], axis=0)\n",
    "        ll_mature = np.sum(lp_mature[d_M], axis=0)\n",
    "\n",
    "        ll_other_joint = np.sum(lp_other[d_N, d_M], axis=0)\n",
    "        ll_other_nascent = np.sum(lp_other_nascent[d_N], axis=0) \n",
    "        ll_other_mature = np.sum(lp_other_mature[d_M], axis=0)\n",
    "\n",
    "        # Bayes factor\n",
    "        log_bf_joint[r,:] = ll_joint - ll_other_joint\n",
    "        log_bf_nascent[r,:] = ll_nascent - ll_other_nascent\n",
    "        log_bf_mature[r,:] = ll_mature - ll_other_mature\n",
    "\n",
    "                          \n",
    "    log_bf_joint_avg = np.mean(log_bf_joint, axis=1)\n",
    "    log_bf_nascent_avg = np.mean(log_bf_nascent, axis=1)\n",
    "    log_bf_mature_avg = np.mean(log_bf_mature, axis=1)\n",
    "    \n",
    "    return log_bf_joint_avg, log_bf_nascent_avg, log_bf_mature_avg"
   ]
  },
  {
   "cell_type": "markdown",
   "metadata": {},
   "source": [
    "------------------------------------------"
   ]
  },
  {
   "cell_type": "markdown",
   "metadata": {},
   "source": [
    "## Log Bayes factors across space of qualitative regimes"
   ]
  },
  {
   "cell_type": "markdown",
   "metadata": {},
   "source": [
    "Define a function that does everything. Will run this multiple times."
   ]
  },
  {
   "cell_type": "code",
   "execution_count": 10,
   "metadata": {
    "scrolled": true
   },
   "outputs": [],
   "source": [
    "def get_BF_plot(name, model, K_avg, beta, gamma, mx):\n",
    "\n",
    "\n",
    "    # Hyperparameters\n",
    "    num_data_points = np.array([100, 200, 1000, 5000])     # do everything assuming we have _ cells (e.g. 100)\n",
    "    num_kinds = len(num_data_points)\n",
    "    num_trials = 100    # for a given parameter set, how many fake data sets to average over\n",
    "\n",
    "\n",
    "    # Set up qualitative regimes grid\n",
    "    x_min, x_max, num_x = 0.1, 0.9, 10\n",
    "    y_min, y_max, num_y = 0.1, 0.9, 10\n",
    "    x, y = np.linspace(x_min, x_max, num_x), np.linspace(y_min, y_max, num_y)\n",
    "    X, Y = np.meshgrid(x, y, indexing='ij')\n",
    "\n",
    "    a, kappa, theta = convert_xy_to_params(X, Y, beta, gamma, K_avg)   # values of other params at each grid point\n",
    "\n",
    "\n",
    "    # Output arrays\n",
    "    log_bf_joint = np.zeros((num_kinds, num_x, num_y))\n",
    "    log_bf_nascent = np.zeros((num_kinds, num_x, num_y))\n",
    "    log_bf_mature = np.zeros((num_kinds, num_x, num_y))\n",
    "    \n",
    "    \n",
    "    # Compute log Bayes factors\n",
    "    start_time = ti.time()\n",
    "    print(\"Computing log Bayes factors on a \", num_x, \" x \", num_y, \" grid...\")\n",
    "    for i in range(0, num_x):\n",
    "        print(\"Row \", i+1, \"/\", num_x, \"...\")\n",
    "        for j in range(0, num_y):\n",
    "            params = [beta, gamma, a[i,j], kappa[i,j], theta[i,j]]   # parameters for this grid point\n",
    "\n",
    "            log_bf_joint[:,i, j], log_bf_nascent[:,i, j], log_bf_mature[:,i, j] = (\n",
    "                                log_bayes_factor_avg(model, num_data_points, num_trials, mx, params) )\n",
    "\n",
    "\n",
    "    print(\"--- %s seconds ---\" % (ti.time() - start_time))\n",
    "    \n",
    "    \n",
    "    \n",
    "    # Plot results\n",
    "    \n",
    "    # Clip arrays before plotting. Lower bound: 0 (no evidence either way), upper bound: 2 (decisive evidence).\n",
    "    bf_min, bf_max = 0, 2\n",
    "\n",
    "    for r in range(0, num_kinds):\n",
    "        gs_kw = dict(hspace=-0.37, wspace=0, width_ratios=[1,1,1])\n",
    "        fig, axs = plt.subplots(1,3, sharey=True, sharex=True, squeeze=True, gridspec_kw=gs_kw)\n",
    "\n",
    "        (ax1, ax2, ax3) = axs\n",
    "\n",
    "        ax1.imshow(np.transpose(log_bf_joint[r,:,:]), origin='lower', extent=[x_min, x_max, y_min, y_max], vmin = bf_min, vmax = bf_max)\n",
    "        ax2.imshow(np.transpose(log_bf_nascent[r,:,:]), origin='lower', extent=[x_min, x_max, y_min, y_max], vmin = bf_min, vmax = bf_max)\n",
    "        ax3.imshow(np.transpose(log_bf_mature[r,:,:]), origin='lower', extent=[x_min, x_max, y_min, y_max], vmin = bf_min, vmax = bf_max)\n",
    "\n",
    "        plt.savefig('results/'+name+str(num_data_points[r])+'c.png', bbox_inches='tight')\n",
    "        plt.savefig('results/'+name+str(num_data_points[r])+'c.pdf', bbox_inches='tight')\n",
    "        plt.show()\n",
    "\n",
    "\n",
    "    #####\n",
    "    \n",
    "    \n",
    "    return"
   ]
  },
  {
   "cell_type": "markdown",
   "metadata": {},
   "source": [
    "----------------------------------------------------"
   ]
  },
  {
   "cell_type": "code",
   "execution_count": 11,
   "metadata": {},
   "outputs": [
    {
     "name": "stdout",
     "output_type": "stream",
     "text": [
      "Computing log Bayes factors on a  10  x  10  grid...\n",
      "Row  1 / 10 ...\n",
      "Row  2 / 10 ...\n",
      "Row  3 / 10 ...\n",
      "Row  4 / 10 ...\n",
      "Row  5 / 10 ...\n",
      "Row  6 / 10 ...\n",
      "Row  7 / 10 ...\n",
      "Row  8 / 10 ...\n",
      "Row  9 / 10 ...\n",
      "Row  10 / 10 ...\n",
      "--- 10.5771005153656 seconds ---\n"
     ]
    },
    {
     "data": {
      "image/png": "[encoded data removed]",
      "text/plain": [
       "<Figure size 432x288 with 3 Axes>"
      ]
     },
     "metadata": {
      "needs_background": "light"
     },
     "output_type": "display_data"
    },
    {
     "data": {
      "image/png": "[encoded data removed]",
      "text/plain": [
       "<Figure size 432x288 with 3 Axes>"
      ]
     },
     "metadata": {
      "needs_background": "light"
     },
     "output_type": "display_data"
    },
    {
     "data": {
      "image/png": "[encoded data removed]",
      "text/plain": [
       "<Figure size 432x288 with 3 Axes>"
      ]
     },
     "metadata": {
      "needs_background": "light"
     },
     "output_type": "display_data"
    },
    {
     "data": {
      "image/png": "[encoded data removed]",
      "text/plain": [
       "<Figure size 432x288 with 3 Axes>"
      ]
     },
     "metadata": {
      "needs_background": "light"
     },
     "output_type": "display_data"
    }
   ],
   "source": [
    "name = \"same_but_GOU_data\"\n",
    "model = \"GOU\"\n",
    "mx = [30, 30]    # get prob dist for this domain ; bigger = more accurate\n",
    "K_avg = 5\n",
    "beta, gamma = 1, 1.5\n",
    "\n",
    "get_BF_plot(name, model, K_avg, beta, gamma, mx)"
   ]
  },
  {
   "cell_type": "code",
   "execution_count": 13,
   "metadata": {},
   "outputs": [
    {
     "name": "stdout",
     "output_type": "stream",
     "text": [
      "Computing log Bayes factors on a  10  x  10  grid...\n",
      "Row  1 / 10 ...\n"
     ]
    },
    {
     "name": "stderr",
     "output_type": "stream",
     "text": [
      "<ipython-input-7-0aa11ad1c9c5>:29: RuntimeWarning: divide by zero encountered in log10\n",
      "  lp_other = np.log10(pss_other)\n"
     ]
    },
    {
     "name": "stdout",
     "output_type": "stream",
     "text": [
      "Row  2 / 10 ...\n",
      "Row  3 / 10 ...\n",
      "Row  4 / 10 ...\n",
      "Row  5 / 10 ...\n",
      "Row  6 / 10 ...\n",
      "Row  7 / 10 ...\n",
      "Row  8 / 10 ...\n",
      "Row  9 / 10 ...\n",
      "Row  10 / 10 ...\n",
      "--- 92.30604004859924 seconds ---\n"
     ]
    },
    {
     "data": {
      "image/png": "[encoded data removed]",
      "text/plain": [
       "<Figure size 432x288 with 3 Axes>"
      ]
     },
     "metadata": {
      "needs_background": "light"
     },
     "output_type": "display_data"
    },
    {
     "data": {
      "image/png": "[encoded data removed]",
      "text/plain": [
       "<Figure size 432x288 with 3 Axes>"
      ]
     },
     "metadata": {
      "needs_background": "light"
     },
     "output_type": "display_data"
    },
    {
     "data": {
      "image/png": "[encoded data removed]",
      "text/plain": [
       "<Figure size 432x288 with 3 Axes>"
      ]
     },
     "metadata": {
      "needs_background": "light"
     },
     "output_type": "display_data"
    },
    {
     "data": {
      "image/png": "[encoded data removed]",
      "text/plain": [
       "<Figure size 432x288 with 3 Axes>"
      ]
     },
     "metadata": {
      "needs_background": "light"
     },
     "output_type": "display_data"
    }
   ],
   "source": [
    "name = \"same_but_larger_mean\"\n",
    "model = \"CIR\"\n",
    "mx = [120, 120]    # get prob dist for this domain ; bigger = more accurate\n",
    "K_avg = 20\n",
    "beta, gamma = 1, 1.5\n",
    "\n",
    "get_BF_plot(name, model, K_avg, beta, gamma, mx)"
   ]
  },
  {
   "cell_type": "code",
   "execution_count": 14,
   "metadata": {},
   "outputs": [
    {
     "name": "stdout",
     "output_type": "stream",
     "text": [
      "Computing log Bayes factors on a  10  x  10  grid...\n",
      "Row  1 / 10 ...\n",
      "Row  2 / 10 ...\n",
      "Row  3 / 10 ...\n",
      "Row  4 / 10 ...\n",
      "Row  5 / 10 ...\n",
      "Row  6 / 10 ...\n",
      "Row  7 / 10 ...\n",
      "Row  8 / 10 ...\n",
      "Row  9 / 10 ...\n",
      "Row  10 / 10 ...\n",
      "--- 11.113316774368286 seconds ---\n"
     ]
    },
    {
     "data": {
      "image/png": "[encoded data removed]",
      "text/plain": [
       "<Figure size 432x288 with 3 Axes>"
      ]
     },
     "metadata": {
      "needs_background": "light"
     },
     "output_type": "display_data"
    },
    {
     "data": {
      "image/png": "[encoded data removed]",
      "text/plain": [
       "<Figure size 432x288 with 3 Axes>"
      ]
     },
     "metadata": {
      "needs_background": "light"
     },
     "output_type": "display_data"
    },
    {
     "data": {
      "image/png": "[encoded data removed]",
      "text/plain": [
       "<Figure size 432x288 with 3 Axes>"
      ]
     },
     "metadata": {
      "needs_background": "light"
     },
     "output_type": "display_data"
    },
    {
     "data": {
      "image/png": "[encoded data removed]",
      "text/plain": [
       "<Figure size 432x288 with 3 Axes>"
      ]
     },
     "metadata": {
      "needs_background": "light"
     },
     "output_type": "display_data"
    }
   ],
   "source": [
    "name = \"same_but_beta_bigger\"\n",
    "model = \"CIR\"\n",
    "mx = [30, 30]    # get prob dist for this domain ; bigger = more accurate\n",
    "K_avg = 5\n",
    "beta, gamma = 1.5, 1\n",
    "\n",
    "get_BF_plot(name, model, K_avg, beta, gamma, mx)"
   ]
  },
  {
   "cell_type": "code",
   "execution_count": null,
   "metadata": {},
   "outputs": [],
   "source": []
  }
 ],
 "metadata": {
  "kernelspec": {
   "display_name": "Python 3",
   "language": "python",
   "name": "python3"
  },
  "language_info": {
   "codemirror_mode": {
    "name": "ipython",
    "version": 3
   },
   "file_extension": ".py",
   "mimetype": "text/x-python",
   "name": "python",
   "nbconvert_exporter": "python",
   "pygments_lexer": "ipython3",
   "version": "3.8.5"
  }
 },
 "nbformat": 4,
 "nbformat_minor": 4
}
