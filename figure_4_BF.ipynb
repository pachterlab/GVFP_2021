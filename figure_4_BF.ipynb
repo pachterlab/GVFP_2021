{
  "nbformat": 4,
  "nbformat_minor": 0,
  "metadata": {
    "colab": {
      "name": "gg220810_bf_calculation.ipynb",
      "provenance": [],
      "collapsed_sections": [],
      "authorship_tag": "ABX9TyPZUgm7q5AUgnLF14Oyi6xX",
      "include_colab_link": true
    },
    "kernelspec": {
      "name": "python3",
      "display_name": "Python 3"
    },
    "language_info": {
      "name": "python"
    }
  },
  "cells": [
    {
      "cell_type": "markdown",
      "metadata": {
        "id": "view-in-github",
        "colab_type": "text"
      },
      "source": [
        "<a href=\"https://colab.research.google.com/github/pachterlab/GVFP_2021/blob/dev/gg220810_bf_calculation.ipynb\" target=\"_parent\"><img src=\"https://colab.research.google.com/assets/colab-badge.svg\" alt=\"Open In Colab\"/></a>"
      ]
    },
    {
      "cell_type": "markdown",
      "source": [
        "# Bayes factor analysis"
      ],
      "metadata": {
        "id": "lNl11OlfyeKq"
      }
    },
    {
      "cell_type": "markdown",
      "source": [
        "This short notebook imports the `.pickle` files containing PyMC3 fits to $\\Gamma$-OU and CIR models, computes the $\\ln$ Bayes factors (as the ratio of model-specific marginal likelihoods, given a uniform prior), then stores them to disk."
      ],
      "metadata": {
        "id": "y-Gx0wy7yf5z"
      }
    },
    {
      "cell_type": "code",
      "execution_count": 1,
      "metadata": {
        "colab": {
          "base_uri": "https://localhost:8080/"
        },
        "id": "aAvqE2GuxkNf",
        "outputId": "c0e74788-a3f0-4d12-f56a-65c1a0be7485"
      },
      "outputs": [
        {
          "output_type": "stream",
          "name": "stdout",
          "text": [
            "Cloning into 'GVFP_2021'...\n",
            "remote: Enumerating objects: 2265, done.\u001b[K\n",
            "remote: Counting objects: 100% (2265/2265), done.\u001b[K\n",
            "remote: Compressing objects: 100% (1199/1199), done.\u001b[K\n",
            "remote: Total 2265 (delta 1051), reused 2265 (delta 1051), pack-reused 0\u001b[K\n",
            "Receiving objects: 100% (2265/2265), 896.58 MiB | 30.67 MiB/s, done.\n",
            "Resolving deltas: 100% (1051/1051), done.\n",
            "Checking out files: 100% (767/767), done.\n"
          ]
        }
      ],
      "source": [
        "!git clone --branch dev https://github.com/pachterlab/GVFP_2021.git"
      ]
    },
    {
      "cell_type": "code",
      "source": [
        "!mv GVFP_2021/* ."
      ],
      "metadata": {
        "id": "Mq1QvuWSxrz_"
      },
      "execution_count": 2,
      "outputs": []
    },
    {
      "cell_type": "code",
      "source": [
        "!rm -r GVFP_2021"
      ],
      "metadata": {
        "id": "0FopwmXRxr7U"
      },
      "execution_count": 3,
      "outputs": []
    },
    {
      "cell_type": "markdown",
      "source": [
        "# Helper functions"
      ],
      "metadata": {
        "id": "5Zx6-CXrx_lm"
      }
    },
    {
      "cell_type": "code",
      "source": [
        "import pymc3 as pm\n",
        "import theano.tensor as tt\n",
        "class LogLike(tt.Op):\n",
        "    \n",
        "    itypes = [tt.dvector] # expects a vector of parameter values when called\n",
        "    otypes = [tt.dscalar] # outputs a single scalar value (the log likelihood)\n",
        "    \n",
        "    def __init__(self, mx, data, likelihood):\n",
        "        \n",
        "        # add inputs as class attributes\n",
        "        self.mx = mx\n",
        "        self.data = data\n",
        "        self.likelihood = likelihood\n",
        "        \n",
        "    def perform(self, node, inputs, outputs):\n",
        "        \n",
        "        phi, = inputs # this contains parmeters\n",
        "        logl = self.likelihood(phi, self.mx, self.data) # calls the log-likelihood function\n",
        "        outputs[0][0] = np.array(logl) # output the log-likelihood\n",
        "def ll_CIR(phi, mx, data):\n",
        "    pass\n",
        "def ll_GOU(phi, mx, data):\n",
        "    pass"
      ],
      "metadata": {
        "id": "oP5Vvb8VyCQh"
      },
      "execution_count": 4,
      "outputs": []
    },
    {
      "cell_type": "markdown",
      "source": [
        "# BF import and calculation"
      ],
      "metadata": {
        "id": "wJx5M1O-yCrz"
      }
    },
    {
      "cell_type": "code",
      "source": [
        "import numpy as np\n",
        "sample_names = ['C01','B08','H12','F08']\n",
        "dataset_names = ['allen_'+y+'_glu'  for y in sample_names] \n",
        "n_datasets = len(dataset_names)"
      ],
      "metadata": {
        "id": "zZn7q47ZxveA"
      },
      "execution_count": 7,
      "outputs": []
    },
    {
      "cell_type": "code",
      "source": [
        "import pickle\n",
        "# BF_genes = ['Gabra4', 'Aplp2', 'Srpk1']\n",
        "BF_genes= ['Pou6f1','Gabra4','Aftph','Mark1',\\\n",
        "           'Tmem65','Aplp2','Psma2', 'Ppp1r2',\\\n",
        "           'Bace1','Srpk1', 'Nucks1', 'Ktn1'] \n",
        "n_BF_genes = len(BF_genes)\n",
        "BF = np.empty((n_datasets,n_BF_genes))\n",
        "BF[:] = np.nan\n",
        "trace_dir= './loom/smc_results/four/'\n",
        "for j,sample in enumerate(dataset_names):\n",
        "    for i,gene in enumerate(BF_genes):\n",
        "#         if gene in finished_genes:\n",
        "        with open(trace_dir+sample+\"_\"+gene+'_GOU_trace.pickle', 'rb') as f:\n",
        "            trace_GOU = pickle.load(f)\n",
        "        with open(trace_dir+sample+\"_\"+gene+'_CIR_trace.pickle', 'rb') as f:\n",
        "            trace_CIR = pickle.load(f)\n",
        "        BF[j,i]= (trace_CIR.report.log_marginal_likelihood - trace_GOU.report.log_marginal_likelihood)\n",
        "np.save('bfs.npy',BF)"
      ],
      "metadata": {
        "id": "YvfHS99vx1hq"
      },
      "execution_count": 8,
      "outputs": []
    },
    {
      "cell_type": "code",
      "source": [
        "BF.round(2)"
      ],
      "metadata": {
        "colab": {
          "base_uri": "https://localhost:8080/"
        },
        "id": "UMe9t2mBx9fs",
        "outputId": "5ff1d669-bf07-447a-fd12-dea80e69c3ee"
      },
      "execution_count": 9,
      "outputs": [
        {
          "output_type": "execute_result",
          "data": {
            "text/plain": [
              "array([[ -14.98,  -53.16,  -28.03,  -12.13,   25.  ,   74.81,   -1.51,\n",
              "          -0.8 ,    2.77,   10.77,    0.88,    0.31],\n",
              "       [ -43.08, -120.86,  -32.08,  -30.94,   70.02,   44.11,   59.4 ,\n",
              "          18.92,    3.01,    3.81,   -5.24,    1.4 ],\n",
              "       [  -4.62,  -15.23,   -2.83,   -2.27,   23.85,   70.42,   17.84,\n",
              "           8.01,    0.74,   16.71,   12.52,    5.36],\n",
              "       [ -28.79, -105.58,  -21.11,   -8.42,   47.67,   75.22,   19.4 ,\n",
              "          11.49,   -2.15,    3.67,  -10.48,    7.79]])"
            ]
          },
          "metadata": {},
          "execution_count": 9
        }
      ]
    },
    {
      "cell_type": "code",
      "source": [
        ""
      ],
      "metadata": {
        "id": "YGmXXv57F40d"
      },
      "execution_count": null,
      "outputs": []
    }
  ]
}