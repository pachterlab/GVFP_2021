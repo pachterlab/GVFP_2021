{
 "cells": [
  {
   "cell_type": "markdown",
   "metadata": {
    "colab_type": "text",
    "id": "view-in-github"
   },
   "source": [
    "<a href=\"https://colab.research.google.com/github/pachterlab/GVFP_2021/blob/dev/gg220810_bf_calculation.ipynb\" target=\"_parent\"><img src=\"https://colab.research.google.com/assets/colab-badge.svg\" alt=\"Open In Colab\"/></a>"
   ]
  },
  {
   "cell_type": "markdown",
   "metadata": {
    "id": "lNl11OlfyeKq"
   },
   "source": [
    "# Bayes factor analysis"
   ]
  },
  {
   "cell_type": "markdown",
   "metadata": {
    "id": "y-Gx0wy7yf5z"
   },
   "source": [
    "This short notebook imports the `.pickle` files containing PyMC3 fits to $\\Gamma$-OU and CIR models, computes the $\\ln$ Bayes factors (as the ratio of model-specific marginal likelihoods, given a uniform prior), then stores them to disk."
   ]
  },
  {
   "cell_type": "code",
   "execution_count": 1,
   "metadata": {
    "colab": {
     "base_uri": "https://localhost:8080/"
    },
    "id": "aAvqE2GuxkNf",
    "outputId": "c0e74788-a3f0-4d12-f56a-65c1a0be7485"
   },
   "outputs": [
    {
     "name": "stdout",
     "output_type": "stream",
     "text": [
      "Cloning into 'GVFP_2021'...\n",
      "remote: Enumerating objects: 2265, done.\u001b[K\n",
      "remote: Counting objects: 100% (2265/2265), done.\u001b[K\n",
      "remote: Compressing objects: 100% (1199/1199), done.\u001b[K\n",
      "remote: Total 2265 (delta 1051), reused 2265 (delta 1051), pack-reused 0\u001b[K\n",
      "Receiving objects: 100% (2265/2265), 896.58 MiB | 30.67 MiB/s, done.\n",
      "Resolving deltas: 100% (1051/1051), done.\n",
      "Checking out files: 100% (767/767), done.\n"
     ]
    }
   ],
   "source": [
    "!git clone --branch dev https://github.com/pachterlab/GVFP_2021.git"
   ]
  },
  {
   "cell_type": "code",
   "execution_count": 2,
   "metadata": {
    "id": "Mq1QvuWSxrz_"
   },
   "outputs": [],
   "source": [
    "!mv GVFP_2021/* ."
   ]
  },
  {
   "cell_type": "code",
   "execution_count": 3,
   "metadata": {
    "id": "0FopwmXRxr7U"
   },
   "outputs": [],
   "source": [
    "!rm -r GVFP_2021"
   ]
  },
  {
   "cell_type": "markdown",
   "metadata": {
    "id": "5Zx6-CXrx_lm"
   },
   "source": [
    "# Helper functions"
   ]
  },
  {
   "cell_type": "code",
   "execution_count": 9,
   "metadata": {
    "id": "oP5Vvb8VyCQh"
   },
   "outputs": [],
   "source": [
    "import pymc3 as pm\n",
    "import theano.tensor as tt\n",
    "class LogLike(tt.Op):\n",
    "    \n",
    "    itypes = [tt.dvector] # expects a vector of parameter values when called\n",
    "    otypes = [tt.dscalar] # outputs a single scalar value (the log likelihood)\n",
    "    \n",
    "    def __init__(self, mx, data, likelihood):\n",
    "        \n",
    "        # add inputs as class attributes\n",
    "        self.mx = mx\n",
    "        self.data = data\n",
    "        self.likelihood = likelihood\n",
    "        \n",
    "    def perform(self, node, inputs, outputs):\n",
    "        \n",
    "        phi, = inputs # this contains parmeters\n",
    "        logl = self.likelihood(phi, self.mx, self.data) # calls the log-likelihood function\n",
    "        outputs[0][0] = np.array(logl) # output the log-likelihood\n",
    "def ll_CIR(phi, mx, data):\n",
    "    pass\n",
    "def ll_GOU(phi, mx, data):\n",
    "    pass"
   ]
  },
  {
   "cell_type": "markdown",
   "metadata": {
    "id": "wJx5M1O-yCrz"
   },
   "source": [
    "# BF import and calculation"
   ]
  },
  {
   "cell_type": "code",
   "execution_count": 10,
   "metadata": {
    "id": "zZn7q47ZxveA"
   },
   "outputs": [],
   "source": [
    "import numpy as np\n",
    "sample_names = ['C01','B08','H12','F08']\n",
    "dataset_names = ['allen_'+y+'_Glutamatergic'  for y in sample_names] \n",
    "n_datasets = len(dataset_names)"
   ]
  },
  {
   "cell_type": "code",
   "execution_count": 11,
   "metadata": {
    "id": "YvfHS99vx1hq"
   },
   "outputs": [],
   "source": [
    "import pickle\n",
    "# BF_genes = ['Gabra4', 'Aplp2', 'Srpk1']\n",
    "BF_genes= ['Birc6','Ube2k','Pum1','Nf1','Rbm25','Hprt','Cap1','Ywhaq','Pnisr','Ywhah','Pura','Ccdc39'] \n",
    "# BF_genes= ['Birc6','Ube2k','Rbm25','Hprt','Cap1','Ywhaq','Pnisr','Pura','Ccdc39'] \n",
    "n_BF_genes = len(BF_genes)\n",
    "BF = np.empty((n_datasets,n_BF_genes))\n",
    "BF[:] = np.nan\n",
    "trace_dir= './smc_results/'\n",
    "for j,sample in enumerate(dataset_names):\n",
    "    for i,gene in enumerate(BF_genes):\n",
    "#         if gene in finished_genes:\n",
    "        with open(trace_dir+sample+\"_\"+gene+'_GOU_trace.pickle', 'rb') as f:\n",
    "            trace_GOU = pickle.load(f)\n",
    "        with open(trace_dir+sample+\"_\"+gene+'_CIR_trace.pickle', 'rb') as f:\n",
    "            trace_CIR = pickle.load(f)\n",
    "        BF[j,i]= (trace_CIR.report.log_marginal_likelihood - trace_GOU.report.log_marginal_likelihood)\n",
    "np.save(trace_dir+'bfs.npy',BF)"
   ]
  },
  {
   "cell_type": "code",
   "execution_count": 12,
   "metadata": {
    "colab": {
     "base_uri": "https://localhost:8080/"
    },
    "id": "UMe9t2mBx9fs",
    "outputId": "5ff1d669-bf07-447a-fd12-dea80e69c3ee"
   },
   "outputs": [
    {
     "data": {
      "text/plain": [
       "array([[ -62.17,  -82.41,   -6.02,  -63.78],\n",
       "       [ -67.56,  -98.53,   -3.47,  -49.31],\n",
       "       [ -83.46,  -95.84,  -12.25,  -68.78],\n",
       "       [ -95.22, -148.32,  -11.96, -125.92],\n",
       "       [ -15.28,   36.63,   22.79,    2.89],\n",
       "       [  -2.71,   39.36,   16.17,   28.26],\n",
       "       [  37.  ,   33.22,   32.09,   50.85],\n",
       "       [  92.93,  105.23,   62.93,   69.16],\n",
       "       [ -16.04,   14.94,   22.76,  -21.44],\n",
       "       [ -20.66,   62.72,   -0.25,   41.79],\n",
       "       [ -20.63,    0.17,    4.71,  -18.86],\n",
       "       [  -4.17,   -1.67,    0.23,   -0.8 ]])"
      ]
     },
     "execution_count": 12,
     "metadata": {},
     "output_type": "execute_result"
    }
   ],
   "source": [
    "BF.T.round(2)"
   ]
  },
  {
   "cell_type": "code",
   "execution_count": null,
   "metadata": {
    "id": "YGmXXv57F40d"
   },
   "outputs": [],
   "source": []
  }
 ],
 "metadata": {
  "colab": {
   "authorship_tag": "ABX9TyPZUgm7q5AUgnLF14Oyi6xX",
   "collapsed_sections": [],
   "include_colab_link": true,
   "name": "gg220810_bf_calculation.ipynb",
   "provenance": []
  },
  "kernelspec": {
   "display_name": "Python 3",
   "language": "python",
   "name": "python3"
  },
  "language_info": {
   "codemirror_mode": {
    "name": "ipython",
    "version": 3
   },
   "file_extension": ".py",
   "mimetype": "text/x-python",
   "name": "python",
   "nbconvert_exporter": "python",
   "pygments_lexer": "ipython3",
   "version": "3.9.1"
  }
 },
 "nbformat": 4,
 "nbformat_minor": 1
}
