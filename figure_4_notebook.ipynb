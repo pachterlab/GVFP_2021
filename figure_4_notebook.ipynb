{
 "cells": [
  {
   "cell_type": "markdown",
   "metadata": {
    "colab_type": "text",
    "id": "view-in-github"
   },
   "source": [
    "<a href=\"https://colab.research.google.com/github/pachterlab/GVFP_2021/blob/dev/figure_4_notebook.ipynb\" target=\"_parent\"><img src=\"https://colab.research.google.com/assets/colab-badge.svg\" alt=\"Open In Colab\"/></a>"
   ]
  },
  {
   "cell_type": "markdown",
   "metadata": {
    "id": "VPTqP9OGouov"
   },
   "source": [
    "# Identification of CIR- and $\\Gamma$-OU-like genes"
   ]
  },
  {
   "cell_type": "markdown",
   "metadata": {
    "id": "d2qrzWG0_Yqm"
   },
   "source": [
    "In the current notebook, we attempt to find genes that consistently with the CIR and $\\Gamma$-OU models of stochastic time-dependent transcription, as well as genes that cannot be confidently assigned to one of the two models."
   ]
  },
  {
   "cell_type": "markdown",
   "metadata": {
    "id": "QqGJNnwEr9KZ"
   },
   "source": [
    "## Colab or non-local prerequisites"
   ]
  },
  {
   "cell_type": "code",
   "execution_count": null,
   "metadata": {
    "id": "gU64Ym6ksBX3"
   },
   "outputs": [],
   "source": [
    "!git clone https://github.com/pachterlab/monod.git"
   ]
  },
  {
   "cell_type": "code",
   "execution_count": 2,
   "metadata": {
    "id": "3EljkQ-dsQYx"
   },
   "outputs": [],
   "source": [
    "import sys\n",
    "sys.path.insert(0, './monod/src/')"
   ]
  },
  {
   "cell_type": "markdown",
   "metadata": {
    "id": "pwkrMPP-mUWI"
   },
   "source": [
    "Necessary only in Colab."
   ]
  },
  {
   "cell_type": "code",
   "execution_count": null,
   "metadata": {
    "id": "Ew7PPCZ9Mbbt"
   },
   "outputs": [],
   "source": [
    "!pip install matplotlib --upgrade"
   ]
  },
  {
   "cell_type": "code",
   "execution_count": null,
   "metadata": {
    "colab": {
     "base_uri": "https://localhost:8080/"
    },
    "id": "Y97G5kYAsRU_",
    "outputId": "df32b889-5d42-4d98-ce1e-554f6c7b8700"
   },
   "outputs": [],
   "source": [
    "!git clone --branch dev https://github.com/pachterlab/GVFP_2021.git"
   ]
  },
  {
   "cell_type": "code",
   "execution_count": null,
   "metadata": {
    "id": "df0yTDmAsXW5"
   },
   "outputs": [],
   "source": [
    "!mv GVFP_2021/* ."
   ]
  },
  {
   "cell_type": "code",
   "execution_count": null,
   "metadata": {
    "id": "uD8WVAt3saT9"
   },
   "outputs": [],
   "source": [
    "!rm -r GVFP_2021"
   ]
  },
  {
   "cell_type": "code",
   "execution_count": null,
   "metadata": {
    "id": "LIiC8quWs5Bn"
   },
   "outputs": [],
   "source": [
    "%%capture\n",
    "!pip install loompy anndata numdifftools"
   ]
  },
  {
   "cell_type": "markdown",
   "metadata": {
    "id": "b7xvAgxMr7yk"
   },
   "source": [
    "## Predictive filtering: prerequisites"
   ]
  },
  {
   "cell_type": "markdown",
   "metadata": {
    "id": "eaIw2tirr7yl"
   },
   "source": [
    "First, we do a round of preliminary filtering using five moderate- to high-abundance glutamatergic cell subtypes from one mouse (B08), released by the Allen Brain Institute. This requires the *Monod* framework."
   ]
  },
  {
   "cell_type": "code",
   "execution_count": 1,
   "metadata": {
    "id": "LUYKnMm4r7yl"
   },
   "outputs": [],
   "source": [
    "import time\n",
    "t1 = time.time()"
   ]
  },
  {
   "cell_type": "markdown",
   "metadata": {
    "id": "dHqEaJxhr7yn"
   },
   "source": [
    "Define the dataset metadata and disk locations."
   ]
  },
  {
   "cell_type": "code",
   "execution_count": 2,
   "metadata": {
    "id": "c7lW1YAWsio8"
   },
   "outputs": [],
   "source": [
    "subcluster_loom_dir = '/home/ggorin/count_data/loom_allen_kb/'\n",
    "loom_directory = '/home/ggorin/count_data/loom_allen_kb/'"
   ]
  },
  {
   "cell_type": "code",
   "execution_count": 3,
   "metadata": {
    "id": "xGtSnNwLs1Gq"
   },
   "outputs": [],
   "source": [
    "transcriptome_filepath = './fits/gg_200524_mouse_genome_polyA_cum_1'"
   ]
  },
  {
   "cell_type": "code",
   "execution_count": 4,
   "metadata": {
    "id": "Kx9Vkj-lXUCE"
   },
   "outputs": [],
   "source": [
    "subcluster_dataset = 'B08'\n",
    "subcluster_names = ['L2/3 IT','L5 IT','L6 IT','L5/6 NP', 'L6 CT']\n",
    "subcluster_names = [x.replace(' ','').replace('/','') for x in subcluster_names]\n",
    "subcluster_dataset_names = ['allen_{}_{}'.format(subcluster_dataset,y)  for y in subcluster_names] \n",
    "n_subcluster_datasets = len(subcluster_dataset_names)\n",
    "subcluster_loom_filepaths = [subcluster_loom_dir+'allen_'+subcluster_dataset+'_raw.loom']*n_subcluster_datasets\n",
    "\n",
    "spliced_layer = 'spliced'\n",
    "unspliced_layer = 'unspliced'\n",
    "gene_attr = 'gene_name'\n",
    "cell_attr = 'barcode'\n",
    "\n",
    "attribute_names=[(unspliced_layer,spliced_layer),gene_attr,cell_attr]"
   ]
  },
  {
   "cell_type": "code",
   "execution_count": 5,
   "metadata": {},
   "outputs": [
    {
     "data": {
      "text/plain": [
       "['allen_B08_L23IT',\n",
       " 'allen_B08_L5IT',\n",
       " 'allen_B08_L6IT',\n",
       " 'allen_B08_L56NP',\n",
       " 'allen_B08_L6CT']"
      ]
     },
     "execution_count": 5,
     "metadata": {},
     "output_type": "execute_result"
    }
   ],
   "source": [
    "subcluster_dataset_names"
   ]
  },
  {
   "cell_type": "markdown",
   "metadata": {
    "id": "wocH-dQbmUWS"
   },
   "source": [
    "Define out-of-sample datasets."
   ]
  },
  {
   "cell_type": "code",
   "execution_count": 6,
   "metadata": {
    "id": "t2o_7rZ9mUWT"
   },
   "outputs": [],
   "source": [
    "sample_names = ['C01','B08','H12','F08']\n",
    "dataset_names = ['allen_'+y+'_glu'  for y in sample_names] \n",
    "sample_looms = [loom_directory+'allen_'+x+'_raw.loom' for x in sample_names] \n",
    "n_datasets = len(dataset_names)"
   ]
  },
  {
   "cell_type": "code",
   "execution_count": 7,
   "metadata": {},
   "outputs": [
    {
     "data": {
      "text/plain": [
       "['/home/ggorin/count_data/loom_allen_kb/allen_C01_raw.loom',\n",
       " '/home/ggorin/count_data/loom_allen_kb/allen_B08_raw.loom',\n",
       " '/home/ggorin/count_data/loom_allen_kb/allen_H12_raw.loom',\n",
       " '/home/ggorin/count_data/loom_allen_kb/allen_F08_raw.loom']"
      ]
     },
     "execution_count": 7,
     "metadata": {},
     "output_type": "execute_result"
    }
   ],
   "source": [
    "sample_looms"
   ]
  },
  {
   "cell_type": "markdown",
   "metadata": {
    "id": "xPuXUZFdua7k"
   },
   "source": [
    "Define models to analyze."
   ]
  },
  {
   "cell_type": "code",
   "execution_count": 8,
   "metadata": {
    "id": "As0ETff0uacv"
   },
   "outputs": [],
   "source": [
    "models = ('Bursty','CIR','Extrinsic')\n",
    "n_models = len(models)\n",
    "colors = ('red',(0., 174/255, 239/255),'slateblue')\n",
    "gou_color=colors[0]\n",
    "cir_color=colors[1]\n",
    "ext_color=colors[2]"
   ]
  },
  {
   "cell_type": "markdown",
   "metadata": {
    "id": "UnGKGS1HmUWU"
   },
   "source": [
    "This is the local installation of *Monod*, and should not be used on other machines."
   ]
  },
  {
   "cell_type": "code",
   "execution_count": 9,
   "metadata": {
    "id": "l1of3wdZmUWU"
   },
   "outputs": [],
   "source": [
    "import sys\n",
    "sys.path.insert(0, '/home/ggorin/projects/monod/src/')"
   ]
  },
  {
   "cell_type": "code",
   "execution_count": 10,
   "metadata": {
    "id": "MFhM3dNdr7yo"
   },
   "outputs": [],
   "source": [
    "import monod\n",
    "from monod.preprocess import *\n",
    "from monod.extract_data import extract_data\n",
    "import monod.cme_toolbox as cme_toolbox\n",
    "from monod.cme_toolbox import CMEModel\n",
    "import monod.inference as inference\n",
    "from monod.inference import InferenceParameters, GradientInference\n",
    "import monod.analysis as analysis\n",
    "from monod.analysis import *"
   ]
  },
  {
   "cell_type": "markdown",
   "metadata": {},
   "source": [
    "## Dataset filtering"
   ]
  },
  {
   "cell_type": "code",
   "execution_count": 11,
   "metadata": {},
   "outputs": [],
   "source": [
    "import pandas as pd\n",
    "import numpy as np\n",
    "import loompy as lp\n",
    "import matplotlib.pyplot as plt\n",
    "import scipy"
   ]
  },
  {
   "cell_type": "markdown",
   "metadata": {},
   "source": [
    "This takes a little bit of time -- it's basic QC for barcodes corresponding to each cluster and subcluster. "
   ]
  },
  {
   "cell_type": "markdown",
   "metadata": {},
   "source": [
    "### Subclusters"
   ]
  },
  {
   "cell_type": "code",
   "execution_count": 12,
   "metadata": {},
   "outputs": [],
   "source": [
    "allen_membership = pd.read_csv('~/count_data/allen_metadata/sc/cluster.membership.csv',skiprows = 1, names=['barcode','cluster_id'])\n",
    "allen_annot = pd.read_csv('~/count_data/allen_metadata/sc/cluster.annotation.csv')\n",
    "allen_membership['cell_barcode'] = allen_membership['barcode'].str[:16]\n",
    "allen_membership['sample'] = allen_membership['barcode'].str[-3:]\n",
    "allen_membership['cluster_id'] = allen_membership['cluster_id'].astype(\"category\")\n",
    "allen_annot.set_index('cluster_id',inplace=True)\n",
    "allen_annot_bc = allen_annot.loc[allen_membership['cluster_id']][['cluster_label','subclass_label','class_label']].set_index(allen_membership.index)\n",
    "meta = pd.concat((allen_membership,allen_annot_bc),axis=1)\n",
    "omitted_subtypes = ('Sncg','L6 IT Car3','L5 ET')"
   ]
  },
  {
   "cell_type": "code",
   "execution_count": 13,
   "metadata": {},
   "outputs": [
    {
     "data": {
      "text/plain": [
       "'/home/ggorin/count_data/loom_allen_kb/allen_B08_raw.loom'"
      ]
     },
     "execution_count": 13,
     "metadata": {},
     "output_type": "execute_result"
    }
   ],
   "source": [
    "subcluster_loom_filepaths[0]"
   ]
  },
  {
   "cell_type": "code",
   "execution_count": 14,
   "metadata": {},
   "outputs": [
    {
     "name": "stdout",
     "output_type": "stream",
     "text": [
      "Dataset B08. \n",
      "\t10975 barcodes in loom, 9216 pass filter. 8424 in annotations; of these, 8424 in loom and 7808 in filtered loom.\n",
      "\tL23IT: 823 cells in annotations. 823 in loom. 823 pass filter.\n",
      "\tL5IT: 2395 cells in annotations. 2395 in loom. 2382 pass filter.\n",
      "\tL6IT: 489 cells in annotations. 489 in loom. 489 pass filter.\n",
      "\tL56NP: 251 cells in annotations. 251 in loom. 250 pass filter.\n",
      "\tL6CT: 1333 cells in annotations. 1333 in loom. 1333 pass filter.\n"
     ]
    },
    {
     "data": {
      "image/png": "[encoded data removed]",
      "text/plain": [
       "<Figure size 360x360 with 1 Axes>"
      ]
     },
     "metadata": {
      "needs_background": "light"
     },
     "output_type": "display_data"
    }
   ],
   "source": [
    "cf = []\n",
    "thr_lb = [1e4]\n",
    "\n",
    "fig1,ax1 = plt.subplots(1,1,figsize=(5,5))\n",
    "\n",
    "# for k in range(len(dataset_meta)):\n",
    "filename = subcluster_loom_filepaths[0]\n",
    "# filename = loom_filepaths[len(cluster_names)*k + len(subcluster_names)]\n",
    "dataset_name = subcluster_dataset\n",
    "k=0\n",
    "with lp.connect(filename,mode='r') as ds:\n",
    "    S = ds.layers[spliced_layer][:]\n",
    "    U = ds.layers[unspliced_layer][:]\n",
    "    gene_names = ds.ra[gene_attr]\n",
    "    bcs = ds.ca[cell_attr]\n",
    "    n_cells = S.shape[1]\n",
    "    monod.preprocess.knee_plot(S+U,ax1,viz=True,thr=thr_lb[k])\n",
    "    cf_ = ((S+U).sum(0)>thr_lb[k])\n",
    "\n",
    "    n_annot_bcs = (meta['sample']==dataset_name).sum()\n",
    "    annot_bcs_in_loom = meta[(meta['sample']==dataset_name)]['cell_barcode'].isin(bcs).sum()\n",
    "    annot_bcs_in_filt_loom = meta[(meta['sample']==dataset_name)]['cell_barcode'].isin(bcs[cf_]).sum()\n",
    "    print(f'Dataset {dataset_name}. \\n\\t{len(bcs)} barcodes in loom, {cf_.sum()} pass filter. {n_annot_bcs} in annotations; of these, {annot_bcs_in_loom} in loom and {annot_bcs_in_filt_loom} in filtered loom.')\n",
    "    for subcluster in subcluster_names:\n",
    "        annot_bcs = meta[(meta['sample']==dataset_name) \\\n",
    "                                   & (meta['subclass_label'].str.replace(' ','').str.replace('/','')==subcluster) \\\n",
    "                                   & ~(meta['subclass_label'].isin(omitted_subtypes))]['cell_barcode']\n",
    "        cf.append(np.isin(bcs,annot_bcs) & cf_)\n",
    "        print(f'\\t{subcluster}: {len(annot_bcs)} cells in annotations. {np.isin(bcs,annot_bcs).sum()} in loom. {cf[-1].sum()} pass filter.')\n",
    "\n",
    "    ax1.set_title(dataset_name)\n",
    "fig_dir = './figs/'\n",
    "fig1.tight_layout()\n"
   ]
  },
  {
   "cell_type": "code",
   "execution_count": 15,
   "metadata": {},
   "outputs": [
    {
     "data": {
      "text/plain": [
       "[823, 2382, 489, 250, 1333]"
      ]
     },
     "execution_count": 15,
     "metadata": {},
     "output_type": "execute_result"
    }
   ],
   "source": [
    "[x.sum() for x in cf]"
   ]
  },
  {
   "cell_type": "markdown",
   "metadata": {},
   "source": [
    "### Clusters"
   ]
  },
  {
   "cell_type": "code",
   "execution_count": 16,
   "metadata": {},
   "outputs": [
    {
     "name": "stdout",
     "output_type": "stream",
     "text": [
      "Dataset C01. \n",
      "\t12363 barcodes in loom, 11116 pass filter. 10173 in annotations; of these, 10138 in loom and 9066 in filtered loom.\n",
      "\tGlutamatergic: 6676 cells in annotations. 6673 in loom. 6604 pass filter.\n",
      "Dataset B08. \n",
      "\t10975 barcodes in loom, 9216 pass filter. 8424 in annotations; of these, 8424 in loom and 7808 in filtered loom.\n",
      "\tGlutamatergic: 5357 cells in annotations. 5357 in loom. 5343 pass filter.\n",
      "Dataset H12. \n",
      "\t9637 barcodes in loom, 8168 pass filter. 6866 in annotations; of these, 6865 in loom and 6161 in filtered loom.\n",
      "\tGlutamatergic: 4508 cells in annotations. 4508 in loom. 4497 pass filter.\n",
      "Dataset F08. \n",
      "\t28362 barcodes in loom, 10039 pass filter. 9112 in annotations; of these, 9112 in loom and 8510 in filtered loom.\n",
      "\tGlutamatergic: 5904 cells in annotations. 5904 in loom. 5892 pass filter.\n"
     ]
    },
    {
     "data": {
      "image/png": "[encoded data removed]",
      "text/plain": [
       "<Figure size 1080x360 with 4 Axes>"
      ]
     },
     "metadata": {
      "needs_background": "light"
     },
     "output_type": "display_data"
    }
   ],
   "source": [
    "cf_oos = []\n",
    "thr_lb = [1e4]*4\n",
    "\n",
    "fig1,ax1 = plt.subplots(1,4,figsize=(15,5))\n",
    "cluster = 'Glutamatergic'\n",
    "\n",
    "for k in range(len(sample_looms)):\n",
    "    filename = sample_looms[k]\n",
    "    # filename = loom_filepaths[len(cluster_names)*k + len(subcluster_names)]\n",
    "    dataset_name = sample_names[k]\n",
    "#     k=0\n",
    "    with lp.connect(filename,mode='r') as ds:\n",
    "        S = ds.layers[spliced_layer][:]\n",
    "        U = ds.layers[unspliced_layer][:]\n",
    "        gene_names = ds.ra[gene_attr]\n",
    "        bcs = ds.ca[cell_attr]\n",
    "        n_cells = S.shape[1]\n",
    "        monod.preprocess.knee_plot(S+U,ax1[k],viz=True,thr=thr_lb[k])\n",
    "        cf_ = ((S+U).sum(0)>thr_lb[k])\n",
    "\n",
    "        n_annot_bcs = (meta['sample']==dataset_name).sum()\n",
    "        annot_bcs_in_loom = meta[(meta['sample']==dataset_name)]['cell_barcode'].isin(bcs).sum()\n",
    "        annot_bcs_in_filt_loom = meta[(meta['sample']==dataset_name)]['cell_barcode'].isin(bcs[cf_]).sum()\n",
    "        print(f'Dataset {dataset_name}. \\n\\t{len(bcs)} barcodes in loom, {cf_.sum()} pass filter. {n_annot_bcs} in annotations; of these, {annot_bcs_in_loom} in loom and {annot_bcs_in_filt_loom} in filtered loom.')\n",
    "        \n",
    "#         for cluster in cluster_names:\n",
    "        annot_bcs = meta[(meta['sample']==dataset_name) \\\n",
    "                                   & (meta['class_label']==cluster) \\\n",
    "                                   & ~(meta['subclass_label'].isin(omitted_subtypes))]['cell_barcode']\n",
    "        cf_oos.append(np.isin(bcs,annot_bcs) & cf_)\n",
    "        print(f'\\t{cluster}: {len(annot_bcs)} cells in annotations. {np.isin(bcs,annot_bcs).sum()} in loom. {cf_oos[-1].sum()} pass filter.')\n",
    "\n",
    "        ax1[k].set_title(dataset_name)\n",
    "# fig_dir = './figs/'\n",
    "fig1.tight_layout()\n"
   ]
  },
  {
   "cell_type": "markdown",
   "metadata": {
    "id": "JTVHNvler7yp"
   },
   "source": [
    "## Helper functions"
   ]
  },
  {
   "cell_type": "markdown",
   "metadata": {
    "id": "cZfRwmVfr7yp"
   },
   "source": [
    "These helper functions evaluate and fit the $\\Gamma$-OU and CIR models."
   ]
  },
  {
   "cell_type": "code",
   "execution_count": 17,
   "metadata": {
    "id": "D_GGnjoRr7yq"
   },
   "outputs": [],
   "source": [
    "def par_fun_fullfit(fitinput):\n",
    "    U,S,n_restarts,maxiter = fitinput\n",
    "    reduced_guess=None\n",
    "    limit=None\n",
    "    pars_sde_gou = convert_pars(get_MLE('GOU',U,S,reduced_guess,disp=False,limit=limit,n_restarts=n_restarts,maxiter=maxiter))\n",
    "    pars_sde_cir = convert_pars(get_MLE('CIR',U,S,reduced_guess,disp=False,limit=limit,n_restarts=n_restarts,maxiter=maxiter))\n",
    "    lik_ratio, logL_gou, logL_cir = get_lik_ratio(pars_sde_gou,pars_sde_cir,U,S)\n",
    "    return lik_ratio,pars_sde_gou,pars_sde_cir,logL_gou, logL_cir\n",
    "\n",
    "\n",
    "def get_MoM(U,S):\n",
    "    raw_guess = np.zeros(4)\n",
    "    Um = U.mean()\n",
    "    Uv = U.var()\n",
    "    Sm = S.mean()\n",
    "    Sv = S.var()\n",
    "\n",
    "    beta = 1/Um #assuming <k>=1\n",
    "    gamma = 1/Sm\n",
    "    kappa = beta / ( (Sv - Sm)/(Uv - Um) * Um * (beta + gamma) / (Sm*beta) - 1) - gamma\n",
    "    theta = (kappa+beta)/Um * (Uv - Um)\n",
    "    \n",
    "    a = kappa/theta\n",
    "    \n",
    "    raw_guess = np.asarray([beta,gamma,kappa,theta])/a\n",
    "    \n",
    "    return raw_guess\n",
    "\n",
    "def get_MLE(model,U,S,reduced_guess=None,disp=True,limit='fast',n_restarts = 4,maxiter=10):\n",
    "    data = np.unique(np.vstack((U,S)).astype(int),\\\n",
    "                     axis=1,return_counts=True)\n",
    "    \n",
    "    \n",
    "    phys_lb = np.asarray([-2]*4)+np.random.randn(4)*0.02\n",
    "    phys_ub = np.asarray([2]*4)+np.random.randn(4)*0.02\n",
    "    phys_lb_raw = 10**phys_lb\n",
    "    phys_ub_raw = 10**phys_ub\n",
    "    \n",
    "    initial_guess = np.zeros(4)\n",
    "    if reduced_guess is not None:\n",
    "        raw_guess = 10**reduced_guess\n",
    "        if limit=='fast':\n",
    "            initial_guess[0] = raw_guess[1] #beta\n",
    "            initial_guess[1] = raw_guess[2] #gamma\n",
    "            initial_guess[2] = 5.9 #kappa -- must be pretty fast\n",
    "            initial_guess[3] = raw_guess[0]*initial_guess[2] #theta\n",
    "        elif limit=='slow':\n",
    "            initial_guess[2] = 1/raw_guess[0] #alpha=a/kappa, a set to 1\n",
    "            initial_guess[3] = 4 #theta: arbitary\n",
    "            initial_guess[0] = raw_guess[1]*initial_guess[3] #beta\n",
    "            initial_guess[1] = raw_guess[2]*initial_guess[3] #gamma\n",
    "    else:\n",
    "        raw_guess = get_MoM(U,S)\n",
    "        initial_guess = np.clip(raw_guess,phys_lb_raw,phys_ub_raw)\n",
    "    log_initial_guess = np.log10(initial_guess)\n",
    "    \n",
    "    if model=='CIR':\n",
    "        pssfun = get_CIR_2sp\n",
    "    if model=='GOU':\n",
    "        pssfun = get_GOU_2sp\n",
    "        \n",
    "    err = np.inf\n",
    "    err_thr = 0.99\n",
    "    if n_restarts>0:\n",
    "        for restart in range(n_restarts):\n",
    "            if restart>0:\n",
    "                log_initial_guess = np.random.rand(4) * (phys_ub-phys_lb) + phys_lb\n",
    "            grad_bnd=scipy.optimize.Bounds(phys_lb,phys_ub)\n",
    "            res_arr = scipy.optimize.minimize(lambda x: get_kld(x,pssfun,data),\n",
    "                                x0=log_initial_guess, \\\n",
    "                                bounds=grad_bnd,\\\n",
    "                                options={'maxiter':maxiter,'disp':disp})\n",
    "            if res_arr.fun<err*err_thr:\n",
    "                x=res_arr.x\n",
    "                err=res_arr.fun\n",
    "        return x\n",
    "    else:\n",
    "        return log_initial_guess\n",
    "    \n",
    "    \n",
    "def convert_pars(pars): #go from log10 4 parameters to raw 5 parameters\n",
    "    raw_pars = 10**pars\n",
    "    pars_sde = np.zeros(5)\n",
    "    pars_sde[0] = raw_pars[0] #beta\n",
    "    pars_sde[1] = raw_pars[1] #gamma\n",
    "    pars_sde[2] = 1\n",
    "    pars_sde[3] = raw_pars[2] #kappa\n",
    "    pars_sde[4] = raw_pars[3] #theta\n",
    "    return pars_sde\n",
    "\n",
    "def get_lik_ratio(pars_gou,pars_cir,U,S,EPS=1e-15):\n",
    "    data = np.unique(np.vstack((U,S)).astype(int),\\\n",
    "                     axis=1,return_counts=True)\n",
    "    unique_values, counts = data\n",
    "    coords = tuple([tuple(x) for x in unique_values.T])\n",
    "    mx = unique_values.max(1)+10\n",
    "    pss_gou = get_GOU_2sp(np.copy(mx),pars_gou)\n",
    "    pss_cir = get_CIR_2sp(np.copy(mx),pars_cir)\n",
    "    \n",
    "    pss_gou[pss_gou<EPS] = EPS\n",
    "    pss_gou = [pss_gou[x] for x in coords]\n",
    "    pss_cir[pss_cir<EPS] = EPS\n",
    "    pss_cir = [pss_cir[x] for x in coords]\n",
    "    logL_gou = (counts * np.log(pss_gou)).sum()\n",
    "    logL_cir = (counts * np.log(pss_cir)).sum()\n",
    "    lik_ratio = logL_cir - logL_gou\n",
    "    return lik_ratio, logL_gou, logL_cir\n",
    "    \n",
    "    \n",
    "\n",
    "def get_kld(pars,pssfun,data,EPS=1e-15):\n",
    "    unique_values, counts = data\n",
    "    mx = unique_values.max(1)+10\n",
    "    proposal_probabilities = pssfun(np.copy(mx),convert_pars(pars))\n",
    "    proposal_probabilities[proposal_probabilities<EPS] = EPS\n",
    "    coords = tuple([tuple(x) for x in unique_values.T])\n",
    "    proposal_probabilities = [proposal_probabilities[x] for x in coords]\n",
    "    kld = counts * np.log(counts / proposal_probabilities)\n",
    "    return np.sum(kld)\n",
    "\n",
    "\n",
    "from numpy.fft import irfftn\n",
    "x_gauss,w_gauss = scipy.special.roots_legendre(60, mu=False)\n",
    "\n",
    "def get_gf_GOU_2sp_ODE(g0, g1, params):\n",
    "    beta_0, beta_1, a, kappa, theta = params     # get parameters\n",
    "    \n",
    "    c0 = (g0) + (beta_0/(beta_1 - beta_0))*(g1)       #  relevant linear combinations of g_i\n",
    "    c1 = - (beta_0/(beta_1 - beta_0))*(g1)   \n",
    "    \n",
    "    min_fudge, max_fudge = 1, 10                                     # Determine integration time scale / length\n",
    "    dt = np.min([1/kappa, 1/theta, 1/beta_0, 1/beta_1])*min_fudge\n",
    "    t_max = np.max([1/kappa, 1/theta, 1/beta_0, 1/beta_1])*max_fudge\n",
    "    num_tsteps = int(np.ceil(t_max/dt))\n",
    "    \n",
    "#     t_array = np.linspace(0, t_max, num_tsteps+1)\n",
    "#     t_array = t_array.reshape((1, num_tsteps + 1))\n",
    "    t_array = (t_max*(x_gauss+1)/2)[None,:]\n",
    "    \n",
    "    q = np.zeros((g0.shape[0], num_tsteps + 1), dtype=np.complex64)    # initialize array to store ODE\n",
    "    c0 = c0.reshape((c0.shape[0],1))\n",
    "    c1 = c1.reshape((c1.shape[0],1))\n",
    "\n",
    "    q0 = theta*c0*(np.exp(-beta_0*t_array) - np.exp(-kappa*t_array))/(kappa - beta_0) \n",
    "    q1 = theta*c1*(np.exp(-beta_1*t_array) - np.exp(-kappa*t_array))/(kappa - beta_1)\n",
    "    q = q0 + q1\n",
    "    \n",
    "\n",
    "    integrand = q/(1-q)\n",
    "    \n",
    "#     print(integrand.shape)\n",
    "#     print(w_gauss.shape)\n",
    "    integral=np.matmul(integrand,w_gauss[:,None]).sum(1)/2*t_max\n",
    "#     integral = np.trapz(integrand, dx=dt, axis=1)     # integrate ODE solution\n",
    "    gf = np.exp( a*integral)               # get generating function\n",
    "    return gf\n",
    "\n",
    "\n",
    "# Get Pss for 2 species GOU model via ODE method\n",
    "def get_GOU_2sp(mx, params):\n",
    "    # Get generating function argument\n",
    "    u = []\n",
    "    half = np.copy(mx[:])\n",
    "    half[-1] = mx[-1]//2 + 1\n",
    "    for i in range(len(mx)):\n",
    "        l = np.arange(half[i])\n",
    "        u_ = np.exp(-2j*np.pi*l/mx[i])-1\n",
    "        u.append(u_)\n",
    "    g = np.meshgrid(*[u_ for u_ in u], indexing='ij')\n",
    "    for i in range(len(mx)):\n",
    "        g[i] = g[i].flatten()\n",
    "    \n",
    "    # Get generating function\n",
    "    gf = get_gf_GOU_2sp_ODE(g[0], g[1], params)                    \n",
    "    gf = gf.reshape(tuple(half))\n",
    "    \n",
    "    Pss = irfftn(gf, s=mx)                        # Get Pss by inverse fast Fourier transform\n",
    "    Pss = np.abs(Pss)/np.sum(np.abs(Pss))           # Normalize\n",
    "    return Pss\n",
    "\n",
    "\n",
    "# ODE for 2 species CIR model\n",
    "def f_2sp(q, t, c0, c1, params):\n",
    "    beta_0, beta_1, a, kappa, theta = params\n",
    "    result = - kappa*q + theta*q*q + kappa*( c0*np.exp(-beta_0*t) + c1*np.exp(-beta_1*t)  ) \n",
    "    return result\n",
    "\n",
    "\n",
    "# Vectorized RK4 implementation for 2 species CIR model\n",
    "def RK4_2sp(q, f, t, c0, c1, step_size, param):\n",
    "    j1 = f(q, t, c0, c1, param)\n",
    "    j2 = f(q + (step_size/2)*j1, t + (step_size/2), c0, c1, param)   \n",
    "    j3 = f(q + (step_size/2)*j2, t + (step_size/2), c0, c1, param)   \n",
    "    j4 = f(q + (step_size)*j3, t + (step_size), c0, c1, param)  \n",
    "    \n",
    "    q_new = q + (step_size/6)*(j1 + 2*j2 + 2*j3 + j4)\n",
    "    return q_new\n",
    "\n",
    "\n",
    "# Get 2 species CIR generating function using ODE method\n",
    "def get_gf_CIR_2sp(g0, g1, params):\n",
    "#     print('in pgf routine')\n",
    "    beta_0, beta_1, a, kappa, theta = params     # get parameters\n",
    "    \n",
    "    c0 = (g0) + (beta_0/(beta_1 - beta_0))*(g1)       #  relevant linear combinations of g_i\n",
    "    c1 = - (beta_0/(beta_1 - beta_0))*(g1)   \n",
    "\n",
    "    t_max = (1/np.asarray(params)).max()*5   \n",
    "    c0 = c0[:,None]\n",
    "    c1 = c1[:,None]\n",
    "    t_eval = t_max*(x_gauss+1)/2\n",
    "    def intfun_(t,y):\n",
    "        return f_2sp(y, t, c0, c1, params)\n",
    "    rk = scipy.integrate.solve_ivp(fun=intfun_,t_span=[0,t_max],y0=np.zeros((g0.shape[0]), dtype=np.complex64),t_eval = t_eval,\n",
    "                              vectorized=True)\n",
    "    try:\n",
    "        integral = np.matmul(rk.y,w_gauss[:,None]).sum(1)/2*t_max\n",
    "    except:\n",
    "        print('falling back on jjv solution')\n",
    "        min_fudge, max_fudge = 0.5, 10                                     # Determine integration time scale / length\n",
    "        dt = np.min([1/kappa, 1/theta, 1/beta_0, 1/beta_1])*min_fudge\n",
    "        num_tsteps = int(np.ceil(t_max/dt))\n",
    "        q = np.zeros((g0.shape[0], num_tsteps + 1), dtype=np.complex64)    # initialize array to store ODE\n",
    "\n",
    "        # Solve ODE using RK4 method \n",
    "        for i in range(0, num_tsteps):\n",
    "            t = i*dt\n",
    "            q[:,i+1] = RK4_2sp(q[:,i], f_2sp, t, c0[:,0], c1[:,0], dt, params)\n",
    "\n",
    "        integral = np.trapz(q, dx=dt, axis=1)     # integrate ODE solution\n",
    "        if (~np.isfinite(integral)).any():\n",
    "            print('Procedure failed.')\n",
    "            print(params)\n",
    "            print(rk.y.shape)\n",
    "            print(w_gauss[:,None].shape)\n",
    "            print(t_eval.shape)\n",
    "            print(x_gauss.shape)\n",
    "            print(t_max)\n",
    "            \n",
    "    gf = np.exp((a*theta/kappa)*integral)               # get generating function\n",
    "    return gf\n",
    "\n",
    "\n",
    "# Get Pss for 2 species CIR model via ODE method\n",
    "def get_CIR_2sp(mx, params):\n",
    "    # Get generating function argument\n",
    "    u = []\n",
    "    half = np.copy(mx[:])\n",
    "    half[-1] = mx[-1]//2 + 1\n",
    "    for i in range(len(mx)):\n",
    "        l = np.arange(half[i])\n",
    "        u_ = np.exp(-2j*np.pi*l/mx[i])-1\n",
    "        u.append(u_)\n",
    "    g = np.meshgrid(*[u_ for u_ in u], indexing='ij')\n",
    "    for i in range(len(mx)):\n",
    "        g[i] = g[i].flatten()\n",
    "    \n",
    "    # Get generating function\n",
    "    gf = get_gf_CIR_2sp(g[0], g[1], params)                    \n",
    "    gf = gf.reshape(tuple(half))\n",
    "                              \n",
    "    Pss = irfftn(gf, s=mx)                        # Get Pss by inverse fast Fourier transform\n",
    "    Pss = np.abs(Pss)/np.sum(np.abs(Pss))           # Normalize\n",
    "    return Pss\n"
   ]
  },
  {
   "cell_type": "code",
   "execution_count": 18,
   "metadata": {},
   "outputs": [
    {
     "name": "stdout",
     "output_type": "stream",
     "text": [
      "Runtime: 1.4 minutes.\n"
     ]
    }
   ],
   "source": [
    "t2=time.time()\n",
    "print('Runtime: {:.1f} minutes.'.format((t2-t1)/60))"
   ]
  },
  {
   "cell_type": "markdown",
   "metadata": {},
   "source": [
    "**Everything above has to be run.**"
   ]
  },
  {
   "cell_type": "markdown",
   "metadata": {
    "id": "RlkMO_TBr7ys"
   },
   "source": [
    "## Predictive filtering: preprocessing"
   ]
  },
  {
   "cell_type": "markdown",
   "metadata": {
    "id": "GuqrZNh8r7yt"
   },
   "source": [
    "Construct a batch by finding 3,000 genes which have at least moderate expression across all datasets."
   ]
  },
  {
   "cell_type": "code",
   "execution_count": 19,
   "metadata": {
    "colab": {
     "base_uri": "https://localhost:8080/"
    },
    "id": "q6uC8qrYXUEP",
    "outputId": "8bc5d40b-18da-4e6f-ac41-f698c59bb201",
    "scrolled": true
   },
   "outputs": [
    {
     "name": "stdout",
     "output_type": "stream",
     "text": [
      "WARNING:root:3677 random genes selected: cannot satisfy query of 4000 genes.\n"
     ]
    }
   ],
   "source": [
    "subcluster_dir_string,subcluster_dataset_strings = construct_batch(subcluster_loom_filepaths, \\\n",
    "                                             transcriptome_filepath, \\\n",
    "                                             subcluster_dataset_names, \\\n",
    "                                             attribute_names=attribute_names,\\\n",
    "                                             batch_location='./fits',meta='subtypes',batch_id=1,\\\n",
    "                                             n_genes=4000,viz=False,datestring='nodate',creator='GVFP',cf=cf)"
   ]
  },
  {
   "cell_type": "markdown",
   "metadata": {
    "id": "DqbTdmw1r7yv"
   },
   "source": [
    "## Predictive filtering: inference with *Monod*"
   ]
  },
  {
   "cell_type": "markdown",
   "metadata": {
    "id": "ozKD1Rxkr7yv"
   },
   "source": [
    "Here, we iterate over the subcluster datasets and fit the three models, omitting technical noise."
   ]
  },
  {
   "cell_type": "code",
   "execution_count": 22,
   "metadata": {
    "id": "WofE7NvHr7yv"
   },
   "outputs": [],
   "source": [
    "def par_fun_monod(x):\n",
    "    models = ('Bursty','CIR','Extrinsic')\n",
    "    n_models = len(models)\n",
    "    fp,tx,dn,ds,dirs,att,cf_ = x\n",
    "    result_strings = []\n",
    "    for j in range(n_models):\n",
    "        fitmodel = CMEModel(models[j],'None')\n",
    "        inference_parameters = InferenceParameters([-2.0, -2.0, -2.0],[4.2, 2.5, 3.5],[1,1],[1,1],[1,1],\\\n",
    "                    ds,fitmodel,use_lengths = False,\n",
    "                    gradient_params = {'max_iterations':15,'init_pattern':'moments','num_restarts':5})\n",
    "        if j==0:\n",
    "            search_data = extract_data(fp,tx,dn,\n",
    "                                ds,dirs,dataset_attr_names=att,cf=cf_)\n",
    "        else:\n",
    "            search_data = load_search_data(ds+'/raw.sd')\n",
    "        full_result_string = inference_parameters.fit_all_grid_points(1,search_data)\n",
    "        result_strings.append(full_result_string)\n",
    "    return result_strings"
   ]
  },
  {
   "cell_type": "code",
   "execution_count": 23,
   "metadata": {
    "colab": {
     "base_uri": "https://localhost:8080/"
    },
    "id": "SnTuuDDntY3Y",
    "outputId": "eabaf67e-4ef8-4307-f624-a79a9ebe4e1d"
   },
   "outputs": [],
   "source": [
    "import multiprocessing"
   ]
  },
  {
   "cell_type": "code",
   "execution_count": 24,
   "metadata": {
    "colab": {
     "base_uri": "https://localhost:8080/"
    },
    "id": "sC-C4Vh1r7yw",
    "outputId": "7760e8bb-9342-4b15-b3a3-a4efb5ffd24e",
    "scrolled": true
   },
   "outputs": [],
   "source": [
    "try:\n",
    "    pool = multiprocessing.Pool(processes=5)\n",
    "    iterable = zip(subcluster_loom_filepaths,[transcriptome_filepath]*n_subcluster_datasets,\\\n",
    "                   subcluster_dataset_names,subcluster_dataset_strings,\\\n",
    "                   [subcluster_dir_string]*n_subcluster_datasets,[attribute_names]*n_subcluster_datasets,cf)\n",
    "    pool.map(par_fun_monod, iterable)\n",
    "    pool.close()\n",
    "    pool.join()\n",
    "except:\n",
    "    print('failed!')\n",
    "    pool.terminate()\n",
    "    pool.join()"
   ]
  },
  {
   "cell_type": "code",
   "execution_count": 25,
   "metadata": {
    "colab": {
     "base_uri": "https://localhost:8080/",
     "height": 35
    },
    "id": "_HZ_3hoVr7yw",
    "outputId": "77d17c1e-ad22-4da6-8ce0-47ddad324f04"
   },
   "outputs": [
    {
     "data": {
      "text/plain": [
       "'./fits/GVFP_nodate_024_subtypes_1'"
      ]
     },
     "execution_count": 25,
     "metadata": {},
     "output_type": "execute_result"
    }
   ],
   "source": [
    "subcluster_dir_string"
   ]
  },
  {
   "cell_type": "code",
   "execution_count": 26,
   "metadata": {
    "id": "YjwpC3pvmUWg",
    "outputId": "995ea778-5ddd-452e-b5b2-3395fe1d8ebf"
   },
   "outputs": [
    {
     "name": "stdout",
     "output_type": "stream",
     "text": [
      "Runtime: 140.0 minutes.\n"
     ]
    }
   ],
   "source": [
    "t2=time.time()\n",
    "print('Runtime: {:.1f} minutes.'.format((t2-t1)/60))"
   ]
  },
  {
   "cell_type": "markdown",
   "metadata": {
    "id": "NzPDAK2ur7yx"
   },
   "source": [
    "## Predictive filtering: analysis of *Monod* results and AIC computation"
   ]
  },
  {
   "cell_type": "markdown",
   "metadata": {
    "id": "vYyEU4rPr7yx"
   },
   "source": [
    "You can restart from here by loading in the result files and regenerating the search data files. This i/o step takes a bit of time."
   ]
  },
  {
   "cell_type": "code",
   "execution_count": 19,
   "metadata": {
    "colab": {
     "base_uri": "https://localhost:8080/"
    },
    "id": "adWyIbM2tiD5",
    "outputId": "33cdd45a-8620-4947-b172-ae90f9d9ef35",
    "scrolled": true
   },
   "outputs": [],
   "source": [
    "%%capture\n",
    "subcluster_dir_string = './fits/GVFP_nodate_024_subtypes_1'\n",
    "subcluster_dataset_strings = [subcluster_dir_string+'/'+x for x in subcluster_dataset_names]\n",
    "sd_arr = [extract_data(*x) for x in zip(subcluster_loom_filepaths,[transcriptome_filepath]*n_subcluster_datasets,\\\n",
    "                   subcluster_dataset_names,subcluster_dataset_strings,\\\n",
    "                   [subcluster_dir_string]*n_subcluster_datasets,[False]*n_subcluster_datasets,\n",
    "                   [attribute_names]*n_subcluster_datasets,\n",
    "                   [None]*n_subcluster_datasets,cf)]\n"
   ]
  },
  {
   "cell_type": "code",
   "execution_count": 70,
   "metadata": {},
   "outputs": [
    {
     "data": {
      "text/plain": [
       "[('unspliced', 'spliced'), 'gene_name', 'barcode']"
      ]
     },
     "execution_count": 70,
     "metadata": {},
     "output_type": "execute_result"
    }
   ],
   "source": [
    "attribute_names"
   ]
  },
  {
   "cell_type": "code",
   "execution_count": 71,
   "metadata": {
    "id": "mHQU_B56r7yx"
   },
   "outputs": [],
   "source": [
    "subcluster_result_strings = [[subcluster_dir_string+'/'+x+'/'+y+'_None_1x1/grid_scan_results.res' \\\n",
    "                   for x in subcluster_dataset_names] \\\n",
    "                  for y in models]"
   ]
  },
  {
   "cell_type": "code",
   "execution_count": 72,
   "metadata": {
    "colab": {
     "base_uri": "https://localhost:8080/"
    },
    "id": "e5Kbj1B_r7yy",
    "outputId": "d7f97eaf-32f7-43e4-d50f-e63745b7f43b"
   },
   "outputs": [],
   "source": [
    "sr_arr = []\n",
    "for j in range(n_subcluster_datasets):\n",
    "    sr_ = []\n",
    "    for k in range(n_models):\n",
    "        loaded_res = load_search_results(subcluster_result_strings[k][j])\n",
    "        loaded_res.find_sampling_optimum()\n",
    "        sr_.append(loaded_res)\n",
    "    make_batch_analysis_dir(sr_,subcluster_dir_string)\n",
    "    sr_arr.append(sr_)"
   ]
  },
  {
   "cell_type": "code",
   "execution_count": 73,
   "metadata": {
    "colab": {
     "base_uri": "https://localhost:8080/"
    },
    "id": "ncI1LEoGr7yy",
    "outputId": "96c45ddc-f143-4114-a1ac-e330c0f143f4"
   },
   "outputs": [
    {
     "data": {
      "text/plain": [
       "[823, 2382, 489, 250, 1333]"
      ]
     },
     "execution_count": 73,
     "metadata": {},
     "output_type": "execute_result"
    }
   ],
   "source": [
    "[sd.n_cells for sd in sd_arr]"
   ]
  },
  {
   "cell_type": "code",
   "execution_count": 74,
   "metadata": {
    "id": "oh1vlujDr7yy"
   },
   "outputs": [],
   "source": [
    "w = []\n",
    "for j in range(n_subcluster_datasets):\n",
    "    w_ = get_AIC_weights(sr_arr[j],sd_arr[j])\n",
    "    w.append(w_)\n",
    "w = np.asarray(w)"
   ]
  },
  {
   "cell_type": "code",
   "execution_count": 97,
   "metadata": {
    "id": "clPxv0MBr7yz"
   },
   "outputs": [],
   "source": [
    "gf_gou = (w[:,0,:]>0.97).all(0)\n",
    "gf_cir = (w[:,1,:]>0.55).all(0)\n",
    "gf_ext = (w[:,2,:]>0.3).all(0)\n",
    "gfs = np.vstack((gf_gou,gf_cir,gf_ext))\n"
   ]
  },
  {
   "cell_type": "code",
   "execution_count": 98,
   "metadata": {
    "id": "yseVssY3r7yz"
   },
   "outputs": [],
   "source": [
    "w_bary = np.tensordot(w,np.asarray([[0,0],[1,0],[1/2,np.sqrt(3)/2]]).T,axes=([1],[1]))"
   ]
  },
  {
   "cell_type": "markdown",
   "metadata": {
    "id": "K-dwuCR1r7yz"
   },
   "source": [
    "Change subcluster index here to plot for other datasets."
   ]
  },
  {
   "cell_type": "code",
   "execution_count": 99,
   "metadata": {},
   "outputs": [
    {
     "data": {
      "text/plain": [
       "array([283,  55,  15])"
      ]
     },
     "execution_count": 99,
     "metadata": {},
     "output_type": "execute_result"
    }
   ],
   "source": [
    "gfs.sum(1)"
   ]
  },
  {
   "cell_type": "code",
   "execution_count": 100,
   "metadata": {
    "colab": {
     "base_uri": "https://localhost:8080/",
     "height": 369
    },
    "id": "UJvKqxVAr7yz",
    "outputId": "b5cabccd-7de8-4d98-f8a8-b826c5e3947d"
   },
   "outputs": [
    {
     "data": {
      "image/png": "[encoded data removed]",
      "text/plain": [
       "<Figure size 504x504 with 1 Axes>"
      ]
     },
     "metadata": {
      "needs_background": "light"
     },
     "output_type": "display_data"
    }
   ],
   "source": [
    "subcluster_index=0\n",
    "fig1,ax1=plt.subplots(1,1,figsize=(7,7))\n",
    "ax1.scatter(w_bary[subcluster_index,~gfs.any(0),0],w_bary[subcluster_index,~gfs.any(0),1],10,'lightgray',alpha=0.8)\n",
    "for k in range(3):\n",
    "    ax1.scatter(w_bary[subcluster_index,gfs[k],0],w_bary[subcluster_index,gfs[k],1],50,colors[k],alpha=0.5)\n",
    "ax1.axis('off')\n",
    "ax1.set_aspect('equal')\n",
    "plt.savefig('fig/ternary.png',dpi=450)\n",
    "plt.savefig('fig/ternary.svg')\n",
    "plt.savefig('fig/ternary.pdf')"
   ]
  },
  {
   "cell_type": "code",
   "execution_count": 101,
   "metadata": {
    "id": "mivOvM6mr7y0"
   },
   "outputs": [],
   "source": [
    "gn = sd_arr[0].gene_names"
   ]
  },
  {
   "cell_type": "code",
   "execution_count": 102,
   "metadata": {
    "id": "rdV-ZozAr7y0"
   },
   "outputs": [],
   "source": [
    "chisq_thr = 5\n",
    "gene_inds_kept = []\n",
    "model_ind_thr = [0.01,1e-3,1e-5]\n",
    "for model_ind in range(n_models):\n",
    "    n_genes = gfs[model_ind].sum()\n",
    "    gene_inds = np.where(gfs[model_ind])[0]\n",
    "    keep = np.zeros((n_genes,n_subcluster_datasets),dtype=bool)\n",
    "    pval = np.zeros((n_genes,n_subcluster_datasets))\n",
    "    for gene_count,gene_ind in enumerate(gene_inds):\n",
    "        for dataset in range(n_subcluster_datasets):\n",
    "            lm = sd_arr[dataset].M[:,gene_ind]\n",
    "            pars = sr_arr[dataset][model_ind].phys_optimum[gene_ind]\n",
    "            expect_freq = sr_arr[dataset][model_ind].model.eval_model_pss(pars,lm) * sd_arr[dataset].n_cells\n",
    "            unique_values,counts = np.unique(np.vstack(\\\n",
    "                       (sd_arr[dataset].layers[0,gene_ind],sd_arr[dataset].layers[1,gene_ind])).astype(int),axis=1,\\\n",
    "                        return_counts=True) #create the dataset of observed counts\n",
    "            expect_freq = expect_freq[unique_values[0],unique_values[1]]\n",
    "                #the added bin accounts for all the stuff that's not in the \n",
    "                #observed categories\n",
    "            expect_freq = np.concatenate((expect_freq,[sd_arr[dataset].n_cells-expect_freq.sum()]))\n",
    "            counts = np.concatenate((counts,[0])) \n",
    "            \n",
    "            filt = (expect_freq>chisq_thr) & (counts>chisq_thr)\n",
    "            observed = np.concatenate((counts[filt],[counts[~filt].sum()]))\n",
    "            proposed = np.concatenate((expect_freq[filt],[expect_freq[~filt].sum()])) #this is incredibly severe.\n",
    "            csq = scipy.stats.mstats.chisquare(observed, proposed, 3) #3 dof because models have 3 parameters...\n",
    "            pval[gene_count,dataset] = csq.pvalue\n",
    "            if csq.pvalue>model_ind_thr[model_ind]:\n",
    "                keep[gene_count,dataset] = True\n",
    "                \n",
    "#     gene_inds_kept.append(gene_inds[keep.mean(1)>0.5])\n",
    "    gene_inds_kept.append(gene_inds[keep.all(1)])"
   ]
  },
  {
   "cell_type": "code",
   "execution_count": 103,
   "metadata": {
    "id": "5LFhG5ugr7y0"
   },
   "outputs": [],
   "source": [
    "n_cells = np.asarray([sd.n_cells for sd in sd_arr])\n",
    "subtype_weights = n_cells/n_cells.sum()"
   ]
  },
  {
   "cell_type": "code",
   "execution_count": 104,
   "metadata": {
    "id": "b1vCHI0Hr7y0"
   },
   "outputs": [],
   "source": [
    "results = []\n",
    "for model_ind in range(n_models):\n",
    "    data = {'meta':models[model_ind],'genes':gn[gene_inds_kept[model_ind]],'aic':w[:,:,gene_inds_kept[model_ind]]}\n",
    "    n_genes = len(data['genes'])\n",
    "    pars = np.zeros((n_genes,n_subcluster_datasets,3))\n",
    "    for gene_count,gene_ind in enumerate(gene_inds_kept[model_ind]):\n",
    "        for dataset in range(n_subcluster_datasets):\n",
    "            pars[gene_count,dataset] = sr_arr[dataset][model_ind].phys_optimum[gene_ind]\n",
    "    data['pars'] = pars\n",
    "    data['par_initial_guess'] = (pars*subtype_weights[None,:,None]).sum(1)\n",
    "    results.append(data)\n"
   ]
  },
  {
   "cell_type": "code",
   "execution_count": 105,
   "metadata": {
    "id": "BYi83OC0r7y1"
   },
   "outputs": [],
   "source": [
    "with open(subcluster_dir_string+'/weights_and_genes.pickle','wb') as rfs:\n",
    "    pickle.dump(results,rfs)"
   ]
  },
  {
   "cell_type": "code",
   "execution_count": 106,
   "metadata": {
    "colab": {
     "base_uri": "https://localhost:8080/"
    },
    "id": "52XVXKwtmUWl",
    "outputId": "37023313-22c0-486c-9844-23b423395200"
   },
   "outputs": [
    {
     "name": "stdout",
     "output_type": "stream",
     "text": [
      "Runtime: 7.8 minutes.\n"
     ]
    }
   ],
   "source": [
    "t2=time.time()\n",
    "print('Runtime: {:.1f} minutes.'.format((t2-t1)/60))"
   ]
  },
  {
   "cell_type": "code",
   "execution_count": 107,
   "metadata": {},
   "outputs": [
    {
     "data": {
      "text/plain": [
       "[17, 23, 8]"
      ]
     },
     "execution_count": 107,
     "metadata": {},
     "output_type": "execute_result"
    }
   ],
   "source": [
    "[len(x['genes']) for x in results]"
   ]
  },
  {
   "cell_type": "markdown",
   "metadata": {
    "id": "qfBgnAYxr7y1"
   },
   "source": [
    "## Out-of-sample analysis"
   ]
  },
  {
   "cell_type": "markdown",
   "metadata": {
    "id": "HrOoCg8WmUWm"
   },
   "source": [
    "We can restart here."
   ]
  },
  {
   "cell_type": "code",
   "execution_count": 19,
   "metadata": {
    "id": "-T8NzG3dr7y1"
   },
   "outputs": [],
   "source": [
    "n_cores=15"
   ]
  },
  {
   "cell_type": "code",
   "execution_count": 20,
   "metadata": {
    "id": "6DKn2A_Or7y1"
   },
   "outputs": [],
   "source": [
    "subcluster_dir_string = './fits/GVFP_nodate_024_subtypes_1'\n",
    "with open(subcluster_dir_string+'/weights_and_genes.pickle','rb') as rfs:\n",
    "    results = pickle.load(rfs)"
   ]
  },
  {
   "cell_type": "code",
   "execution_count": 21,
   "metadata": {
    "id": "iqlg1cyfr7y1",
    "outputId": "164e228f-b3b8-4293-ffa9-9d793bc2fc8a"
   },
   "outputs": [
    {
     "name": "stdout",
     "output_type": "stream",
     "text": [
      "[array(['Ptpn4', 'Cdc42bpa', 'Rabep1', 'Flrt2', 'Ncoa1', 'Fbxo11',\n",
      "       'Bicral', 'Epb41l3', 'Pip5k1a', 'Necab1', 'Ankrd17', 'Gabra4',\n",
      "       'Ube2k', 'Setd5', 'Sptbn4', 'Fat3', '5330434G04Rik'], dtype='<U16'), array(['Ppa1', 'Yy1', 'Ywhaq', 'Nrn1', 'Tmed9', 'Vdac2', 'Rbx1', 'Vapa',\n",
      "       'Ndufv2', 'Hagh', 'Ina', 'Polr2g', 'Atp5c1', 'Noct', 'Stmn2',\n",
      "       'Ctps', 'Rheb', 'Arpc1a', 'Dnaja2', 'Irs2', 'Tsnax', 'Fez1',\n",
      "       'Hprt'], dtype='<U16'), array(['Bbof1', 'Pura', 'Cbln2', 'Ywhab', 'Arfrp1', 'Ccdc39', 'Pnisr',\n",
      "       'Srcap'], dtype='<U16')]\n"
     ]
    }
   ],
   "source": [
    "genes_kept = [x['genes'] for x in results]\n",
    "print(genes_kept)\n",
    "gene_names_to_run = [x for x in genes_kept] #use this if you want to run everything\n",
    "# gene_names_to_run = [x[:5] for x in genes_kept] #use this if you want to only run first five in each category\n"
   ]
  },
  {
   "cell_type": "code",
   "execution_count": 22,
   "metadata": {
    "id": "IY6YoSwKr7y2",
    "outputId": "4df193a5-9624-449c-f8db-2e24c0412c78"
   },
   "outputs": [
    {
     "data": {
      "text/plain": [
       "[array(['Ptpn4', 'Cdc42bpa', 'Rabep1', 'Flrt2', 'Ncoa1', 'Fbxo11',\n",
       "        'Bicral', 'Epb41l3', 'Pip5k1a', 'Necab1', 'Ankrd17', 'Gabra4',\n",
       "        'Ube2k', 'Setd5', 'Sptbn4', 'Fat3', '5330434G04Rik'], dtype='<U16'),\n",
       " array(['Ppa1', 'Yy1', 'Ywhaq', 'Nrn1', 'Tmed9', 'Vdac2', 'Rbx1', 'Vapa',\n",
       "        'Ndufv2', 'Hagh', 'Ina', 'Polr2g', 'Atp5c1', 'Noct', 'Stmn2',\n",
       "        'Ctps', 'Rheb', 'Arpc1a', 'Dnaja2', 'Irs2', 'Tsnax', 'Fez1',\n",
       "        'Hprt'], dtype='<U16'),\n",
       " array(['Bbof1', 'Pura', 'Cbln2', 'Ywhab', 'Arfrp1', 'Ccdc39', 'Pnisr',\n",
       "        'Srcap'], dtype='<U16')]"
      ]
     },
     "execution_count": 22,
     "metadata": {},
     "output_type": "execute_result"
    }
   ],
   "source": [
    "gene_names_to_run"
   ]
  },
  {
   "cell_type": "markdown",
   "metadata": {},
   "source": [
    "### Extract data"
   ]
  },
  {
   "cell_type": "markdown",
   "metadata": {},
   "source": [
    "To simplify i/o, we can extract the data for the genes we care about."
   ]
  },
  {
   "cell_type": "code",
   "execution_count": 24,
   "metadata": {},
   "outputs": [],
   "source": [
    "outdir = subcluster_dir_string\n"
   ]
  },
  {
   "cell_type": "code",
   "execution_count": 23,
   "metadata": {},
   "outputs": [],
   "source": [
    "for k in range(len(sample_looms)):\n",
    "    filename = sample_looms[k]\n",
    "    dataset_name = sample_names[k]\n",
    "    with lp.connect(filename,mode='r') as ds:\n",
    "        S_ = ds.layers[spliced_layer][:]\n",
    "        U_ = ds.layers[unspliced_layer][:]\n",
    "        gene_filt = np.isin(ds.ra[gene_attr],np.concatenate(gene_names_to_run))\n",
    "        \n",
    "        S_ = S_[gene_filt][:,cf_oos[k]]\n",
    "        U_ = U_[gene_filt][:,cf_oos[k]]\n",
    "        gene_names = ds.ra[gene_attr][gene_filt]\n",
    "        bcs = ds.ca[cell_attr][cf_oos[k]]\n",
    "    lp.create(outdir+'/allen_{}_{}.loom'.format(dataset_name,cluster),\\\n",
    "          layers={'':scipy.sparse.csr_matrix(S_.shape),\n",
    "                  spliced_layer:S_,\n",
    "                  unspliced_layer:U_},\\\n",
    "                  row_attrs={gene_attr:gene_names},\\\n",
    "                  col_attrs={cell_attr:bcs})"
   ]
  },
  {
   "cell_type": "code",
   "execution_count": 25,
   "metadata": {},
   "outputs": [],
   "source": [
    "sample_looms_filtered = [outdir+'/allen_{}_{}.loom'.format(x,cluster) for x in sample_names]"
   ]
  },
  {
   "cell_type": "code",
   "execution_count": 26,
   "metadata": {},
   "outputs": [
    {
     "data": {
      "text/plain": [
       "['./fits/GVFP_nodate_024_subtypes_1/allen_C01_Glutamatergic.loom',\n",
       " './fits/GVFP_nodate_024_subtypes_1/allen_B08_Glutamatergic.loom',\n",
       " './fits/GVFP_nodate_024_subtypes_1/allen_H12_Glutamatergic.loom',\n",
       " './fits/GVFP_nodate_024_subtypes_1/allen_F08_Glutamatergic.loom']"
      ]
     },
     "execution_count": 26,
     "metadata": {},
     "output_type": "execute_result"
    }
   ],
   "source": [
    "sample_looms_filtered"
   ]
  },
  {
   "cell_type": "code",
   "execution_count": 27,
   "metadata": {},
   "outputs": [
    {
     "data": {
      "text/plain": [
       "15"
      ]
     },
     "execution_count": 27,
     "metadata": {},
     "output_type": "execute_result"
    }
   ],
   "source": [
    "n_cores"
   ]
  },
  {
   "cell_type": "code",
   "execution_count": null,
   "metadata": {
    "id": "jZKP4E8Dr7y2",
    "outputId": "b6c66242-874f-49b7-8698-beac08269acf"
   },
   "outputs": [
    {
     "name": "stdout",
     "output_type": "stream",
     "text": [
      "C01\n",
      "Bursty\n"
     ]
    },
    {
     "name": "stderr",
     "output_type": "stream",
     "text": [
      "Process ForkPoolWorker-2:\n",
      "Process ForkPoolWorker-10:\n",
      "Process ForkPoolWorker-3:\n",
      "Process ForkPoolWorker-15:\n",
      "Process ForkPoolWorker-5:\n",
      "Process ForkPoolWorker-6:\n",
      "Process ForkPoolWorker-1:\n",
      "Process ForkPoolWorker-12:\n",
      "Process ForkPoolWorker-8:\n",
      "Process ForkPoolWorker-14:\n",
      "Process ForkPoolWorker-4:\n",
      "Process ForkPoolWorker-9:\n",
      "Process ForkPoolWorker-7:\n",
      "Process ForkPoolWorker-11:\n",
      "Process ForkPoolWorker-13:\n",
      "Traceback (most recent call last):\n",
      "Traceback (most recent call last):\n",
      "Traceback (most recent call last):\n",
      "Traceback (most recent call last):\n",
      "Traceback (most recent call last):\n",
      "Traceback (most recent call last):\n",
      "Traceback (most recent call last):\n",
      "Traceback (most recent call last):\n",
      "Traceback (most recent call last):\n",
      "Traceback (most recent call last):\n",
      "Traceback (most recent call last):\n",
      "Traceback (most recent call last):\n",
      "Traceback (most recent call last):\n",
      "Traceback (most recent call last):\n",
      "  File \"/home/ggorin/miniconda3/lib/python3.9/multiprocessing/process.py\", line 315, in _bootstrap\n",
      "    self.run()\n",
      "  File \"/home/ggorin/miniconda3/lib/python3.9/multiprocessing/process.py\", line 315, in _bootstrap\n",
      "    self.run()\n",
      "  File \"/home/ggorin/miniconda3/lib/python3.9/multiprocessing/process.py\", line 315, in _bootstrap\n",
      "    self.run()\n",
      "  File \"/home/ggorin/miniconda3/lib/python3.9/multiprocessing/process.py\", line 315, in _bootstrap\n",
      "    self.run()\n",
      "  File \"/home/ggorin/miniconda3/lib/python3.9/multiprocessing/process.py\", line 315, in _bootstrap\n",
      "    self.run()\n",
      "  File \"/home/ggorin/miniconda3/lib/python3.9/multiprocessing/process.py\", line 315, in _bootstrap\n",
      "    self.run()\n",
      "  File \"/home/ggorin/miniconda3/lib/python3.9/multiprocessing/process.py\", line 108, in run\n",
      "    self._target(*self._args, **self._kwargs)\n",
      "  File \"/home/ggorin/miniconda3/lib/python3.9/multiprocessing/process.py\", line 315, in _bootstrap\n",
      "    self.run()\n",
      "  File \"/home/ggorin/miniconda3/lib/python3.9/multiprocessing/process.py\", line 315, in _bootstrap\n",
      "    self.run()\n",
      "  File \"/home/ggorin/miniconda3/lib/python3.9/multiprocessing/process.py\", line 315, in _bootstrap\n",
      "    self.run()\n",
      "Traceback (most recent call last):\n",
      "  File \"/home/ggorin/miniconda3/lib/python3.9/multiprocessing/process.py\", line 108, in run\n",
      "    self._target(*self._args, **self._kwargs)\n",
      "  File \"/home/ggorin/miniconda3/lib/python3.9/multiprocessing/process.py\", line 315, in _bootstrap\n",
      "    self.run()\n",
      "  File \"/home/ggorin/miniconda3/lib/python3.9/multiprocessing/process.py\", line 315, in _bootstrap\n",
      "    self.run()\n",
      "  File \"/home/ggorin/miniconda3/lib/python3.9/multiprocessing/process.py\", line 315, in _bootstrap\n",
      "    self.run()\n",
      "  File \"/home/ggorin/miniconda3/lib/python3.9/multiprocessing/process.py\", line 315, in _bootstrap\n",
      "    self.run()\n",
      "  File \"/home/ggorin/miniconda3/lib/python3.9/multiprocessing/process.py\", line 108, in run\n",
      "    self._target(*self._args, **self._kwargs)\n",
      "  File \"/home/ggorin/miniconda3/lib/python3.9/multiprocessing/process.py\", line 315, in _bootstrap\n",
      "    self.run()\n",
      "  File \"/home/ggorin/miniconda3/lib/python3.9/multiprocessing/process.py\", line 108, in run\n",
      "    self._target(*self._args, **self._kwargs)\n",
      "  File \"/home/ggorin/miniconda3/lib/python3.9/multiprocessing/process.py\", line 108, in run\n",
      "    self._target(*self._args, **self._kwargs)\n",
      "  File \"/home/ggorin/miniconda3/lib/python3.9/multiprocessing/process.py\", line 108, in run\n",
      "    self._target(*self._args, **self._kwargs)\n",
      "  File \"/home/ggorin/miniconda3/lib/python3.9/multiprocessing/pool.py\", line 125, in worker\n",
      "    result = (True, func(*args, **kwds))\n",
      "  File \"/home/ggorin/miniconda3/lib/python3.9/multiprocessing/process.py\", line 108, in run\n",
      "    self._target(*self._args, **self._kwargs)\n",
      "  File \"/home/ggorin/miniconda3/lib/python3.9/multiprocessing/process.py\", line 108, in run\n",
      "    self._target(*self._args, **self._kwargs)\n",
      "  File \"/home/ggorin/miniconda3/lib/python3.9/multiprocessing/process.py\", line 108, in run\n",
      "    self._target(*self._args, **self._kwargs)\n",
      "  File \"/home/ggorin/miniconda3/lib/python3.9/multiprocessing/pool.py\", line 114, in worker\n",
      "    task = get()\n",
      "  File \"/home/ggorin/miniconda3/lib/python3.9/multiprocessing/process.py\", line 315, in _bootstrap\n",
      "    self.run()\n",
      "  File \"/home/ggorin/miniconda3/lib/python3.9/multiprocessing/process.py\", line 108, in run\n",
      "    self._target(*self._args, **self._kwargs)\n",
      "  File \"/home/ggorin/miniconda3/lib/python3.9/multiprocessing/process.py\", line 108, in run\n",
      "    self._target(*self._args, **self._kwargs)\n",
      "  File \"/home/ggorin/miniconda3/lib/python3.9/multiprocessing/process.py\", line 108, in run\n",
      "    self._target(*self._args, **self._kwargs)\n",
      "  File \"/home/ggorin/miniconda3/lib/python3.9/multiprocessing/process.py\", line 108, in run\n",
      "    self._target(*self._args, **self._kwargs)\n",
      "  File \"/home/ggorin/miniconda3/lib/python3.9/multiprocessing/pool.py\", line 125, in worker\n",
      "    result = (True, func(*args, **kwds))\n",
      "  File \"/home/ggorin/miniconda3/lib/python3.9/multiprocessing/process.py\", line 108, in run\n",
      "    self._target(*self._args, **self._kwargs)\n",
      "  File \"/home/ggorin/miniconda3/lib/python3.9/multiprocessing/pool.py\", line 125, in worker\n",
      "    result = (True, func(*args, **kwds))\n",
      "  File \"/home/ggorin/miniconda3/lib/python3.9/multiprocessing/pool.py\", line 125, in worker\n",
      "    result = (True, func(*args, **kwds))\n",
      "  File \"/home/ggorin/miniconda3/lib/python3.9/multiprocessing/pool.py\", line 48, in mapstar\n",
      "    return list(map(*args))\n",
      "  File \"/home/ggorin/miniconda3/lib/python3.9/multiprocessing/pool.py\", line 114, in worker\n",
      "    task = get()\n",
      "  File \"/home/ggorin/miniconda3/lib/python3.9/multiprocessing/pool.py\", line 125, in worker\n",
      "    result = (True, func(*args, **kwds))\n",
      "  File \"/home/ggorin/miniconda3/lib/python3.9/multiprocessing/pool.py\", line 125, in worker\n",
      "    result = (True, func(*args, **kwds))\n",
      "  File \"/home/ggorin/miniconda3/lib/python3.9/multiprocessing/queues.py\", line 366, in get\n",
      "    res = self._reader.recv_bytes()\n",
      "  File \"/home/ggorin/miniconda3/lib/python3.9/multiprocessing/pool.py\", line 114, in worker\n",
      "    task = get()\n",
      "  File \"/home/ggorin/miniconda3/lib/python3.9/multiprocessing/process.py\", line 108, in run\n",
      "    self._target(*self._args, **self._kwargs)\n",
      "  File \"/home/ggorin/miniconda3/lib/python3.9/multiprocessing/pool.py\", line 114, in worker\n",
      "    task = get()\n",
      "  File \"/home/ggorin/miniconda3/lib/python3.9/multiprocessing/pool.py\", line 125, in worker\n",
      "    result = (True, func(*args, **kwds))\n",
      "  File \"/home/ggorin/miniconda3/lib/python3.9/multiprocessing/pool.py\", line 125, in worker\n",
      "    result = (True, func(*args, **kwds))\n",
      "  File \"/home/ggorin/miniconda3/lib/python3.9/multiprocessing/pool.py\", line 125, in worker\n",
      "    result = (True, func(*args, **kwds))\n",
      "  File \"/home/ggorin/miniconda3/lib/python3.9/multiprocessing/pool.py\", line 48, in mapstar\n",
      "    return list(map(*args))\n",
      "  File \"/home/ggorin/miniconda3/lib/python3.9/multiprocessing/pool.py\", line 114, in worker\n",
      "    task = get()\n",
      "  File \"/home/ggorin/miniconda3/lib/python3.9/multiprocessing/pool.py\", line 48, in mapstar\n",
      "    return list(map(*args))\n",
      "  File \"/home/ggorin/miniconda3/lib/python3.9/multiprocessing/pool.py\", line 48, in mapstar\n",
      "    return list(map(*args))\n",
      "  File \"/tmp/ipykernel_798094/2823509621.py\", line 6, in par_fun_fullfit\n",
      "    pars_sde_cir = convert_pars(get_MLE('CIR',U,S,reduced_guess,disp=False,limit=limit,n_restarts=n_restarts,maxiter=maxiter))\n",
      "  File \"/home/ggorin/miniconda3/lib/python3.9/multiprocessing/queues.py\", line 365, in get\n",
      "    with self._rlock:\n",
      "  File \"/home/ggorin/miniconda3/lib/python3.9/multiprocessing/pool.py\", line 48, in mapstar\n",
      "    return list(map(*args))\n",
      "  File \"/home/ggorin/miniconda3/lib/python3.9/multiprocessing/connection.py\", line 221, in recv_bytes\n",
      "    buf = self._recv_bytes(maxlength)\n",
      "  File \"/home/ggorin/miniconda3/lib/python3.9/multiprocessing/pool.py\", line 48, in mapstar\n",
      "    return list(map(*args))\n",
      "  File \"/home/ggorin/miniconda3/lib/python3.9/multiprocessing/queues.py\", line 365, in get\n",
      "    with self._rlock:\n",
      "  File \"/home/ggorin/miniconda3/lib/python3.9/multiprocessing/pool.py\", line 125, in worker\n",
      "    result = (True, func(*args, **kwds))\n",
      "  File \"/home/ggorin/miniconda3/lib/python3.9/multiprocessing/queues.py\", line 365, in get\n",
      "    with self._rlock:\n",
      "  File \"/home/ggorin/miniconda3/lib/python3.9/multiprocessing/pool.py\", line 48, in mapstar\n",
      "    return list(map(*args))\n"
     ]
    },
    {
     "name": "stderr",
     "output_type": "stream",
     "text": [
      "  File \"/home/ggorin/miniconda3/lib/python3.9/multiprocessing/pool.py\", line 48, in mapstar\n",
      "    return list(map(*args))\n",
      "  File \"/home/ggorin/miniconda3/lib/python3.9/multiprocessing/pool.py\", line 48, in mapstar\n",
      "    return list(map(*args))\n",
      "  File \"/tmp/ipykernel_798094/2823509621.py\", line 6, in par_fun_fullfit\n",
      "    pars_sde_cir = convert_pars(get_MLE('CIR',U,S,reduced_guess,disp=False,limit=limit,n_restarts=n_restarts,maxiter=maxiter))\n",
      "  File \"/home/ggorin/miniconda3/lib/python3.9/multiprocessing/queues.py\", line 365, in get\n",
      "    with self._rlock:\n",
      "  File \"/tmp/ipykernel_798094/2823509621.py\", line 6, in par_fun_fullfit\n",
      "    pars_sde_cir = convert_pars(get_MLE('CIR',U,S,reduced_guess,disp=False,limit=limit,n_restarts=n_restarts,maxiter=maxiter))\n",
      "  File \"/tmp/ipykernel_798094/2823509621.py\", line 6, in par_fun_fullfit\n",
      "    pars_sde_cir = convert_pars(get_MLE('CIR',U,S,reduced_guess,disp=False,limit=limit,n_restarts=n_restarts,maxiter=maxiter))\n",
      "  File \"/tmp/ipykernel_798094/2823509621.py\", line 69, in get_MLE\n",
      "    res_arr = scipy.optimize.minimize(lambda x: get_kld(x,pssfun,data),\n",
      "  File \"/home/ggorin/miniconda3/lib/python3.9/multiprocessing/synchronize.py\", line 95, in __enter__\n",
      "    return self._semlock.__enter__()\n",
      "  File \"/tmp/ipykernel_798094/2823509621.py\", line 6, in par_fun_fullfit\n",
      "    pars_sde_cir = convert_pars(get_MLE('CIR',U,S,reduced_guess,disp=False,limit=limit,n_restarts=n_restarts,maxiter=maxiter))\n",
      "  File \"/home/ggorin/miniconda3/lib/python3.9/multiprocessing/connection.py\", line 419, in _recv_bytes\n",
      "    buf = self._recv(4)\n",
      "  File \"/tmp/ipykernel_798094/2823509621.py\", line 6, in par_fun_fullfit\n",
      "    pars_sde_cir = convert_pars(get_MLE('CIR',U,S,reduced_guess,disp=False,limit=limit,n_restarts=n_restarts,maxiter=maxiter))\n",
      "  File \"/home/ggorin/miniconda3/lib/python3.9/multiprocessing/synchronize.py\", line 95, in __enter__\n",
      "    return self._semlock.__enter__()\n",
      "  File \"/home/ggorin/miniconda3/lib/python3.9/multiprocessing/pool.py\", line 48, in mapstar\n",
      "    return list(map(*args))\n",
      "  File \"/home/ggorin/miniconda3/lib/python3.9/multiprocessing/synchronize.py\", line 95, in __enter__\n",
      "    return self._semlock.__enter__()\n",
      "  File \"/tmp/ipykernel_798094/2823509621.py\", line 6, in par_fun_fullfit\n",
      "    pars_sde_cir = convert_pars(get_MLE('CIR',U,S,reduced_guess,disp=False,limit=limit,n_restarts=n_restarts,maxiter=maxiter))\n",
      "  File \"/tmp/ipykernel_798094/2823509621.py\", line 6, in par_fun_fullfit\n",
      "    pars_sde_cir = convert_pars(get_MLE('CIR',U,S,reduced_guess,disp=False,limit=limit,n_restarts=n_restarts,maxiter=maxiter))\n",
      "  File \"/tmp/ipykernel_798094/2823509621.py\", line 6, in par_fun_fullfit\n",
      "    pars_sde_cir = convert_pars(get_MLE('CIR',U,S,reduced_guess,disp=False,limit=limit,n_restarts=n_restarts,maxiter=maxiter))\n",
      "  File \"/tmp/ipykernel_798094/2823509621.py\", line 69, in get_MLE\n",
      "    res_arr = scipy.optimize.minimize(lambda x: get_kld(x,pssfun,data),\n",
      "  File \"/home/ggorin/miniconda3/lib/python3.9/multiprocessing/synchronize.py\", line 95, in __enter__\n",
      "    return self._semlock.__enter__()\n",
      "  File \"/tmp/ipykernel_798094/2823509621.py\", line 69, in get_MLE\n",
      "    res_arr = scipy.optimize.minimize(lambda x: get_kld(x,pssfun,data),\n",
      "  File \"/tmp/ipykernel_798094/2823509621.py\", line 69, in get_MLE\n",
      "    res_arr = scipy.optimize.minimize(lambda x: get_kld(x,pssfun,data),\n",
      "  File \"/home/ggorin/miniconda3/lib/python3.9/site-packages/scipy/optimize/_minimize.py\", line 699, in minimize\n",
      "    res = _minimize_lbfgsb(fun, x0, args, jac, bounds,\n",
      "KeyboardInterrupt\n",
      "  File \"/tmp/ipykernel_798094/2823509621.py\", line 69, in get_MLE\n",
      "    res_arr = scipy.optimize.minimize(lambda x: get_kld(x,pssfun,data),\n",
      "  File \"/home/ggorin/miniconda3/lib/python3.9/multiprocessing/connection.py\", line 384, in _recv\n",
      "    chunk = read(handle, remaining)\n",
      "KeyboardInterrupt\n",
      "  File \"/tmp/ipykernel_798094/2823509621.py\", line 6, in par_fun_fullfit\n",
      "    pars_sde_cir = convert_pars(get_MLE('CIR',U,S,reduced_guess,disp=False,limit=limit,n_restarts=n_restarts,maxiter=maxiter))\n",
      "KeyboardInterrupt\n",
      "  File \"/tmp/ipykernel_798094/2823509621.py\", line 69, in get_MLE\n",
      "    res_arr = scipy.optimize.minimize(lambda x: get_kld(x,pssfun,data),\n",
      "KeyboardInterrupt\n",
      "  File \"/home/ggorin/miniconda3/lib/python3.9/site-packages/scipy/optimize/_minimize.py\", line 699, in minimize\n",
      "    res = _minimize_lbfgsb(fun, x0, args, jac, bounds,\n",
      "  File \"/tmp/ipykernel_798094/2823509621.py\", line 69, in get_MLE\n",
      "    res_arr = scipy.optimize.minimize(lambda x: get_kld(x,pssfun,data),\n",
      "  File \"/tmp/ipykernel_798094/2823509621.py\", line 69, in get_MLE\n",
      "    res_arr = scipy.optimize.minimize(lambda x: get_kld(x,pssfun,data),\n",
      "  File \"/home/ggorin/miniconda3/lib/python3.9/site-packages/scipy/optimize/_minimize.py\", line 699, in minimize\n",
      "    res = _minimize_lbfgsb(fun, x0, args, jac, bounds,\n",
      "  File \"/home/ggorin/miniconda3/lib/python3.9/site-packages/scipy/optimize/_minimize.py\", line 699, in minimize\n",
      "    res = _minimize_lbfgsb(fun, x0, args, jac, bounds,\n",
      "KeyboardInterrupt\n",
      "  File \"/home/ggorin/miniconda3/lib/python3.9/site-packages/scipy/optimize/_minimize.py\", line 699, in minimize\n",
      "    res = _minimize_lbfgsb(fun, x0, args, jac, bounds,\n",
      "  File \"/tmp/ipykernel_798094/2823509621.py\", line 69, in get_MLE\n",
      "    res_arr = scipy.optimize.minimize(lambda x: get_kld(x,pssfun,data),\n",
      "  File \"/home/ggorin/miniconda3/lib/python3.9/site-packages/scipy/optimize/_lbfgsb_py.py\", line 362, in _minimize_lbfgsb\n",
      "    f, g = func_and_grad(x)\n",
      "  File \"/tmp/ipykernel_798094/2823509621.py\", line 69, in get_MLE\n",
      "    res_arr = scipy.optimize.minimize(lambda x: get_kld(x,pssfun,data),\n",
      "  File \"/home/ggorin/miniconda3/lib/python3.9/site-packages/scipy/optimize/_minimize.py\", line 699, in minimize\n",
      "    res = _minimize_lbfgsb(fun, x0, args, jac, bounds,\n",
      "  File \"/home/ggorin/miniconda3/lib/python3.9/site-packages/scipy/optimize/_minimize.py\", line 699, in minimize\n",
      "    res = _minimize_lbfgsb(fun, x0, args, jac, bounds,\n",
      "  File \"/home/ggorin/miniconda3/lib/python3.9/site-packages/scipy/optimize/_minimize.py\", line 699, in minimize\n",
      "    res = _minimize_lbfgsb(fun, x0, args, jac, bounds,\n",
      "  File \"/home/ggorin/miniconda3/lib/python3.9/site-packages/scipy/optimize/_lbfgsb_py.py\", line 362, in _minimize_lbfgsb\n",
      "    f, g = func_and_grad(x)\n",
      "  File \"/home/ggorin/miniconda3/lib/python3.9/site-packages/scipy/optimize/_lbfgsb_py.py\", line 362, in _minimize_lbfgsb\n",
      "    f, g = func_and_grad(x)\n",
      "  File \"/home/ggorin/miniconda3/lib/python3.9/site-packages/scipy/optimize/_lbfgsb_py.py\", line 362, in _minimize_lbfgsb\n",
      "    f, g = func_and_grad(x)\n",
      "  File \"/home/ggorin/miniconda3/lib/python3.9/site-packages/scipy/optimize/_lbfgsb_py.py\", line 362, in _minimize_lbfgsb\n",
      "    f, g = func_and_grad(x)\n",
      "  File \"/home/ggorin/miniconda3/lib/python3.9/site-packages/scipy/optimize/_minimize.py\", line 699, in minimize\n",
      "    res = _minimize_lbfgsb(fun, x0, args, jac, bounds,\n",
      "  File \"/home/ggorin/miniconda3/lib/python3.9/site-packages/scipy/optimize/_differentiable_functions.py\", line 286, in fun_and_grad\n",
      "    self._update_grad()\n",
      "  File \"/home/ggorin/miniconda3/lib/python3.9/site-packages/scipy/optimize/_lbfgsb_py.py\", line 362, in _minimize_lbfgsb\n",
      "    f, g = func_and_grad(x)\n",
      "  File \"/home/ggorin/miniconda3/lib/python3.9/site-packages/scipy/optimize/_minimize.py\", line 699, in minimize\n",
      "    res = _minimize_lbfgsb(fun, x0, args, jac, bounds,\n",
      "  File \"/home/ggorin/miniconda3/lib/python3.9/site-packages/scipy/optimize/_lbfgsb_py.py\", line 362, in _minimize_lbfgsb\n",
      "    f, g = func_and_grad(x)\n",
      "  File \"/home/ggorin/miniconda3/lib/python3.9/site-packages/scipy/optimize/_lbfgsb_py.py\", line 362, in _minimize_lbfgsb\n",
      "    f, g = func_and_grad(x)\n",
      "  File \"/home/ggorin/miniconda3/lib/python3.9/site-packages/scipy/optimize/_differentiable_functions.py\", line 286, in fun_and_grad\n",
      "    self._update_grad()\n",
      "  File \"/home/ggorin/miniconda3/lib/python3.9/site-packages/scipy/optimize/_differentiable_functions.py\", line 286, in fun_and_grad\n",
      "    self._update_grad()\n",
      "  File \"/home/ggorin/miniconda3/lib/python3.9/site-packages/scipy/optimize/_differentiable_functions.py\", line 286, in fun_and_grad\n",
      "    self._update_grad()\n",
      "  File \"/home/ggorin/miniconda3/lib/python3.9/site-packages/scipy/optimize/_lbfgsb_py.py\", line 362, in _minimize_lbfgsb\n",
      "    f, g = func_and_grad(x)\n",
      "  File \"/home/ggorin/miniconda3/lib/python3.9/site-packages/scipy/optimize/_differentiable_functions.py\", line 286, in fun_and_grad\n",
      "    self._update_grad()\n"
     ]
    },
    {
     "name": "stderr",
     "output_type": "stream",
     "text": [
      "  File \"/home/ggorin/miniconda3/lib/python3.9/site-packages/scipy/optimize/_differentiable_functions.py\", line 256, in _update_grad\n",
      "    self._update_grad_impl()\n",
      "  File \"/home/ggorin/miniconda3/lib/python3.9/site-packages/scipy/optimize/_differentiable_functions.py\", line 286, in fun_and_grad\n",
      "    self._update_grad()\n",
      "  File \"/home/ggorin/miniconda3/lib/python3.9/site-packages/scipy/optimize/_lbfgsb_py.py\", line 362, in _minimize_lbfgsb\n",
      "    f, g = func_and_grad(x)\n",
      "  File \"/home/ggorin/miniconda3/lib/python3.9/site-packages/scipy/optimize/_differentiable_functions.py\", line 285, in fun_and_grad\n",
      "    self._update_fun()\n",
      "  File \"/home/ggorin/miniconda3/lib/python3.9/site-packages/scipy/optimize/_differentiable_functions.py\", line 286, in fun_and_grad\n",
      "    self._update_grad()\n",
      "  File \"/home/ggorin/miniconda3/lib/python3.9/site-packages/scipy/optimize/_differentiable_functions.py\", line 256, in _update_grad\n",
      "    self._update_grad_impl()\n",
      "  File \"/home/ggorin/miniconda3/lib/python3.9/site-packages/scipy/optimize/_differentiable_functions.py\", line 256, in _update_grad\n",
      "    self._update_grad_impl()\n",
      "  File \"/home/ggorin/miniconda3/lib/python3.9/site-packages/scipy/optimize/_differentiable_functions.py\", line 256, in _update_grad\n",
      "    self._update_grad_impl()\n",
      "  File \"/home/ggorin/miniconda3/lib/python3.9/site-packages/scipy/optimize/_differentiable_functions.py\", line 256, in _update_grad\n",
      "    self._update_grad_impl()\n",
      "  File \"/home/ggorin/miniconda3/lib/python3.9/site-packages/scipy/optimize/_differentiable_functions.py\", line 286, in fun_and_grad\n",
      "    self._update_grad()\n",
      "  File \"/home/ggorin/miniconda3/lib/python3.9/site-packages/scipy/optimize/_differentiable_functions.py\", line 173, in update_grad\n",
      "    self.g = approx_derivative(fun_wrapped, self.x, f0=self.f,\n",
      "  File \"/home/ggorin/miniconda3/lib/python3.9/site-packages/scipy/optimize/_differentiable_functions.py\", line 256, in _update_grad\n",
      "    self._update_grad_impl()\n",
      "  File \"/home/ggorin/miniconda3/lib/python3.9/site-packages/scipy/optimize/_differentiable_functions.py\", line 285, in fun_and_grad\n",
      "    self._update_fun()\n",
      "  File \"/home/ggorin/miniconda3/lib/python3.9/site-packages/scipy/optimize/_differentiable_functions.py\", line 251, in _update_fun\n",
      "    self._update_fun_impl()\n",
      "  File \"/home/ggorin/miniconda3/lib/python3.9/site-packages/scipy/optimize/_differentiable_functions.py\", line 256, in _update_grad\n",
      "    self._update_grad_impl()\n",
      "  File \"/home/ggorin/miniconda3/lib/python3.9/site-packages/scipy/optimize/_differentiable_functions.py\", line 173, in update_grad\n",
      "    self.g = approx_derivative(fun_wrapped, self.x, f0=self.f,\n",
      "  File \"/home/ggorin/miniconda3/lib/python3.9/site-packages/scipy/optimize/_differentiable_functions.py\", line 173, in update_grad\n",
      "    self.g = approx_derivative(fun_wrapped, self.x, f0=self.f,\n",
      "  File \"/home/ggorin/miniconda3/lib/python3.9/site-packages/scipy/optimize/_differentiable_functions.py\", line 173, in update_grad\n",
      "    self.g = approx_derivative(fun_wrapped, self.x, f0=self.f,\n",
      "  File \"/home/ggorin/miniconda3/lib/python3.9/site-packages/scipy/optimize/_differentiable_functions.py\", line 173, in update_grad\n",
      "    self.g = approx_derivative(fun_wrapped, self.x, f0=self.f,\n",
      "  File \"/home/ggorin/miniconda3/lib/python3.9/site-packages/scipy/optimize/_differentiable_functions.py\", line 256, in _update_grad\n",
      "    self._update_grad_impl()\n",
      "  File \"/home/ggorin/miniconda3/lib/python3.9/site-packages/scipy/optimize/_numdiff.py\", line 505, in approx_derivative\n",
      "    return _dense_difference(fun_wrapped, x0, f0, h,\n",
      "  File \"/home/ggorin/miniconda3/lib/python3.9/site-packages/scipy/optimize/_differentiable_functions.py\", line 173, in update_grad\n",
      "    self.g = approx_derivative(fun_wrapped, self.x, f0=self.f,\n",
      "  File \"/home/ggorin/miniconda3/lib/python3.9/site-packages/scipy/optimize/_differentiable_functions.py\", line 251, in _update_fun\n",
      "    self._update_fun_impl()\n",
      "  File \"/home/ggorin/miniconda3/lib/python3.9/site-packages/scipy/optimize/_differentiable_functions.py\", line 155, in update_fun\n",
      "    self.f = fun_wrapped(self.x)\n",
      "  File \"/home/ggorin/miniconda3/lib/python3.9/site-packages/scipy/optimize/_differentiable_functions.py\", line 173, in update_grad\n",
      "    self.g = approx_derivative(fun_wrapped, self.x, f0=self.f,\n",
      "  File \"/home/ggorin/miniconda3/lib/python3.9/site-packages/scipy/optimize/_numdiff.py\", line 505, in approx_derivative\n",
      "    return _dense_difference(fun_wrapped, x0, f0, h,\n",
      "  File \"/home/ggorin/miniconda3/lib/python3.9/site-packages/scipy/optimize/_numdiff.py\", line 505, in approx_derivative\n",
      "    return _dense_difference(fun_wrapped, x0, f0, h,\n",
      "  File \"/home/ggorin/miniconda3/lib/python3.9/site-packages/scipy/optimize/_numdiff.py\", line 505, in approx_derivative\n",
      "    return _dense_difference(fun_wrapped, x0, f0, h,\n",
      "  File \"/home/ggorin/miniconda3/lib/python3.9/site-packages/scipy/optimize/_numdiff.py\", line 505, in approx_derivative\n",
      "    return _dense_difference(fun_wrapped, x0, f0, h,\n",
      "  File \"/home/ggorin/miniconda3/lib/python3.9/site-packages/scipy/optimize/_differentiable_functions.py\", line 173, in update_grad\n",
      "    self.g = approx_derivative(fun_wrapped, self.x, f0=self.f,\n",
      "  File \"/home/ggorin/miniconda3/lib/python3.9/site-packages/scipy/optimize/_numdiff.py\", line 576, in _dense_difference\n",
      "    df = fun(x) - f0\n",
      "  File \"/home/ggorin/miniconda3/lib/python3.9/site-packages/scipy/optimize/_numdiff.py\", line 505, in approx_derivative\n",
      "    return _dense_difference(fun_wrapped, x0, f0, h,\n",
      "  File \"/home/ggorin/miniconda3/lib/python3.9/site-packages/scipy/optimize/_differentiable_functions.py\", line 155, in update_fun\n",
      "    self.f = fun_wrapped(self.x)\n",
      "  File \"/home/ggorin/miniconda3/lib/python3.9/site-packages/scipy/optimize/_numdiff.py\", line 505, in approx_derivative\n",
      "    return _dense_difference(fun_wrapped, x0, f0, h,\n",
      "  File \"/home/ggorin/miniconda3/lib/python3.9/site-packages/scipy/optimize/_differentiable_functions.py\", line 137, in fun_wrapped\n",
      "    fx = fun(np.copy(x), *args)\n",
      "  File \"/home/ggorin/miniconda3/lib/python3.9/site-packages/scipy/optimize/_numdiff.py\", line 576, in _dense_difference\n",
      "    df = fun(x) - f0\n",
      "  File \"/home/ggorin/miniconda3/lib/python3.9/site-packages/scipy/optimize/_numdiff.py\", line 576, in _dense_difference\n",
      "    df = fun(x) - f0\n",
      "  File \"/home/ggorin/miniconda3/lib/python3.9/site-packages/scipy/optimize/_numdiff.py\", line 576, in _dense_difference\n",
      "    df = fun(x) - f0\n",
      "  File \"/home/ggorin/miniconda3/lib/python3.9/site-packages/scipy/optimize/_numdiff.py\", line 576, in _dense_difference\n",
      "    df = fun(x) - f0\n",
      "  File \"/home/ggorin/miniconda3/lib/python3.9/site-packages/scipy/optimize/_numdiff.py\", line 505, in approx_derivative\n",
      "    return _dense_difference(fun_wrapped, x0, f0, h,\n",
      "  File \"/tmp/ipykernel_798094/2823509621.py\", line 69, in <lambda>\n",
      "    res_arr = scipy.optimize.minimize(lambda x: get_kld(x,pssfun,data),\n",
      "  File \"/home/ggorin/miniconda3/lib/python3.9/site-packages/scipy/optimize/_differentiable_functions.py\", line 137, in fun_wrapped\n",
      "    fx = fun(np.copy(x), *args)\n",
      "  File \"/home/ggorin/miniconda3/lib/python3.9/site-packages/scipy/optimize/_numdiff.py\", line 576, in _dense_difference\n",
      "    df = fun(x) - f0\n",
      "  File \"/home/ggorin/miniconda3/lib/python3.9/site-packages/scipy/optimize/_numdiff.py\", line 576, in _dense_difference\n",
      "    df = fun(x) - f0\n",
      "  File \"/home/ggorin/miniconda3/lib/python3.9/site-packages/scipy/optimize/_numdiff.py\", line 456, in fun_wrapped\n",
      "    f = np.atleast_1d(fun(x, *args, **kwargs))\n",
      "  File \"/home/ggorin/miniconda3/lib/python3.9/site-packages/scipy/optimize/_numdiff.py\", line 456, in fun_wrapped\n",
      "    f = np.atleast_1d(fun(x, *args, **kwargs))\n",
      "  File \"/home/ggorin/miniconda3/lib/python3.9/site-packages/scipy/optimize/_numdiff.py\", line 456, in fun_wrapped\n",
      "    f = np.atleast_1d(fun(x, *args, **kwargs))\n",
      "  File \"/home/ggorin/miniconda3/lib/python3.9/site-packages/scipy/optimize/_numdiff.py\", line 456, in fun_wrapped\n",
      "    f = np.atleast_1d(fun(x, *args, **kwargs))\n",
      "  File \"/home/ggorin/miniconda3/lib/python3.9/site-packages/scipy/optimize/_numdiff.py\", line 456, in fun_wrapped\n",
      "    f = np.atleast_1d(fun(x, *args, **kwargs))\n",
      "  File \"/home/ggorin/miniconda3/lib/python3.9/site-packages/scipy/optimize/_numdiff.py\", line 576, in _dense_difference\n",
      "    df = fun(x) - f0\n"
     ]
    },
    {
     "name": "stderr",
     "output_type": "stream",
     "text": [
      "  File \"/tmp/ipykernel_798094/2823509621.py\", line 114, in get_kld\n",
      "    proposal_probabilities = pssfun(np.copy(mx),convert_pars(pars))\n",
      "  File \"/tmp/ipykernel_798094/2823509621.py\", line 69, in <lambda>\n",
      "    res_arr = scipy.optimize.minimize(lambda x: get_kld(x,pssfun,data),\n",
      "  File \"/home/ggorin/miniconda3/lib/python3.9/site-packages/scipy/optimize/_numdiff.py\", line 456, in fun_wrapped\n",
      "    f = np.atleast_1d(fun(x, *args, **kwargs))\n",
      "  File \"/home/ggorin/miniconda3/lib/python3.9/site-packages/scipy/optimize/_numdiff.py\", line 456, in fun_wrapped\n",
      "    f = np.atleast_1d(fun(x, *args, **kwargs))\n",
      "  File \"/home/ggorin/miniconda3/lib/python3.9/site-packages/scipy/optimize/_differentiable_functions.py\", line 137, in fun_wrapped\n",
      "    fx = fun(np.copy(x), *args)\n",
      "  File \"/home/ggorin/miniconda3/lib/python3.9/site-packages/scipy/optimize/_differentiable_functions.py\", line 137, in fun_wrapped\n",
      "    fx = fun(np.copy(x), *args)\n",
      "  File \"/home/ggorin/miniconda3/lib/python3.9/site-packages/scipy/optimize/_differentiable_functions.py\", line 137, in fun_wrapped\n",
      "    fx = fun(np.copy(x), *args)\n",
      "  File \"/home/ggorin/miniconda3/lib/python3.9/site-packages/scipy/optimize/_differentiable_functions.py\", line 137, in fun_wrapped\n",
      "    fx = fun(np.copy(x), *args)\n",
      "  File \"/home/ggorin/miniconda3/lib/python3.9/site-packages/scipy/optimize/_differentiable_functions.py\", line 137, in fun_wrapped\n",
      "    fx = fun(np.copy(x), *args)\n",
      "  File \"/home/ggorin/miniconda3/lib/python3.9/site-packages/scipy/optimize/_numdiff.py\", line 456, in fun_wrapped\n",
      "    f = np.atleast_1d(fun(x, *args, **kwargs))\n",
      "  File \"/tmp/ipykernel_798094/2823509621.py\", line 114, in get_kld\n",
      "    proposal_probabilities = pssfun(np.copy(mx),convert_pars(pars))\n",
      "  File \"/tmp/ipykernel_798094/2823509621.py\", line 259, in get_CIR_2sp\n",
      "    gf = get_gf_CIR_2sp(g[0], g[1], params)\n",
      "  File \"/home/ggorin/miniconda3/lib/python3.9/site-packages/scipy/optimize/_differentiable_functions.py\", line 137, in fun_wrapped\n",
      "    fx = fun(np.copy(x), *args)\n",
      "  File \"/home/ggorin/miniconda3/lib/python3.9/site-packages/scipy/optimize/_differentiable_functions.py\", line 137, in fun_wrapped\n",
      "    fx = fun(np.copy(x), *args)\n",
      "  File \"/tmp/ipykernel_798094/2823509621.py\", line 69, in <lambda>\n",
      "    res_arr = scipy.optimize.minimize(lambda x: get_kld(x,pssfun,data),\n",
      "  File \"/tmp/ipykernel_798094/2823509621.py\", line 69, in <lambda>\n",
      "    res_arr = scipy.optimize.minimize(lambda x: get_kld(x,pssfun,data),\n",
      "  File \"/tmp/ipykernel_798094/2823509621.py\", line 69, in <lambda>\n",
      "    res_arr = scipy.optimize.minimize(lambda x: get_kld(x,pssfun,data),\n",
      "  File \"/tmp/ipykernel_798094/2823509621.py\", line 69, in <lambda>\n",
      "    res_arr = scipy.optimize.minimize(lambda x: get_kld(x,pssfun,data),\n",
      "  File \"/tmp/ipykernel_798094/2823509621.py\", line 69, in <lambda>\n",
      "    res_arr = scipy.optimize.minimize(lambda x: get_kld(x,pssfun,data),\n",
      "  File \"/home/ggorin/miniconda3/lib/python3.9/site-packages/scipy/optimize/_differentiable_functions.py\", line 137, in fun_wrapped\n",
      "    fx = fun(np.copy(x), *args)\n",
      "  File \"/tmp/ipykernel_798094/2823509621.py\", line 259, in get_CIR_2sp\n",
      "    gf = get_gf_CIR_2sp(g[0], g[1], params)\n",
      "  File \"/tmp/ipykernel_798094/2823509621.py\", line 214, in get_gf_CIR_2sp\n",
      "    rk = scipy.integrate.solve_ivp(fun=intfun_,t_span=[0,t_max],y0=np.zeros((g0.shape[0]), dtype=np.complex64),t_eval = t_eval,\n",
      "  File \"/tmp/ipykernel_798094/2823509621.py\", line 69, in <lambda>\n",
      "    res_arr = scipy.optimize.minimize(lambda x: get_kld(x,pssfun,data),\n",
      "  File \"/tmp/ipykernel_798094/2823509621.py\", line 69, in <lambda>\n",
      "    res_arr = scipy.optimize.minimize(lambda x: get_kld(x,pssfun,data),\n",
      "  File \"/tmp/ipykernel_798094/2823509621.py\", line 114, in get_kld\n",
      "    proposal_probabilities = pssfun(np.copy(mx),convert_pars(pars))\n",
      "  File \"/tmp/ipykernel_798094/2823509621.py\", line 114, in get_kld\n",
      "    proposal_probabilities = pssfun(np.copy(mx),convert_pars(pars))\n",
      "  File \"/tmp/ipykernel_798094/2823509621.py\", line 114, in get_kld\n",
      "    proposal_probabilities = pssfun(np.copy(mx),convert_pars(pars))\n",
      "  File \"/tmp/ipykernel_798094/2823509621.py\", line 114, in get_kld\n",
      "    proposal_probabilities = pssfun(np.copy(mx),convert_pars(pars))\n",
      "  File \"/tmp/ipykernel_798094/2823509621.py\", line 114, in get_kld\n",
      "    proposal_probabilities = pssfun(np.copy(mx),convert_pars(pars))\n",
      "  File \"/tmp/ipykernel_798094/2823509621.py\", line 69, in <lambda>\n",
      "    res_arr = scipy.optimize.minimize(lambda x: get_kld(x,pssfun,data),\n",
      "  File \"/tmp/ipykernel_798094/2823509621.py\", line 214, in get_gf_CIR_2sp\n",
      "    rk = scipy.integrate.solve_ivp(fun=intfun_,t_span=[0,t_max],y0=np.zeros((g0.shape[0]), dtype=np.complex64),t_eval = t_eval,\n",
      "  File \"/home/ggorin/miniconda3/lib/python3.9/site-packages/scipy/integrate/_ivp/ivp.py\", line 589, in solve_ivp\n",
      "    message = solver.step()\n",
      "  File \"/tmp/ipykernel_798094/2823509621.py\", line 114, in get_kld\n",
      "    proposal_probabilities = pssfun(np.copy(mx),convert_pars(pars))\n",
      "  File \"/tmp/ipykernel_798094/2823509621.py\", line 114, in get_kld\n",
      "    proposal_probabilities = pssfun(np.copy(mx),convert_pars(pars))\n",
      "  File \"/tmp/ipykernel_798094/2823509621.py\", line 259, in get_CIR_2sp\n",
      "    gf = get_gf_CIR_2sp(g[0], g[1], params)\n",
      "  File \"/tmp/ipykernel_798094/2823509621.py\", line 259, in get_CIR_2sp\n",
      "    gf = get_gf_CIR_2sp(g[0], g[1], params)\n",
      "  File \"/tmp/ipykernel_798094/2823509621.py\", line 259, in get_CIR_2sp\n",
      "    gf = get_gf_CIR_2sp(g[0], g[1], params)\n",
      "  File \"/tmp/ipykernel_798094/2823509621.py\", line 259, in get_CIR_2sp\n",
      "    gf = get_gf_CIR_2sp(g[0], g[1], params)\n",
      "  File \"/tmp/ipykernel_798094/2823509621.py\", line 259, in get_CIR_2sp\n",
      "    gf = get_gf_CIR_2sp(g[0], g[1], params)\n",
      "  File \"/tmp/ipykernel_798094/2823509621.py\", line 114, in get_kld\n",
      "    proposal_probabilities = pssfun(np.copy(mx),convert_pars(pars))\n",
      "  File \"/home/ggorin/miniconda3/lib/python3.9/site-packages/scipy/integrate/_ivp/ivp.py\", line 589, in solve_ivp\n",
      "    message = solver.step()\n",
      "  File \"/home/ggorin/miniconda3/lib/python3.9/site-packages/scipy/integrate/_ivp/base.py\", line 181, in step\n",
      "    success, message = self._step_impl()\n",
      "  File \"/tmp/ipykernel_798094/2823509621.py\", line 259, in get_CIR_2sp\n",
      "    gf = get_gf_CIR_2sp(g[0], g[1], params)\n",
      "  File \"/tmp/ipykernel_798094/2823509621.py\", line 259, in get_CIR_2sp\n",
      "    gf = get_gf_CIR_2sp(g[0], g[1], params)\n",
      "  File \"/tmp/ipykernel_798094/2823509621.py\", line 214, in get_gf_CIR_2sp\n",
      "    rk = scipy.integrate.solve_ivp(fun=intfun_,t_span=[0,t_max],y0=np.zeros((g0.shape[0]), dtype=np.complex64),t_eval = t_eval,\n",
      "  File \"/tmp/ipykernel_798094/2823509621.py\", line 214, in get_gf_CIR_2sp\n",
      "    rk = scipy.integrate.solve_ivp(fun=intfun_,t_span=[0,t_max],y0=np.zeros((g0.shape[0]), dtype=np.complex64),t_eval = t_eval,\n",
      "  File \"/tmp/ipykernel_798094/2823509621.py\", line 214, in get_gf_CIR_2sp\n",
      "    rk = scipy.integrate.solve_ivp(fun=intfun_,t_span=[0,t_max],y0=np.zeros((g0.shape[0]), dtype=np.complex64),t_eval = t_eval,\n",
      "  File \"/tmp/ipykernel_798094/2823509621.py\", line 214, in get_gf_CIR_2sp\n",
      "    rk = scipy.integrate.solve_ivp(fun=intfun_,t_span=[0,t_max],y0=np.zeros((g0.shape[0]), dtype=np.complex64),t_eval = t_eval,\n",
      "  File \"/tmp/ipykernel_798094/2823509621.py\", line 214, in get_gf_CIR_2sp\n",
      "    rk = scipy.integrate.solve_ivp(fun=intfun_,t_span=[0,t_max],y0=np.zeros((g0.shape[0]), dtype=np.complex64),t_eval = t_eval,\n",
      "  File \"/tmp/ipykernel_798094/2823509621.py\", line 259, in get_CIR_2sp\n",
      "    gf = get_gf_CIR_2sp(g[0], g[1], params)\n",
      "  File \"/home/ggorin/miniconda3/lib/python3.9/site-packages/scipy/integrate/_ivp/base.py\", line 181, in step\n",
      "    success, message = self._step_impl()\n",
      "  File \"/tmp/ipykernel_798094/2823509621.py\", line 214, in get_gf_CIR_2sp\n",
      "    rk = scipy.integrate.solve_ivp(fun=intfun_,t_span=[0,t_max],y0=np.zeros((g0.shape[0]), dtype=np.complex64),t_eval = t_eval,\n",
      "  File \"/tmp/ipykernel_798094/2823509621.py\", line 214, in get_gf_CIR_2sp\n",
      "    rk = scipy.integrate.solve_ivp(fun=intfun_,t_span=[0,t_max],y0=np.zeros((g0.shape[0]), dtype=np.complex64),t_eval = t_eval,\n",
      "  File \"/home/ggorin/miniconda3/lib/python3.9/site-packages/scipy/integrate/_ivp/rk.py\", line 144, in _step_impl\n",
      "    y_new, f_new = rk_step(self.fun, t, y, self.f, h, self.A,\n",
      "  File \"/home/ggorin/miniconda3/lib/python3.9/site-packages/scipy/integrate/_ivp/ivp.py\", line 589, in solve_ivp\n",
      "    message = solver.step()\n"
     ]
    },
    {
     "name": "stderr",
     "output_type": "stream",
     "text": [
      "  File \"/home/ggorin/miniconda3/lib/python3.9/site-packages/scipy/integrate/_ivp/ivp.py\", line 589, in solve_ivp\n",
      "    message = solver.step()\n",
      "  File \"/home/ggorin/miniconda3/lib/python3.9/site-packages/scipy/integrate/_ivp/ivp.py\", line 589, in solve_ivp\n",
      "    message = solver.step()\n",
      "  File \"/home/ggorin/miniconda3/lib/python3.9/site-packages/scipy/integrate/_ivp/ivp.py\", line 589, in solve_ivp\n",
      "    message = solver.step()\n",
      "  File \"/home/ggorin/miniconda3/lib/python3.9/site-packages/scipy/integrate/_ivp/ivp.py\", line 589, in solve_ivp\n",
      "    message = solver.step()\n",
      "  File \"/tmp/ipykernel_798094/2823509621.py\", line 214, in get_gf_CIR_2sp\n",
      "    rk = scipy.integrate.solve_ivp(fun=intfun_,t_span=[0,t_max],y0=np.zeros((g0.shape[0]), dtype=np.complex64),t_eval = t_eval,\n",
      "  File \"/home/ggorin/miniconda3/lib/python3.9/site-packages/scipy/integrate/_ivp/rk.py\", line 144, in _step_impl\n",
      "    y_new, f_new = rk_step(self.fun, t, y, self.f, h, self.A,\n",
      "  File \"/home/ggorin/miniconda3/lib/python3.9/site-packages/scipy/integrate/_ivp/ivp.py\", line 589, in solve_ivp\n",
      "    message = solver.step()\n",
      "  File \"/home/ggorin/miniconda3/lib/python3.9/site-packages/scipy/integrate/_ivp/rk.py\", line 66, in rk_step\n",
      "    y_new = y + h * np.dot(K[:-1].T, B)\n",
      "  File \"/home/ggorin/miniconda3/lib/python3.9/site-packages/scipy/integrate/_ivp/ivp.py\", line 589, in solve_ivp\n",
      "    message = solver.step()\n",
      "  File \"/home/ggorin/miniconda3/lib/python3.9/site-packages/scipy/integrate/_ivp/base.py\", line 181, in step\n",
      "    success, message = self._step_impl()\n",
      "  File \"/home/ggorin/miniconda3/lib/python3.9/site-packages/scipy/integrate/_ivp/base.py\", line 181, in step\n",
      "    success, message = self._step_impl()\n",
      "  File \"/home/ggorin/miniconda3/lib/python3.9/site-packages/scipy/integrate/_ivp/base.py\", line 181, in step\n",
      "    success, message = self._step_impl()\n",
      "  File \"/home/ggorin/miniconda3/lib/python3.9/site-packages/scipy/integrate/_ivp/base.py\", line 181, in step\n",
      "    success, message = self._step_impl()\n",
      "  File \"/home/ggorin/miniconda3/lib/python3.9/site-packages/scipy/integrate/_ivp/ivp.py\", line 589, in solve_ivp\n",
      "    message = solver.step()\n",
      "  File \"/home/ggorin/miniconda3/lib/python3.9/site-packages/scipy/integrate/_ivp/rk.py\", line 63, in rk_step\n",
      "    dy = np.dot(K[:s].T, a[:s]) * h\n",
      "  File \"/home/ggorin/miniconda3/lib/python3.9/site-packages/scipy/integrate/_ivp/base.py\", line 181, in step\n",
      "    success, message = self._step_impl()\n",
      "  File \"<__array_function__ internals>\", line 180, in dot\n",
      "  File \"/home/ggorin/miniconda3/lib/python3.9/site-packages/scipy/integrate/_ivp/base.py\", line 181, in step\n",
      "    success, message = self._step_impl()\n",
      "  File \"/home/ggorin/miniconda3/lib/python3.9/site-packages/scipy/integrate/_ivp/rk.py\", line 144, in _step_impl\n",
      "    y_new, f_new = rk_step(self.fun, t, y, self.f, h, self.A,\n",
      "  File \"/home/ggorin/miniconda3/lib/python3.9/site-packages/scipy/integrate/_ivp/rk.py\", line 147, in _step_impl\n",
      "    error_norm = self._estimate_error_norm(self.K, h, scale)\n",
      "  File \"/home/ggorin/miniconda3/lib/python3.9/site-packages/scipy/integrate/_ivp/rk.py\", line 144, in _step_impl\n",
      "    y_new, f_new = rk_step(self.fun, t, y, self.f, h, self.A,\n",
      "  File \"/home/ggorin/miniconda3/lib/python3.9/site-packages/scipy/integrate/_ivp/rk.py\", line 144, in _step_impl\n",
      "    y_new, f_new = rk_step(self.fun, t, y, self.f, h, self.A,\n",
      "  File \"/home/ggorin/miniconda3/lib/python3.9/site-packages/scipy/integrate/_ivp/base.py\", line 181, in step\n",
      "    success, message = self._step_impl()\n",
      "  File \"/home/ggorin/miniconda3/lib/python3.9/site-packages/scipy/integrate/_ivp/base.py\", line 181, in step\n",
      "    success, message = self._step_impl()\n",
      "  File \"<__array_function__ internals>\", line 177, in dot\n",
      "  File \"/home/ggorin/miniconda3/lib/python3.9/site-packages/scipy/integrate/_ivp/rk.py\", line 144, in _step_impl\n",
      "    y_new, f_new = rk_step(self.fun, t, y, self.f, h, self.A,\n",
      "KeyboardInterrupt\n",
      "  File \"/home/ggorin/miniconda3/lib/python3.9/site-packages/scipy/integrate/_ivp/rk.py\", line 144, in _step_impl\n",
      "    y_new, f_new = rk_step(self.fun, t, y, self.f, h, self.A,\n",
      "  File \"/home/ggorin/miniconda3/lib/python3.9/site-packages/scipy/integrate/_ivp/rk.py\", line 109, in _estimate_error_norm\n",
      "    return norm(self._estimate_error(K, h) / scale)\n",
      "  File \"/home/ggorin/miniconda3/lib/python3.9/site-packages/scipy/integrate/_ivp/rk.py\", line 63, in rk_step\n",
      "    dy = np.dot(K[:s].T, a[:s]) * h\n",
      "  File \"/home/ggorin/miniconda3/lib/python3.9/site-packages/scipy/integrate/_ivp/rk.py\", line 63, in rk_step\n",
      "    dy = np.dot(K[:s].T, a[:s]) * h\n",
      "  File \"/home/ggorin/miniconda3/lib/python3.9/site-packages/scipy/integrate/_ivp/rk.py\", line 66, in rk_step\n",
      "    y_new = y + h * np.dot(K[:-1].T, B)\n",
      "  File \"/home/ggorin/miniconda3/lib/python3.9/site-packages/scipy/integrate/_ivp/rk.py\", line 144, in _step_impl\n",
      "    y_new, f_new = rk_step(self.fun, t, y, self.f, h, self.A,\n",
      "  File \"/home/ggorin/miniconda3/lib/python3.9/site-packages/scipy/integrate/_ivp/rk.py\", line 66, in rk_step\n",
      "    y_new = y + h * np.dot(K[:-1].T, B)\n",
      "  File \"/home/ggorin/miniconda3/lib/python3.9/site-packages/scipy/integrate/_ivp/rk.py\", line 144, in _step_impl\n",
      "    y_new, f_new = rk_step(self.fun, t, y, self.f, h, self.A,\n",
      "KeyboardInterrupt\n",
      "  File \"/home/ggorin/miniconda3/lib/python3.9/site-packages/scipy/integrate/_ivp/rk.py\", line 106, in _estimate_error\n",
      "    return np.dot(K.T, self.E) * h\n",
      "  File \"/home/ggorin/miniconda3/lib/python3.9/site-packages/scipy/integrate/_ivp/rk.py\", line 63, in rk_step\n",
      "    dy = np.dot(K[:s].T, a[:s]) * h\n",
      "  File \"<__array_function__ internals>\", line 180, in dot\n",
      "  File \"/home/ggorin/miniconda3/lib/python3.9/site-packages/scipy/integrate/_ivp/rk.py\", line 64, in rk_step\n",
      "    K[s] = fun(t + c * h, y + dy)\n",
      "KeyboardInterrupt\n",
      "  File \"<__array_function__ internals>\", line 180, in dot\n",
      "  File \"<__array_function__ internals>\", line 180, in dot\n",
      "  File \"/home/ggorin/miniconda3/lib/python3.9/site-packages/scipy/integrate/_ivp/rk.py\", line 66, in rk_step\n",
      "    y_new = y + h * np.dot(K[:-1].T, B)\n",
      "  File \"<__array_function__ internals>\", line 180, in dot\n",
      "  File \"<__array_function__ internals>\", line 180, in dot\n",
      "KeyboardInterrupt\n",
      "  File \"/home/ggorin/miniconda3/lib/python3.9/site-packages/scipy/integrate/_ivp/base.py\", line 138, in fun\n",
      "    return self.fun_single(t, y)\n",
      "KeyboardInterrupt\n",
      "KeyboardInterrupt\n",
      "  File \"<__array_function__ internals>\", line 180, in dot\n",
      "KeyboardInterrupt\n",
      "  File \"/home/ggorin/miniconda3/lib/python3.9/site-packages/scipy/integrate/_ivp/base.py\", line 125, in fun_single\n",
      "    return self._fun(t, y[:, None]).ravel()\n",
      "KeyboardInterrupt\n",
      "KeyboardInterrupt\n",
      "  File \"/home/ggorin/miniconda3/lib/python3.9/site-packages/scipy/integrate/_ivp/base.py\", line 20, in fun_wrapped\n",
      "    return np.asarray(fun(t, y), dtype=dtype)\n",
      "  File \"/tmp/ipykernel_798094/2823509621.py\", line 213, in intfun_\n",
      "    return f_2sp(y, t, c0, c1, params)\n",
      "  File \"/tmp/ipykernel_798094/2823509621.py\", line 185, in f_2sp\n",
      "    result = - kappa*q + theta*q*q + kappa*( c0*np.exp(-beta_0*t) + c1*np.exp(-beta_1*t)  )\n",
      "KeyboardInterrupt\n"
     ]
    },
    {
     "name": "stdout",
     "output_type": "stream",
     "text": [
      "failed\n"
     ]
    }
   ],
   "source": [
    "import multiprocessing\n",
    "\n",
    "oss_res = {} #comment out if restarting\n",
    "\n",
    "for test_data_ind in range(len(sample_looms)):\n",
    "    print(sample_names[test_data_ind])\n",
    "    with lp.connect(sample_looms_filtered[test_data_ind]) as ds:\n",
    "        U = ds.layers['unspliced'][:]\n",
    "        S = ds.layers['spliced'][:]\n",
    "        loom_gene_names = ds.ra['gene_name']\n",
    "    \n",
    "    \n",
    "    oos_res_dataset = {}\n",
    "    for model_set in range(3):\n",
    "        print(models[model_set])\n",
    "        \n",
    "        \n",
    "        gntr = gene_names_to_run[model_set]\n",
    "        gene_locations = [np.where(loom_gene_names==x)[0][0] for x in gntr]    \n",
    "        try:\n",
    "            n_genes_to_run = len(gntr)\n",
    "            pool = multiprocessing.Pool(processes=n_cores)\n",
    "            fit_iterable = zip(U[gene_locations],\\\n",
    "                               S[gene_locations],\\\n",
    "                               [10]*n_genes_to_run,\\\n",
    "                               [15]*n_genes_to_run)  #maximum number of gradient descent iterations\n",
    "            model_res = pool.map(par_fun_fullfit, fit_iterable)\n",
    "            oos_res_dataset[models[model_set]] = model_res\n",
    "            pool.close()\n",
    "            pool.join()\n",
    "        except:\n",
    "            print('failed')\n",
    "            pool.terminate()\n",
    "            pool.join()\n",
    "    oss_res[sample_names[test_data_ind]] = oos_res_dataset"
   ]
  },
  {
   "cell_type": "code",
   "execution_count": null,
   "metadata": {
    "id": "6x5K9HpjmUWo",
    "outputId": "3551f918-fc01-4311-b816-f6930fba369d"
   },
   "outputs": [],
   "source": [
    "oss_res.keys()"
   ]
  },
  {
   "cell_type": "code",
   "execution_count": null,
   "metadata": {
    "id": "K0wU8P_jmUWo"
   },
   "outputs": [],
   "source": [
    "with open(subcluster_dir_string+'/logl_fit_results_multis_full_10_15.pickle','wb') as rfs:\n",
    "    pickle.dump(oss_res,rfs)"
   ]
  },
  {
   "cell_type": "code",
   "execution_count": null,
   "metadata": {},
   "outputs": [],
   "source": [
    "# with open(subcluster_dir_string+'/logl_fit_results_multis_full_10_15_partial_C01_B08.pickle','wb') as rfs:\n",
    "#     pickle.dump(oss_res,rfs)"
   ]
  },
  {
   "cell_type": "code",
   "execution_count": null,
   "metadata": {
    "id": "2JZ29xzAr7y2"
   },
   "outputs": [],
   "source": [
    "lik_ratios_oos = [[[z[0] for z in oss_res[x][y]] for y in models] for x in sample_names]"
   ]
  },
  {
   "cell_type": "code",
   "execution_count": null,
   "metadata": {
    "id": "X2FCECOgr7y2"
   },
   "outputs": [],
   "source": [
    "indices = [np.arange(0,len(gene_names_to_run[0])), \\\n",
    "           np.arange(len(gene_names_to_run[0]), len(gene_names_to_run[0]) + len(gene_names_to_run[1])),\\\n",
    "           np.arange(len(gene_names_to_run[0]) + len(gene_names_to_run[1]), \\\n",
    "                                                len(gene_names_to_run[0]) + len(gene_names_to_run[1]) + len(gene_names_to_run[2]))]"
   ]
  },
  {
   "cell_type": "markdown",
   "metadata": {
    "id": "rJ9E8h4cr7y2"
   },
   "source": [
    "Visualize raw results. They are questionable: there are a few very large relatively likelihoods, which suggests some fits are inferior."
   ]
  },
  {
   "cell_type": "code",
   "execution_count": null,
   "metadata": {
    "id": "YUjIJGOHr7y3",
    "outputId": "39cdbc7d-9f3b-4dbd-f1c2-f39d70395306"
   },
   "outputs": [],
   "source": [
    "for test_data_ind in range(len(sample_names)):\n",
    "    for model_set in range(3):\n",
    "        plt.scatter(indices[model_set],lik_ratios_oos[test_data_ind][model_set],c=colors[model_set])\n",
    "# plt.ylim([-100,100])\n",
    "plt.plot([0,sum([len(x) for x in indices])],[0,0],'g-')"
   ]
  },
  {
   "cell_type": "code",
   "execution_count": null,
   "metadata": {
    "id": "TqiOhEdLmUWp",
    "outputId": "185e98ab-b69f-484d-e00e-ba3672447e27"
   },
   "outputs": [],
   "source": [
    "for test_data_ind in range(len(sample_names)):\n",
    "    for model_set in range(3):\n",
    "        plt.scatter(indices[model_set],lik_ratios_oos[test_data_ind][model_set],c=colors[model_set])\n",
    "plt.ylim([-100,100])\n",
    "plt.plot([0,sum([len(x) for x in indices])],[0,0],'g-')"
   ]
  },
  {
   "cell_type": "code",
   "execution_count": null,
   "metadata": {
    "id": "0-Vi9k3_r7y3",
    "outputId": "e63afaa9-044f-413c-ae80-67138e34f30c"
   },
   "outputs": [],
   "source": [
    "fig1,ax1 = plt.subplots(1,1,figsize=(15,4))\n",
    "for model_set in range(3):\n",
    "    d = np.asarray([lik_ratios_oos[test_data_ind][model_set] for test_data_ind in range(len(sample_looms))])\n",
    "    bplot = ax1.boxplot(d,positions=indices[model_set],vert=True,patch_artist=True)\n",
    "    for patch in bplot['boxes']:\n",
    "        patch.set_facecolor(colors[model_set])\n",
    "    for median in bplot['medians']:\n",
    "        median.set_color('k')\n",
    "#     print(bplot)\n",
    "#     for test_data_ind in range(len(sample_looms)):\n",
    "#         plt.scatter(indices[model_set],lik_ratios_oos[test_data_ind][model_set],c=colors[model_set])\n",
    "ax1.set_ylim([-200,200])\n",
    "ax1.plot([0,sum([len(x) for x in indices])],[0,0],'g-')\n",
    "_=ax1.set_xticks(np.concatenate(indices),np.concatenate(gene_names_to_run),rotation=90)"
   ]
  },
  {
   "cell_type": "code",
   "execution_count": null,
   "metadata": {
    "id": "3a4d3E7hr7y3",
    "outputId": "2abd4814-3ebf-4ad5-b069-93ea3cfd2608"
   },
   "outputs": [],
   "source": [
    "fig1,ax1 = plt.subplots(1,1,figsize=(12,4))\n",
    "for model_set in range(3):\n",
    "    d = np.asarray([lik_ratios_oos[test_data_ind][model_set] for test_data_ind in range(len(sample_looms))])\n",
    "    ax1.scatter(indices[model_set],d.mean(0),c=colors[model_set])\n",
    "ax1.set_ylim([-200,200])\n",
    "ax1.plot([0,1+sum([len(x) for x in indices])],[0,0],'g-')\n",
    "_=ax1.set_xticks(np.concatenate(indices),np.concatenate(gene_names_to_run),rotation=90)"
   ]
  },
  {
   "cell_type": "code",
   "execution_count": null,
   "metadata": {
    "id": "fmR8l-gcr7y3"
   },
   "outputs": [],
   "source": [
    "with open(subcluster_dir_string+'/logl_fit_results_multis_full_10_15.pickle','wb') as rfs:\n",
    "# with open(subcluster_dir_string+'/logl_fit_results_multis_full_5_10.pickle','wb') as rfs:\n",
    "    pickle.dump((oss_res,lik_ratios_oos,sample_names,models,gene_names_to_run),rfs)"
   ]
  },
  {
   "cell_type": "code",
   "execution_count": null,
   "metadata": {
    "id": "sgwFZ1rjmUWq",
    "outputId": "ff92035f-92d8-4461-ddd7-31fe173385f1"
   },
   "outputs": [],
   "source": [
    "t2=time.time()\n",
    "print('Runtime: {:.1f} minutes.'.format((t2-t1)/60))"
   ]
  },
  {
   "cell_type": "markdown",
   "metadata": {
    "id": "ksw6cVavmUWq"
   },
   "source": [
    "This is the runtime for a 15-gene analysis with maximum of 5 iterations and a single search attempt.\n",
    "25 min for all genes at those pars."
   ]
  },
  {
   "cell_type": "markdown",
   "metadata": {
    "id": "ck3IU7Yur7y3"
   },
   "source": [
    "## SDE goodness of fit"
   ]
  },
  {
   "cell_type": "markdown",
   "metadata": {
    "id": "4UPEtMsLmUWr"
   },
   "source": [
    "Can also restart here."
   ]
  },
  {
   "cell_type": "code",
   "execution_count": null,
   "metadata": {
    "id": "1i-N_7SsmUWr"
   },
   "outputs": [],
   "source": [
    "subcluster_dir_string = './fits/GVFP_nodate_024_subtypes_1'\n",
    "# input_file = subcluster_dir_string+'/logl_fit_results_multis_full_5_10.pickle' #69 genes, 5 restarts, 10 iter\n",
    "\n",
    "# subcluster_dir_string = './fits/GVFP_nodate_022_subtypes_1'\n",
    "input_file = subcluster_dir_string+'/logl_fit_results_multis_full_10_15.pickle' #69 genes, 5 restarts, 10 iter\n",
    "\n",
    "\n",
    "# input_file = subcluster_dir_string+'/logl_fit_results_multis_full_5_10.pickle' #69 genes, 5 restarts, 10 iter\n",
    "# input_file = subcluster_dir_string+'/logl_fit_results_multis_full.pickle' #69 genes\n",
    "# input_file = subcluster_dir_string+'/logl_fit_results_multis.pickle' #15 genes\n",
    "with open(input_file,'rb') as rfs:\n",
    "    oss_res,lik_ratios_oos,sample_names,models,gene_names_to_run = pickle.load(rfs)"
   ]
  },
  {
   "cell_type": "code",
   "execution_count": null,
   "metadata": {
    "id": "ZNJu5aIzmUWr"
   },
   "outputs": [],
   "source": [
    "indices = [np.arange(0,len(gene_names_to_run[0])), \\\n",
    "           np.arange(len(gene_names_to_run[0]), len(gene_names_to_run[0]) + len(gene_names_to_run[1])),\\\n",
    "           np.arange(len(gene_names_to_run[0]) + len(gene_names_to_run[1]), \\\n",
    "                                                len(gene_names_to_run[0]) + len(gene_names_to_run[1]) + len(gene_names_to_run[2]))]"
   ]
  },
  {
   "cell_type": "markdown",
   "metadata": {
    "id": "VxKY_Q7Xr7y3"
   },
   "source": [
    "Some of the fits are giving unrealistic and inconsistent likelihood ratios, likely due to suboptimal convergence. In principle, we could fix this by running a lot more trials, or by using Bayes factors, but this is not really practical for exploratory analysis. Instead, we can run another GOF test and throw away fits (and LRs) that are wildly inconsistent with data ($p<10^{-6}$)."
   ]
  },
  {
   "cell_type": "code",
   "execution_count": null,
   "metadata": {
    "id": "bYEFOl0Mr7y4"
   },
   "outputs": [],
   "source": [
    "gou_pars  = np.array([[np.asarray([z[1] for z in oss_res[x][y]]) for y in models] for x in sample_names],dtype=object)\n",
    "cir_pars  = np.array([[np.asarray([z[2] for z in oss_res[x][y]]) for y in models] for x in sample_names],dtype=object)"
   ]
  },
  {
   "cell_type": "code",
   "execution_count": null,
   "metadata": {
    "colab": {
     "base_uri": "https://localhost:8080/"
    },
    "id": "BcQGyEUpr7y4",
    "outputId": "49ad33b7-10b8-4a35-b23c-0ebc1284b824",
    "scrolled": true
   },
   "outputs": [],
   "source": [
    "import copy\n",
    "lik_ratios_checked = np.array(copy.copy([[[z[0] for z in oss_res[x][y]] for y in models] for x in sample_names]),dtype=object)\n",
    "chisq_thr=5\n",
    "for test_data_ind in range(len(sample_looms)):\n",
    "    print(sample_names[test_data_ind])\n",
    "    with lp.connect(sample_looms_filtered[test_data_ind]) as ds:\n",
    "        U = ds.layers['unspliced'][:]\n",
    "        S = ds.layers['spliced'][:]\n",
    "        loom_gene_names = ds.ra['gene_name']\n",
    "    n_cells = S.shape[1]\n",
    "    for model_set in range(3):\n",
    "        print(models[model_set])\n",
    "        gntr = gene_names_to_run[model_set]\n",
    "        gene_locations = [np.where(loom_gene_names==x)[0][0] for x in gntr]\n",
    "#         print(loom_gene_names[gene_locations])\n",
    "        for gene_count,gene_ind in enumerate(gene_locations):\n",
    "            lm = np.asarray([U[gene_ind].max()+10,S[gene_ind].max()+10],dtype=int) \n",
    "            \n",
    "            pval = []\n",
    "            for which_model in ('gou','cir'):\n",
    "                if which_model == 'gou':\n",
    "                    par_array = gou_pars\n",
    "                    lik_fun = get_GOU_2sp\n",
    "                elif which_model == 'cir':\n",
    "                    par_array = cir_pars\n",
    "                    lik_fun = get_CIR_2sp\n",
    "                    \n",
    "                pars_gene = par_array[test_data_ind,model_set][gene_count]\n",
    "                expect_freq = lik_fun(lm,pars_gene) * n_cells\n",
    "\n",
    "                unique_values,counts = np.unique(np.vstack((U[gene_ind],S[gene_ind])).astype(int),axis=1,return_counts=True) \n",
    "\n",
    "                expect_freq = expect_freq[unique_values[0],unique_values[1]]\n",
    "\n",
    "                expect_freq = np.concatenate((expect_freq,[n_cells-expect_freq.sum()]))\n",
    "                counts = np.concatenate((counts,[0]))\n",
    "\n",
    "                filt = (expect_freq>chisq_thr) & (counts>chisq_thr)\n",
    "\n",
    "                observed = np.concatenate((counts[filt],[counts[~filt].sum()]))\n",
    "                proposed = np.concatenate((expect_freq[filt],[expect_freq[~filt].sum()])) #this is incredibly severe.\n",
    "                csq = scipy.stats.mstats.chisquare(observed, proposed, 4) #there are four parameters.\n",
    "                pval.append(csq.pvalue)\n",
    "            if (np.asarray(pval)<1e-8).any():\n",
    "                lik_ratios_checked[test_data_ind,model_set][gene_count] = np.nan"
   ]
  },
  {
   "cell_type": "code",
   "execution_count": null,
   "metadata": {
    "colab": {
     "base_uri": "https://localhost:8080/",
     "height": 336
    },
    "id": "bI5X13t6r7y4",
    "outputId": "2332a3f0-13fd-4366-df66-84dc07dd68e8"
   },
   "outputs": [],
   "source": [
    "fig1,ax1 = plt.subplots(1,1,figsize=(12,4))\n",
    "\n",
    "for test_data_ind in range(len(sample_names)):\n",
    "    for model_set in range(3):\n",
    "        plt.scatter(indices[model_set],lik_ratios_checked[test_data_ind][model_set],60,c=colors[model_set],alpha=0.5)\n",
    "plt.ylim([-100,100])\n",
    "plt.plot([0,sum([len(x) for x in indices])],[0,0],'g-')\n",
    "_=plt.xticks(np.concatenate(indices),np.concatenate(gene_names_to_run),rotation=90)"
   ]
  },
  {
   "cell_type": "code",
   "execution_count": null,
   "metadata": {
    "colab": {
     "base_uri": "https://localhost:8080/",
     "height": 370
    },
    "id": "s8a2CCqqr7y4",
    "outputId": "2fc4484b-3dff-4221-a1e4-d51642ea4683"
   },
   "outputs": [],
   "source": [
    "fig1,ax1 = plt.subplots(1,1,figsize=(12,4))\n",
    "for model_set in range(n_models):\n",
    "    d = np.asarray([lik_ratios_checked[test_data_ind][model_set] for test_data_ind in range(n_datasets)])\n",
    "    ng = len(gene_names_to_run[model_set])\n",
    "    d_mean = np.empty(ng)\n",
    "    for gene in range(ng):\n",
    "        try: \n",
    "            d_mean[gene] = np.nanmean(d[:,gene])\n",
    "        except:\n",
    "            pass\n",
    "    ax1.scatter(indices[model_set],d_mean,c=colors[model_set])\n",
    "\n",
    "ax1.plot([0,1+sum([len(x) for x in indices])],[0,0],'g-')\n",
    "_=ax1.set_xticks(np.concatenate(indices),np.concatenate(gene_names_to_run),rotation=90)"
   ]
  },
  {
   "cell_type": "markdown",
   "metadata": {
    "id": "M1qrig9or7y5"
   },
   "source": [
    "## Visualization of results"
   ]
  },
  {
   "cell_type": "code",
   "execution_count": null,
   "metadata": {
    "colab": {
     "base_uri": "https://localhost:8080/"
    },
    "id": "AmERuYJUr7y5",
    "outputId": "fb72b8dc-c46c-4b1a-fdfa-ff4a26694b25"
   },
   "outputs": [],
   "source": [
    "gene_names_to_run"
   ]
  },
  {
   "cell_type": "code",
   "execution_count": null,
   "metadata": {
    "colab": {
     "base_uri": "https://localhost:8080/"
    },
    "id": "A_jm__gJmUWx",
    "outputId": "cf25ff59-b5a9-4125-ec6a-23391cfe7944"
   },
   "outputs": [],
   "source": [
    "n_cells = np.zeros(4,dtype=int)\n",
    "for test_data_ind in range(4): \n",
    "    with lp.connect(sample_looms_filtered[test_data_ind]) as ds:\n",
    "        n_cells[test_data_ind] = len(ds.ca['barcode'])"
   ]
  },
  {
   "cell_type": "code",
   "execution_count": null,
   "metadata": {
    "colab": {
     "base_uri": "https://localhost:8080/"
    },
    "id": "BlkM1R6wmUWx",
    "outputId": "dc5f35ca-9bdc-4e29-df79-2674cd08c817"
   },
   "outputs": [],
   "source": [
    "n_cells"
   ]
  },
  {
   "cell_type": "code",
   "execution_count": null,
   "metadata": {
    "colab": {
     "base_uri": "https://localhost:8080/"
    },
    "id": "xuWWmQCir7y5",
    "outputId": "f513b4ee-45f0-4858-e664-35815b9cb019"
   },
   "outputs": [],
   "source": [
    "\n",
    "test_data_ind = 3\n",
    "\n",
    "with lp.connect(sample_looms_filtered[test_data_ind]) as ds:\n",
    "    print(sample_looms_filtered[test_data_ind])\n",
    "    U = ds.layers['unspliced'][:]\n",
    "    S = ds.layers['spliced'][:]\n",
    "    loom_gene_names = ds.ra['gene_name']"
   ]
  },
  {
   "cell_type": "code",
   "execution_count": null,
   "metadata": {
    "colab": {
     "base_uri": "https://localhost:8080/"
    },
    "id": "-Rf47wf6MY-2",
    "outputId": "80c4bd07-c794-4eca-aa1c-f6abc78e7d2e"
   },
   "outputs": [],
   "source": [
    "colors"
   ]
  },
  {
   "cell_type": "code",
   "execution_count": null,
   "metadata": {
    "colab": {
     "base_uri": "https://localhost:8080/",
     "height": 441
    },
    "id": "UO0VP4cHr7y5",
    "outputId": "a2cc3a63-db6e-4d51-adbc-3982a2117d02"
   },
   "outputs": [],
   "source": [
    "# genes_to_plot = ['Unc13a','Aplp2','Srpk1']\n",
    "genes_to_plot = ['Ncoa1','Gabra4','Tsnax','Stmn2','Pura']\n",
    "# genes_to_plot = ['Gabra4','Unc13a','Aplp2','Tmem65','Bace1']\n",
    "# \n",
    "####\n",
    "n_genes_to_plot= len(genes_to_plot)\n",
    "\n",
    "# gou_color='r'\n",
    "# cir_color='royalblue'\n",
    "\n",
    "fig1,ax1=plt.subplots(2,n_genes_to_plot,figsize=(3*n_genes_to_plot,6))\n",
    "\n",
    "gene_locations = np.asarray([np.where(loom_gene_names==x)[0][0] for x in genes_to_plot])\n",
    "\n",
    "for k,gene_ind in enumerate(gene_locations):\n",
    "    ax1[0,k].set_title(loom_gene_names[gene_ind],fontsize=16,color=colors[k//2])\n",
    "    gene_name = genes_to_plot[k]\n",
    "    model_set = np.where([gene_name in x for x in gene_names_to_run])[0][0]\n",
    "    location_in_model_set = np.where(gene_name == gene_names_to_run[model_set])[0][0]\n",
    "    \n",
    "    mx = np.asarray([U[gene_ind].max()+10,S[gene_ind].max()+10],dtype=int)\n",
    "\n",
    "    bins = np.arange(mx[0]-8)-0.5\n",
    "    ax1[0,k].hist(U[gene_ind],bins,color='lightgray',density=True)\n",
    "    ax1[0,k].set_xlim([-0.5,bins[-1]])\n",
    "    \n",
    "    pars_sde_gou = oss_res[sample_names[test_data_ind]][models[model_set]][location_in_model_set][1]\n",
    "    pars_sde_cir = oss_res[sample_names[test_data_ind]][models[model_set]][location_in_model_set][2]\n",
    "\n",
    "    y = get_GOU_2sp([mx[0],1],pars_sde_gou)\n",
    "    ax1[0,k].plot(y,'-',color=gou_color,label='GOU')\n",
    "    y = get_CIR_2sp([mx[0],1],pars_sde_cir)\n",
    "    ax1[0,k].plot(y,'-',color=cir_color,label='CIR')\n",
    "\n",
    "    bins = np.arange(mx[1]-8)-0.5\n",
    "    ax1[1,k].hist(S[gene_ind],bins,color='lightgray',density=True)\n",
    "    ax1[1,k].set_xlim([-0.5,bins[-1]])\n",
    "\n",
    "#     ax1[0,k].set_yscale('log')\n",
    "#     ax1[1,k].set_yscale('log')\n",
    "    \n",
    "    y = get_GOU_2sp([1,mx[1]],pars_sde_gou).squeeze()\n",
    "    ax1[1,k].plot(y,'-',color=gou_color)\n",
    "    y = get_CIR_2sp([1,mx[1]],pars_sde_cir).squeeze()\n",
    "    ax1[1,k].plot(y,'-',color=cir_color)\n",
    "    \n",
    "    ax1[0,k].set_yticks([])\n",
    "    ax1[1,k].set_yticks([])\n",
    "    if k==0:\n",
    "        ax1[0,k].set_ylabel('Nascent',fontsize=14)\n",
    "        ax1[1,k].set_ylabel('Mature',fontsize=14)\n",
    "    ax1[1,k].set_xlabel('# molecules',fontsize=14)\n",
    "fig1.tight_layout()\n",
    "\n",
    "\n",
    "plt.savefig('fig/good_fits.png',dpi=450)\n",
    "plt.savefig('fig/good_fits.svg')\n",
    "plt.savefig('fig/good_fits.pdf')"
   ]
  },
  {
   "cell_type": "code",
   "execution_count": null,
   "metadata": {
    "id": "on5TrannMY-2"
   },
   "outputs": [],
   "source": [
    "genes_to_plot_split = [['Ncoa1','Gabra4'],['Tsnax','Stmn2'],['Pura']]\n",
    "# [['Gabra4', 'Unc13a'],['Aplp2', 'Tmem65'],['Bace1']]"
   ]
  },
  {
   "cell_type": "code",
   "execution_count": null,
   "metadata": {
    "colab": {
     "base_uri": "https://localhost:8080/"
    },
    "id": "bpFgMIzrMY-2",
    "outputId": "b51da8ad-d2c0-460c-9b99-0784f9a4bf31"
   },
   "outputs": [],
   "source": [
    "genes_to_plot_split[model_set]"
   ]
  },
  {
   "cell_type": "code",
   "execution_count": null,
   "metadata": {},
   "outputs": [],
   "source": [
    "# # x\n",
    "# x\n",
    "# x\n"
   ]
  },
  {
   "cell_type": "code",
   "execution_count": null,
   "metadata": {
    "colab": {
     "base_uri": "https://localhost:8080/",
     "height": 338
    },
    "id": "Z4Gq42mLMY-3",
    "outputId": "f1c9a525-3271-46d9-bd13-955cc3c368fd"
   },
   "outputs": [],
   "source": [
    "fig1,ax1=plt.subplots(1,1,figsize=(5,5))\n",
    "markeralpha=0.4\n",
    "\n",
    "test_data_ind = 2\n",
    "offsets = [[-0.05, 0.04],[-0.02,0.02],[0.02]]\n",
    "for model_set in range(3):\n",
    "    location_in_model_set = [np.where(x== gene_names_to_run[model_set])[0][0] for x in genes_to_plot_split[model_set] ]\n",
    "\n",
    "    pars_subset = gou_pars[test_data_ind][model_set] #beta,gamma,a,kappa,theta\n",
    "#     pars_subset = gou_pars[test_data_ind][model_set][~np.isnan(lik_ratios_checked[test_data_ind][model_set])] #beta,gamma,a,kappa,theta\n",
    "    x = pars_subset[:,3]/(pars_subset[:,3] + pars_subset[:,0] + pars_subset[:,1])\n",
    "    y = pars_subset[:,4]/(pars_subset[:,4] + pars_subset[:,2]) \n",
    "    \n",
    "    \n",
    "    gf = np.zeros(len(x),dtype=bool)\n",
    "    gf[location_in_model_set] = True\n",
    "    ax1.scatter(x[~gf],y[~gf],50,colors[model_set],alpha=markeralpha)\n",
    "    ax1.scatter(x[gf],y[gf],200,colors[model_set],alpha=0.8)\n",
    "    for k,g__ in enumerate(location_in_model_set):\n",
    "        ax1.text(x[gf][k]+0.03,y[gf][k]+offsets[model_set][k],genes_to_plot_split[model_set][k],\\\n",
    "                verticalalignment='center')\n",
    "\n",
    "ax1.set_xlim([0,1])\n",
    "ax1.set_ylim([0,1])\n",
    "ax1.set_xlabel('Normalized reversion rate')\n",
    "ax1.set_ylabel('Normalized gain')\n",
    "\n",
    "plt.savefig('fig/empirical_parameter_regimes.png',dpi=450)\n",
    "plt.savefig('fig/empirical_parameter_regimes.svg')\n",
    "plt.savefig('fig/empirical_parameter_regimes.pdf')"
   ]
  },
  {
   "cell_type": "code",
   "execution_count": null,
   "metadata": {
    "id": "lRUftQSCMY-3"
   },
   "outputs": [],
   "source": []
  },
  {
   "cell_type": "code",
   "execution_count": null,
   "metadata": {
    "colab": {
     "base_uri": "https://localhost:8080/"
    },
    "id": "fGCQjPlhmUWy",
    "outputId": "b38aa86a-1b04-42b9-b38a-e0ece0715049"
   },
   "outputs": [],
   "source": [
    "\n",
    "test_data_ind = 0\n",
    "\n",
    "with lp.connect(sample_looms[test_data_ind]) as ds:\n",
    "    print(sample_looms[test_data_ind])\n",
    "    U = ds.layers['unspliced'][:]\n",
    "    S = ds.layers['spliced'][:]\n",
    "    loom_gene_names = ds.ra['gene_name']"
   ]
  },
  {
   "cell_type": "code",
   "execution_count": null,
   "metadata": {
    "colab": {
     "base_uri": "https://localhost:8080/",
     "height": 441
    },
    "id": "cun1iaekmUWy",
    "outputId": "c4a41d61-33cd-4bc7-d2de-92a1c10ebaa9"
   },
   "outputs": [],
   "source": [
    "genes_to_plot = ['Pde2a', 'Srpk1']\n",
    "\n",
    "####\n",
    "n_genes_to_plot= len(genes_to_plot)\n",
    "\n",
    "# gou_color='r'\n",
    "# cir_color='royalblue'\n",
    "\n",
    "fig1,ax1=plt.subplots(2,n_genes_to_plot,figsize=(4*n_genes_to_plot,6))\n",
    "\n",
    "gene_locations = np.asarray([np.where(loom_gene_names==x)[0][0] for x in genes_to_plot])\n",
    "\n",
    "for k,gene_ind in enumerate(gene_locations):\n",
    "    gene_name = genes_to_plot[k]\n",
    "    model_set = np.where([gene_name in x for x in gene_names_to_run])[0][0]\n",
    "    location_in_model_set = np.where(gene_name == gene_names_to_run[model_set])[0][0]\n",
    "    \n",
    "    mx = np.asarray([U[gene_ind].max()+10,S[gene_ind].max()+10],dtype=int)\n",
    "\n",
    "    bins = np.arange(mx[0]-8)-0.5\n",
    "    ax1[0,k].hist(U[gene_ind],bins,color='lightgray',density=True)\n",
    "    ax1[0,k].set_title(loom_gene_names[gene_ind],fontsize=16)\n",
    "    ax1[0,k].set_xlim([-0.5,bins[-1]])\n",
    "    ax1[0,k].set_xticks(np.arange(0,bins[-1],5))\n",
    "    \n",
    "    pars_sde_gou = oss_res[sample_names[test_data_ind]][models[model_set]][location_in_model_set][1]\n",
    "    pars_sde_cir = oss_res[sample_names[test_data_ind]][models[model_set]][location_in_model_set][2]\n",
    "\n",
    "    y = get_GOU_2sp([mx[0],1],pars_sde_gou)\n",
    "    ax1[0,k].plot(y,'-',color=gou_color,label='GOU')\n",
    "    y = get_CIR_2sp([mx[0],1],pars_sde_cir)\n",
    "    ax1[0,k].plot(y,'-',color=cir_color,label='CIR')\n",
    "#     ax1[0,k].legend()\n",
    "\n",
    "    bins = np.arange(mx[1]-8)-0.5\n",
    "    ax1[1,k].hist(S[gene_ind],bins,color='lightgray',density=True)\n",
    "    ax1[1,k].set_xlim([-0.5,bins[-1]])\n",
    "    ax1[1,k].set_xticks(np.arange(0,bins[-1],5))\n",
    "\n",
    "#     ax1[0,k].set_yscale('log')\n",
    "#     ax1[1,k].set_yscale('log')\n",
    "    \n",
    "    y = get_GOU_2sp([1,mx[1]],pars_sde_gou).squeeze()\n",
    "    ax1[1,k].plot(y,'-',color=gou_color)\n",
    "    y = get_CIR_2sp([1,mx[1]],pars_sde_cir).squeeze()\n",
    "    ax1[1,k].plot(y,'-',color=cir_color)\n",
    "    \n",
    "    ax1[0,k].set_yticks([])\n",
    "    ax1[1,k].set_yticks([])\n",
    "    if k==0:\n",
    "        ax1[0,k].set_ylabel('Nascent',fontsize=14)\n",
    "        ax1[1,k].set_ylabel('Mature',fontsize=14)\n",
    "    ax1[1,k].set_xlabel('# molecules',fontsize=14)\n",
    "fig1.tight_layout()\n",
    "\n",
    "\n",
    "plt.savefig('fig/questionable_fits.png',dpi=450)\n",
    "plt.savefig('fig/questionable_fits.svg')\n",
    "plt.savefig('fig/questionable_fits.pdf')"
   ]
  },
  {
   "cell_type": "markdown",
   "metadata": {
    "id": "jEMPvhjkMY-3"
   },
   "source": [
    "## Whole-dataset visualizations"
   ]
  },
  {
   "cell_type": "code",
   "execution_count": null,
   "metadata": {
    "colab": {
     "base_uri": "https://localhost:8080/"
    },
    "id": "CZZAcxa6MY-4",
    "outputId": "807a06e7-16ce-416a-a6cd-d4f29db0eabf"
   },
   "outputs": [],
   "source": [
    "gene_names_to_run"
   ]
  },
  {
   "cell_type": "code",
   "execution_count": null,
   "metadata": {
    "colab": {
     "base_uri": "https://localhost:8080/"
    },
    "id": "frBnENbnMY-4",
    "outputId": "11ba454f-96e8-40b7-8721-a322e7092415"
   },
   "outputs": [],
   "source": [
    "lik_ratios_checked[0,0][2]"
   ]
  },
  {
   "cell_type": "code",
   "execution_count": null,
   "metadata": {
    "colab": {
     "base_uri": "https://localhost:8080/",
     "height": 1000
    },
    "id": "ErBs8TyNMY-4",
    "outputId": "3f49e7af-1bff-4ad4-9fb9-aa6f58e06a63"
   },
   "outputs": [],
   "source": [
    "model_ind_to_plot = 0 #which gene set? 0 = gou-like, 1 = cir-like, 2 = extrinsic-like\n",
    "species = 'unspliced'\n",
    "test_data_ind = 3\n",
    "######################\n",
    "\n",
    "with lp.connect(sample_looms[test_data_ind]) as ds:\n",
    "    print(sample_looms[test_data_ind])\n",
    "    count_data = ds.layers[species][:]\n",
    "    loom_gene_names = ds.ra['gene_name']\n",
    "\n",
    "\n",
    "genes_to_plot = gene_names_to_run[model_ind_to_plot]\n",
    "n_genes_to_plot= len(genes_to_plot)\n",
    "\n",
    "subplot_width = 6\n",
    "subplot_height = n_genes_to_plot//subplot_width\n",
    "if (n_genes_to_plot%subplot_width)>0:\n",
    "    subplot_height += 1\n",
    "fig1,ax1=plt.subplots(subplot_height,subplot_width,figsize=(4*subplot_width,4*subplot_height))\n",
    "\n",
    "gene_locations = np.asarray([np.where(loom_gene_names==x)[0][0] for x in genes_to_plot])\n",
    "\n",
    "for k,gene_ind in enumerate(gene_locations):\n",
    "    axloc = np.unravel_index(k,(subplot_height,subplot_width))\n",
    "    gene_name = genes_to_plot[k]\n",
    "    model_set = np.where([gene_name in x for x in gene_names_to_run])[0][0]\n",
    "    location_in_model_set = np.where(gene_name == gene_names_to_run[model_set])[0][0]\n",
    "    \n",
    "    mx_bnd = int(count_data[gene_ind].max()+10)\n",
    "    if species=='unspliced':\n",
    "        mx = [mx_bnd,1]\n",
    "    elif species=='spliced':\n",
    "        mx = [1,mx_bnd]\n",
    "#     mx = np.asarray(mx)\n",
    "\n",
    "    bins = np.arange(mx_bnd-8)-0.5\n",
    "    ax1[axloc].hist(count_data[gene_ind],bins,color='lightgray',density=True)\n",
    "    ax1[axloc].set_xlim([-0.5,bins[-1]])\n",
    "    ax1[axloc].set_xticks(np.arange(0,bins[-1],5))\n",
    "    \n",
    "    pars_sde_gou = oss_res[sample_names[test_data_ind]][models[model_set]][location_in_model_set][1]\n",
    "    pars_sde_cir = oss_res[sample_names[test_data_ind]][models[model_set]][location_in_model_set][2]\n",
    "\n",
    "    y = get_GOU_2sp(mx,pars_sde_gou)\n",
    "    ax1[axloc].plot(y,'-',color=gou_color,label='GOU')\n",
    "    y = get_CIR_2sp(mx,pars_sde_cir)\n",
    "    ax1[axloc].plot(y,'-',color=cir_color,label='CIR')\n",
    "    ax1[axloc].set_title(loom_gene_names[gene_ind] + ': {:.2f}'.format(lik_ratios_checked[test_data_ind,model_ind_to_plot][k]),fontsize=16)\n",
    "\n",
    "fig1.tight_layout()\n"
   ]
  },
  {
   "cell_type": "code",
   "execution_count": null,
   "metadata": {
    "id": "C2m04mqQMY-4"
   },
   "outputs": [],
   "source": [
    "# lik_ratios"
   ]
  },
  {
   "cell_type": "markdown",
   "metadata": {
    "id": "AzF6J6BQmUWy"
   },
   "source": [
    "## Bayes factors"
   ]
  },
  {
   "cell_type": "code",
   "execution_count": 95,
   "metadata": {
    "id": "XcWwfHlcmUWz"
   },
   "outputs": [],
   "source": [
    "# BF_genes= ['Pou6f1','Gabra4', 'Tmem65','Aplp2', 'Bace1','Srpk1']\n",
    "BF_genes= ['Pou6f1','Gabra4','Aftph','Mark1',\\\n",
    "           'Tmem65','Aplp2','Psma2', 'Ppp1r2',\\\n",
    "           'Bace1','Srpk1', 'Nucks1', 'Ktn1'] \n",
    "\n",
    "BF = np.load('loom/smc_results/four/bfs.npy')"
   ]
  },
  {
   "cell_type": "code",
   "execution_count": 96,
   "metadata": {
    "id": "xmfv3tlVmUWz"
   },
   "outputs": [],
   "source": [
    "indices_all = np.concatenate(indices)\n",
    "n_genes = len(indices_all)\n",
    "lik_ratios = np.zeros((n_datasets,n_genes))\n",
    "for test_data_ind in range(n_datasets):\n",
    "    for model_ind in range(n_models):\n",
    "        lik_ratios[test_data_ind,indices[model_ind]] = lik_ratios_checked[test_data_ind,model_ind]\n",
    "genes_all = np.concatenate(gene_names_to_run)\n",
    "gene_colors = sum([[colors[x]]*len(indices[x]) for x in range(n_models)],[])\n",
    "\n",
    "gf = ~(np.isnan(lik_ratios).all(0))\n",
    "lik_ratios = lik_ratios[:,gf]\n",
    "genes_all = genes_all[gf]\n",
    "gene_colors = [x for k,x in enumerate(gene_colors) if gf[k]]\n",
    "n_genes = gf.sum()\n",
    "indices_all = indices_all[gf]\n",
    "plot_indices = np.arange(n_genes)"
   ]
  },
  {
   "cell_type": "code",
   "execution_count": 97,
   "metadata": {
    "colab": {
     "base_uri": "https://localhost:8080/"
    },
    "id": "gPp-RjFpmUWz",
    "outputId": "5a207d6e-5826-4c75-f546-656df5ddb409"
   },
   "outputs": [
    {
     "data": {
      "text/plain": [
       "57"
      ]
     },
     "execution_count": 97,
     "metadata": {},
     "output_type": "execute_result"
    }
   ],
   "source": [
    "n_genes"
   ]
  },
  {
   "cell_type": "code",
   "execution_count": 98,
   "metadata": {
    "colab": {
     "base_uri": "https://localhost:8080/",
     "height": 352
    },
    "id": "pSrb_G8pmUWz",
    "outputId": "b6f788a6-8dc6-4b9f-8548-e3fedcfab150"
   },
   "outputs": [
    {
     "name": "stderr",
     "output_type": "stream",
     "text": [
      "/usr/local/lib/python3.7/dist-packages/matplotlib/cbook/__init__.py:1026: VisibleDeprecationWarning: Creating an ndarray from ragged nested sequences (which is a list-or-tuple of lists-or-tuples-or ndarrays with different lengths or shapes) is deprecated. If you meant to do this, you must specify 'dtype=object' when creating the ndarray.\n",
      "  x = np.asanyarray(x)\n"
     ]
    },
    {
     "data": {
      "image/png": "[encoded data removed]",
      "text/plain": [
       "<Figure size 1080x288 with 1 Axes>"
      ]
     },
     "metadata": {
      "needs_background": "light"
     },
     "output_type": "display_data"
    }
   ],
   "source": [
    "markeralpha=0.2\n",
    "fig1,ax1 = plt.subplots(1,1,figsize=(15,4))\n",
    "\n",
    "ax1.plot([0,n_genes],[0,0],'k--')\n",
    "\n",
    "for test_data_ind in range(len(sample_names)):\n",
    "    ax1.scatter(plot_indices,lik_ratios[test_data_ind],\\\n",
    "                60,c=gene_colors,alpha=markeralpha)\n",
    "\n",
    "lw=2\n",
    "\n",
    "for k,BF_gene in enumerate(BF_genes):\n",
    "    BF_gene_ind = np.where(genes_all==BF_gene)[0][0]\n",
    "    bp_dict = {'linewidth':lw,'color':gene_colors[BF_gene_ind]}\n",
    "    bplot = ax1.boxplot(BF[:,k], \\\n",
    "                        positions = [BF_gene_ind],widths=1,patch_artist=True,\\\n",
    "                        boxprops = {'linewidth':lw,'color':gene_colors[BF_gene_ind],'facecolor':'None'},\n",
    "                        capprops = bp_dict,\n",
    "                        medianprops = bp_dict,\n",
    "                        whiskerprops = bp_dict,\n",
    "                        flierprops = bp_dict)\n",
    "\n",
    "ax1.set_ylabel('Log likelihood ratio\\nin favor of CIR',fontsize=14)\n",
    "_=ax1.set_xticks(plot_indices,genes_all,rotation=90,fontsize=12)\n",
    "ax1.set_xlim([-0.5,n_genes-0.5])\n",
    "\n",
    "fig1.tight_layout()\n",
    "plt.savefig('fig/BFs.png',dpi=450)\n",
    "plt.savefig('fig/BFs.svg')\n",
    "plt.savefig('fig/BFs.pdf')"
   ]
  },
  {
   "cell_type": "code",
   "execution_count": 99,
   "metadata": {
    "colab": {
     "base_uri": "https://localhost:8080/"
    },
    "id": "eWCs7J0tN7zY",
    "outputId": "ce960989-cba1-4dd4-d4f5-6250a5633129"
   },
   "outputs": [
    {
     "data": {
      "text/plain": [
       "57"
      ]
     },
     "execution_count": 99,
     "metadata": {},
     "output_type": "execute_result"
    }
   ],
   "source": [
    "len(plot_indices)"
   ]
  },
  {
   "cell_type": "code",
   "execution_count": null,
   "metadata": {
    "id": "_J7J5_C4O-HK"
   },
   "outputs": [],
   "source": []
  }
 ],
 "metadata": {
  "colab": {
   "collapsed_sections": [],
   "include_colab_link": true,
   "name": "gg220406_refactor.ipynb",
   "provenance": [],
   "toc_visible": true
  },
  "kernelspec": {
   "display_name": "Python 3",
   "language": "python",
   "name": "python3"
  },
  "language_info": {
   "codemirror_mode": {
    "name": "ipython",
    "version": 3
   },
   "file_extension": ".py",
   "mimetype": "text/x-python",
   "name": "python",
   "nbconvert_exporter": "python",
   "pygments_lexer": "ipython3",
   "version": "3.9.1"
  }
 },
 "nbformat": 4,
 "nbformat_minor": 1
}
