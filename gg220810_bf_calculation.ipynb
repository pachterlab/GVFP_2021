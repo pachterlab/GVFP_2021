{
  "nbformat": 4,
  "nbformat_minor": 0,
  "metadata": {
    "colab": {
      "name": "gg220810_bf_calculation.ipynb",
      "provenance": [],
      "collapsed_sections": [],
      "authorship_tag": "ABX9TyMixxPg75sOqd8hPE8QqAAi",
      "include_colab_link": true
    },
    "kernelspec": {
      "name": "python3",
      "display_name": "Python 3"
    },
    "language_info": {
      "name": "python"
    }
  },
  "cells": [
    {
      "cell_type": "markdown",
      "metadata": {
        "id": "view-in-github",
        "colab_type": "text"
      },
      "source": [
        "<a href=\"https://colab.research.google.com/github/pachterlab/GVFP_2021/blob/dev/gg220810_bf_calculation.ipynb\" target=\"_parent\"><img src=\"https://colab.research.google.com/assets/colab-badge.svg\" alt=\"Open In Colab\"/></a>"
      ]
    },
    {
      "cell_type": "markdown",
      "source": [
        "# Bayes factor analysis"
      ],
      "metadata": {
        "id": "lNl11OlfyeKq"
      }
    },
    {
      "cell_type": "markdown",
      "source": [
        "This short notebook imports the `.pickle` files containing PyMC3 fits to $\\Gamma$-OU and CIR models, computes the $\\ln$ Bayes factors (as the ratio of model-specific marginal likelihoods, given a uniform prior), then stores them to disk."
      ],
      "metadata": {
        "id": "y-Gx0wy7yf5z"
      }
    },
    {
      "cell_type": "code",
      "execution_count": 1,
      "metadata": {
        "colab": {
          "base_uri": "https://localhost:8080/"
        },
        "id": "aAvqE2GuxkNf",
        "outputId": "83e9bf83-27ce-49f0-8bda-f0cf2035d53c"
      },
      "outputs": [
        {
          "output_type": "stream",
          "name": "stdout",
          "text": [
            "Cloning into 'GVFP_2021'...\n",
            "remote: Enumerating objects: 2136, done.\u001b[K\n",
            "remote: Counting objects: 100% (782/782), done.\u001b[K\n",
            "remote: Compressing objects: 100% (426/426), done.\u001b[K\n",
            "remote: Total 2136 (delta 374), reused 757 (delta 349), pack-reused 1354\u001b[K\n",
            "Receiving objects: 100% (2136/2136), 888.36 MiB | 33.14 MiB/s, done.\n",
            "Resolving deltas: 100% (938/938), done.\n",
            "Checking out files: 100% (711/711), done.\n"
          ]
        }
      ],
      "source": [
        "!git clone --branch dev https://github.com/pachterlab/GVFP_2021.git"
      ]
    },
    {
      "cell_type": "code",
      "source": [
        "!mv GVFP_2021/* ."
      ],
      "metadata": {
        "id": "Mq1QvuWSxrz_"
      },
      "execution_count": 2,
      "outputs": []
    },
    {
      "cell_type": "code",
      "source": [
        "!rm -r GVFP_2021"
      ],
      "metadata": {
        "id": "0FopwmXRxr7U"
      },
      "execution_count": 3,
      "outputs": []
    },
    {
      "cell_type": "markdown",
      "source": [
        "# Helper functions"
      ],
      "metadata": {
        "id": "5Zx6-CXrx_lm"
      }
    },
    {
      "cell_type": "code",
      "source": [
        "import pymc3 as pm\n",
        "import theano.tensor as tt\n",
        "class LogLike(tt.Op):\n",
        "    \n",
        "    itypes = [tt.dvector] # expects a vector of parameter values when called\n",
        "    otypes = [tt.dscalar] # outputs a single scalar value (the log likelihood)\n",
        "    \n",
        "    def __init__(self, mx, data, likelihood):\n",
        "        \n",
        "        # add inputs as class attributes\n",
        "        self.mx = mx\n",
        "        self.data = data\n",
        "        self.likelihood = likelihood\n",
        "        \n",
        "    def perform(self, node, inputs, outputs):\n",
        "        \n",
        "        phi, = inputs # this contains parmeters\n",
        "        logl = self.likelihood(phi, self.mx, self.data) # calls the log-likelihood function\n",
        "        outputs[0][0] = np.array(logl) # output the log-likelihood\n",
        "def ll_CIR(phi, mx, data):\n",
        "    pass\n",
        "def ll_GOU(phi, mx, data):\n",
        "    pass"
      ],
      "metadata": {
        "id": "oP5Vvb8VyCQh"
      },
      "execution_count": 1,
      "outputs": []
    },
    {
      "cell_type": "markdown",
      "source": [
        "# BF import and calculation"
      ],
      "metadata": {
        "id": "wJx5M1O-yCrz"
      }
    },
    {
      "cell_type": "code",
      "source": [
        "import numpy as np\n",
        "sample_names = ['C01','B08','H12','F08']\n",
        "dataset_names = ['allen_'+y+'_glu'  for y in sample_names] \n",
        "n_datasets = len(dataset_names)"
      ],
      "metadata": {
        "id": "zZn7q47ZxveA"
      },
      "execution_count": 2,
      "outputs": []
    },
    {
      "cell_type": "code",
      "source": [
        "import pickle\n",
        "# BF_genes = ['Gabra4', 'Aplp2', 'Srpk1']\n",
        "BF_genes= ['Pou6f1','Gabra4', 'Tmem65','Aplp2', 'Bace1','Srpk1']\n",
        "n_BF_genes = len(BF_genes)\n",
        "BF = np.empty((n_datasets,n_BF_genes))\n",
        "BF[:] = np.nan\n",
        "trace_dir= './loom/smc_results/four/'\n",
        "for j,sample in enumerate(dataset_names):\n",
        "    for i,gene in enumerate(BF_genes):\n",
        "#         if gene in finished_genes:\n",
        "        with open(trace_dir+sample+\"_\"+gene+'_GOU_trace.pickle', 'rb') as f:\n",
        "            trace_GOU = pickle.load(f)\n",
        "        with open(trace_dir+sample+\"_\"+gene+'_CIR_trace.pickle', 'rb') as f:\n",
        "            trace_CIR = pickle.load(f)\n",
        "        BF[j,i]= (trace_CIR.report.log_marginal_likelihood - trace_GOU.report.log_marginal_likelihood)\n",
        "np.save('bfs.npy',BF)"
      ],
      "metadata": {
        "id": "YvfHS99vx1hq"
      },
      "execution_count": 3,
      "outputs": []
    },
    {
      "cell_type": "code",
      "source": [
        "BF.round(2)"
      ],
      "metadata": {
        "colab": {
          "base_uri": "https://localhost:8080/"
        },
        "id": "UMe9t2mBx9fs",
        "outputId": "69d46170-d4d1-4d55-dbc3-582cff809394"
      },
      "execution_count": 5,
      "outputs": [
        {
          "output_type": "execute_result",
          "data": {
            "text/plain": [
              "array([[ -14.98,  -53.16,   25.  ,   74.81,    2.77,   10.77],\n",
              "       [ -43.08, -120.86,   70.02,   44.11,    3.01,    3.81],\n",
              "       [  -4.62,  -15.23,   23.85,   70.42,    0.74,   16.71],\n",
              "       [ -28.79, -105.58,   47.67,   75.22,   -2.15,    3.67]])"
            ]
          },
          "metadata": {},
          "execution_count": 5
        }
      ]
    }
  ]
}