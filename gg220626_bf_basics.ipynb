{
  "nbformat": 4,
  "nbformat_minor": 0,
  "metadata": {
    "colab": {
      "name": "gg220626_bf_basics.ipynb",
      "provenance": [],
      "collapsed_sections": [],
      "authorship_tag": "ABX9TyMQtjAPJl1Ctu2iukHImAfr",
      "include_colab_link": true
    },
    "kernelspec": {
      "name": "python3",
      "display_name": "Python 3"
    },
    "language_info": {
      "name": "python"
    }
  },
  "cells": [
    {
      "cell_type": "markdown",
      "metadata": {
        "id": "view-in-github",
        "colab_type": "text"
      },
      "source": [
        "<a href=\"https://colab.research.google.com/github/pachterlab/GVFP_2021/blob/dev/gg220626_bf_basics.ipynb\" target=\"_parent\"><img src=\"https://colab.research.google.com/assets/colab-badge.svg\" alt=\"Open In Colab\"/></a>"
      ]
    },
    {
      "cell_type": "code",
      "source": [
        "import matplotlib.pyplot as plt\n",
        "import numpy as np"
      ],
      "metadata": {
        "id": "pXSC04z-SOrl"
      },
      "execution_count": 10,
      "outputs": []
    },
    {
      "cell_type": "code",
      "source": [
        "n_cells=[4674, 4394, 3335, 4820]"
      ],
      "metadata": {
        "id": "kUs9xiNuBOrW"
      },
      "execution_count": 11,
      "outputs": []
    },
    {
      "cell_type": "code",
      "source": [
        "samples = ['allen_C01_glu','allen_B08_glu','allen_H12_glu','allen_F08_glu']\n",
        "g_ext = ['App', 'Cyfip2', 'Gnaq', 'Grin2b', 'Gsk3b', 'Kifap3', 'Mycbp2',\n",
        "       'Prrc2c', 'Unc80']\n",
        "g_gou = ['Adcy2', 'Atxn1', 'Cdh12', 'Edil3', 'Igf1r', 'Kcnk2', 'Mbnl2',\n",
        "       'Meg3', 'Plxna4', 'Satb1', 'Scai', 'Sez6l', 'Slc35f1']\n",
        "g_cir = ['Cox6b1', 'Mdh1', 'Ndfip1', 'Ndfip2', 'Pitpnc1', 'Slc24a3',\n",
        "       'Stmn3']\n",
        "genes =  g_ext + g_gou + g_cir\n",
        "       \n"
      ],
      "metadata": {
        "id": "s8a0fhhGSN9d"
      },
      "execution_count": 12,
      "outputs": []
    },
    {
      "cell_type": "code",
      "source": [
        "len(g_ext)"
      ],
      "metadata": {
        "id": "ygYUE0uW5uwJ",
        "outputId": "b3db821e-5e0b-4d95-9e34-741e868cf09c",
        "colab": {
          "base_uri": "https://localhost:8080/"
        }
      },
      "execution_count": 13,
      "outputs": [
        {
          "output_type": "execute_result",
          "data": {
            "text/plain": [
              "9"
            ]
          },
          "metadata": {},
          "execution_count": 13
        }
      ]
    },
    {
      "cell_type": "code",
      "source": [
        "len(g_cir)"
      ],
      "metadata": {
        "colab": {
          "base_uri": "https://localhost:8080/"
        },
        "id": "Pv6EBVLh5DwZ",
        "outputId": "56bbf36e-d224-4804-e0be-6d1222494b4f"
      },
      "execution_count": 14,
      "outputs": [
        {
          "output_type": "execute_result",
          "data": {
            "text/plain": [
              "7"
            ]
          },
          "metadata": {},
          "execution_count": 14
        }
      ]
    },
    {
      "cell_type": "code",
      "source": [
        "len(genes)"
      ],
      "metadata": {
        "colab": {
          "base_uri": "https://localhost:8080/"
        },
        "id": "5PSpz8UM4dGd",
        "outputId": "17f600b7-5809-4f81-d349-b181f828a8ab"
      },
      "execution_count": 15,
      "outputs": [
        {
          "output_type": "execute_result",
          "data": {
            "text/plain": [
              "29"
            ]
          },
          "metadata": {},
          "execution_count": 15
        }
      ]
    },
    {
      "cell_type": "code",
      "source": [
        "n_genes = len(genes)\n",
        "n_samples = len(samples)"
      ],
      "metadata": {
        "id": "LMokYh4gaXeC"
      },
      "execution_count": 16,
      "outputs": []
    },
    {
      "cell_type": "code",
      "source": [
        "import scipy\n",
        "from scipy import special"
      ],
      "metadata": {
        "id": "pTPDW1oUBZQT"
      },
      "execution_count": 17,
      "outputs": []
    },
    {
      "cell_type": "markdown",
      "source": [
        "These log-BFs still seem very inflated. It would be nice to check that the computation is correct."
      ],
      "metadata": {
        "id": "bD_qP0z6dEbP"
      }
    },
    {
      "cell_type": "code",
      "source": [
        "BF = np.empty((n_samples,n_genes))\n",
        "BF[:] = np.nan\n",
        "\n",
        "# p_gou = \n",
        "for j in range(n_samples):\n",
        "    for i in range(n_genes):\n",
        "        logL_GOU = np.loadtxt('logL_'+samples[j]+'_'+genes[i]+'_GOU.txt')\n",
        "        logL_CIR = np.loadtxt('logL_'+samples[j]+'_'+genes[i]+'_CIR.txt')\n",
        "        # BF[j,i] = (scipy.special.logsumexp(logL_CIR,b=1/n_cells[j]) - scipy.special.logsumexp(logL_GOU,b=1/n_cells[j]))/np.log(10)\n",
        "        w_ = np.asarray([0.5,0.5])/np.prod(logL_GOU.shape)\n",
        "        BF[j,i] = (scipy.special.logsumexp(logL_CIR,b=w_[0]) - scipy.special.logsumexp(logL_GOU,b=w_[1]))/np.log(10)\n",
        "        # c=np.max(logL_GOU)\n",
        "        # d=np.max(logL_CIR)\n",
        "        # llh_GOU = np.exp(logL_GOU-c)\n",
        "        # llh_CIR = np.exp(logL_CIR-d)\n",
        "        # lml_GOU = c+np.log(np.mean(llh_GOU))\n",
        "        # lml_CIR = d+np.log(np.mean(llh_CIR))\n",
        "        # BF[j,i] = (lml_CIR-lml_GOU)/np.log(10)"
      ],
      "metadata": {
        "id": "5WNE07g5aZcA"
      },
      "execution_count": 18,
      "outputs": []
    },
    {
      "cell_type": "code",
      "source": [
        "plt.figure(figsize=(5,10))\n",
        "\n",
        "plt.plot([0,0],[0,28],'r-',linewidth=2)\n",
        "plt.plot(BF.T,range(len(genes)),'.',markersize=20,alpha=0.7)\n",
        "plt.yticks(ticks=range(len(genes)),labels=genes)\n",
        "\n",
        "xl = plt.gca().get_xlim()\n",
        "plt.plot(xl,[(len(g_ext)-0.5)]*2,'k--')\n",
        "plt.plot(xl,[(len(g_ext)+len(g_gou)-0.5)]*2,'k--')\n",
        "plt.xlabel(r'Bayes factor: (+) CIR, $(-) \\ \\Gamma$-OU)')"
      ],
      "metadata": {
        "colab": {
          "base_uri": "https://localhost:8080/",
          "height": 627
        },
        "id": "Wnz-i8yq9wrB",
        "outputId": "b970aec1-942d-4392-8248-5a701c39ebf7"
      },
      "execution_count": 19,
      "outputs": [
        {
          "output_type": "execute_result",
          "data": {
            "text/plain": [
              "Text(0.5, 0, 'Bayes factor: (+) CIR, $(-) \\\\ \\\\Gamma$-OU)')"
            ]
          },
          "metadata": {},
          "execution_count": 19
        },
        {
          "output_type": "display_data",
          "data": {
            "text/plain": [
              "<Figure size 360x720 with 1 Axes>"
            ],
            "image/png": "[encoded data removed]"
          },
          "metadata": {
            "needs_background": "light"
          }
        }
      ]
    },
    {
      "cell_type": "code",
      "source": [
        "plt.figure(figsize=(5,10))\n",
        "\n",
        "plt.plot([0,0],[0,28],'r-',linewidth=2)\n",
        "plt.boxplot(BF,positions=range(len(genes)),vert=False)\n",
        "plt.yticks(ticks=range(len(genes)),labels=genes)\n",
        "\n",
        "plt.plot(xl,[(len(g_ext)-0.5)]*2,'k--')\n",
        "plt.plot(xl,[(len(g_ext)+len(g_gou)-0.5)]*2,'k--')\n",
        "plt.xlabel(r'Bayes factor: (+) CIR, $(-) \\ \\Gamma$-OU)')"
      ],
      "metadata": {
        "colab": {
          "base_uri": "https://localhost:8080/",
          "height": 627
        },
        "id": "6viRyYpgFhd7",
        "outputId": "65e1c98a-ddfa-435a-8454-cc9428f531f6"
      },
      "execution_count": 20,
      "outputs": [
        {
          "output_type": "execute_result",
          "data": {
            "text/plain": [
              "Text(0.5, 0, 'Bayes factor: (+) CIR, $(-) \\\\ \\\\Gamma$-OU)')"
            ]
          },
          "metadata": {},
          "execution_count": 20
        },
        {
          "output_type": "display_data",
          "data": {
            "text/plain": [
              "<Figure size 360x720 with 1 Axes>"
            ],
            "image/png": "[encoded data removed]"
          },
          "metadata": {
            "needs_background": "light"
          }
        }
      ]
    },
    {
      "cell_type": "code",
      "source": [
        "import pickle   \n",
        "w_g = list(pickle.load(open('./weights_and_genes.pickle','rb')))"
      ],
      "metadata": {
        "id": "0q9slSUDa98q"
      },
      "execution_count": 10,
      "outputs": []
    },
    {
      "cell_type": "code",
      "source": [
        "dataset_filter = [0,1,3,4,5]\n",
        "gn = w_g[3]\n",
        "w_g[0] = w_g[0][dataset_filter]\n",
        "w_g[1] = [w_g[1][x] for x in dataset_filter]\n",
        "thr = 0.8\n",
        "cir_filt = (w_g[0][:,2,:]>thr).all(0)\n",
        "gou_filt = (w_g[0][:,0,:]>thr).all(0)\n",
        "ext_filt = (w_g[0][:,1,:]>thr).all(0)"
      ],
      "metadata": {
        "id": "pE3LWXJz4Md9"
      },
      "execution_count": 11,
      "outputs": []
    },
    {
      "cell_type": "code",
      "source": [
        "genes_list = list(np.concatenate((gn[ext_filt] , gn[gou_filt] , gn[cir_filt])))\n"
      ],
      "metadata": {
        "id": "6unvxCcS4Sc1"
      },
      "execution_count": 12,
      "outputs": []
    },
    {
      "cell_type": "code",
      "source": [
        "genes_ind = [np.where(gn==x)[0][0] for x in genes_list]"
      ],
      "metadata": {
        "id": "Aau2rRW74UWo"
      },
      "execution_count": 17,
      "outputs": []
    },
    {
      "cell_type": "code",
      "source": [
        "w_g[0].shape"
      ],
      "metadata": {
        "colab": {
          "base_uri": "https://localhost:8080/"
        },
        "id": "bu8mqby84rKS",
        "outputId": "1c187a94-c0f3-4fd6-9f65-45dad57470f9"
      },
      "execution_count": 19,
      "outputs": [
        {
          "output_type": "execute_result",
          "data": {
            "text/plain": [
              "(5, 3, 2130)"
            ]
          },
          "metadata": {},
          "execution_count": 19
        }
      ]
    },
    {
      "cell_type": "code",
      "source": [
        "w_cir = w_g[0][:,2,genes_ind].mean(0)"
      ],
      "metadata": {
        "id": "cZb3J02v4Yud"
      },
      "execution_count": 22,
      "outputs": []
    },
    {
      "cell_type": "code",
      "source": [
        "plt.scatter(w_cir,BF[0])\n",
        "# plt.scatter(range(len(genes)),BF[1])\n",
        "# plt.scatter(range(len(genes)),BF[2])"
      ],
      "metadata": {
        "colab": {
          "base_uri": "https://localhost:8080/",
          "height": 282
        },
        "id": "1Wxg7OEj4uxw",
        "outputId": "7b8ec702-3639-43ec-a742-3d5fd6d64ff4"
      },
      "execution_count": 27,
      "outputs": [
        {
          "output_type": "execute_result",
          "data": {
            "text/plain": [
              "<matplotlib.collections.PathCollection at 0x7fe56e2742d0>"
            ]
          },
          "metadata": {},
          "execution_count": 27
        },
        {
          "output_type": "display_data",
          "data": {
            "text/plain": [
              "<Figure size 432x288 with 1 Axes>"
            ],
            "image/png": "[encoded data removed]"
          },
          "metadata": {
            "needs_background": "light"
          }
        }
      ]
    },
    {
      "cell_type": "code",
      "source": [
        ""
      ],
      "metadata": {
        "id": "v40XnsRf4ZG_"
      },
      "execution_count": null,
      "outputs": []
    }
  ]
}