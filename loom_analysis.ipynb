{
  "cells": [
    {
      "cell_type": "markdown",
      "metadata": {
        "id": "view-in-github",
        "colab_type": "text"
      },
      "source": [
        "<a href=\"https://colab.research.google.com/github/pachterlab/GVFP_2021/blob/dev/loom_analysis.ipynb\" target=\"_parent\"><img src=\"https://colab.research.google.com/assets/colab-badge.svg\" alt=\"Open In Colab\"/></a>"
      ]
    },
    {
      "cell_type": "markdown",
      "metadata": {
        "id": "zsa_xHNkzOU-"
      },
      "source": [
        "# \"Interpretable and tractable models of transcriptional noise for the rational design of single-molecule quantification experiments\"\n",
        "## by Gennady Gorin<sup>*</sup>, John Vastola<sup>*</sup>, Meichen Fang, and Lior Pachter\n",
        "### <sup>*</sup> These authors contributed equally to this work.\n",
        "# Companion notebook for Figure 3 "
      ]
    },
    {
      "cell_type": "markdown",
      "metadata": {
        "id": "S6y33qbKzOVJ"
      },
      "source": [
        "This notebook is self-contained, and generates the panels used in Figure 3 (albeit mostly without axis labels). There are five panels:\n",
        "\n",
        "**a**. Log Bayes factors across space of qualitative regimes\n",
        "\n",
        "**b**. Slice of a. to show distinguishability as a function of the gain ratio\n",
        "\n",
        "**c**. Distinguishability of two models versus trivial models as function of gain ratio\n",
        "\n",
        "**d**. Example parameter set for which $\\Gamma$-OU and CIR are very different\n",
        "\n",
        "**e**. Bayesian parameter inference\n",
        "\n",
        "The sections of this notebook, apart from the first (which contains relevant functions), correspond to the above panels."
      ]
    },
    {
      "cell_type": "code",
      "source": [
        "import time as ti\n",
        "tstart = ti.time()\n"
      ],
      "metadata": {
        "id": "6sWaZy5QKVff"
      },
      "execution_count": null,
      "outputs": []
    },
    {
      "cell_type": "code",
      "execution_count": null,
      "metadata": {
        "id": "rPyQG8UEzOVM"
      },
      "outputs": [],
      "source": [
        "# Scientific computing imports\n",
        "import numpy as np\n",
        "from numpy.fft import irfftn\n",
        "from numpy.random import choice\n",
        "from scipy.stats import rv_discrete, poisson, nbinom, gaussian_kde\n",
        "import matplotlib.pyplot as plt\n",
        "\n",
        "# PyMC3-related imports\n",
        "import pymc3 as pm\n",
        "import theano.tensor as tt\n",
        "\n",
        "# Plotting\n",
        "import matplotlib.pyplot as plt\n",
        "import arviz as az\n",
        "import matplotlib as mpl\n"
      ]
    },
    {
      "cell_type": "code",
      "execution_count": null,
      "metadata": {
        "id": "tt2uUT5dzOVO",
        "outputId": "06223b35-e990-4153-9909-2980eb8d7335",
        "colab": {
          "base_uri": "https://localhost:8080/",
          "height": 17
        }
      },
      "outputs": [
        {
          "output_type": "display_data",
          "data": {
            "text/plain": [
              "<IPython.core.display.Javascript object>"
            ],
            "application/javascript": [
              "IPython.OutputArea.prototype._should_scroll = function(lines) {\n",
              "    return false;\n",
              "}"
            ]
          },
          "metadata": {}
        }
      ],
      "source": [
        "%%javascript\n",
        "IPython.OutputArea.prototype._should_scroll = function(lines) {\n",
        "    return false;\n",
        "}"
      ]
    },
    {
      "cell_type": "code",
      "source": [
        "!mkdir -p results"
      ],
      "metadata": {
        "id": "2tbcsoMoLWjm"
      },
      "execution_count": null,
      "outputs": []
    },
    {
      "cell_type": "markdown",
      "metadata": {
        "id": "UdJ6_HEzzOVQ"
      },
      "source": [
        "------------------------------------------------"
      ]
    },
    {
      "cell_type": "code",
      "source": [
        "!git clone --branch dev https://github.com/pachterlab/GVFP_2021.git"
      ],
      "metadata": {
        "id": "ceLQDPaKio2_",
        "outputId": "9acc2dca-fe67-4315-cd5d-b66d577ab320",
        "colab": {
          "base_uri": "https://localhost:8080/"
        }
      },
      "execution_count": null,
      "outputs": [
        {
          "output_type": "stream",
          "name": "stdout",
          "text": [
            "Cloning into 'GVFP_2021'...\n",
            "remote: Enumerating objects: 501, done.\u001b[K\n",
            "remote: Counting objects: 100% (39/39), done.\u001b[K\n",
            "remote: Compressing objects: 100% (17/17), done.\u001b[K\n",
            "remote: Total 501 (delta 27), reused 32 (delta 22), pack-reused 462\u001b[K\n",
            "Receiving objects: 100% (501/501), 197.81 MiB | 25.57 MiB/s, done.\n",
            "Resolving deltas: 100% (230/230), done.\n"
          ]
        }
      ]
    },
    {
      "cell_type": "code",
      "source": [
        "!mv GVFP_2021/* ."
      ],
      "metadata": {
        "id": "A4J3R16Ni1Bi"
      },
      "execution_count": null,
      "outputs": []
    },
    {
      "cell_type": "code",
      "source": [
        "! mv loom/* ."
      ],
      "metadata": {
        "id": "l3MK1ggti99j"
      },
      "execution_count": null,
      "outputs": []
    },
    {
      "cell_type": "code",
      "source": [
        "!cat allen_C01_glu.tar.gz.001 allen_C01_glu.tar.gz.002 | tar -xzv\n"
      ],
      "metadata": {
        "id": "MsHd-yrsi7fw",
        "outputId": "91803aff-effb-4e53-f513-e99d5106e81b",
        "colab": {
          "base_uri": "https://localhost:8080/"
        }
      },
      "execution_count": null,
      "outputs": [
        {
          "output_type": "stream",
          "name": "stdout",
          "text": [
            "allen_C01_glu.loom\n"
          ]
        }
      ]
    },
    {
      "cell_type": "code",
      "source": [
        "!pip install loompy"
      ],
      "metadata": {
        "id": "UQA_Oo4hjBbo",
        "outputId": "100cd148-b458-4070-fcfc-922eced24d6c",
        "colab": {
          "base_uri": "https://localhost:8080/"
        }
      },
      "execution_count": null,
      "outputs": [
        {
          "output_type": "stream",
          "name": "stdout",
          "text": [
            "Looking in indexes: https://pypi.org/simple, https://us-python.pkg.dev/colab-wheels/public/simple/\n",
            "Collecting loompy\n",
            "  Downloading loompy-3.0.7.tar.gz (4.8 MB)\n",
            "\u001b[K     |████████████████████████████████| 4.8 MB 5.1 MB/s \n",
            "\u001b[?25hRequirement already satisfied: h5py in /usr/local/lib/python3.7/dist-packages (from loompy) (3.1.0)\n",
            "Requirement already satisfied: numpy in /usr/local/lib/python3.7/dist-packages (from loompy) (1.21.6)\n",
            "Requirement already satisfied: scipy in /usr/local/lib/python3.7/dist-packages (from loompy) (1.4.1)\n",
            "Requirement already satisfied: setuptools in /usr/local/lib/python3.7/dist-packages (from loompy) (57.4.0)\n",
            "Requirement already satisfied: numba in /usr/local/lib/python3.7/dist-packages (from loompy) (0.51.2)\n",
            "Requirement already satisfied: click in /usr/local/lib/python3.7/dist-packages (from loompy) (7.1.2)\n",
            "Collecting numpy-groupies\n",
            "  Downloading numpy_groupies-0.9.17-py3-none-any.whl (25 kB)\n",
            "Requirement already satisfied: cached-property in /usr/local/lib/python3.7/dist-packages (from h5py->loompy) (1.5.2)\n",
            "Requirement already satisfied: llvmlite<0.35,>=0.34.0.dev0 in /usr/local/lib/python3.7/dist-packages (from numba->loompy) (0.34.0)\n",
            "Building wheels for collected packages: loompy\n",
            "  Building wheel for loompy (setup.py) ... \u001b[?25l\u001b[?25hdone\n",
            "  Created wheel for loompy: filename=loompy-3.0.7-py3-none-any.whl size=52040 sha256=609e756dcfc2904762da4f6c42c3e00d93d77bad004c547a6d5fcedcba314f56\n",
            "  Stored in directory: /root/.cache/pip/wheels/48/36/9f/eb3377d4a7423b96105b6667d36c3faa49ee73b96d8cab80b3\n",
            "Successfully built loompy\n",
            "Installing collected packages: numpy-groupies, loompy\n",
            "Successfully installed loompy-3.0.7 numpy-groupies-0.9.17\n"
          ]
        }
      ]
    },
    {
      "cell_type": "code",
      "source": [
        "import loompy as lp"
      ],
      "metadata": {
        "id": "CpVERYH2jCbA",
        "outputId": "7140770a-720f-4362-de33-9c8322f0e473",
        "colab": {
          "base_uri": "https://localhost:8080/"
        }
      },
      "execution_count": null,
      "outputs": [
        {
          "output_type": "stream",
          "name": "stderr",
          "text": [
            "/usr/local/lib/python3.7/dist-packages/numba/np/ufunc/parallel.py:363: NumbaWarning: The TBB threading layer requires TBB version 2019.5 or later i.e., TBB_INTERFACE_VERSION >= 11005. Found TBB_INTERFACE_VERSION = 9107. The TBB threading layer is disabled.\n",
            "  warnings.warn(problem)\n"
          ]
        }
      ]
    },
    {
      "cell_type": "markdown",
      "metadata": {
        "id": "DegU8xaPzOVR"
      },
      "source": [
        "## Functions"
      ]
    },
    {
      "cell_type": "markdown",
      "metadata": {
        "id": "M_BVW7GSzOVS"
      },
      "source": [
        "### General-purpose functions"
      ]
    },
    {
      "cell_type": "code",
      "execution_count": null,
      "metadata": {
        "id": "GeV_ijdKzOVU"
      },
      "outputs": [],
      "source": [
        "# Utility function that converts between (x, y) qualitative regime coordinates to original parameters.\n",
        "def convert_xy_to_params(x, y, beta, gamma, K_avg):\n",
        "    kappa = (beta + gamma)*(x/(1-x))\n",
        "    a_over_th = 1/y - 1\n",
        "    theta = np.sqrt(kappa*K_avg/a_over_th)\n",
        "    a = K_avg*kappa/theta\n",
        "    return a, kappa, theta\n",
        "\n",
        "\n",
        "# Sample from flattened 2D probability distribution p. \n",
        "# mx = [mx0, mx1] is the shape of the 2D domain we're sampling.\n",
        "def sample_from_p(mx, num_data_points, p_flat):\n",
        "    x_N, x_M = np.arange(mx[0]), np.arange(mx[1])\n",
        "    X_N, X_M = np.meshgrid(x_N, x_M, indexing='ij')    # get grid of possible values\n",
        "    x_choices = np.arange(np.prod(mx))                 # represent each grid point as a point in a 1D vector\n",
        "    \n",
        "    samples = choice(x_choices, size=num_data_points, replace=True, p=p_flat)\n",
        "    d_N, d_M = X_N.flatten()[samples], X_M.flatten()[samples]    \n",
        "    return d_N, d_M\n",
        "\n",
        "\n",
        "# Get maximum of a 2D array\n",
        "def get_2D_max(array):\n",
        "    return np.unravel_index(array.argmax(), array.shape)\n",
        "\n",
        "\n",
        "# Get KDE for smooth-looking heatmaps.\n",
        "def get_2D_KDE(x_stats, y_stats, x_min=0, x_max=1, y_min=0, y_max=1):\n",
        "    num_pts = 100                          # hyperparameter\n",
        "    x_arg = np.linspace(x_min, x_max, num_pts)\n",
        "    y_arg = np.linspace(y_min, y_max, num_pts)\n",
        "\n",
        "    X_arg, Y_arg = np.meshgrid(x_arg, y_arg, indexing='ij')      # grid of points      X0, X1\n",
        "\n",
        " \n",
        "    positions = np.vstack([X_arg.ravel(), Y_arg.ravel()])\n",
        "    kernel = gaussian_kde([x_stats, y_stats])\n",
        "    KDE = np.reshape(kernel(positions).T, X_arg.shape)\n",
        "    return KDE, x_arg, y_arg\n",
        "    "
      ]
    },
    {
      "cell_type": "markdown",
      "metadata": {
        "id": "YGLnCY72zOVW"
      },
      "source": [
        "### Trivial model (constitutive/Poisson and mixture/NB) likelihood functions"
      ]
    },
    {
      "cell_type": "code",
      "execution_count": null,
      "metadata": {
        "id": "YXfGYg6zzOVX"
      },
      "outputs": [],
      "source": [
        "# Constitutive model likelihood function.\n",
        "def get_Poiss_2sp(mx, params):\n",
        "    beta, gamma, a, kappa, theta = params \n",
        "    K_avg = (a*theta)/kappa\n",
        "    mu_N, mu_M = K_avg/beta, K_avg/gamma\n",
        "    \n",
        "    x_N, x_M = np.arange(mx[0]), np.arange(mx[1])\n",
        "    X_N, X_M = np.meshgrid(x_N, x_M, indexing='ij')\n",
        "    \n",
        "    return poisson.pmf(X_N, mu_N)*poisson.pmf(X_M, mu_M)\n",
        "\n",
        "\n",
        "# Mixture model likelihood function.\n",
        "def get_NB_2sp(mx, params):\n",
        "    beta, gamma, a, kappa, theta = params \n",
        "    \n",
        "    # Get generating function argument\n",
        "    u = []\n",
        "    half = mx[:]\n",
        "    half[-1] = mx[-1]//2 + 1\n",
        "    for i in range(len(mx)):\n",
        "        l = np.arange(half[i])\n",
        "        u_ = np.exp(-2j*np.pi*l/mx[i])-1\n",
        "        u.append(u_)\n",
        "    g = np.meshgrid(*[u_ for u_ in u], indexing='ij')\n",
        "    for i in range(len(mx)):\n",
        "        g[i] = g[i].flatten()\n",
        "    \n",
        "    # Get generating function\n",
        "    gf = np.exp(- (a/kappa)*np.log(1 - theta*(g[0]/beta + g[1]/gamma)))\n",
        "    gf = gf.reshape(tuple(half))\n",
        "                              \n",
        "    Pss = irfftn(gf, s=mx)                        # Get Pss by inverse fast Fourier transform\n",
        "    Pss = np.abs(Pss)/np.sum(np.abs(Pss))           # Normalize\n",
        "    return Pss"
      ]
    },
    {
      "cell_type": "markdown",
      "metadata": {
        "id": "RqkZ2jlczOVY"
      },
      "source": [
        "### $\\Gamma$-OU likelihood functions"
      ]
    },
    {
      "cell_type": "code",
      "execution_count": null,
      "metadata": {
        "id": "iJhXodXrzOVZ"
      },
      "outputs": [],
      "source": [
        "# Get 2 species GOU generating function using ODE method\n",
        "def get_gf_GOU_2sp_ODE(g0, g1, params):\n",
        "    beta_0, beta_1, a, kappa, theta = params     # get parameters\n",
        "    \n",
        "    c0 = (g0) + (beta_0/(beta_1 - beta_0))*(g1)       #  relevant linear combinations of g_i\n",
        "    c1 = - (beta_0/(beta_1 - beta_0))*(g1)   \n",
        "    \n",
        "    min_fudge, max_fudge = 1, 10                                     # Determine integration time scale / length\n",
        "    dt = np.min([1/kappa, 1/theta, 1/beta_0, 1/beta_1])*min_fudge\n",
        "    t_max = np.max([1/kappa, 1/theta, 1/beta_0, 1/beta_1])*max_fudge\n",
        "    num_tsteps = int(np.ceil(t_max/dt))\n",
        "    \n",
        "    t_array = np.linspace(0, t_max, num_tsteps+1)\n",
        "    t_array = t_array.reshape((1, num_tsteps + 1))\n",
        "    \n",
        "    q = np.zeros((g0.shape[0], num_tsteps + 1), dtype=np.complex64)    # initialize array to store ODE\n",
        "    c0 = c0.reshape((c0.shape[0],1))\n",
        "    c1 = c1.reshape((c1.shape[0],1))\n",
        "    q0 = theta*c0*(np.exp(-beta_0*t_array) - np.exp(-kappa*t_array))/(kappa - beta_0) \n",
        "    q1 = theta*c1*(np.exp(-beta_1*t_array) - np.exp(-kappa*t_array))/(kappa - beta_1)\n",
        "    q = q0 + q1\n",
        "    \n",
        "\n",
        "    integrand = q/(1-q)\n",
        "    integral = np.trapz(integrand, dx=dt, axis=1)     # integrate ODE solution\n",
        "    gf = np.exp( a*integral)               # get generating function\n",
        "    return gf\n",
        "\n",
        "\n",
        "# Get Pss for 2 species GOU model via ODE method\n",
        "def get_GOU_2sp(mx, params):\n",
        "    # Get generating function argument\n",
        "    u = []\n",
        "    half = mx[:]\n",
        "    half[-1] = mx[-1]//2 + 1\n",
        "    for i in range(len(mx)):\n",
        "        l = np.arange(half[i])\n",
        "        u_ = np.exp(-2j*np.pi*l/mx[i])-1\n",
        "        u.append(u_)\n",
        "    g = np.meshgrid(*[u_ for u_ in u], indexing='ij')\n",
        "    for i in range(len(mx)):\n",
        "        g[i] = g[i].flatten()\n",
        "    \n",
        "    # Get generating function\n",
        "    gf = get_gf_GOU_2sp_ODE(g[0], g[1], params)                    \n",
        "    gf = gf.reshape(tuple(half))\n",
        "    \n",
        "    Pss = irfftn(gf, s=mx)                        # Get Pss by inverse fast Fourier transform\n",
        "    Pss = np.abs(Pss)/np.sum(np.abs(Pss))           # Normalize\n",
        "    return Pss\n",
        "\n",
        "\n",
        "# Log likelihood of GOU model given data. Uses (x,y) as input instead of (kappa, theta).\n",
        "def ll_GOU(phi, const, mx, data):\n",
        "    # Get parameters\n",
        "    x, y = phi\n",
        "    beta, gamma, K_avg = const\n",
        "    \n",
        "    # Convert from (x, y) to original parameters\n",
        "    a, kappa, theta = convert_xy_to_params(x, y, beta, gamma, K_avg)\n",
        "    params = [beta, gamma, a, kappa, theta]\n",
        "    \n",
        "    Pss = get_GOU_2sp(mx, params)    # Compute Pss\n",
        "\n",
        "    lp = np.log(Pss)\n",
        "    result = np.sum(lp[data])\n",
        "    return result\n",
        "\n",
        "\n",
        "# Combines the above functions into one to reduce overhead associated with Python function calls.\n",
        "# Helpful when doing expensive posterior sampling (since many likelihood function calls are required).\n",
        "def ll_GOU2(phi, const, mx, data):\n",
        "    # Get parameters\n",
        "    x, y = phi\n",
        "    beta, gamma, K_avg = const\n",
        "    \n",
        "    \n",
        "    # Convert from (x, y) to original parameters\n",
        "    a, kappa, theta = convert_xy_to_params(x, y, beta, gamma, K_avg)\n",
        "    params = [beta, gamma, a, kappa, theta]\n",
        "    \n",
        "    \n",
        "    # Get generating function argument\n",
        "    u = []\n",
        "    half = mx[:]\n",
        "    half[-1] = mx[-1]//2 + 1\n",
        "    for i in range(len(mx)):\n",
        "        l = np.arange(half[i])\n",
        "        u_ = np.exp(-2j*np.pi*l/mx[i])-1\n",
        "        u.append(u_)\n",
        "    g = np.meshgrid(*[u_ for u_ in u], indexing='ij')\n",
        "    for i in range(len(mx)):\n",
        "        g[i] = g[i].flatten()\n",
        "    \n",
        "    # Get generating function\n",
        "    beta_0 = beta\n",
        "    beta_1 = gamma\n",
        "    \n",
        "    c0 = (g[0]) + (beta_0/(beta_1 - beta_0))*(g[1])       #  relevant linear combinations of g_i\n",
        "    c1 = - (beta_0/(beta_1 - beta_0))*(g[1])   \n",
        "    \n",
        "    min_fudge, max_fudge = 0.5, 10                                     # Determine integration time scale / length\n",
        "    dt = np.min([1/kappa, 1/theta, 1/beta_0, 1/beta_1])*min_fudge\n",
        "    t_max = np.max([1/kappa, 1/theta, 1/beta_0, 1/beta_1])*max_fudge\n",
        "    num_tsteps = int(np.ceil(t_max/dt))\n",
        "    \n",
        "    t_array = np.linspace(0, t_max, num_tsteps+1)\n",
        "    t_array = t_array.reshape((1, num_tsteps + 1))\n",
        "    \n",
        "    q = np.zeros((c0.shape[0], num_tsteps + 1), dtype=np.complex64)    # initialize array to store ODE\n",
        "    c0 = c0.reshape((c0.shape[0],1))\n",
        "    c1 = c1.reshape((c1.shape[0],1))\n",
        "    q0 = theta*c0*(np.exp(-beta_0*t_array) - np.exp(-kappa*t_array))/(kappa - beta_0) \n",
        "    q1 = theta*c1*(np.exp(-beta_1*t_array) - np.exp(-kappa*t_array))/(kappa - beta_1)\n",
        "    q = q0 + q1\n",
        "\n",
        "    integrand = q/(1-q)\n",
        "    integral = np.trapz(integrand, dx=dt, axis=1)     # integrate ODE solution\n",
        "    gf = np.exp( a*integral)               # get generating function\n",
        "    \n",
        "    gf = gf.reshape(tuple(half))\n",
        "    \n",
        "    Pss = irfftn(gf, s=mx)                        # Get Pss by inverse fast Fourier transform\n",
        "    Pss = np.abs(Pss)/np.sum(np.abs(Pss))           # Normalize\n",
        "\n",
        "    lp = np.log(Pss)\n",
        "    result = np.sum(lp[data])\n",
        "    return result"
      ]
    },
    {
      "cell_type": "markdown",
      "metadata": {
        "id": "JXHgZm8rzOVa"
      },
      "source": [
        "### CIR likelihood functions"
      ]
    },
    {
      "cell_type": "code",
      "execution_count": null,
      "metadata": {
        "id": "3Ku0w1HLzOVb"
      },
      "outputs": [],
      "source": [
        "# ODE for 2 species CIR model\n",
        "def f_2sp(q, t, c0, c1, params):\n",
        "    beta_0, beta_1, a, kappa, theta = params\n",
        "    result = - kappa*q + theta*q*q + kappa*( c0*np.exp(-beta_0*t) + c1*np.exp(-beta_1*t)  ) \n",
        "    return result\n",
        "\n",
        "\n",
        "# Vectorized RK4 implementation for 2 species CIR model\n",
        "def RK4_2sp(q, f, t, c0, c1, step_size, param):\n",
        "    j1 = f(q, t, c0, c1, param)\n",
        "    j2 = f(q + (step_size/2)*j1, t + (step_size/2), c0, c1, param)   \n",
        "    j3 = f(q + (step_size/2)*j2, t + (step_size/2), c0, c1, param)   \n",
        "    j4 = f(q + (step_size)*j3, t + (step_size), c0, c1, param)  \n",
        "    \n",
        "    q_new = q + (step_size/6)*(j1 + 2*j2 + 2*j3 + j4)\n",
        "    return q_new\n",
        "\n",
        "\n",
        "# Get 2 species CIR generating function using ODE method\n",
        "def get_gf_CIR_2sp(g0, g1, params):\n",
        "    beta_0, beta_1, a, kappa, theta = params     # get parameters\n",
        "    \n",
        "    c0 = (g0) + (beta_0/(beta_1 - beta_0))*(g1)       #  relevant linear combinations of g_i\n",
        "    c1 = - (beta_0/(beta_1 - beta_0))*(g1)   \n",
        "    \n",
        "    min_fudge, max_fudge = 0.5, 10                                     # Determine integration time scale / length\n",
        "    dt = np.min([1/kappa, 1/theta, 1/beta_0, 1/beta_1])*min_fudge\n",
        "    t_max = np.max([1/kappa, 1/theta, 1/beta_0, 1/beta_1])*max_fudge\n",
        "    num_tsteps = int(np.ceil(t_max/dt))\n",
        "     \n",
        "    q = np.zeros((g0.shape[0], num_tsteps + 1), dtype=np.complex64)    # initialize array to store ODE\n",
        "    \n",
        "    # Solve ODE using RK4 method \n",
        "    for i in range(0, num_tsteps):\n",
        "        t = i*dt\n",
        "        q[:,i+1] = RK4_2sp(q[:,i], f_2sp, t, c0, c1, dt, params)\n",
        "        \n",
        "    integral = np.trapz(q, dx=dt, axis=1)     # integrate ODE solution\n",
        "    gf = np.exp((a*theta/kappa)*integral)               # get generating function\n",
        "    return gf\n",
        "\n",
        "\n",
        "# Get Pss for 2 species CIR model via ODE method\n",
        "def get_CIR_2sp(mx, params):\n",
        "    # Get generating function argument\n",
        "    u = []\n",
        "    half = mx[:]\n",
        "    half[-1] = mx[-1]//2 + 1\n",
        "    for i in range(len(mx)):\n",
        "        l = np.arange(half[i])\n",
        "        u_ = np.exp(-2j*np.pi*l/mx[i])-1\n",
        "        u.append(u_)\n",
        "    g = np.meshgrid(*[u_ for u_ in u], indexing='ij')\n",
        "    for i in range(len(mx)):\n",
        "        g[i] = g[i].flatten()\n",
        "    \n",
        "    # Get generating function\n",
        "    gf = get_gf_CIR_2sp(g[0], g[1], params)                    \n",
        "    gf = gf.reshape(tuple(half))\n",
        "                              \n",
        "    Pss = irfftn(gf, s=mx)                        # Get Pss by inverse fast Fourier transform\n",
        "    Pss = np.abs(Pss)/np.sum(np.abs(Pss))           # Normalize\n",
        "    return Pss\n",
        "\n",
        "\n",
        "# Log likelihood of CIR model given data. Uses (x,y) as input instead of (kappa, theta).\n",
        "def ll_CIR(phi, const, mx, data):\n",
        "    # Get parameters\n",
        "    x, y = phi\n",
        "    beta, gamma, K_avg = const\n",
        "    \n",
        "    # Convert from (x, y) to original parameters\n",
        "    a, kappa, theta = convert_xy_to_params(x, y, beta, gamma, K_avg)\n",
        "    params = [beta, gamma, a, kappa, theta]\n",
        "    \n",
        "    Pss = get_CIR_2sp(mx, params)    # Compute Pss\n",
        "\n",
        "    lp = np.log(Pss)\n",
        "    result = np.sum(lp[data])\n",
        "    return result"
      ]
    },
    {
      "cell_type": "markdown",
      "metadata": {
        "id": "grW0ljy0zOVc"
      },
      "source": [
        "### Bayes factor functions"
      ]
    },
    {
      "cell_type": "code",
      "execution_count": null,
      "metadata": {
        "id": "uH-_mh-ozOVc"
      },
      "outputs": [],
      "source": [
        "# Generates synthetic data (either CIR or GOU) and computes log Bayes factor (e.g. P(CIR)/P(GOU))).\n",
        "# Does this averaged over many trials (num_trials).\n",
        "# Does this assuming different numbers of data points (e.g. num_data_points = [100, 200, 1000]). \n",
        "def log_bayes_factor_avg(model, num_data_points, num_trials, mx, params):\n",
        "    \n",
        "    # Initialize log BF arrays \n",
        "    num_kinds = len(num_data_points) \n",
        "    log_bf_joint = np.zeros((num_kinds, num_trials))\n",
        "    log_bf_nascent = np.zeros((num_kinds, num_trials))\n",
        "    log_bf_mature = np.zeros((num_kinds, num_trials))\n",
        "    \n",
        "    \n",
        "    # Get Pss for each model given this parameter set\n",
        "    if model=='CIR':\n",
        "        pss = get_CIR_2sp(mx, params)\n",
        "        pss_other = get_GOU_2sp(mx, params)\n",
        "    elif model=='GOU':\n",
        "        pss = get_GOU_2sp(mx, params)\n",
        "        pss_other = get_CIR_2sp(mx, params)\n",
        "    p_flat = pss.flatten()\n",
        "    \n",
        "    \n",
        "    # Get fake data\n",
        "    for r in range(0, num_kinds):\n",
        "        for t in range(0, num_trials):\n",
        "            \n",
        "            # Sample nascent and mature counts\n",
        "            d_N, d_M = sample_from_p(mx, num_data_points[r], p_flat)\n",
        "\n",
        "            # Log-likelihood functions\n",
        "            lp = np.log10(pss)    # shape: x_N_domain by x_M_domain\n",
        "            lp_nascent = np.log10(np.sum(pss, axis=1))\n",
        "            lp_mature = np.log10(np.sum(pss, axis=0))\n",
        "\n",
        "            lp_other = np.log10(pss_other)\n",
        "            lp_other_nascent = np.log10(np.sum(pss_other, axis=1))\n",
        "            lp_other_mature = np.log10(np.sum(pss_other, axis=0))\n",
        "\n",
        "            # Log-likelihoods given data\n",
        "            ll_joint = np.sum(lp[d_N, d_M])\n",
        "            ll_nascent = np.sum(lp_nascent[d_N])\n",
        "            ll_mature = np.sum(lp_mature[d_M])\n",
        "\n",
        "            ll_other_joint = np.sum(lp_other[d_N, d_M])\n",
        "            ll_other_nascent = np.sum(lp_other_nascent[d_N]) \n",
        "            ll_other_mature = np.sum(lp_other_mature[d_M])\n",
        "\n",
        "            # Bayes factor\n",
        "            log_bf_joint[r,t] = ll_joint - ll_other_joint\n",
        "            log_bf_nascent[r,t] = ll_nascent - ll_other_nascent\n",
        "            log_bf_mature[r,t] = ll_mature - ll_other_mature\n",
        "                          \n",
        "        log_bf_joint_avg = np.mean(log_bf_joint, axis=1)\n",
        "        log_bf_nascent_avg = np.mean(log_bf_nascent, axis=1)\n",
        "        log_bf_mature_avg = np.mean(log_bf_mature, axis=1)\n",
        "    \n",
        "    return log_bf_joint_avg, log_bf_nascent_avg, log_bf_mature_avg"
      ]
    },
    {
      "cell_type": "code",
      "execution_count": null,
      "metadata": {
        "id": "5QzlnIpbzOVd"
      },
      "outputs": [],
      "source": [
        "# Compute averaged log Bayes factors for GOU vs Poisson, GOU vs NB, CIR vs Poisson, and CIR vs NB.\n",
        "def log_bayes_factor_avg_null(num_data_points, num_trials, mx, params):\n",
        "    \n",
        "    # Get Pss for each model given this parameter set\n",
        "    pss_CIR = get_CIR_2sp(mx, params)\n",
        "    pss_GOU = get_GOU_2sp(mx, params)\n",
        "    pss_Poiss = get_Poiss_2sp(mx, params)\n",
        "    pss_NB = get_NB_2sp(mx, params)\n",
        "    \n",
        "    # Initialize log BF arrays\n",
        "    log_bf_CIR_vs_Poiss, log_bf_CIR_vs_NB = np.zeros(num_trials), np.zeros(num_trials)\n",
        "    log_bf_GOU_vs_Poiss, log_bf_GOU_vs_NB = np.zeros(num_trials), np.zeros(num_trials)\n",
        "    \n",
        "    for t in range(0, num_trials):\n",
        "        \n",
        "        # Get fake data\n",
        "        d_GOU_N, d_GOU_M = sample_from_p(mx, num_data_points, pss_GOU.flatten())\n",
        "        d_CIR_N, d_CIR_M = sample_from_p(mx, num_data_points, pss_CIR.flatten())\n",
        "\n",
        "\n",
        "        # Log-likelihood functions\n",
        "        lp_CIR = np.log10(pss_CIR)    # shape: mx[0] by mx[1]\n",
        "        lp_GOU = np.log10(pss_GOU)  \n",
        "        lp_Poiss = np.log10(pss_Poiss) \n",
        "        lp_NB = np.log10(pss_NB) \n",
        "\n",
        "\n",
        "        # Log-likelihoods given data\n",
        "        log_bf_CIR_vs_Poiss[t] = np.sum(lp_CIR[d_CIR_N, d_CIR_M]) - np.sum(lp_Poiss[d_CIR_N, d_CIR_M]) \n",
        "        log_bf_CIR_vs_NB[t] = np.sum(lp_CIR[d_CIR_N, d_CIR_M]) - np.sum(lp_NB[d_CIR_N, d_CIR_M]) \n",
        "\n",
        "        log_bf_GOU_vs_Poiss[t] = np.sum(lp_GOU[d_GOU_N, d_GOU_M]) - np.sum(lp_Poiss[d_GOU_N, d_GOU_M]) \n",
        "        log_bf_GOU_vs_NB[t] = np.sum(lp_GOU[d_GOU_N, d_GOU_M]) - np.sum(lp_NB[d_GOU_N, d_GOU_M]) \n",
        "        \n",
        "    log_bf_CIR_vs_Poiss_avg = np.mean(log_bf_CIR_vs_Poiss)\n",
        "    log_bf_CIR_vs_NB_avg = np.mean(log_bf_CIR_vs_NB)\n",
        "    log_bf_GOU_vs_Poiss_avg = np.mean(log_bf_GOU_vs_Poiss)\n",
        "    log_bf_GOU_vs_NB_avg = np.mean(log_bf_GOU_vs_NB)\n",
        "\n",
        "    \n",
        "    return log_bf_CIR_vs_Poiss_avg, log_bf_CIR_vs_NB_avg, log_bf_GOU_vs_Poiss_avg, log_bf_GOU_vs_NB_avg"
      ]
    },
    {
      "cell_type": "markdown",
      "metadata": {
        "id": "0J3OKwcUzOVe"
      },
      "source": [
        "### Bayesian parameter recovery functions"
      ]
    },
    {
      "cell_type": "code",
      "execution_count": null,
      "metadata": {
        "id": "CeHtXYtQzOVf"
      },
      "outputs": [],
      "source": [
        "# This class is necessary for interfacing with PymC3.\n",
        "\n",
        "class LogLike(tt.Op):\n",
        "    \n",
        "    itypes = [tt.dvector] # expects a vector of parameter values when called\n",
        "    otypes = [tt.dscalar] # outputs a single scalar value (the log likelihood)\n",
        "    \n",
        "    def __init__(self, const, mx, data, likelihood):\n",
        "        \n",
        "        # add inputs as class attributes\n",
        "        self.const = const\n",
        "        self.mx = mx\n",
        "        self.data = data\n",
        "        self.likelihood = likelihood\n",
        "        \n",
        "    def perform(self, node, inputs, outputs):\n",
        "        \n",
        "        phi, = inputs # this contains parmeters\n",
        "        logl = self.likelihood(phi, self.const, self.mx, self.data) # calls the log-likelihood function\n",
        "        outputs[0][0] = np.array(logl) # output the log-likelihood"
      ]
    },
    {
      "cell_type": "code",
      "execution_count": null,
      "metadata": {
        "id": "Wjy6JDB7zOVf"
      },
      "outputs": [],
      "source": [
        "# This function gets parameter posteriors via non-gradient-based sampling.\n",
        "def get_parameter_posteriors(string_ID, const, mx, data, ll_func, draws_, tune_, chains_):\n",
        "    \n",
        "    # Parameter bounds\n",
        "    epsilon = 0.005\n",
        "    x_min, x_max = epsilon, 1-epsilon\n",
        "    y_min, y_max = epsilon, 1-epsilon\n",
        "    \n",
        "    # Define log likelihood\n",
        "    logl_op = LogLike(const, mx, data, ll_func)\n",
        "    def logl_fun(phi):\n",
        "        return logl_op(phi)\n",
        "    \n",
        "    # Define PyMC3 model\n",
        "    model = pm.Model()\n",
        "    with model:\n",
        "        # Priors\n",
        "        x_ = pm.Uniform('x', lower=x_min, upper=x_max)\n",
        "        y_ = pm.Uniform('y', lower=y_min, upper=y_max)\n",
        "\n",
        "        phi = tt.as_tensor_variable([x_, y_])\n",
        "\n",
        "        # Likelihood\n",
        "        pm.Potential('likelihood', logl_fun(phi))\n",
        "        \n",
        "        \n",
        "    # Run PyMC3 model\n",
        "    start_time = ti.time()\n",
        "    with model:\n",
        "        step = pm.DEMetropolisZ(tune = None)\n",
        "        trace = pm.sample(draws = draws_, tune = tune_, step = step, chains = chains_, cores = 1)\n",
        "    print(\"--- %s seconds ---\" % (ti.time() - start_time))\n",
        "        \n",
        "    # Plot and save trace\n",
        "    with model:\n",
        "        axes = az.plot_trace(trace)\n",
        "        fig = axes.ravel()[0].figure\n",
        "        fig.savefig(\"results/pymc3_raw_\"+string_ID+\".png\", bbox_inches='tight')\n",
        "        fig.savefig(\"results/pymc3_raw_\"+string_ID+\".pdf\", bbox_inches='tight')\n",
        "        \n",
        "    x_stats, y_stats = trace['x'], trace['y']\n",
        "    return trace, x_stats, y_stats"
      ]
    },
    {
      "cell_type": "code",
      "execution_count": null,
      "metadata": {
        "id": "GobHPCGKzOVg"
      },
      "outputs": [],
      "source": [
        "# This function analyzes and plots the posterior samples.\n",
        "def analyze_posteriors(string_ID, x_stats, y_stats, params_true, loc=True, k_max=0, th_max=0):\n",
        "    \n",
        "    # True parameters\n",
        "    # beta, gamma, a_true, kappa_true, theta_true = params_true\n",
        "    # x_true, y_true = (kappa_true)/(kappa_true + beta + gamma), (theta_true)/(theta_true + a_true)\n",
        "   \n",
        "\n",
        "    # Get statistics in terms of kappa and theta\n",
        "    a_stats, kappa_stats, theta_stats = convert_xy_to_params(x_stats, y_stats, beta, gamma, K_avg)\n",
        "\n",
        "    \n",
        "    # KDEs\n",
        "    KDE_xy, x_arg, y_arg = get_2D_KDE(x_stats, y_stats, 0, 1, 0, 1)\n",
        "    if k_max==0:\n",
        "        k_max = np.max(kappa_stats)\n",
        "    if th_max==0:\n",
        "        th_max = np.max(theta_stats)\n",
        "    KDE_kth, k_arg, th_arg = get_2D_KDE(kappa_stats, theta_stats, 0, k_max, 0, th_max)\n",
        "    \n",
        "    KDE_x = np.sum(KDE_xy, axis=1)\n",
        "    KDE_x = KDE_x/np.trapz(KDE_x, x=x_arg)\n",
        "    KDE_y = np.sum(KDE_xy, axis=0)\n",
        "    KDE_y = KDE_y/np.trapz(KDE_y, x=y_arg)\n",
        "    \n",
        "    KDE_k = np.sum(KDE_kth, axis=1)\n",
        "    KDE_k = KDE_k/np.trapz(KDE_k, x=k_arg)\n",
        "    KDE_th = np.sum(KDE_kth, axis=0)\n",
        "    KDE_th = KDE_th/np.trapz(KDE_th, x=th_arg)\n",
        "    \n",
        "    # Summary statistics\n",
        "    x_avg, y_avg = np.mean(x_stats), np.mean(y_stats)    # posterior means\n",
        "    i, j = get_2D_max(KDE_xy)\n",
        "    x_map, y_map = x_arg[i], y_arg[j]\n",
        "    \n",
        "    k_avg, th_avg = np.mean(kappa_stats), np.mean(theta_stats)    # posterior means\n",
        "    i, j = get_2D_max(KDE_kth)\n",
        "    k_map, th_map = k_arg[i], th_arg[j]\n",
        "    \n",
        "    \n",
        "    \n",
        "    \n",
        "    print(\"Plotting histograms in terms of (x,y)...\")\n",
        "    vals, _,  _ = plt.hist(x_stats, alpha=0.5, density=True)\n",
        "    # plt.plot(x_true*np.ones(10), np.linspace(0, np.max(vals), 10), linestyle='--', color='black', linewidth=2, label='true')\n",
        "    plt.plot(x_avg*np.ones(10), np.linspace(0, np.max(vals), 10), linestyle='--', color='red', linewidth=2, label='avg')\n",
        "    plt.plot(x_map*np.ones(10), np.linspace(0, np.max(vals), 10), linestyle='--', color='blue', linewidth=2, label='MAP')\n",
        "    plt.plot(x_arg, KDE_x, color='black')\n",
        "    plt.xlabel('$\\\\kappa/(\\\\kappa + \\\\beta + \\\\gamma)$', fontsize=30)\n",
        "    plt.ylabel('Probability', fontsize=30)\n",
        "    plt.legend(fontsize=20)\n",
        "    plt.savefig(\"results/post_marg_x_\"+string_ID+\".png\", bbox_inches='tight')\n",
        "    plt.savefig(\"results/post_marg_x_\"+string_ID+\".pdf\", bbox_inches='tight')\n",
        "    plt.show()\n",
        "\n",
        "    vals, _, _ = plt.hist(y_stats, alpha=0.5, density=True)\n",
        "    # plt.plot(y_true*np.ones(10), np.linspace(0, np.max(vals), 10), linestyle='--', color='black', linewidth=2, label='true')\n",
        "    plt.plot(y_avg*np.ones(10), np.linspace(0, np.max(vals), 10), linestyle='--', color='red', linewidth=2, label='avg')\n",
        "    plt.plot(y_map*np.ones(10), np.linspace(0, np.max(vals), 10), linestyle='--', color='blue', linewidth=2, label='MAP')\n",
        "    plt.plot(y_arg, KDE_y, color='black')\n",
        "    plt.xlabel('$\\\\theta/(\\\\theta + a)$', fontsize=30)\n",
        "    plt.ylabel('Probability', fontsize=30)\n",
        "    plt.legend(fontsize=20)\n",
        "    plt.savefig(\"results/post_marg_y_\"+string_ID+\".png\", bbox_inches='tight')\n",
        "    plt.savefig(\"results/post_marg_y_\"+string_ID+\".pdf\", bbox_inches='tight')\n",
        "    plt.show()\n",
        "    \n",
        "    \n",
        "    print(\"Plotting histograms in terms of (kappa, theta)...\")\n",
        "    vals, _,  _ = plt.hist(kappa_stats, alpha=0.5, density=True)\n",
        "    # plt.plot(kappa_true*np.ones(10), np.linspace(0, np.max(vals), 10), linestyle='--', color='black', linewidth=2, label='true')\n",
        "    plt.plot(k_avg*np.ones(10), np.linspace(0, np.max(vals), 10), linestyle='--', color='red', linewidth=2, label='avg')\n",
        "    plt.plot(k_map*np.ones(10), np.linspace(0, np.max(vals), 10), linestyle='--', color='blue', linewidth=2, label='MAP')\n",
        "    plt.plot(k_arg, KDE_k, color='black')\n",
        "    plt.xlabel('$\\\\kappa$', fontsize=30)\n",
        "    plt.ylabel('Probability', fontsize=30)\n",
        "    plt.legend(fontsize=20)\n",
        "    plt.savefig(\"results/post_marg_kappa_\"+string_ID+\".png\", bbox_inches='tight')\n",
        "    plt.savefig(\"results/post_marg_kappa_\"+string_ID+\".pdf\", bbox_inches='tight')\n",
        "    plt.show()\n",
        "\n",
        "    vals, _, _ = plt.hist(theta_stats, alpha=0.5, density=True)\n",
        "    # plt.plot(theta_true*np.ones(10), np.linspace(0, np.max(vals), 10), linestyle='--', color='black', linewidth=2, label='true')\n",
        "    plt.plot(th_avg*np.ones(10), np.linspace(0, np.max(vals), 10), linestyle='--', color='red', linewidth=2, label='avg')\n",
        "    plt.plot(th_map*np.ones(10), np.linspace(0, np.max(vals), 10), linestyle='--', color='blue', linewidth=2, label='MAP')\n",
        "    plt.plot(th_arg, KDE_th, color='black')\n",
        "    plt.xlabel('$\\\\theta$', fontsize=30)\n",
        "    plt.ylabel('Probability', fontsize=30)\n",
        "    plt.legend(fontsize=20)\n",
        "    plt.savefig(\"results/post_marg_theta_\"+string_ID+\".png\", bbox_inches='tight')\n",
        "    plt.savefig(\"results/post_marg_theta_\"+string_ID+\".pdf\", bbox_inches='tight')\n",
        "    plt.show()\n",
        "    \n",
        "    s= mpl.rcParams['lines.markersize']**2\n",
        "    newsize=3*s\n",
        "    \n",
        "    print(\"Plotting 2D heatmap in terms of (x, y)...\")\n",
        "    \n",
        "    fig = plt.figure(figsize=(4,4))\n",
        "    ax = fig.add_subplot(111)\n",
        "\n",
        "    ax.scatter(x_map, y_map, color='blue', label='MAP', s=newsize, edgecolor='white')\n",
        "    ax.scatter(x_avg, y_avg, color='red', label='avg', s=newsize, edgecolor='white')\n",
        "    # ax.scatter(x_true, y_true, color='black', label='true', s=newsize, edgecolor='white')\n",
        "    ax.imshow(np.transpose(KDE_xy), origin='lower', extent=[0, 1, 0, 1])\n",
        "\n",
        "    if loc==True:\n",
        "        plt.legend(fontsize=18, framealpha=1)\n",
        "    plt.savefig('results/post_2D_xy_'+string_ID+'.pdf', bbox_inches='tight')\n",
        "    plt.savefig('results/post_2D_xy_'+string_ID+'.png', bbox_inches='tight')\n",
        "\n",
        "    plt.show()\n",
        "    \n",
        "    \n",
        "    \n",
        "    \n",
        "        \n",
        "    print(\"Plotting 2D heatmap in terms of (kappa, theta)...\")\n",
        "    w1 = 60\n",
        "    w2 = 60\n",
        "    \n",
        "    fig = plt.figure(figsize=(4,4))\n",
        "    ax = fig.add_subplot(111)\n",
        "\n",
        "    ax.scatter(k_map, th_map, color='blue', label='MAP', s=newsize, edgecolor='white')\n",
        "    ax.scatter(k_avg, th_avg, color='red', label='avg', s=newsize, edgecolor='white')\n",
        "    # ax.scatter(kappa_true, theta_true, color='black', label='true', s=newsize, edgecolor='white')\n",
        "    ax.imshow( np.transpose(KDE_kth[:w1,:w2]), origin='lower', extent=[0, k_arg[w1], 0, th_arg[w2]], aspect='auto')\n",
        "\n",
        "    plt.savefig('results/post_2D_kth_'+string_ID+'.pdf', bbox_inches='tight')\n",
        "    plt.savefig('results/post_2D_kth_'+string_ID+'.png', bbox_inches='tight')\n",
        "\n",
        "    plt.show()\n",
        "\n",
        "    \n",
        "    \n",
        "    return"
      ]
    },
    {
      "cell_type": "markdown",
      "metadata": {
        "id": "RHc_zHyLzOVh"
      },
      "source": [
        "------------------------------------------"
      ]
    },
    {
      "cell_type": "markdown",
      "metadata": {
        "id": "RLscKaiezOVr"
      },
      "source": [
        "## Panel E: Parameter recovery"
      ]
    },
    {
      "cell_type": "markdown",
      "metadata": {
        "id": "6LcpeDNYzOVr"
      },
      "source": [
        "### Overdispersed/typical case"
      ]
    },
    {
      "cell_type": "markdown",
      "metadata": {
        "id": "5r41HHp8zOVr"
      },
      "source": [
        "**Pull in some real data!** It's happening! We're doing real statistics!"
      ]
    },
    {
      "cell_type": "code",
      "source": [
        "with lp.connect('./allen_C01_glu.loom') as ds:\n",
        "    S = ds.layers['spliced'][:]\n",
        "    U = ds.layers['unspliced'][:]\n",
        "    gene_names = ds.ra['gene_name']\n",
        "    nCells = len(ds.ca['barcode'])\n"
      ],
      "metadata": {
        "id": "Bg_tDIOcjYW0"
      },
      "execution_count": null,
      "outputs": []
    },
    {
      "cell_type": "code",
      "source": [
        "i = np.where(gene_names=='Cox6b1')[0][0]"
      ],
      "metadata": {
        "id": "wF0gxluWjXtV"
      },
      "execution_count": null,
      "outputs": []
    },
    {
      "cell_type": "code",
      "source": [
        "d_M = S[i].astype(int)\n",
        "d_N = U[i].astype(int)\n",
        "data = [d_N, d_M]"
      ],
      "metadata": {
        "id": "j48x6vCTj8XD"
      },
      "execution_count": null,
      "outputs": []
    },
    {
      "cell_type": "markdown",
      "metadata": {
        "id": "ZTcXsgrdzOVt"
      },
      "source": [
        "Plot samples and true distribution."
      ]
    },
    {
      "cell_type": "code",
      "execution_count": null,
      "metadata": {
        "id": "3IHOl6rQzOVu",
        "outputId": "47ea63bb-1d88-47c8-810f-89915ada65ee",
        "colab": {
          "base_uri": "https://localhost:8080/",
          "height": 307
        }
      },
      "outputs": [
        {
          "output_type": "display_data",
          "data": {
            "text/plain": [
              "<Figure size 432x288 with 1 Axes>"
            ],
            "image/png": "[encoded data removed]"
          },
          "metadata": {
            "needs_background": "light"
          }
        }
      ],
      "source": [
        "w = 20\n",
        "\n",
        "fig = plt.figure()\n",
        "ax = fig.add_subplot(111)\n",
        "ax.scatter(d_N, d_M, alpha=0.1, color=(242/255,101/255,34/255))\n",
        "#ax.set_title('True', fontsize=35)\n",
        "#ax.imshow(np.transpose(Pss[:w,:w]), origin='lower', alpha=0.8)\n",
        "ax.set_xlim(0, 15)\n",
        "ax.set_ylim(0, 40)\n",
        "ax.set_xlabel('# nascent', fontsize=35)\n",
        "ax.set_ylabel('# mature', fontsize=35)\n",
        "plt.savefig('results/true_scatter_overdisp.png', bbox_inches='tight')\n",
        "plt.savefig('results/true_scatter_overdisp.pdf', bbox_inches='tight')\n",
        "plt.show()"
      ]
    },
    {
      "cell_type": "code",
      "source": [
        "mx = [15,40]\n",
        "K_avg = 1\n",
        "beta = K_avg/d_N.mean()\n",
        "gamma = K_avg/d_M.mean()\n",
        "const = [beta, gamma, K_avg]"
      ],
      "metadata": {
        "id": "wwKxXOVskSI3"
      },
      "execution_count": null,
      "outputs": []
    },
    {
      "cell_type": "code",
      "source": [
        ""
      ],
      "metadata": {
        "id": "zx1QnLSbkqni"
      },
      "execution_count": null,
      "outputs": []
    },
    {
      "cell_type": "markdown",
      "source": [
        "Run for GOU"
      ],
      "metadata": {
        "id": "YOcLIBvqo7GG"
      }
    },
    {
      "cell_type": "code",
      "execution_count": null,
      "metadata": {
        "id": "YlWZyicyzOVu",
        "outputId": "a08a683c-7b88-4301-ebe8-2e74396d7924",
        "colab": {
          "base_uri": "https://localhost:8080/",
          "height": 458
        }
      },
      "outputs": [
        {
          "output_type": "stream",
          "name": "stderr",
          "text": [
            "/usr/local/lib/python3.7/dist-packages/ipykernel_launcher.py:127: FutureWarning: Using a non-tuple sequence for multidimensional indexing is deprecated; use `arr[tuple(seq)]` instead of `arr[seq]`. In the future this will be interpreted as an array index, `arr[np.array(seq)]`, which will result either in an error or a different result.\n",
            "/usr/local/lib/python3.7/dist-packages/ipykernel_launcher.py:31: FutureWarning: In v4.0, pm.sample will return an `arviz.InferenceData` object instead of a `MultiTrace` by default. You can pass return_inferencedata=True or return_inferencedata=False to be safe and silence this warning.\n",
            "Sequential sampling (1 chains in 1 job)\n",
            "DEMetropolisZ: [y, x]\n"
          ]
        },
        {
          "output_type": "display_data",
          "data": {
            "text/plain": [
              "<IPython.core.display.HTML object>"
            ],
            "text/html": [
              "\n",
              "<style>\n",
              "    /* Turns off some styling */\n",
              "    progress {\n",
              "        /* gets rid of default border in Firefox and Opera. */\n",
              "        border: none;\n",
              "        /* Needs to be in here for Safari polyfill so background images work as expected. */\n",
              "        background-size: auto;\n",
              "    }\n",
              "    .progress-bar-interrupted, .progress-bar-interrupted::-webkit-progress-bar {\n",
              "        background: #F44336;\n",
              "    }\n",
              "</style>\n"
            ]
          },
          "metadata": {}
        },
        {
          "output_type": "display_data",
          "data": {
            "text/plain": [
              "<IPython.core.display.HTML object>"
            ],
            "text/html": [
              "\n",
              "    <div>\n",
              "      <progress value='2600' class='' max='2600' style='width:300px; height:20px; vertical-align: middle;'></progress>\n",
              "      100.00% [2600/2600 01:41<00:00 Sampling chain 0, 0 divergences]\n",
              "    </div>\n",
              "    "
            ]
          },
          "metadata": {}
        },
        {
          "output_type": "stream",
          "name": "stderr",
          "text": [
            "/usr/local/lib/python3.7/dist-packages/ipykernel_launcher.py:127: FutureWarning: Using a non-tuple sequence for multidimensional indexing is deprecated; use `arr[tuple(seq)]` instead of `arr[seq]`. In the future this will be interpreted as an array index, `arr[np.array(seq)]`, which will result either in an error or a different result.\n",
            "Sampling 1 chain for 600 tune and 2_000 draw iterations (600 + 2_000 draws total) took 101 seconds.\n",
            "Only one chain was sampled, this makes it impossible to run some convergence checks\n"
          ]
        },
        {
          "output_type": "stream",
          "name": "stdout",
          "text": [
            "--- 112.52488207817078 seconds ---\n"
          ]
        },
        {
          "output_type": "display_data",
          "data": {
            "text/plain": [
              "<Figure size 864x288 with 4 Axes>"
            ],
            "image/png": "[encoded data removed]"
          },
          "metadata": {
            "needs_background": "light"
          }
        }
      ],
      "source": [
        "string_ID = \"overdispersed\" \n",
        "trace, x_stats, y_stats = (\n",
        "     get_parameter_posteriors(string_ID, const, mx, data, ll_func=ll_GOU2, draws_=2000, tune_=600, chains_=1) )"
      ]
    },
    {
      "cell_type": "markdown",
      "metadata": {
        "id": "CQKVVqbCzOVv"
      },
      "source": [
        "Get histograms."
      ]
    },
    {
      "cell_type": "code",
      "source": [
        "a, kappa, theta = convert_xy_to_params(x_stats.mean(), y_stats.mean(), beta, gamma, K_avg)"
      ],
      "metadata": {
        "id": "uCRlWxVyn07W"
      },
      "execution_count": null,
      "outputs": []
    },
    {
      "cell_type": "code",
      "source": [
        "y_stats"
      ],
      "metadata": {
        "id": "zf29Pfh2n2DV",
        "outputId": "db87b06e-4614-452b-9ad0-4c9a571d3e3a",
        "colab": {
          "base_uri": "https://localhost:8080/"
        }
      },
      "execution_count": null,
      "outputs": [
        {
          "output_type": "execute_result",
          "data": {
            "text/plain": [
              "array([0.90440198, 0.90440198, 0.8665057 , ..., 0.86815876, 0.75322246,\n",
              "       0.86278933])"
            ]
          },
          "metadata": {},
          "execution_count": 41
        }
      ]
    },
    {
      "cell_type": "code",
      "execution_count": null,
      "metadata": {
        "scrolled": true,
        "id": "tVZOx9sTzOVv",
        "outputId": "fd730491-9bf7-4bbf-8bd6-a832edfb33aa",
        "colab": {
          "base_uri": "https://localhost:8080/",
          "height": 1000
        }
      },
      "outputs": [
        {
          "output_type": "stream",
          "name": "stdout",
          "text": [
            "Plotting histograms in terms of (x,y)...\n"
          ]
        },
        {
          "output_type": "display_data",
          "data": {
            "text/plain": [
              "<Figure size 432x288 with 1 Axes>"
            ],
            "image/png": "[encoded data removed]"
          },
          "metadata": {
            "needs_background": "light"
          }
        },
        {
          "output_type": "display_data",
          "data": {
            "text/plain": [
              "<Figure size 432x288 with 1 Axes>"
            ],
            "image/png": "[encoded data removed]"
          },
          "metadata": {
            "needs_background": "light"
          }
        },
        {
          "output_type": "stream",
          "name": "stdout",
          "text": [
            "Plotting histograms in terms of (kappa, theta)...\n"
          ]
        },
        {
          "output_type": "display_data",
          "data": {
            "text/plain": [
              "<Figure size 432x288 with 1 Axes>"
            ],
            "image/png": "[encoded data removed]"
          },
          "metadata": {
            "needs_background": "light"
          }
        },
        {
          "output_type": "display_data",
          "data": {
            "text/plain": [
              "<Figure size 432x288 with 1 Axes>"
            ],
            "image/png": "[encoded data removed]"
          },
          "metadata": {
            "needs_background": "light"
          }
        },
        {
          "output_type": "stream",
          "name": "stdout",
          "text": [
            "Plotting 2D heatmap in terms of (x, y)...\n"
          ]
        },
        {
          "output_type": "display_data",
          "data": {
            "text/plain": [
              "<Figure size 288x288 with 1 Axes>"
            ],
            "image/png": "[encoded data removed]"
          },
          "metadata": {
            "needs_background": "light"
          }
        },
        {
          "output_type": "stream",
          "name": "stdout",
          "text": [
            "Plotting 2D heatmap in terms of (kappa, theta)...\n"
          ]
        },
        {
          "output_type": "display_data",
          "data": {
            "text/plain": [
              "<Figure size 288x288 with 1 Axes>"
            ],
            "image/png": "[encoded data removed]"
          },
          "metadata": {
            "needs_background": "light"
          }
        }
      ],
      "source": [
        "loc = True\n",
        "k_max = 1\n",
        "th_max = 1\n",
        "analyze_posteriors(string_ID, x_stats, y_stats, [], loc, k_max, th_max)"
      ]
    },
    {
      "cell_type": "code",
      "source": [
        "\n",
        "params = [beta, gamma, a, kappa, theta]\n",
        "Pss = get_GOU_2sp(mx, params)"
      ],
      "metadata": {
        "id": "N2f6wDx2nmM_"
      },
      "execution_count": null,
      "outputs": []
    },
    {
      "cell_type": "code",
      "source": [
        "-np.log(Pss[data]).sum()"
      ],
      "metadata": {
        "id": "5ZP_K2kMoxpM",
        "outputId": "8e9905f8-fd47-4faa-9131-13b0f2ad663f",
        "colab": {
          "base_uri": "https://localhost:8080/"
        }
      },
      "execution_count": null,
      "outputs": [
        {
          "output_type": "stream",
          "name": "stderr",
          "text": [
            "/usr/local/lib/python3.7/dist-packages/ipykernel_launcher.py:1: FutureWarning: Using a non-tuple sequence for multidimensional indexing is deprecated; use `arr[tuple(seq)]` instead of `arr[seq]`. In the future this will be interpreted as an array index, `arr[np.array(seq)]`, which will result either in an error or a different result.\n",
            "  \"\"\"Entry point for launching an IPython kernel.\n"
          ]
        },
        {
          "output_type": "execute_result",
          "data": {
            "text/plain": [
              "21292.99913091565"
            ]
          },
          "metadata": {},
          "execution_count": 56
        }
      ]
    },
    {
      "cell_type": "markdown",
      "source": [
        "Run for CIR\n"
      ],
      "metadata": {
        "id": "EeNCN6L8o83z"
      }
    },
    {
      "cell_type": "code",
      "source": [
        "string_ID = \"overdispersed\" \n",
        "trace_cir, x_stats_cir, y_stats_cir = (\n",
        "     get_parameter_posteriors(string_ID, const, mx, data, ll_func=ll_CIR, draws_=2000, tune_=600, chains_=1) )"
      ],
      "metadata": {
        "id": "3abgSpSao92f",
        "outputId": "65868bb2-125d-4a9b-86e3-b6890acc9d8e",
        "colab": {
          "base_uri": "https://localhost:8080/",
          "height": 441
        }
      },
      "execution_count": null,
      "outputs": [
        {
          "output_type": "stream",
          "name": "stderr",
          "text": [
            "/usr/local/lib/python3.7/dist-packages/ipykernel_launcher.py:79: FutureWarning: Using a non-tuple sequence for multidimensional indexing is deprecated; use `arr[tuple(seq)]` instead of `arr[seq]`. In the future this will be interpreted as an array index, `arr[np.array(seq)]`, which will result either in an error or a different result.\n",
            "/usr/local/lib/python3.7/dist-packages/ipykernel_launcher.py:31: FutureWarning: In v4.0, pm.sample will return an `arviz.InferenceData` object instead of a `MultiTrace` by default. You can pass return_inferencedata=True or return_inferencedata=False to be safe and silence this warning.\n",
            "Sequential sampling (1 chains in 1 job)\n",
            "DEMetropolisZ: [y, x]\n"
          ]
        },
        {
          "output_type": "display_data",
          "data": {
            "text/plain": [
              "<IPython.core.display.HTML object>"
            ],
            "text/html": [
              "\n",
              "<style>\n",
              "    /* Turns off some styling */\n",
              "    progress {\n",
              "        /* gets rid of default border in Firefox and Opera. */\n",
              "        border: none;\n",
              "        /* Needs to be in here for Safari polyfill so background images work as expected. */\n",
              "        background-size: auto;\n",
              "    }\n",
              "    .progress-bar-interrupted, .progress-bar-interrupted::-webkit-progress-bar {\n",
              "        background: #F44336;\n",
              "    }\n",
              "</style>\n"
            ]
          },
          "metadata": {}
        },
        {
          "output_type": "display_data",
          "data": {
            "text/plain": [
              "<IPython.core.display.HTML object>"
            ],
            "text/html": [
              "\n",
              "    <div>\n",
              "      <progress value='2600' class='' max='2600' style='width:300px; height:20px; vertical-align: middle;'></progress>\n",
              "      100.00% [2600/2600 01:40<00:00 Sampling chain 0, 0 divergences]\n",
              "    </div>\n",
              "    "
            ]
          },
          "metadata": {}
        },
        {
          "output_type": "stream",
          "name": "stderr",
          "text": [
            "Sampling 1 chain for 600 tune and 2_000 draw iterations (600 + 2_000 draws total) took 100 seconds.\n",
            "Only one chain was sampled, this makes it impossible to run some convergence checks\n"
          ]
        },
        {
          "output_type": "stream",
          "name": "stdout",
          "text": [
            "--- 100.93733406066895 seconds ---\n"
          ]
        },
        {
          "output_type": "display_data",
          "data": {
            "text/plain": [
              "<Figure size 864x288 with 4 Axes>"
            ],
            "image/png": "[encoded data removed]"
          },
          "metadata": {
            "needs_background": "light"
          }
        }
      ]
    },
    {
      "cell_type": "code",
      "source": [
        "loc = True\n",
        "k_max = 1\n",
        "th_max = 1\n",
        "analyze_posteriors(string_ID, x_stats_cir, y_stats_cir, [], loc, k_max, th_max)"
      ],
      "metadata": {
        "id": "D6XdTZjYo94w",
        "outputId": "018442fe-8298-4df4-b764-f2a6cf74e28d",
        "colab": {
          "base_uri": "https://localhost:8080/",
          "height": 1000
        }
      },
      "execution_count": null,
      "outputs": [
        {
          "output_type": "stream",
          "name": "stdout",
          "text": [
            "Plotting histograms in terms of (x,y)...\n"
          ]
        },
        {
          "output_type": "display_data",
          "data": {
            "text/plain": [
              "<Figure size 432x288 with 1 Axes>"
            ],
            "image/png": "[encoded data removed]"
          },
          "metadata": {
            "needs_background": "light"
          }
        },
        {
          "output_type": "display_data",
          "data": {
            "text/plain": [
              "<Figure size 432x288 with 1 Axes>"
            ],
            "image/png": "[encoded data removed]"
          },
          "metadata": {
            "needs_background": "light"
          }
        },
        {
          "output_type": "stream",
          "name": "stdout",
          "text": [
            "Plotting histograms in terms of (kappa, theta)...\n"
          ]
        },
        {
          "output_type": "display_data",
          "data": {
            "text/plain": [
              "<Figure size 432x288 with 1 Axes>"
            ],
            "image/png": "[encoded data removed]"
          },
          "metadata": {
            "needs_background": "light"
          }
        },
        {
          "output_type": "display_data",
          "data": {
            "text/plain": [
              "<Figure size 432x288 with 1 Axes>"
            ],
            "image/png": "[encoded data removed]"
          },
          "metadata": {
            "needs_background": "light"
          }
        },
        {
          "output_type": "stream",
          "name": "stdout",
          "text": [
            "Plotting 2D heatmap in terms of (x, y)...\n"
          ]
        },
        {
          "output_type": "display_data",
          "data": {
            "text/plain": [
              "<Figure size 288x288 with 1 Axes>"
            ],
            "image/png": "[encoded data removed]"
          },
          "metadata": {
            "needs_background": "light"
          }
        },
        {
          "output_type": "stream",
          "name": "stdout",
          "text": [
            "Plotting 2D heatmap in terms of (kappa, theta)...\n"
          ]
        },
        {
          "output_type": "display_data",
          "data": {
            "text/plain": [
              "<Figure size 288x288 with 1 Axes>"
            ],
            "image/png": "[encoded data removed]"
          },
          "metadata": {
            "needs_background": "light"
          }
        }
      ]
    },
    {
      "cell_type": "code",
      "source": [
        "a_cir, kappa_cir, theta_cir = convert_xy_to_params(x_stats_cir.mean(), y_stats_cir.mean(), beta, gamma, K_avg)"
      ],
      "metadata": {
        "id": "BaOiHqMCo96_"
      },
      "execution_count": null,
      "outputs": []
    },
    {
      "cell_type": "code",
      "source": [
        "\n",
        "params_cir = [beta, gamma, a_cir, kappa_cir, theta_cir]\n",
        "Pss_cir = get_CIR_2sp(mx, params_cir)"
      ],
      "metadata": {
        "id": "0Ys-VZtcpSGk"
      },
      "execution_count": null,
      "outputs": []
    },
    {
      "cell_type": "code",
      "source": [
        "-np.log(Pss_cir[data]).sum()"
      ],
      "metadata": {
        "id": "_PvlrXqipSI7",
        "outputId": "11a6666a-a1ae-406c-8678-6f7f29dd2ae3",
        "colab": {
          "base_uri": "https://localhost:8080/"
        }
      },
      "execution_count": null,
      "outputs": [
        {
          "output_type": "stream",
          "name": "stderr",
          "text": [
            "/usr/local/lib/python3.7/dist-packages/ipykernel_launcher.py:1: FutureWarning: Using a non-tuple sequence for multidimensional indexing is deprecated; use `arr[tuple(seq)]` instead of `arr[seq]`. In the future this will be interpreted as an array index, `arr[np.array(seq)]`, which will result either in an error or a different result.\n",
            "  \"\"\"Entry point for launching an IPython kernel.\n"
          ]
        },
        {
          "output_type": "execute_result",
          "data": {
            "text/plain": [
              "18665.73725482444"
            ]
          },
          "metadata": {},
          "execution_count": 57
        }
      ]
    },
    {
      "cell_type": "markdown",
      "source": [
        "we want likelihood/probability to be high... we want log-likelihood to be high... we want negative log likelihood to be low.\n",
        "\n",
        "So if the negative log likelihood of CIR - negative log likelihood of GOU is negative, then the negative log likelihood of CIR is higher, then CIR is preferred."
      ],
      "metadata": {
        "id": "XBr5wk2OrcBx"
      }
    },
    {
      "cell_type": "code",
      "source": [
        "(-np.log(Pss_cir[data]).sum()) - (-np.log(Pss[data]).sum())"
      ],
      "metadata": {
        "id": "Fv1ttlrQqre8",
        "outputId": "20125e03-5e76-4fa9-c97b-c72ea5dbb739",
        "colab": {
          "base_uri": "https://localhost:8080/"
        }
      },
      "execution_count": null,
      "outputs": [
        {
          "output_type": "stream",
          "name": "stderr",
          "text": [
            "/usr/local/lib/python3.7/dist-packages/ipykernel_launcher.py:1: FutureWarning: Using a non-tuple sequence for multidimensional indexing is deprecated; use `arr[tuple(seq)]` instead of `arr[seq]`. In the future this will be interpreted as an array index, `arr[np.array(seq)]`, which will result either in an error or a different result.\n",
            "  \"\"\"Entry point for launching an IPython kernel.\n"
          ]
        },
        {
          "output_type": "execute_result",
          "data": {
            "text/plain": [
              "-2627.261876091212"
            ]
          },
          "metadata": {},
          "execution_count": 58
        }
      ]
    },
    {
      "cell_type": "code",
      "source": [
        ""
      ],
      "metadata": {
        "id": "-bVPEUIEw6Al"
      },
      "execution_count": null,
      "outputs": []
    },
    {
      "cell_type": "markdown",
      "source": [
        "Then CIR is preferred by uhhhh\n",
        "\n",
        "some amount...\n",
        "-2627 seems excessive"
      ],
      "metadata": {
        "id": "y0bzVHnlsEie"
      }
    },
    {
      "cell_type": "code",
      "source": [
        "GOU_log_probability = np.zeros(len(x_stats))\n",
        "\n",
        "for i in range(len(x_stats)):\n",
        "    x = x_stats[i]\n",
        "    y = y_stats[i]\n",
        "    a, k, th = convert_xy_to_params(x, y , beta, gamma, K_avg)    \n",
        "    params = [beta, gamma, a, k, th]\n",
        "    Pss = get_GOU_2sp(mx, params)\n",
        "    GOU_log_probability[i] = np.log(Pss[data]).sum()"
      ],
      "metadata": {
        "id": "GsuOUO9dw62D",
        "outputId": "a6a9dee2-d459-4ce1-d5e7-6cd874480196",
        "colab": {
          "base_uri": "https://localhost:8080/"
        }
      },
      "execution_count": null,
      "outputs": [
        {
          "output_type": "stream",
          "name": "stderr",
          "text": [
            "/usr/local/lib/python3.7/dist-packages/ipykernel_launcher.py:9: FutureWarning: Using a non-tuple sequence for multidimensional indexing is deprecated; use `arr[tuple(seq)]` instead of `arr[seq]`. In the future this will be interpreted as an array index, `arr[np.array(seq)]`, which will result either in an error or a different result.\n",
            "  if __name__ == '__main__':\n"
          ]
        }
      ]
    },
    {
      "cell_type": "code",
      "source": [
        "import scipy"
      ],
      "metadata": {
        "id": "-uZ-yClny7Ko"
      },
      "execution_count": null,
      "outputs": []
    },
    {
      "cell_type": "code",
      "source": [
        "log_prob_GOU = scipy.special.logsumexp(GOU_log_probability)"
      ],
      "metadata": {
        "id": "FWAIrQflyzbC"
      },
      "execution_count": null,
      "outputs": []
    },
    {
      "cell_type": "code",
      "source": [
        "CIR_log_probability = np.zeros(len(x_stats_cir))\n",
        "\n",
        "for i in range(len(x_stats_cir)):\n",
        "    x = x_stats_cir[i]\n",
        "    y = y_stats_cir[i]\n",
        "    a, k, th = convert_xy_to_params(x, y , beta, gamma, K_avg)    \n",
        "    params = [beta, gamma, a, k, th]\n",
        "    Pss = get_CIR_2sp(mx, params)\n",
        "    CIR_log_probability[i] = np.log(Pss[data]).sum()"
      ],
      "metadata": {
        "id": "s20Xt87QyAf-",
        "outputId": "58709100-64a8-4e6d-b820-8a6cc9b90593",
        "colab": {
          "base_uri": "https://localhost:8080/"
        }
      },
      "execution_count": null,
      "outputs": [
        {
          "output_type": "stream",
          "name": "stderr",
          "text": [
            "/usr/local/lib/python3.7/dist-packages/ipykernel_launcher.py:9: FutureWarning: Using a non-tuple sequence for multidimensional indexing is deprecated; use `arr[tuple(seq)]` instead of `arr[seq]`. In the future this will be interpreted as an array index, `arr[np.array(seq)]`, which will result either in an error or a different result.\n",
            "  if __name__ == '__main__':\n"
          ]
        }
      ]
    },
    {
      "cell_type": "code",
      "source": [
        "log_prob_CIR = scipy.special.logsumexp(CIR_log_probability)"
      ],
      "metadata": {
        "id": "JR688SIxyJBD"
      },
      "execution_count": null,
      "outputs": []
    },
    {
      "cell_type": "code",
      "source": [
        "LOG_BAYES_FACTOR = log_prob_GOU - log_prob_CIR"
      ],
      "metadata": {
        "id": "IUzPPzrpyJDZ"
      },
      "execution_count": null,
      "outputs": []
    },
    {
      "cell_type": "code",
      "source": [
        "np.exp(LOG_BAYES_FACTOR)"
      ],
      "metadata": {
        "id": "ObYszvlSyJFv",
        "outputId": "03ba3331-155f-49fc-a959-27fe98849aa3",
        "colab": {
          "base_uri": "https://localhost:8080/"
        }
      },
      "execution_count": null,
      "outputs": [
        {
          "output_type": "execute_result",
          "data": {
            "text/plain": [
              "2.6270505041349854e-09"
            ]
          },
          "metadata": {},
          "execution_count": 78
        }
      ]
    },
    {
      "cell_type": "markdown",
      "source": [
        "it's aliiiiiiiiive\n",
        " omg\n",
        " "
      ],
      "metadata": {
        "id": "0D8h8e85zMa_"
      }
    },
    {
      "cell_type": "code",
      "source": [
        ""
      ],
      "metadata": {
        "id": "PIgMJGgWzMDr"
      },
      "execution_count": null,
      "outputs": []
    },
    {
      "cell_type": "code",
      "source": [
        ""
      ],
      "metadata": {
        "id": "1wOT_XXuzMHn"
      },
      "execution_count": null,
      "outputs": []
    },
    {
      "cell_type": "code",
      "source": [
        ""
      ],
      "metadata": {
        "id": "FV4jWRVszMJ-"
      },
      "execution_count": null,
      "outputs": []
    },
    {
      "cell_type": "code",
      "source": [
        ""
      ],
      "metadata": {
        "id": "p-cSunfSzLNu"
      },
      "execution_count": null,
      "outputs": []
    },
    {
      "cell_type": "code",
      "source": [
        ""
      ],
      "metadata": {
        "id": "2J1z6SIkzLQF"
      },
      "execution_count": null,
      "outputs": []
    },
    {
      "cell_type": "code",
      "source": [
        ""
      ],
      "metadata": {
        "id": "SEESxSVZw66w"
      },
      "execution_count": null,
      "outputs": []
    }
  ],
  "metadata": {
    "kernelspec": {
      "display_name": "Python 3",
      "language": "python",
      "name": "python3"
    },
    "language_info": {
      "codemirror_mode": {
        "name": "ipython",
        "version": 3
      },
      "file_extension": ".py",
      "mimetype": "text/x-python",
      "name": "python",
      "nbconvert_exporter": "python",
      "pygments_lexer": "ipython3",
      "version": "3.8.5"
    },
    "colab": {
      "name": "Interpretable and tractable models - Figure 3 companion notebook.ipynb",
      "provenance": [],
      "include_colab_link": true
    }
  },
  "nbformat": 4,
  "nbformat_minor": 0
}