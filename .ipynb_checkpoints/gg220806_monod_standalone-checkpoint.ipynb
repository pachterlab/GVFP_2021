{
 "cells": [
  {
   "cell_type": "markdown",
   "metadata": {
    "colab_type": "text",
    "id": "view-in-github"
   },
   "source": [
    "<a href=\"https://colab.research.google.com/github/pachterlab/GVFP_2021/blob/dev/gg220806_monod_standalone.ipynb\" target=\"_parent\"><img src=\"https://colab.research.google.com/assets/colab-badge.svg\" alt=\"Open In Colab\"/></a>"
   ]
  },
  {
   "cell_type": "markdown",
   "metadata": {
    "id": "VPTqP9OGouov"
   },
   "source": [
    "# Identification of CIR- and $\\Gamma$-OU-like genes"
   ]
  },
  {
   "cell_type": "markdown",
   "metadata": {
    "id": "d2qrzWG0_Yqm"
   },
   "source": [
    "In the current notebook, we attempt to find genes that consistently with the CIR and $\\Gamma$-OU models of stochastic time-dependent transcription, as well as genes that cannot be confidently assigned to one of the two models."
   ]
  },
  {
   "cell_type": "markdown",
   "metadata": {
    "id": "QqGJNnwEr9KZ"
   },
   "source": [
    "## Colab or non-local prerequisites"
   ]
  },
  {
   "cell_type": "code",
   "execution_count": 3,
   "metadata": {
    "colab": {
     "base_uri": "https://localhost:8080/"
    },
    "id": "gU64Ym6ksBX3",
    "outputId": "f665746f-5a9d-4c8d-a059-df707dfa5ef0"
   },
   "outputs": [],
   "source": [
    "!git clone https://github.com/pachterlab/monod.git"
   ]
  },
  {
   "cell_type": "code",
   "execution_count": 2,
   "metadata": {
    "id": "3EljkQ-dsQYx"
   },
   "outputs": [],
   "source": [
    "import sys\n",
    "sys.path.insert(0, './monod/src/')"
   ]
  },
  {
   "cell_type": "markdown",
   "metadata": {},
   "source": [
    "Necessary only in Colab."
   ]
  },
  {
   "cell_type": "code",
   "execution_count": 3,
   "metadata": {
    "colab": {
     "base_uri": "https://localhost:8080/"
    },
    "id": "Y97G5kYAsRU_",
    "outputId": "df32b889-5d42-4d98-ce1e-554f6c7b8700"
   },
   "outputs": [
    {
     "name": "stdout",
     "output_type": "stream",
     "text": [
      "Cloning into 'GVFP_2021'...\n",
      "remote: Enumerating objects: 1912, done.\u001b[K\n",
      "remote: Counting objects: 100% (558/558), done.\u001b[K\n",
      "remote: Compressing objects: 100% (321/321), done.\u001b[K\n",
      "remote: Total 1912 (delta 247), reused 548 (delta 237), pack-reused 1354\u001b[K\n",
      "Receiving objects: 100% (1912/1912), 846.36 MiB | 34.63 MiB/s, done.\n",
      "Resolving deltas: 100% (811/811), done.\n",
      "Checking out files: 100% (613/613), done.\n"
     ]
    }
   ],
   "source": [
    "!git clone --branch dev https://github.com/pachterlab/GVFP_2021.git"
   ]
  },
  {
   "cell_type": "code",
   "execution_count": 4,
   "metadata": {
    "id": "df0yTDmAsXW5"
   },
   "outputs": [],
   "source": [
    "!mv GVFP_2021/* ."
   ]
  },
  {
   "cell_type": "code",
   "execution_count": 7,
   "metadata": {
    "id": "uD8WVAt3saT9"
   },
   "outputs": [],
   "source": [
    "!rm -r GVFP_2021"
   ]
  },
  {
   "cell_type": "code",
   "execution_count": 18,
   "metadata": {
    "id": "LIiC8quWs5Bn"
   },
   "outputs": [],
   "source": [
    "%%capture\n",
    "!pip install loompy anndata numdifftools"
   ]
  },
  {
   "cell_type": "markdown",
   "metadata": {
    "id": "b7xvAgxMr7yk"
   },
   "source": [
    "## Predictive filtering: prerequisites"
   ]
  },
  {
   "cell_type": "markdown",
   "metadata": {
    "id": "eaIw2tirr7yl"
   },
   "source": [
    "First, we do a round of preliminary filtering using five moderate- to high-abundance glutamatergic cell subtypes from four mice, released by the Allen brain institute. This requires the *Monod* framework."
   ]
  },
  {
   "cell_type": "code",
   "execution_count": 4,
   "metadata": {
    "id": "LUYKnMm4r7yl"
   },
   "outputs": [],
   "source": [
    "import time\n",
    "t1 = time.time()"
   ]
  },
  {
   "cell_type": "markdown",
   "metadata": {
    "id": "dHqEaJxhr7yn"
   },
   "source": [
    "Define the dataset metadata and disk locations."
   ]
  },
  {
   "cell_type": "code",
   "execution_count": 5,
   "metadata": {
    "id": "c7lW1YAWsio8"
   },
   "outputs": [],
   "source": [
    "subcluster_loom_dir = './loom/'\n",
    "loom_directory = './loom/'"
   ]
  },
  {
   "cell_type": "code",
   "execution_count": 6,
   "metadata": {
    "id": "xGtSnNwLs1Gq"
   },
   "outputs": [],
   "source": [
    "transcriptome_filepath = './fits/gg_200524_mouse_genome_polyA_cum_1'"
   ]
  },
  {
   "cell_type": "code",
   "execution_count": 7,
   "metadata": {
    "id": "Kx9Vkj-lXUCE"
   },
   "outputs": [],
   "source": [
    "subcluster_names = ['l23it','l5it','l6it', 'l56np', 'l6ct']\n",
    "subcluster_dataset_names = ['allen_B08_'+y  for y in subcluster_names] \n",
    "subcluster_loom_filepaths = [subcluster_loom_dir+x+'.loom' for x in subcluster_dataset_names] \n",
    "\n",
    "attribute_names=['spliced','unspliced','gene_name','barcode']\n",
    "n_subcluster_datasets = len(subcluster_dataset_names)"
   ]
  },
  {
   "cell_type": "markdown",
   "metadata": {},
   "source": [
    "Define out-of-sample datasets."
   ]
  },
  {
   "cell_type": "code",
   "execution_count": 8,
   "metadata": {},
   "outputs": [],
   "source": [
    "sample_names = ['C01','B08','H12','F08']\n",
    "dataset_names = ['allen_'+y+'_glu'  for y in sample_names] \n",
    "sample_looms = [loom_directory+x+'.loom' for x in dataset_names] \n",
    "n_datasets = len(dataset_names)"
   ]
  },
  {
   "cell_type": "markdown",
   "metadata": {
    "id": "xPuXUZFdua7k"
   },
   "source": [
    "Define models to analyze."
   ]
  },
  {
   "cell_type": "code",
   "execution_count": 346,
   "metadata": {
    "id": "As0ETff0uacv"
   },
   "outputs": [],
   "source": [
    "models = ('Bursty','CIR','Extrinsic')\n",
    "n_models = len(models)\n",
    "colors = ('red',(0., 174/255, 239/255),'slateblue')\n",
    "gou_color=colors[0]\n",
    "cir_color=colors[1]\n",
    "ext_color=colors[2]"
   ]
  },
  {
   "cell_type": "markdown",
   "metadata": {},
   "source": [
    "This is the local installation of *Monod*, and should not be used on other machines."
   ]
  },
  {
   "cell_type": "code",
   "execution_count": 10,
   "metadata": {},
   "outputs": [],
   "source": [
    "import sys\n",
    "sys.path.insert(0, '/home/ggorin/projects/monod/src/')"
   ]
  },
  {
   "cell_type": "code",
   "execution_count": 11,
   "metadata": {
    "id": "MFhM3dNdr7yo"
   },
   "outputs": [],
   "source": [
    "import monod\n",
    "from monod.preprocess import *\n",
    "from monod.extract_data import extract_data\n",
    "import monod.cme_toolbox as cme_toolbox\n",
    "from monod.cme_toolbox import CMEModel\n",
    "import monod.inference as inference\n",
    "from monod.inference import InferenceParameters, GradientInference\n",
    "import monod.analysis as analysis\n",
    "from monod.analysis import *"
   ]
  },
  {
   "cell_type": "markdown",
   "metadata": {
    "id": "JTVHNvler7yp"
   },
   "source": [
    "## Helper functions"
   ]
  },
  {
   "cell_type": "markdown",
   "metadata": {
    "id": "cZfRwmVfr7yp"
   },
   "source": [
    "These helper functions evaluate and fit the $\\Gamma$-OU and CIR models."
   ]
  },
  {
   "cell_type": "code",
   "execution_count": 12,
   "metadata": {
    "id": "D_GGnjoRr7yq"
   },
   "outputs": [],
   "source": [
    "def par_fun_fullfit(fitinput):\n",
    "    U,S,n_restarts,maxiter = fitinput\n",
    "    reduced_guess=None\n",
    "    limit=None\n",
    "    pars_sde_gou = convert_pars(get_MLE('GOU',U,S,reduced_guess,disp=False,limit=limit,n_restarts=n_restarts,maxiter=maxiter))\n",
    "    pars_sde_cir = convert_pars(get_MLE('CIR',U,S,reduced_guess,disp=False,limit=limit,n_restarts=n_restarts,maxiter=maxiter))\n",
    "    lik_ratio, logL_gou, logL_cir = get_lik_ratio(pars_sde_gou,pars_sde_cir,U,S)\n",
    "    return lik_ratio,pars_sde_gou,pars_sde_cir,logL_gou, logL_cir\n",
    "\n",
    "\n",
    "def get_MoM(U,S):\n",
    "    raw_guess = np.zeros(4)\n",
    "    Um = U.mean()\n",
    "    Uv = U.var()\n",
    "    Sm = S.mean()\n",
    "    Sv = S.var()\n",
    "\n",
    "    beta = 1/Um #assuming <k>=1\n",
    "    gamma = 1/Sm\n",
    "    kappa = beta / ( (Sv - Sm)/(Uv - Um) * Um * (beta + gamma) / (Sm*beta) - 1) - gamma\n",
    "    theta = (kappa+beta)/Um * (Uv - Um)\n",
    "    \n",
    "    a = kappa/theta\n",
    "    \n",
    "    raw_guess = np.asarray([beta,gamma,kappa,theta])/a\n",
    "    \n",
    "    return raw_guess\n",
    "\n",
    "def get_MLE(model,U,S,reduced_guess=None,disp=True,limit='fast',n_restarts = 4,maxiter=10):\n",
    "    data = np.unique(np.vstack((U,S)).astype(int),\\\n",
    "                     axis=1,return_counts=True)\n",
    "    \n",
    "    \n",
    "    phys_lb = np.asarray([-2]*4)+np.random.randn(4)*0.02\n",
    "    phys_ub = np.asarray([2]*4)+np.random.randn(4)*0.02\n",
    "    phys_lb_raw = 10**phys_lb\n",
    "    phys_ub_raw = 10**phys_ub\n",
    "    \n",
    "    initial_guess = np.zeros(4)\n",
    "    if reduced_guess is not None:\n",
    "        raw_guess = 10**reduced_guess\n",
    "        if limit=='fast':\n",
    "            initial_guess[0] = raw_guess[1] #beta\n",
    "            initial_guess[1] = raw_guess[2] #gamma\n",
    "            initial_guess[2] = 5.9 #kappa -- must be pretty fast\n",
    "            initial_guess[3] = raw_guess[0]*initial_guess[2] #theta\n",
    "        elif limit=='slow':\n",
    "            initial_guess[2] = 1/raw_guess[0] #alpha=a/kappa, a set to 1\n",
    "            initial_guess[3] = 4 #theta: arbitary\n",
    "            initial_guess[0] = raw_guess[1]*initial_guess[3] #beta\n",
    "            initial_guess[1] = raw_guess[2]*initial_guess[3] #gamma\n",
    "    else:\n",
    "        raw_guess = get_MoM(U,S)\n",
    "        initial_guess = np.clip(raw_guess,phys_lb_raw,phys_ub_raw)\n",
    "    log_initial_guess = np.log10(initial_guess)\n",
    "    \n",
    "    if model=='CIR':\n",
    "        pssfun = get_CIR_2sp\n",
    "    if model=='GOU':\n",
    "        pssfun = get_GOU_2sp\n",
    "        \n",
    "    err = np.inf\n",
    "    err_thr = 0.99\n",
    "    if n_restarts>0:\n",
    "        for restart in range(n_restarts):\n",
    "            if restart>0:\n",
    "                log_initial_guess = np.random.rand(4) * (phys_ub-phys_lb) + phys_lb\n",
    "            grad_bnd=scipy.optimize.Bounds(phys_lb,phys_ub)\n",
    "            res_arr = scipy.optimize.minimize(lambda x: get_kld(x,pssfun,data),\n",
    "                                x0=log_initial_guess, \\\n",
    "                                bounds=grad_bnd,\\\n",
    "                                options={'maxiter':maxiter,'disp':disp})\n",
    "            if res_arr.fun<err*err_thr:\n",
    "                x=res_arr.x\n",
    "                err=res_arr.fun\n",
    "        return x\n",
    "    else:\n",
    "        return log_initial_guess\n",
    "    \n",
    "    \n",
    "def convert_pars(pars): #go from log10 4 parameters to raw 5 parameters\n",
    "    raw_pars = 10**pars\n",
    "    pars_sde = np.zeros(5)\n",
    "    pars_sde[0] = raw_pars[0] #beta\n",
    "    pars_sde[1] = raw_pars[1] #gamma\n",
    "    pars_sde[2] = 1\n",
    "    pars_sde[3] = raw_pars[2] #kappa\n",
    "    pars_sde[4] = raw_pars[3] #theta\n",
    "    return pars_sde\n",
    "\n",
    "def get_lik_ratio(pars_gou,pars_cir,U,S,EPS=1e-15):\n",
    "    data = np.unique(np.vstack((U,S)).astype(int),\\\n",
    "                     axis=1,return_counts=True)\n",
    "    unique_values, counts = data\n",
    "    coords = tuple([tuple(x) for x in unique_values.T])\n",
    "    mx = unique_values.max(1)+10\n",
    "    pss_gou = get_GOU_2sp(np.copy(mx),pars_gou)\n",
    "    pss_cir = get_CIR_2sp(np.copy(mx),pars_cir)\n",
    "    \n",
    "    pss_gou[pss_gou<EPS] = EPS\n",
    "    pss_gou = [pss_gou[x] for x in coords]\n",
    "    pss_cir[pss_cir<EPS] = EPS\n",
    "    pss_cir = [pss_cir[x] for x in coords]\n",
    "    logL_gou = (counts * np.log(pss_gou)).sum()\n",
    "    logL_cir = (counts * np.log(pss_cir)).sum()\n",
    "    lik_ratio = logL_cir - logL_gou\n",
    "    return lik_ratio, logL_gou, logL_cir\n",
    "    \n",
    "    \n",
    "\n",
    "def get_kld(pars,pssfun,data,EPS=1e-15):\n",
    "    unique_values, counts = data\n",
    "    mx = unique_values.max(1)+10\n",
    "    proposal_probabilities = pssfun(np.copy(mx),convert_pars(pars))\n",
    "    proposal_probabilities[proposal_probabilities<EPS] = EPS\n",
    "    coords = tuple([tuple(x) for x in unique_values.T])\n",
    "    proposal_probabilities = [proposal_probabilities[x] for x in coords]\n",
    "    kld = counts * np.log(counts / proposal_probabilities)\n",
    "    return np.sum(kld)\n",
    "\n",
    "\n",
    "from numpy.fft import irfftn\n",
    "x_gauss,w_gauss = scipy.special.roots_legendre(60, mu=False)\n",
    "\n",
    "def get_gf_GOU_2sp_ODE(g0, g1, params):\n",
    "    beta_0, beta_1, a, kappa, theta = params     # get parameters\n",
    "    \n",
    "    c0 = (g0) + (beta_0/(beta_1 - beta_0))*(g1)       #  relevant linear combinations of g_i\n",
    "    c1 = - (beta_0/(beta_1 - beta_0))*(g1)   \n",
    "    \n",
    "    min_fudge, max_fudge = 1, 10                                     # Determine integration time scale / length\n",
    "    dt = np.min([1/kappa, 1/theta, 1/beta_0, 1/beta_1])*min_fudge\n",
    "    t_max = np.max([1/kappa, 1/theta, 1/beta_0, 1/beta_1])*max_fudge\n",
    "    num_tsteps = int(np.ceil(t_max/dt))\n",
    "    \n",
    "#     t_array = np.linspace(0, t_max, num_tsteps+1)\n",
    "#     t_array = t_array.reshape((1, num_tsteps + 1))\n",
    "    t_array = (t_max*(x_gauss+1)/2)[None,:]\n",
    "    \n",
    "    q = np.zeros((g0.shape[0], num_tsteps + 1), dtype=np.complex64)    # initialize array to store ODE\n",
    "    c0 = c0.reshape((c0.shape[0],1))\n",
    "    c1 = c1.reshape((c1.shape[0],1))\n",
    "\n",
    "    q0 = theta*c0*(np.exp(-beta_0*t_array) - np.exp(-kappa*t_array))/(kappa - beta_0) \n",
    "    q1 = theta*c1*(np.exp(-beta_1*t_array) - np.exp(-kappa*t_array))/(kappa - beta_1)\n",
    "    q = q0 + q1\n",
    "    \n",
    "\n",
    "    integrand = q/(1-q)\n",
    "    \n",
    "#     print(integrand.shape)\n",
    "#     print(w_gauss.shape)\n",
    "    integral=np.matmul(integrand,w_gauss[:,None]).sum(1)/2*t_max\n",
    "#     integral = np.trapz(integrand, dx=dt, axis=1)     # integrate ODE solution\n",
    "    gf = np.exp( a*integral)               # get generating function\n",
    "    return gf\n",
    "\n",
    "\n",
    "# Get Pss for 2 species GOU model via ODE method\n",
    "def get_GOU_2sp(mx, params):\n",
    "    # Get generating function argument\n",
    "    u = []\n",
    "    half = np.copy(mx[:])\n",
    "    half[-1] = mx[-1]//2 + 1\n",
    "    for i in range(len(mx)):\n",
    "        l = np.arange(half[i])\n",
    "        u_ = np.exp(-2j*np.pi*l/mx[i])-1\n",
    "        u.append(u_)\n",
    "    g = np.meshgrid(*[u_ for u_ in u], indexing='ij')\n",
    "    for i in range(len(mx)):\n",
    "        g[i] = g[i].flatten()\n",
    "    \n",
    "    # Get generating function\n",
    "    gf = get_gf_GOU_2sp_ODE(g[0], g[1], params)                    \n",
    "    gf = gf.reshape(tuple(half))\n",
    "    \n",
    "    Pss = irfftn(gf, s=mx)                        # Get Pss by inverse fast Fourier transform\n",
    "    Pss = np.abs(Pss)/np.sum(np.abs(Pss))           # Normalize\n",
    "    return Pss\n",
    "\n",
    "\n",
    "# ODE for 2 species CIR model\n",
    "def f_2sp(q, t, c0, c1, params):\n",
    "    beta_0, beta_1, a, kappa, theta = params\n",
    "    result = - kappa*q + theta*q*q + kappa*( c0*np.exp(-beta_0*t) + c1*np.exp(-beta_1*t)  ) \n",
    "    return result\n",
    "\n",
    "\n",
    "# Vectorized RK4 implementation for 2 species CIR model\n",
    "def RK4_2sp(q, f, t, c0, c1, step_size, param):\n",
    "    j1 = f(q, t, c0, c1, param)\n",
    "    j2 = f(q + (step_size/2)*j1, t + (step_size/2), c0, c1, param)   \n",
    "    j3 = f(q + (step_size/2)*j2, t + (step_size/2), c0, c1, param)   \n",
    "    j4 = f(q + (step_size)*j3, t + (step_size), c0, c1, param)  \n",
    "    \n",
    "    q_new = q + (step_size/6)*(j1 + 2*j2 + 2*j3 + j4)\n",
    "    return q_new\n",
    "\n",
    "\n",
    "# Get 2 species CIR generating function using ODE method\n",
    "def get_gf_CIR_2sp(g0, g1, params):\n",
    "#     print('in pgf routine')\n",
    "    beta_0, beta_1, a, kappa, theta = params     # get parameters\n",
    "    \n",
    "    c0 = (g0) + (beta_0/(beta_1 - beta_0))*(g1)       #  relevant linear combinations of g_i\n",
    "    c1 = - (beta_0/(beta_1 - beta_0))*(g1)   \n",
    "\n",
    "    t_max = (1/np.asarray(params)).max()*5   \n",
    "    c0 = c0[:,None]\n",
    "    c1 = c1[:,None]\n",
    "    t_eval = t_max*(x_gauss+1)/2\n",
    "    def intfun_(t,y):\n",
    "        return f_2sp(y, t, c0, c1, params)\n",
    "    rk = scipy.integrate.solve_ivp(fun=intfun_,t_span=[0,t_max],y0=np.zeros((g0.shape[0]), dtype=np.complex64),t_eval = t_eval,\n",
    "                              vectorized=True)\n",
    "    try:\n",
    "        integral = np.matmul(rk.y,w_gauss[:,None]).sum(1)/2*t_max\n",
    "    except:\n",
    "        print('falling back on jjv solution')\n",
    "        min_fudge, max_fudge = 0.5, 10                                     # Determine integration time scale / length\n",
    "        dt = np.min([1/kappa, 1/theta, 1/beta_0, 1/beta_1])*min_fudge\n",
    "        num_tsteps = int(np.ceil(t_max/dt))\n",
    "        q = np.zeros((g0.shape[0], num_tsteps + 1), dtype=np.complex64)    # initialize array to store ODE\n",
    "\n",
    "        # Solve ODE using RK4 method \n",
    "        for i in range(0, num_tsteps):\n",
    "            t = i*dt\n",
    "            q[:,i+1] = RK4_2sp(q[:,i], f_2sp, t, c0[:,0], c1[:,0], dt, params)\n",
    "\n",
    "        integral = np.trapz(q, dx=dt, axis=1)     # integrate ODE solution\n",
    "        if (~np.isfinite(integral)).any():\n",
    "            print('Procedure failed.')\n",
    "            print(params)\n",
    "            print(rk.y.shape)\n",
    "            print(w_gauss[:,None].shape)\n",
    "            print(t_eval.shape)\n",
    "            print(x_gauss.shape)\n",
    "            print(t_max)\n",
    "            \n",
    "    gf = np.exp((a*theta/kappa)*integral)               # get generating function\n",
    "    return gf\n",
    "\n",
    "\n",
    "# Get Pss for 2 species CIR model via ODE method\n",
    "def get_CIR_2sp(mx, params):\n",
    "    # Get generating function argument\n",
    "    u = []\n",
    "    half = np.copy(mx[:])\n",
    "    half[-1] = mx[-1]//2 + 1\n",
    "    for i in range(len(mx)):\n",
    "        l = np.arange(half[i])\n",
    "        u_ = np.exp(-2j*np.pi*l/mx[i])-1\n",
    "        u.append(u_)\n",
    "    g = np.meshgrid(*[u_ for u_ in u], indexing='ij')\n",
    "    for i in range(len(mx)):\n",
    "        g[i] = g[i].flatten()\n",
    "    \n",
    "    # Get generating function\n",
    "    gf = get_gf_CIR_2sp(g[0], g[1], params)                    \n",
    "    gf = gf.reshape(tuple(half))\n",
    "                              \n",
    "    Pss = irfftn(gf, s=mx)                        # Get Pss by inverse fast Fourier transform\n",
    "    Pss = np.abs(Pss)/np.sum(np.abs(Pss))           # Normalize\n",
    "    return Pss\n"
   ]
  },
  {
   "cell_type": "markdown",
   "metadata": {
    "id": "RlkMO_TBr7ys"
   },
   "source": [
    "## Predictive filtering: preprocessing"
   ]
  },
  {
   "cell_type": "markdown",
   "metadata": {
    "id": "GuqrZNh8r7yt"
   },
   "source": [
    "Construct a batch by finding 3,000 genes which have at least moderate expression across all datasets. Visualize the set of genes (purple) that meet the expression filtering criteria."
   ]
  },
  {
   "cell_type": "code",
   "execution_count": 9,
   "metadata": {
    "colab": {
     "base_uri": "https://localhost:8080/"
    },
    "id": "q6uC8qrYXUEP",
    "outputId": "8bc5d40b-18da-4e6f-ac41-f698c59bb201",
    "scrolled": true
   },
   "outputs": [
    {
     "name": "stdout",
     "output_type": "stream",
     "text": [
      "INFO:root:Beginning data preprocessing and filtering.\n",
      "WARNING:root:Directory ./fits/GVFP_nodate_022_subtypes_1 already exists.\n",
      "INFO:root:Dataset: allen_B08_l23it\n",
      "INFO:root:621 cells detected.\n",
      "INFO:root:32285 features observed, 32005 match genome annotations. 31649 were unique.\n",
      "INFO:root:5864 genes retained after expression filter.\n",
      "WARNING:root:Directory ./fits/GVFP_nodate_022_subtypes_1/allen_B08_l23it already exists.\n",
      "INFO:root:Dataset: allen_B08_l5it\n",
      "INFO:root:1702 cells detected.\n",
      "INFO:root:32285 features observed, 32005 match genome annotations. 31649 were unique.\n",
      "INFO:root:6759 genes retained after expression filter.\n",
      "WARNING:root:Directory ./fits/GVFP_nodate_022_subtypes_1/allen_B08_l5it already exists.\n",
      "INFO:root:Dataset: allen_B08_l6it\n",
      "INFO:root:471 cells detected.\n",
      "INFO:root:32285 features observed, 32005 match genome annotations. 31649 were unique.\n",
      "INFO:root:5773 genes retained after expression filter.\n",
      "WARNING:root:Directory ./fits/GVFP_nodate_022_subtypes_1/allen_B08_l6it already exists.\n",
      "INFO:root:Dataset: allen_B08_l56np\n",
      "INFO:root:191 cells detected.\n",
      "INFO:root:32285 features observed, 32005 match genome annotations. 31649 were unique.\n",
      "INFO:root:4268 genes retained after expression filter.\n",
      "WARNING:root:Directory ./fits/GVFP_nodate_022_subtypes_1/allen_B08_l56np already exists.\n",
      "INFO:root:Dataset: allen_B08_l6ct\n",
      "INFO:root:1359 cells detected.\n",
      "INFO:root:32285 features observed, 32005 match genome annotations. 31649 were unique.\n",
      "INFO:root:6599 genes retained after expression filter.\n",
      "WARNING:root:Directory ./fits/GVFP_nodate_022_subtypes_1/allen_B08_l6ct already exists.\n",
      "INFO:root:Gene set size: 3787\n",
      "INFO:root:3000 genes selected.\n"
     ]
    }
   ],
   "source": [
    "subcluster_dir_string,subcluster_dataset_strings = construct_batch(subcluster_loom_filepaths, \\\n",
    "                                             transcriptome_filepath, \\\n",
    "                                             subcluster_dataset_names, \\\n",
    "                                             attribute_names=attribute_names,\\\n",
    "                                             batch_location='./fits',meta='subtypes',batch_id=1,\\\n",
    "                                             n_genes=3000,viz=False,datestring='nodate',creator='GVFP')"
   ]
  },
  {
   "cell_type": "markdown",
   "metadata": {
    "id": "DqbTdmw1r7yv"
   },
   "source": [
    "## Predictive filtering: inference with *Monod*"
   ]
  },
  {
   "cell_type": "markdown",
   "metadata": {
    "id": "ozKD1Rxkr7yv"
   },
   "source": [
    "Here, we iterate over the subcluster datasets and fit the three models, omitting technical noise."
   ]
  },
  {
   "cell_type": "code",
   "execution_count": 10,
   "metadata": {
    "id": "WofE7NvHr7yv"
   },
   "outputs": [],
   "source": [
    "def par_fun_monod(x):\n",
    "    models = ('Bursty','CIR','Extrinsic')\n",
    "    n_models = len(models)\n",
    "    fp,tx,dn,ds,dirs,att = x\n",
    "    result_strings = []\n",
    "    for j in range(n_models):\n",
    "        fitmodel = CMEModel(models[j],'None')\n",
    "        inference_parameters = InferenceParameters([-2.0, -2.0, -2.0],[4.2, 2.5, 3.5],[1,1],[1,1],[1,1],\\\n",
    "                    ds,fitmodel,use_lengths = False,\n",
    "                    gradient_params = {'max_iterations':10,'init_pattern':'moments','num_restarts':1})\n",
    "        if j==0:\n",
    "            search_data = extract_data(fp,tx,dn,\n",
    "                                ds,dirs,dataset_attr_names=att)\n",
    "        else:\n",
    "            search_data = load_search_data(ds+'/raw.sd')\n",
    "        full_result_string = inference_parameters.fit_all_grid_points(1,search_data)\n",
    "        result_strings.append(full_result_string)\n",
    "    return result_strings"
   ]
  },
  {
   "cell_type": "code",
   "execution_count": 11,
   "metadata": {
    "colab": {
     "base_uri": "https://localhost:8080/"
    },
    "id": "SnTuuDDntY3Y",
    "outputId": "eabaf67e-4ef8-4307-f624-a79a9ebe4e1d"
   },
   "outputs": [
    {
     "data": {
      "text/plain": [
       "['./loom/allen_B08_l23it.loom',\n",
       " './loom/allen_B08_l5it.loom',\n",
       " './loom/allen_B08_l6it.loom',\n",
       " './loom/allen_B08_l56np.loom',\n",
       " './loom/allen_B08_l6ct.loom']"
      ]
     },
     "execution_count": 11,
     "metadata": {},
     "output_type": "execute_result"
    }
   ],
   "source": [
    "subcluster_loom_filepaths"
   ]
  },
  {
   "cell_type": "code",
   "execution_count": 12,
   "metadata": {
    "colab": {
     "base_uri": "https://localhost:8080/"
    },
    "id": "sC-C4Vh1r7yw",
    "outputId": "7760e8bb-9342-4b15-b3a3-a4efb5ffd24e",
    "scrolled": true
   },
   "outputs": [
    {
     "name": "stdout",
     "output_type": "stream",
     "text": [
      "INFO:root:Sequencing model set to None. All sampling parameters set to null.\n",
      "INFO:root:Sequencing model set to None. All sampling parameters set to null.\n",
      "INFO:root:Sequencing model set to None. All sampling parameters set to null.\n",
      "INFO:root:Sequencing model set to None. All sampling parameters set to null.\n",
      "INFO:root:Sequencing model set to None. All sampling parameters set to null.\n",
      "WARNING:root:Directory ./fits/GVFP_nodate_022_subtypes_1/allen_B08_l23it/Bursty_None_1x1 already exists.\n",
      "WARNING:root:Directory ./fits/GVFP_nodate_022_subtypes_1/allen_B08_l6it/Bursty_None_1x1 already exists.\n",
      "WARNING:root:Directory ./fits/GVFP_nodate_022_subtypes_1/allen_B08_l5it/Bursty_None_1x1 already exists.\n",
      "WARNING:root:Directory ./fits/GVFP_nodate_022_subtypes_1/allen_B08_l6ct/Bursty_None_1x1 already exists.\n",
      "WARNING:root:Directory ./fits/GVFP_nodate_022_subtypes_1/allen_B08_l56np/Bursty_None_1x1 already exists.\n",
      "INFO:root:Global inference parameters stored to ./fits/GVFP_nodate_022_subtypes_1/allen_B08_l23it/Bursty_None_1x1/parameters.pr.\n",
      "INFO:root:Global inference parameters stored to ./fits/GVFP_nodate_022_subtypes_1/allen_B08_l6it/Bursty_None_1x1/parameters.pr.\n",
      "INFO:root:Global inference parameters stored to ./fits/GVFP_nodate_022_subtypes_1/allen_B08_l5it/Bursty_None_1x1/parameters.pr.\n",
      "INFO:root:Global inference parameters stored to ./fits/GVFP_nodate_022_subtypes_1/allen_B08_l6ct/Bursty_None_1x1/parameters.pr.\n",
      "INFO:root:Global inference parameters stored to ./fits/GVFP_nodate_022_subtypes_1/allen_B08_l56np/Bursty_None_1x1/parameters.pr.\n",
      "INFO:root:Beginning data extraction.\n",
      "INFO:root:Beginning data extraction.\n",
      "INFO:root:Beginning data extraction.\n",
      "INFO:root:Beginning data extraction.\n",
      "INFO:root:Beginning data extraction.\n",
      "INFO:root:Dataset: allen_B08_l23it\n",
      "INFO:root:Dataset: allen_B08_l6it\n",
      "INFO:root:Dataset: allen_B08_l5it\n",
      "INFO:root:Dataset: allen_B08_l6ct\n",
      "INFO:root:Dataset: allen_B08_l56np\n",
      "INFO:root:32285 features observed, 32005 match genome annotations. 31649 were unique.\n",
      "INFO:root:Gene list extracted from ./fits/GVFP_nodate_022_subtypes_1/genes.csv.\n",
      "INFO:root:32285 features observed, 32005 match genome annotations. 31649 were unique.\n",
      "INFO:root:Gene list extracted from ./fits/GVFP_nodate_022_subtypes_1/genes.csv.\n",
      "INFO:root:32285 features observed, 32005 match genome annotations. 31649 were unique.\n",
      "INFO:root:Gene list extracted from ./fits/GVFP_nodate_022_subtypes_1/genes.csv.\n",
      "WARNING:root:Directory ./fits/GVFP_nodate_022_subtypes_1/allen_B08_l56np/diagnostic_figures already exists.\n",
      "INFO:root:32285 features observed, 32005 match genome annotations. 31649 were unique.\n",
      "INFO:root:Gene list extracted from ./fits/GVFP_nodate_022_subtypes_1/genes.csv.\n",
      "WARNING:root:Directory ./fits/GVFP_nodate_022_subtypes_1/allen_B08_l6it/diagnostic_figures already exists.\n",
      "INFO:root:32285 features observed, 32005 match genome annotations. 31649 were unique.\n",
      "WARNING:root:Directory ./fits/GVFP_nodate_022_subtypes_1/allen_B08_l23it/diagnostic_figures already exists.\n",
      "INFO:root:Gene list extracted from ./fits/GVFP_nodate_022_subtypes_1/genes.csv.\n",
      "WARNING:root:Directory ./fits/GVFP_nodate_022_subtypes_1/allen_B08_l6ct/diagnostic_figures already exists.\n",
      "WARNING:root:Directory ./fits/GVFP_nodate_022_subtypes_1/allen_B08_l5it/diagnostic_figures already exists.\n",
      "INFO:root:Search data stored to ./fits/GVFP_nodate_022_subtypes_1/allen_B08_l56np/raw.sd.\n",
      "INFO:root:Starting non-parallelized grid scan.\n",
      "INFO:root:Search data stored to ./fits/GVFP_nodate_022_subtypes_1/allen_B08_l6it/raw.sd.\n",
      "INFO:root:Starting non-parallelized grid scan.\n",
      "INFO:root:Search data stored to ./fits/GVFP_nodate_022_subtypes_1/allen_B08_l23it/raw.sd.\n",
      "INFO:root:Starting non-parallelized grid scan.\n",
      "INFO:root:Search data stored to ./fits/GVFP_nodate_022_subtypes_1/allen_B08_l6ct/raw.sd.\n",
      "INFO:root:Starting non-parallelized grid scan.\n",
      "INFO:root:Search data stored to ./fits/GVFP_nodate_022_subtypes_1/allen_B08_l5it/raw.sd.\n",
      "INFO:root:Starting non-parallelized grid scan.\n",
      "INFO:root:Non-parallelized grid scan complete.\n",
      "INFO:root:All grid point data cleaned from disk.\n",
      "INFO:root:Directory ./fits/GVFP_nodate_022_subtypes_1/allen_B08_l56np/Bursty_None_1x1/analysis_figures created.\n",
      "INFO:root:Runtime: 99.4 seconds.\n",
      "INFO:root:Sequencing model set to None. All sampling parameters set to null.\n",
      "WARNING:root:Directory ./fits/GVFP_nodate_022_subtypes_1/allen_B08_l56np/CIR_None_1x1 already exists.\n",
      "INFO:root:Global inference parameters stored to ./fits/GVFP_nodate_022_subtypes_1/allen_B08_l56np/CIR_None_1x1/parameters.pr.\n",
      "INFO:root:Search data loaded from ./fits/GVFP_nodate_022_subtypes_1/allen_B08_l56np/raw.sd.\n",
      "INFO:root:Starting non-parallelized grid scan.\n",
      "INFO:root:Non-parallelized grid scan complete.\n",
      "INFO:root:All grid point data cleaned from disk.\n",
      "INFO:root:Directory ./fits/GVFP_nodate_022_subtypes_1/allen_B08_l6it/Bursty_None_1x1/analysis_figures created.\n",
      "INFO:root:Runtime: 130.5 seconds.\n",
      "INFO:root:Sequencing model set to None. All sampling parameters set to null.\n",
      "WARNING:root:Directory ./fits/GVFP_nodate_022_subtypes_1/allen_B08_l6it/CIR_None_1x1 already exists.\n",
      "INFO:root:Global inference parameters stored to ./fits/GVFP_nodate_022_subtypes_1/allen_B08_l6it/CIR_None_1x1/parameters.pr.\n",
      "INFO:root:Search data loaded from ./fits/GVFP_nodate_022_subtypes_1/allen_B08_l6it/raw.sd.\n",
      "INFO:root:Starting non-parallelized grid scan.\n",
      "INFO:root:Non-parallelized grid scan complete.\n",
      "INFO:root:All grid point data cleaned from disk.\n",
      "INFO:root:Directory ./fits/GVFP_nodate_022_subtypes_1/allen_B08_l23it/Bursty_None_1x1/analysis_figures created.\n",
      "INFO:root:Runtime: 141.4 seconds.\n",
      "INFO:root:Sequencing model set to None. All sampling parameters set to null.\n",
      "WARNING:root:Directory ./fits/GVFP_nodate_022_subtypes_1/allen_B08_l23it/CIR_None_1x1 already exists.\n",
      "INFO:root:Global inference parameters stored to ./fits/GVFP_nodate_022_subtypes_1/allen_B08_l23it/CIR_None_1x1/parameters.pr.\n",
      "INFO:root:Search data loaded from ./fits/GVFP_nodate_022_subtypes_1/allen_B08_l23it/raw.sd.\n",
      "INFO:root:Starting non-parallelized grid scan.\n",
      "INFO:root:Non-parallelized grid scan complete.\n",
      "INFO:root:All grid point data cleaned from disk.\n",
      "INFO:root:Directory ./fits/GVFP_nodate_022_subtypes_1/allen_B08_l6ct/Bursty_None_1x1/analysis_figures created.\n",
      "INFO:root:Runtime: 156.4 seconds.\n",
      "INFO:root:Sequencing model set to None. All sampling parameters set to null.\n",
      "WARNING:root:Directory ./fits/GVFP_nodate_022_subtypes_1/allen_B08_l6ct/CIR_None_1x1 already exists.\n",
      "INFO:root:Global inference parameters stored to ./fits/GVFP_nodate_022_subtypes_1/allen_B08_l6ct/CIR_None_1x1/parameters.pr.\n",
      "INFO:root:Search data loaded from ./fits/GVFP_nodate_022_subtypes_1/allen_B08_l6ct/raw.sd.\n",
      "INFO:root:Starting non-parallelized grid scan.\n",
      "INFO:root:Non-parallelized grid scan complete.\n",
      "INFO:root:All grid point data cleaned from disk.\n",
      "INFO:root:Directory ./fits/GVFP_nodate_022_subtypes_1/allen_B08_l5it/Bursty_None_1x1/analysis_figures created.\n",
      "INFO:root:Runtime: 231.6 seconds.\n",
      "INFO:root:Sequencing model set to None. All sampling parameters set to null.\n",
      "WARNING:root:Directory ./fits/GVFP_nodate_022_subtypes_1/allen_B08_l5it/CIR_None_1x1 already exists.\n",
      "INFO:root:Global inference parameters stored to ./fits/GVFP_nodate_022_subtypes_1/allen_B08_l5it/CIR_None_1x1/parameters.pr.\n",
      "INFO:root:Search data loaded from ./fits/GVFP_nodate_022_subtypes_1/allen_B08_l5it/raw.sd.\n",
      "INFO:root:Starting non-parallelized grid scan.\n",
      "INFO:root:Non-parallelized grid scan complete.\n",
      "INFO:root:All grid point data cleaned from disk.\n",
      "INFO:root:Directory ./fits/GVFP_nodate_022_subtypes_1/allen_B08_l56np/CIR_None_1x1/analysis_figures created.\n",
      "INFO:root:Runtime: 180.7 seconds.\n",
      "INFO:root:Sequencing model set to None. All sampling parameters set to null.\n",
      "INFO:root:Directory ./fits/GVFP_nodate_022_subtypes_1/allen_B08_l56np/Extrinsic_None_1x1 created.\n",
      "INFO:root:Global inference parameters stored to ./fits/GVFP_nodate_022_subtypes_1/allen_B08_l56np/Extrinsic_None_1x1/parameters.pr.\n",
      "INFO:root:Search data loaded from ./fits/GVFP_nodate_022_subtypes_1/allen_B08_l56np/raw.sd.\n",
      "INFO:root:Starting non-parallelized grid scan.\n",
      "INFO:root:Non-parallelized grid scan complete.\n",
      "INFO:root:All grid point data cleaned from disk.\n",
      "INFO:root:Directory ./fits/GVFP_nodate_022_subtypes_1/allen_B08_l56np/Extrinsic_None_1x1/analysis_figures created.\n"
     ]
    },
    {
     "name": "stdout",
     "output_type": "stream",
     "text": [
      "INFO:root:Runtime: 36.3 seconds.\n",
      "INFO:root:Non-parallelized grid scan complete.\n",
      "INFO:root:All grid point data cleaned from disk.\n",
      "INFO:root:Directory ./fits/GVFP_nodate_022_subtypes_1/allen_B08_l6it/CIR_None_1x1/analysis_figures created.\n",
      "INFO:root:Runtime: 254.2 seconds.\n",
      "INFO:root:Sequencing model set to None. All sampling parameters set to null.\n",
      "INFO:root:Directory ./fits/GVFP_nodate_022_subtypes_1/allen_B08_l6it/Extrinsic_None_1x1 created.\n",
      "INFO:root:Global inference parameters stored to ./fits/GVFP_nodate_022_subtypes_1/allen_B08_l6it/Extrinsic_None_1x1/parameters.pr.\n",
      "INFO:root:Search data loaded from ./fits/GVFP_nodate_022_subtypes_1/allen_B08_l6it/raw.sd.\n",
      "INFO:root:Starting non-parallelized grid scan.\n",
      "INFO:root:Non-parallelized grid scan complete.\n",
      "INFO:root:All grid point data cleaned from disk.\n",
      "INFO:root:Directory ./fits/GVFP_nodate_022_subtypes_1/allen_B08_l23it/CIR_None_1x1/analysis_figures created.\n",
      "INFO:root:Runtime: 276.2 seconds.\n",
      "INFO:root:Sequencing model set to None. All sampling parameters set to null.\n",
      "INFO:root:Directory ./fits/GVFP_nodate_022_subtypes_1/allen_B08_l23it/Extrinsic_None_1x1 created.\n",
      "INFO:root:Global inference parameters stored to ./fits/GVFP_nodate_022_subtypes_1/allen_B08_l23it/Extrinsic_None_1x1/parameters.pr.\n",
      "INFO:root:Search data loaded from ./fits/GVFP_nodate_022_subtypes_1/allen_B08_l23it/raw.sd.\n",
      "INFO:root:Starting non-parallelized grid scan.\n",
      "INFO:root:Non-parallelized grid scan complete.\n",
      "INFO:root:All grid point data cleaned from disk.\n",
      "INFO:root:Directory ./fits/GVFP_nodate_022_subtypes_1/allen_B08_l6it/Extrinsic_None_1x1/analysis_figures created.\n",
      "INFO:root:Runtime: 42.3 seconds.\n",
      "INFO:root:Non-parallelized grid scan complete.\n",
      "INFO:root:All grid point data cleaned from disk.\n",
      "INFO:root:Directory ./fits/GVFP_nodate_022_subtypes_1/allen_B08_l6ct/CIR_None_1x1/analysis_figures created.\n",
      "INFO:root:Runtime: 289.0 seconds.\n",
      "INFO:root:Sequencing model set to None. All sampling parameters set to null.\n",
      "INFO:root:Directory ./fits/GVFP_nodate_022_subtypes_1/allen_B08_l6ct/Extrinsic_None_1x1 created.\n",
      "INFO:root:Global inference parameters stored to ./fits/GVFP_nodate_022_subtypes_1/allen_B08_l6ct/Extrinsic_None_1x1/parameters.pr.\n",
      "INFO:root:Search data loaded from ./fits/GVFP_nodate_022_subtypes_1/allen_B08_l6ct/raw.sd.\n",
      "INFO:root:Starting non-parallelized grid scan.\n",
      "INFO:root:Non-parallelized grid scan complete.\n",
      "INFO:root:All grid point data cleaned from disk.\n",
      "INFO:root:Directory ./fits/GVFP_nodate_022_subtypes_1/allen_B08_l23it/Extrinsic_None_1x1/analysis_figures created.\n",
      "INFO:root:Runtime: 42.2 seconds.\n",
      "INFO:root:Non-parallelized grid scan complete.\n",
      "INFO:root:All grid point data cleaned from disk.\n",
      "INFO:root:Directory ./fits/GVFP_nodate_022_subtypes_1/allen_B08_l6ct/Extrinsic_None_1x1/analysis_figures created.\n",
      "INFO:root:Runtime: 45.0 seconds.\n",
      "INFO:root:Non-parallelized grid scan complete.\n",
      "INFO:root:All grid point data cleaned from disk.\n",
      "INFO:root:Directory ./fits/GVFP_nodate_022_subtypes_1/allen_B08_l5it/CIR_None_1x1/analysis_figures created.\n",
      "INFO:root:Runtime: 380.2 seconds.\n",
      "INFO:root:Sequencing model set to None. All sampling parameters set to null.\n",
      "INFO:root:Directory ./fits/GVFP_nodate_022_subtypes_1/allen_B08_l5it/Extrinsic_None_1x1 created.\n",
      "INFO:root:Global inference parameters stored to ./fits/GVFP_nodate_022_subtypes_1/allen_B08_l5it/Extrinsic_None_1x1/parameters.pr.\n",
      "INFO:root:Search data loaded from ./fits/GVFP_nodate_022_subtypes_1/allen_B08_l5it/raw.sd.\n",
      "INFO:root:Starting non-parallelized grid scan.\n",
      "INFO:root:Non-parallelized grid scan complete.\n",
      "INFO:root:All grid point data cleaned from disk.\n",
      "INFO:root:Directory ./fits/GVFP_nodate_022_subtypes_1/allen_B08_l5it/Extrinsic_None_1x1/analysis_figures created.\n",
      "INFO:root:Runtime: 52.3 seconds.\n"
     ]
    }
   ],
   "source": [
    "try:\n",
    "    pool = multiprocessing.Pool(processes=5)\n",
    "    iterable = zip(subcluster_loom_filepaths,[transcriptome_filepath]*n_subcluster_datasets,\\\n",
    "                   subcluster_dataset_names,subcluster_dataset_strings,\\\n",
    "                   [subcluster_dir_string]*n_subcluster_datasets,[attribute_names]*n_subcluster_datasets)\n",
    "    pool.map(par_fun_monod, iterable)\n",
    "    pool.close()\n",
    "    pool.join()\n",
    "except:\n",
    "    print('failed!')\n",
    "    pool.terminate()\n",
    "    pool.join()"
   ]
  },
  {
   "cell_type": "code",
   "execution_count": 13,
   "metadata": {
    "colab": {
     "base_uri": "https://localhost:8080/",
     "height": 35
    },
    "id": "_HZ_3hoVr7yw",
    "outputId": "77d17c1e-ad22-4da6-8ce0-47ddad324f04"
   },
   "outputs": [
    {
     "data": {
      "text/plain": [
       "'./fits/GVFP_nodate_022_subtypes_1'"
      ]
     },
     "execution_count": 13,
     "metadata": {},
     "output_type": "execute_result"
    }
   ],
   "source": [
    "subcluster_dir_string"
   ]
  },
  {
   "cell_type": "code",
   "execution_count": 14,
   "metadata": {},
   "outputs": [
    {
     "name": "stdout",
     "output_type": "stream",
     "text": [
      "Runtime: 11.4 minutes.\n"
     ]
    }
   ],
   "source": [
    "t2=time.time()\n",
    "print('Runtime: {:.1f} minutes.'.format((t2-t1)/60))"
   ]
  },
  {
   "cell_type": "markdown",
   "metadata": {
    "id": "NzPDAK2ur7yx"
   },
   "source": [
    "## Predictive filtering: analysis of *Monod* results and AIC computation"
   ]
  },
  {
   "cell_type": "markdown",
   "metadata": {
    "id": "vYyEU4rPr7yx"
   },
   "source": [
    "You can restart from here by loading in the result files and regenerating the search data files."
   ]
  },
  {
   "cell_type": "code",
   "execution_count": 476,
   "metadata": {
    "id": "adWyIbM2tiD5",
    "scrolled": true
   },
   "outputs": [
    {
     "name": "stdout",
     "output_type": "stream",
     "text": [
      "INFO:root:Beginning data extraction.\n",
      "INFO:root:Dataset: allen_B08_l23it\n",
      "INFO:root:32285 features observed, 32005 match genome annotations. 31649 were unique.\n",
      "INFO:root:Gene list extracted from ./fits/GVFP_nodate_022_subtypes_1/genes.csv.\n",
      "WARNING:root:Directory ./fits/GVFP_nodate_022_subtypes_1/allen_B08_l23it/diagnostic_figures already exists.\n",
      "INFO:root:Search data stored to ./fits/GVFP_nodate_022_subtypes_1/allen_B08_l23it/raw.sd.\n",
      "INFO:root:Beginning data extraction.\n",
      "INFO:root:Dataset: allen_B08_l5it\n",
      "INFO:root:32285 features observed, 32005 match genome annotations. 31649 were unique.\n",
      "INFO:root:Gene list extracted from ./fits/GVFP_nodate_022_subtypes_1/genes.csv.\n",
      "WARNING:root:Directory ./fits/GVFP_nodate_022_subtypes_1/allen_B08_l5it/diagnostic_figures already exists.\n",
      "INFO:root:Search data stored to ./fits/GVFP_nodate_022_subtypes_1/allen_B08_l5it/raw.sd.\n",
      "INFO:root:Beginning data extraction.\n",
      "INFO:root:Dataset: allen_B08_l6it\n",
      "INFO:root:32285 features observed, 32005 match genome annotations. 31649 were unique.\n",
      "INFO:root:Gene list extracted from ./fits/GVFP_nodate_022_subtypes_1/genes.csv.\n",
      "WARNING:root:Directory ./fits/GVFP_nodate_022_subtypes_1/allen_B08_l6it/diagnostic_figures already exists.\n",
      "INFO:root:Search data stored to ./fits/GVFP_nodate_022_subtypes_1/allen_B08_l6it/raw.sd.\n",
      "INFO:root:Beginning data extraction.\n",
      "INFO:root:Dataset: allen_B08_l56np\n",
      "INFO:root:32285 features observed, 32005 match genome annotations. 31649 were unique.\n",
      "INFO:root:Gene list extracted from ./fits/GVFP_nodate_022_subtypes_1/genes.csv.\n",
      "WARNING:root:Directory ./fits/GVFP_nodate_022_subtypes_1/allen_B08_l56np/diagnostic_figures already exists.\n",
      "INFO:root:Search data stored to ./fits/GVFP_nodate_022_subtypes_1/allen_B08_l56np/raw.sd.\n",
      "INFO:root:Beginning data extraction.\n",
      "INFO:root:Dataset: allen_B08_l6ct\n",
      "INFO:root:32285 features observed, 32005 match genome annotations. 31649 were unique.\n",
      "INFO:root:Gene list extracted from ./fits/GVFP_nodate_022_subtypes_1/genes.csv.\n",
      "WARNING:root:Directory ./fits/GVFP_nodate_022_subtypes_1/allen_B08_l6ct/diagnostic_figures already exists.\n",
      "INFO:root:Search data stored to ./fits/GVFP_nodate_022_subtypes_1/allen_B08_l6ct/raw.sd.\n"
     ]
    }
   ],
   "source": [
    "%%capture\n",
    "subcluster_dir_string = './fits/GVFP_nodate_022_subtypes_1'\n",
    "subcluster_dataset_strings = [subcluster_dir_string+'/'+x for x in subcluster_dataset_names]\n",
    "sd_arr = [extract_data(*x) for x in zip(subcluster_loom_filepaths,[transcriptome_filepath]*n_subcluster_datasets,\\\n",
    "                   subcluster_dataset_names,subcluster_dataset_strings,\\\n",
    "                   [subcluster_dir_string]*n_subcluster_datasets,[attribute_names]*n_subcluster_datasets)]\n"
   ]
  },
  {
   "cell_type": "code",
   "execution_count": 477,
   "metadata": {
    "id": "mHQU_B56r7yx"
   },
   "outputs": [],
   "source": [
    "subcluster_result_strings = [[subcluster_dir_string+'/'+x+'/'+y+'_None_1x1/grid_scan_results.res' \\\n",
    "                   for x in subcluster_dataset_names] \\\n",
    "                  for y in models]"
   ]
  },
  {
   "cell_type": "code",
   "execution_count": 478,
   "metadata": {
    "id": "e5Kbj1B_r7yy",
    "outputId": "9f67278b-7c31-4d7c-d680-f72c2d96e837"
   },
   "outputs": [
    {
     "name": "stdout",
     "output_type": "stream",
     "text": [
      "INFO:root:Grid scan results loaded from ./fits/GVFP_nodate_022_subtypes_1/allen_B08_l23it/Bursty_None_1x1/grid_scan_results.res.\n",
      "INFO:root:Grid scan results loaded from ./fits/GVFP_nodate_022_subtypes_1/allen_B08_l23it/CIR_None_1x1/grid_scan_results.res.\n",
      "INFO:root:Grid scan results loaded from ./fits/GVFP_nodate_022_subtypes_1/allen_B08_l23it/Extrinsic_None_1x1/grid_scan_results.res.\n",
      "WARNING:root:Directory ./fits/GVFP_nodate_022_subtypes_1/analysis_figures already exists.\n",
      "INFO:root:Grid scan results loaded from ./fits/GVFP_nodate_022_subtypes_1/allen_B08_l5it/Bursty_None_1x1/grid_scan_results.res.\n",
      "INFO:root:Grid scan results loaded from ./fits/GVFP_nodate_022_subtypes_1/allen_B08_l5it/CIR_None_1x1/grid_scan_results.res.\n",
      "INFO:root:Grid scan results loaded from ./fits/GVFP_nodate_022_subtypes_1/allen_B08_l5it/Extrinsic_None_1x1/grid_scan_results.res.\n",
      "WARNING:root:Directory ./fits/GVFP_nodate_022_subtypes_1/analysis_figures already exists.\n",
      "INFO:root:Grid scan results loaded from ./fits/GVFP_nodate_022_subtypes_1/allen_B08_l6it/Bursty_None_1x1/grid_scan_results.res.\n",
      "INFO:root:Grid scan results loaded from ./fits/GVFP_nodate_022_subtypes_1/allen_B08_l6it/CIR_None_1x1/grid_scan_results.res.\n",
      "INFO:root:Grid scan results loaded from ./fits/GVFP_nodate_022_subtypes_1/allen_B08_l6it/Extrinsic_None_1x1/grid_scan_results.res.\n",
      "WARNING:root:Directory ./fits/GVFP_nodate_022_subtypes_1/analysis_figures already exists.\n",
      "INFO:root:Grid scan results loaded from ./fits/GVFP_nodate_022_subtypes_1/allen_B08_l56np/Bursty_None_1x1/grid_scan_results.res.\n",
      "INFO:root:Grid scan results loaded from ./fits/GVFP_nodate_022_subtypes_1/allen_B08_l56np/CIR_None_1x1/grid_scan_results.res.\n",
      "INFO:root:Grid scan results loaded from ./fits/GVFP_nodate_022_subtypes_1/allen_B08_l56np/Extrinsic_None_1x1/grid_scan_results.res.\n",
      "WARNING:root:Directory ./fits/GVFP_nodate_022_subtypes_1/analysis_figures already exists.\n",
      "INFO:root:Grid scan results loaded from ./fits/GVFP_nodate_022_subtypes_1/allen_B08_l6ct/Bursty_None_1x1/grid_scan_results.res.\n",
      "INFO:root:Grid scan results loaded from ./fits/GVFP_nodate_022_subtypes_1/allen_B08_l6ct/CIR_None_1x1/grid_scan_results.res.\n",
      "INFO:root:Grid scan results loaded from ./fits/GVFP_nodate_022_subtypes_1/allen_B08_l6ct/Extrinsic_None_1x1/grid_scan_results.res.\n",
      "WARNING:root:Directory ./fits/GVFP_nodate_022_subtypes_1/analysis_figures already exists.\n"
     ]
    }
   ],
   "source": [
    "sr_arr = []\n",
    "for j in range(n_subcluster_datasets):\n",
    "    sr_ = []\n",
    "    for k in range(n_models):\n",
    "        loaded_res = load_search_results(subcluster_result_strings[k][j])\n",
    "        loaded_res.find_sampling_optimum()\n",
    "        sr_.append(loaded_res)\n",
    "    make_batch_analysis_dir(sr_,subcluster_dir_string)\n",
    "    sr_arr.append(sr_)"
   ]
  },
  {
   "cell_type": "code",
   "execution_count": 479,
   "metadata": {
    "id": "ncI1LEoGr7yy",
    "outputId": "797929e9-9241-453f-c7e9-db276916be5b"
   },
   "outputs": [
    {
     "data": {
      "text/plain": [
       "[621, 1702, 471, 191, 1359]"
      ]
     },
     "execution_count": 479,
     "metadata": {},
     "output_type": "execute_result"
    }
   ],
   "source": [
    "[sd.n_cells for sd in sd_arr]"
   ]
  },
  {
   "cell_type": "code",
   "execution_count": 480,
   "metadata": {
    "id": "oh1vlujDr7yy"
   },
   "outputs": [],
   "source": [
    "w = []\n",
    "for j in range(n_subcluster_datasets):\n",
    "    w_ = get_AIC_weights(sr_arr[j],sd_arr[j])\n",
    "    w.append(w_)\n",
    "w = np.asarray(w)"
   ]
  },
  {
   "cell_type": "code",
   "execution_count": 481,
   "metadata": {
    "id": "clPxv0MBr7yz"
   },
   "outputs": [],
   "source": [
    "gf_gou = (w[:,0,:]>0.9).all(0)\n",
    "gf_cir = (w[:,1,:]>0.5).all(0)\n",
    "gf_ext = (w[:,2,:]>0.8).all(0)\n",
    "gfs = np.vstack((gf_gou,gf_cir,gf_ext))\n"
   ]
  },
  {
   "cell_type": "code",
   "execution_count": 482,
   "metadata": {
    "id": "yseVssY3r7yz"
   },
   "outputs": [],
   "source": [
    "w_bary = np.tensordot(w,np.asarray([[0,0],[1,0],[1/2,np.sqrt(3)/2]]).T,axes=([1],[1]))"
   ]
  },
  {
   "cell_type": "markdown",
   "metadata": {
    "id": "K-dwuCR1r7yz"
   },
   "source": [
    "Change subcluster index here to plot for other datasets."
   ]
  },
  {
   "cell_type": "code",
   "execution_count": 488,
   "metadata": {
    "id": "UJvKqxVAr7yz",
    "outputId": "db973414-f4cf-4a96-d7c4-163ef968e167"
   },
   "outputs": [
    {
     "data": {
      "image/png": "[encoded data removed]",
      "text/plain": [
       "<Figure size 504x504 with 1 Axes>"
      ]
     },
     "metadata": {
      "needs_background": "light"
     },
     "output_type": "display_data"
    }
   ],
   "source": [
    "subcluster_index=0\n",
    "fig1,ax1=plt.subplots(1,1,figsize=(7,7))\n",
    "ax1.scatter(w_bary[subcluster_index,~gfs.any(0),0],w_bary[subcluster_index,~gfs.any(0),1],10,'lightgray',alpha=0.8)\n",
    "for k in range(3):\n",
    "    ax1.scatter(w_bary[subcluster_index,gfs[k],0],w_bary[subcluster_index,gfs[k],1],50,colors[k],alpha=0.5)\n",
    "ax1.axis('off')\n",
    "ax1.set_aspect('equal')\n",
    "plt.savefig('fig/ternary.png',dpi=450)\n",
    "plt.savefig('fig/ternary.svg')\n",
    "plt.savefig('fig/ternary.pdf')"
   ]
  },
  {
   "cell_type": "code",
   "execution_count": 18,
   "metadata": {
    "id": "mivOvM6mr7y0"
   },
   "outputs": [],
   "source": [
    "gn = sd_arr[0].gene_names"
   ]
  },
  {
   "cell_type": "code",
   "execution_count": 19,
   "metadata": {
    "id": "rdV-ZozAr7y0"
   },
   "outputs": [],
   "source": [
    "chisq_thr = 5\n",
    "gene_inds_kept = []\n",
    "for model_ind in range(n_models):\n",
    "    n_genes = gfs[model_ind].sum()\n",
    "    gene_inds = np.where(gfs[model_ind])[0]\n",
    "    keep = np.zeros((n_genes,n_subcluster_datasets),dtype=bool)\n",
    "    pval = np.zeros((n_genes,n_subcluster_datasets))\n",
    "    for gene_count,gene_ind in enumerate(gene_inds):\n",
    "        for dataset in range(n_subcluster_datasets):\n",
    "            lm = [sd_arr[dataset].M[gene_ind], sd_arr[dataset].N[gene_ind]]\n",
    "            pars = sr_arr[dataset][model_ind].phys_optimum[gene_ind]\n",
    "            expect_freq = sr_arr[dataset][model_ind].model.eval_model_pss(pars,lm) * sd_arr[dataset].n_cells\n",
    "            \n",
    "            unique_values,counts = np.unique(np.vstack(\\\n",
    "                       (sd_arr[dataset].U[gene_ind],sd_arr[dataset].S[gene_ind])).astype(int),axis=1,\\\n",
    "                        return_counts=True) #create the dataset of observed counts\n",
    "            expect_freq = expect_freq[unique_values[0],unique_values[1]]\n",
    "                #the added bin accounts for all the stuff that's not in the \n",
    "                #observed categories\n",
    "            expect_freq = np.concatenate((expect_freq,[sd_arr[dataset].n_cells-expect_freq.sum()]))\n",
    "            counts = np.concatenate((counts,[0])) \n",
    "            \n",
    "            filt = (expect_freq>chisq_thr) & (counts>chisq_thr)\n",
    "            observed = np.concatenate((counts[filt],[counts[~filt].sum()]))\n",
    "            proposed = np.concatenate((expect_freq[filt],[expect_freq[~filt].sum()])) #this is incredibly severe.\n",
    "            csq = scipy.stats.mstats.chisquare(observed, proposed, 3) #3 dof because models have 3 parameters...\n",
    "            pval[gene_count,dataset] = csq.pvalue\n",
    "            if csq.pvalue>0.01:\n",
    "                keep[gene_count,dataset] = True\n",
    "                \n",
    "    gene_inds_kept.append(gene_inds[keep.all(1)])"
   ]
  },
  {
   "cell_type": "code",
   "execution_count": 20,
   "metadata": {
    "id": "5LFhG5ugr7y0"
   },
   "outputs": [],
   "source": [
    "n_cells = np.asarray([sd.n_cells for sd in sd_arr])\n",
    "subtype_weights = n_cells/n_cells.sum()"
   ]
  },
  {
   "cell_type": "code",
   "execution_count": 21,
   "metadata": {
    "id": "b1vCHI0Hr7y0"
   },
   "outputs": [],
   "source": [
    "results = []\n",
    "for model_ind in range(n_models):\n",
    "    data = {'meta':models[model_ind],'genes':gn[gene_inds_kept[model_ind]],'aic':w[:,:,gene_inds_kept[model_ind]]}\n",
    "    n_genes = len(data['genes'])\n",
    "    pars = np.zeros((n_genes,n_subcluster_datasets,3))\n",
    "    for gene_count,gene_ind in enumerate(gene_inds_kept[model_ind]):\n",
    "        for dataset in range(n_subcluster_datasets):\n",
    "            pars[gene_count,dataset] = sr_arr[dataset][model_ind].phys_optimum[gene_ind]\n",
    "    data['pars'] = pars\n",
    "    data['par_initial_guess'] = (pars*subtype_weights[None,:,None]).sum(1)\n",
    "    results.append(data)\n"
   ]
  },
  {
   "cell_type": "code",
   "execution_count": 22,
   "metadata": {
    "id": "BYi83OC0r7y1"
   },
   "outputs": [],
   "source": [
    "with open(subcluster_dir_string+'/weights_and_genes.pickle','wb') as rfs:\n",
    "    pickle.dump(results,rfs)"
   ]
  },
  {
   "cell_type": "code",
   "execution_count": 23,
   "metadata": {},
   "outputs": [
    {
     "name": "stdout",
     "output_type": "stream",
     "text": [
      "Runtime: 2.2 minutes.\n"
     ]
    }
   ],
   "source": [
    "t2=time.time()\n",
    "print('Runtime: {:.1f} minutes.'.format((t2-t1)/60))"
   ]
  },
  {
   "cell_type": "markdown",
   "metadata": {
    "id": "qfBgnAYxr7y1"
   },
   "source": [
    "## Out-of-sample analysis"
   ]
  },
  {
   "cell_type": "markdown",
   "metadata": {},
   "source": [
    "We can restart here."
   ]
  },
  {
   "cell_type": "code",
   "execution_count": 13,
   "metadata": {
    "id": "-T8NzG3dr7y1"
   },
   "outputs": [],
   "source": [
    "n_cores=33"
   ]
  },
  {
   "cell_type": "code",
   "execution_count": 14,
   "metadata": {
    "id": "6DKn2A_Or7y1"
   },
   "outputs": [],
   "source": [
    "subcluster_dir_string = './fits/GVFP_nodate_022_subtypes_1'\n",
    "with open(subcluster_dir_string+'/weights_and_genes.pickle','rb') as rfs:\n",
    "    results = pickle.load(rfs)"
   ]
  },
  {
   "cell_type": "code",
   "execution_count": 15,
   "metadata": {
    "id": "iqlg1cyfr7y1"
   },
   "outputs": [
    {
     "name": "stdout",
     "output_type": "stream",
     "text": [
      "[array(['Ddx17', 'Map3k13', 'Aftph', 'Xiap', 'Gabra4', 'Mark1', 'Btbd10',\n",
      "       'Bzw2', 'Plppr5', 'Unc13a', 'Tnrc6a', 'Ldah', 'Stim1', 'Fut8',\n",
      "       'Ncoa2', 'Ap3s2', 'Ppp2r3a', 'Pde2a', 'Mphosph9', 'Desi2', 'Whrn',\n",
      "       'Cacna1i', 'Zmynd11', 'Pou6f1', 'Mrpl48', 'Scaper', 'Lgr4',\n",
      "       'Slc16a7', 'Mgll', 'Fxr2', 'Dock9', 'Mgat4a', 'Wipf2'],\n",
      "      dtype='<U16'), array(['Fez1', 'Tmem50b', 'Psma2', 'Smarca5', 'Aplp2', 'Tmem65', 'Camkk2',\n",
      "       'Ndufv2', 'Uqcrc2', 'Bphl', 'Rheb', 'Gars', 'Ccdc136', 'Irs2',\n",
      "       'Ppp1r2'], dtype='<U16'), array(['Sdf4', 'Srpk1', 'Srsf10', 'Actr10', 'Tmem63b', 'Celf3', 'Marf1',\n",
      "       'Samd8', 'Epn1', 'Cox7a2l', 'Nucks1', 'Bace1', 'B230219D22Rik',\n",
      "       'Ktn1', 'Apbb1', 'Hnrnpu', 'Pura', 'Syngap1', 'Cadm3', 'Sv2a',\n",
      "       'Bclaf1'], dtype='<U16')]\n"
     ]
    }
   ],
   "source": [
    "genes_kept = [x['genes'] for x in results]\n",
    "print(genes_kept)\n",
    "gene_names_to_run = [x for x in genes_kept] #use this if you want to run everything\n",
    "# gene_names_to_run = [x[:5] for x in genes_kept] #use this if you want to only run first five in each category\n"
   ]
  },
  {
   "cell_type": "code",
   "execution_count": 26,
   "metadata": {
    "id": "IY6YoSwKr7y2",
    "outputId": "4df193a5-9624-449c-f8db-2e24c0412c78"
   },
   "outputs": [
    {
     "data": {
      "text/plain": [
       "[array(['Ddx17', 'Map3k13', 'Aftph', 'Xiap', 'Gabra4', 'Mark1', 'Btbd10',\n",
       "        'Bzw2', 'Plppr5', 'Unc13a', 'Tnrc6a', 'Ldah', 'Stim1', 'Fut8',\n",
       "        'Ncoa2', 'Ap3s2', 'Ppp2r3a', 'Pde2a', 'Mphosph9', 'Desi2', 'Whrn',\n",
       "        'Cacna1i', 'Zmynd11', 'Pou6f1', 'Mrpl48', 'Scaper', 'Lgr4',\n",
       "        'Slc16a7', 'Mgll', 'Fxr2', 'Dock9', 'Mgat4a', 'Wipf2'],\n",
       "       dtype='<U16'),\n",
       " array(['Fez1', 'Tmem50b', 'Psma2', 'Smarca5', 'Aplp2', 'Tmem65', 'Camkk2',\n",
       "        'Ndufv2', 'Uqcrc2', 'Bphl', 'Rheb', 'Gars', 'Ccdc136', 'Irs2',\n",
       "        'Ppp1r2'], dtype='<U16'),\n",
       " array(['Sdf4', 'Srpk1', 'Srsf10', 'Actr10', 'Tmem63b', 'Celf3', 'Marf1',\n",
       "        'Samd8', 'Epn1', 'Cox7a2l', 'Nucks1', 'Bace1', 'B230219D22Rik',\n",
       "        'Ktn1', 'Apbb1', 'Hnrnpu', 'Pura', 'Syngap1', 'Cadm3', 'Sv2a',\n",
       "        'Bclaf1'], dtype='<U16')]"
      ]
     },
     "execution_count": 26,
     "metadata": {},
     "output_type": "execute_result"
    }
   ],
   "source": [
    "gene_names_to_run"
   ]
  },
  {
   "cell_type": "code",
   "execution_count": 53,
   "metadata": {
    "id": "jZKP4E8Dr7y2",
    "outputId": "b6c66242-874f-49b7-8698-beac08269acf"
   },
   "outputs": [
    {
     "name": "stdout",
     "output_type": "stream",
     "text": [
      "H12\n",
      "Bursty\n",
      "CIR\n",
      "Extrinsic\n",
      "F08\n",
      "Bursty\n",
      "CIR\n",
      "Extrinsic\n"
     ]
    }
   ],
   "source": [
    "import multiprocessing\n",
    "# pool=multiprocessing.Pool(processes=n_cores)\n",
    "\n",
    "# oss_res = {} #comment out if restarting\n",
    "\n",
    "for test_data_ind in range(2,len(sample_looms)):\n",
    "    print(sample_names[test_data_ind])\n",
    "    with lp.connect(sample_looms[test_data_ind]) as ds:\n",
    "        U = ds.layers['unspliced'][:]\n",
    "        S = ds.layers['spliced'][:]\n",
    "        loom_gene_names = ds.ra['gene_name']\n",
    "    \n",
    "    \n",
    "    oos_res_dataset = {}\n",
    "    for model_set in range(3):\n",
    "        print(models[model_set])\n",
    "        \n",
    "        \n",
    "        gntr = gene_names_to_run[model_set]\n",
    "        gene_locations = [np.where(loom_gene_names==x)[0][0] for x in gntr]    \n",
    "        try:\n",
    "            n_genes_to_run = len(gntr)\n",
    "            pool = multiprocessing.Pool(processes=n_cores)\n",
    "            fit_iterable = zip(U[gene_locations],\\\n",
    "                               S[gene_locations],\\\n",
    "                               [10]*n_genes_to_run,\\\n",
    "                               [15]*n_genes_to_run)  #maximum number of gradient descent iterations\n",
    "            model_res = pool.map(par_fun_fullfit, fit_iterable)\n",
    "            oos_res_dataset[models[model_set]] = model_res\n",
    "            pool.close()\n",
    "            pool.join()\n",
    "        except:\n",
    "            print('failed')\n",
    "            pool.terminate()\n",
    "            pool.join()\n",
    "    oss_res[sample_names[test_data_ind]] = oos_res_dataset"
   ]
  },
  {
   "cell_type": "code",
   "execution_count": 62,
   "metadata": {},
   "outputs": [
    {
     "data": {
      "text/plain": [
       "dict_keys(['C01', 'B08', 'H12', 'F08'])"
      ]
     },
     "execution_count": 62,
     "metadata": {},
     "output_type": "execute_result"
    }
   ],
   "source": [
    "oss_res.keys()"
   ]
  },
  {
   "cell_type": "code",
   "execution_count": 52,
   "metadata": {},
   "outputs": [],
   "source": [
    "with open(subcluster_dir_string+'/logl_fit_results_multis_full_10_15_partial_C01_B08.pickle','wb') as rfs:\n",
    "    pickle.dump(oss_res,rfs)"
   ]
  },
  {
   "cell_type": "code",
   "execution_count": 54,
   "metadata": {
    "id": "2JZ29xzAr7y2"
   },
   "outputs": [],
   "source": [
    "lik_ratios_oos = [[[z[0] for z in oss_res[x][y]] for y in models] for x in sample_names]"
   ]
  },
  {
   "cell_type": "code",
   "execution_count": 55,
   "metadata": {
    "id": "X2FCECOgr7y2"
   },
   "outputs": [],
   "source": [
    "indices = [np.arange(0,len(gene_names_to_run[0])), \\\n",
    "           np.arange(len(gene_names_to_run[0]), len(gene_names_to_run[0]) + len(gene_names_to_run[1])),\\\n",
    "           np.arange(len(gene_names_to_run[0]) + len(gene_names_to_run[1]), \\\n",
    "                                                len(gene_names_to_run[0]) + len(gene_names_to_run[1]) + len(gene_names_to_run[2]))]"
   ]
  },
  {
   "cell_type": "markdown",
   "metadata": {
    "id": "rJ9E8h4cr7y2"
   },
   "source": [
    "Visualize raw results. They are questionable: there are a few very large relatively likelihoods, which suggests some fits are inferior."
   ]
  },
  {
   "cell_type": "code",
   "execution_count": 56,
   "metadata": {
    "id": "YUjIJGOHr7y3"
   },
   "outputs": [
    {
     "data": {
      "text/plain": [
       "[<matplotlib.lines.Line2D at 0x7f705c73a8b0>]"
      ]
     },
     "execution_count": 56,
     "metadata": {},
     "output_type": "execute_result"
    },
    {
     "data": {
      "image/png": "[encoded data removed]",
      "text/plain": [
       "<Figure size 432x288 with 1 Axes>"
      ]
     },
     "metadata": {
      "needs_background": "light"
     },
     "output_type": "display_data"
    }
   ],
   "source": [
    "colors= ('r','b','k')\n",
    "for test_data_ind in range(len(sample_names)):\n",
    "    for model_set in range(3):\n",
    "        plt.scatter(indices[model_set],lik_ratios_oos[test_data_ind][model_set],c=colors[model_set])\n",
    "# plt.ylim([-100,100])\n",
    "plt.plot([0,sum([len(x) for x in indices])],[0,0],'g-')"
   ]
  },
  {
   "cell_type": "code",
   "execution_count": 57,
   "metadata": {},
   "outputs": [
    {
     "data": {
      "text/plain": [
       "[<matplotlib.lines.Line2D at 0x7f705c737f70>]"
      ]
     },
     "execution_count": 57,
     "metadata": {},
     "output_type": "execute_result"
    },
    {
     "data": {
      "image/png": "[encoded data removed]",
      "text/plain": [
       "<Figure size 432x288 with 1 Axes>"
      ]
     },
     "metadata": {
      "needs_background": "light"
     },
     "output_type": "display_data"
    }
   ],
   "source": [
    "colors= ('r','b','k')\n",
    "for test_data_ind in range(len(sample_names)):\n",
    "    for model_set in range(3):\n",
    "        plt.scatter(indices[model_set],lik_ratios_oos[test_data_ind][model_set],c=colors[model_set])\n",
    "plt.ylim([-100,100])\n",
    "plt.plot([0,sum([len(x) for x in indices])],[0,0],'g-')"
   ]
  },
  {
   "cell_type": "code",
   "execution_count": 58,
   "metadata": {
    "id": "0-Vi9k3_r7y3"
   },
   "outputs": [
    {
     "data": {
      "image/png": "[encoded data removed]",
      "text/plain": [
       "<Figure size 1080x288 with 1 Axes>"
      ]
     },
     "metadata": {
      "needs_background": "light"
     },
     "output_type": "display_data"
    }
   ],
   "source": [
    "colors= ('salmon','royalblue','grey')\n",
    "fig1,ax1 = plt.subplots(1,1,figsize=(15,4))\n",
    "for model_set in range(3):\n",
    "    d = np.asarray([lik_ratios_oos[test_data_ind][model_set] for test_data_ind in range(len(sample_looms))])\n",
    "    bplot = ax1.boxplot(d,positions=indices[model_set],vert=True,patch_artist=True)\n",
    "    for patch in bplot['boxes']:\n",
    "        patch.set_facecolor(colors[model_set])\n",
    "    for median in bplot['medians']:\n",
    "        median.set_color('k')\n",
    "#     print(bplot)\n",
    "#     for test_data_ind in range(len(sample_looms)):\n",
    "#         plt.scatter(indices[model_set],lik_ratios_oos[test_data_ind][model_set],c=colors[model_set])\n",
    "ax1.set_ylim([-200,200])\n",
    "ax1.plot([0,sum([len(x) for x in indices])],[0,0],'g-')\n",
    "_=ax1.set_xticks(np.concatenate(indices),np.concatenate(gene_names_to_run),rotation=90)"
   ]
  },
  {
   "cell_type": "code",
   "execution_count": 59,
   "metadata": {
    "id": "3a4d3E7hr7y3"
   },
   "outputs": [
    {
     "data": {
      "image/png": "[encoded data removed]",
      "text/plain": [
       "<Figure size 864x288 with 1 Axes>"
      ]
     },
     "metadata": {
      "needs_background": "light"
     },
     "output_type": "display_data"
    }
   ],
   "source": [
    "colors= ('salmon','royalblue','grey')\n",
    "fig1,ax1 = plt.subplots(1,1,figsize=(12,4))\n",
    "for model_set in range(3):\n",
    "    d = np.asarray([lik_ratios_oos[test_data_ind][model_set] for test_data_ind in range(len(sample_looms))])\n",
    "    ax1.scatter(indices[model_set],d.mean(0),c=colors[model_set])\n",
    "ax1.set_ylim([-200,200])\n",
    "ax1.plot([0,1+sum([len(x) for x in indices])],[0,0],'g-')\n",
    "_=ax1.set_xticks(np.concatenate(indices),np.concatenate(gene_names_to_run),rotation=90)"
   ]
  },
  {
   "cell_type": "code",
   "execution_count": 60,
   "metadata": {
    "id": "fmR8l-gcr7y3"
   },
   "outputs": [],
   "source": [
    "with open(subcluster_dir_string+'/logl_fit_results_multis_full_10_15.pickle','wb') as rfs:\n",
    "    pickle.dump((oss_res,lik_ratios_oos,sample_names,models,gene_names_to_run),rfs)"
   ]
  },
  {
   "cell_type": "code",
   "execution_count": 63,
   "metadata": {},
   "outputs": [
    {
     "name": "stdout",
     "output_type": "stream",
     "text": [
      "Runtime: 2135.0 minutes.\n"
     ]
    }
   ],
   "source": [
    "t2=time.time()\n",
    "print('Runtime: {:.1f} minutes.'.format((t2-t1)/60))"
   ]
  },
  {
   "cell_type": "markdown",
   "metadata": {},
   "source": [
    "This is the runtime for a 15-gene analysis with maximum of 5 iterations and a single search attempt.\n",
    "25 min for all genes at those pars."
   ]
  },
  {
   "cell_type": "markdown",
   "metadata": {
    "id": "ck3IU7Yur7y3"
   },
   "source": [
    "## SDE goodness of fit"
   ]
  },
  {
   "cell_type": "markdown",
   "metadata": {},
   "source": [
    "Can also restart here."
   ]
  },
  {
   "cell_type": "code",
   "execution_count": 65,
   "metadata": {},
   "outputs": [],
   "source": [
    "subcluster_dir_string = './fits/GVFP_nodate_022_subtypes_1'\n",
    "input_file = subcluster_dir_string+'/logl_fit_results_multis_full_10_15.pickle' #69 genes, 5 restarts, 10 iter\n",
    "# input_file = subcluster_dir_string+'/logl_fit_results_multis_full_5_10.pickle' #69 genes, 5 restarts, 10 iter\n",
    "# input_file = subcluster_dir_string+'/logl_fit_results_multis_full.pickle' #69 genes\n",
    "# input_file = subcluster_dir_string+'/logl_fit_results_multis.pickle' #15 genes\n",
    "with open(input_file,'rb') as rfs:\n",
    "    oss_res,lik_ratios_oos,sample_names,models,gene_names_to_run = pickle.load(rfs)"
   ]
  },
  {
   "cell_type": "code",
   "execution_count": 66,
   "metadata": {},
   "outputs": [],
   "source": [
    "indices = [np.arange(0,len(gene_names_to_run[0])), \\\n",
    "           np.arange(len(gene_names_to_run[0]), len(gene_names_to_run[0]) + len(gene_names_to_run[1])),\\\n",
    "           np.arange(len(gene_names_to_run[0]) + len(gene_names_to_run[1]), \\\n",
    "                                                len(gene_names_to_run[0]) + len(gene_names_to_run[1]) + len(gene_names_to_run[2]))]"
   ]
  },
  {
   "cell_type": "markdown",
   "metadata": {
    "id": "VxKY_Q7Xr7y3"
   },
   "source": [
    "Some of the fits are giving unrealistic and inconsistent likelihood ratios, likely due to suboptimal convergence. In principle, we could fix this by running a lot more trials, or by using Bayes factors, but this is not really practical for exploratory analysis. Instead, we can run another GOF test and throw away fits (and LRs) that are wildly inconsistent with data ($p<10^{-6}$)."
   ]
  },
  {
   "cell_type": "code",
   "execution_count": 67,
   "metadata": {
    "id": "bYEFOl0Mr7y4"
   },
   "outputs": [],
   "source": [
    "gou_pars  = np.array([[np.asarray([z[1] for z in oss_res[x][y]]) for y in models] for x in sample_names],dtype=object)\n",
    "cir_pars  = np.array([[np.asarray([z[2] for z in oss_res[x][y]]) for y in models] for x in sample_names],dtype=object)"
   ]
  },
  {
   "cell_type": "code",
   "execution_count": 85,
   "metadata": {
    "id": "BcQGyEUpr7y4",
    "outputId": "f39dde99-686e-428a-c437-0e467862ced1",
    "scrolled": true
   },
   "outputs": [
    {
     "name": "stdout",
     "output_type": "stream",
     "text": [
      "C01\n",
      "Bursty\n",
      "CIR\n",
      "Extrinsic\n",
      "B08\n",
      "Bursty\n",
      "CIR\n",
      "Extrinsic\n",
      "H12\n",
      "Bursty\n",
      "CIR\n",
      "Extrinsic\n",
      "F08\n",
      "Bursty\n",
      "CIR\n",
      "Extrinsic\n"
     ]
    }
   ],
   "source": [
    "import copy\n",
    "lik_ratios_checked = np.array(copy.copy([[[z[0] for z in oss_res[x][y]] for y in models] for x in sample_names]),dtype=object)\n",
    "chisq_thr=5\n",
    "for test_data_ind in range(len(sample_looms)):\n",
    "    print(sample_names[test_data_ind])\n",
    "    with lp.connect(sample_looms[test_data_ind]) as ds:\n",
    "        U = ds.layers['unspliced'][:]\n",
    "        S = ds.layers['spliced'][:]\n",
    "        loom_gene_names = ds.ra['gene_name']\n",
    "    n_cells = S.shape[1]\n",
    "    for model_set in range(3):\n",
    "        print(models[model_set])\n",
    "        gntr = gene_names_to_run[model_set]\n",
    "        gene_locations = [np.where(loom_gene_names==x)[0][0] for x in gntr]\n",
    "#         print(loom_gene_names[gene_locations])\n",
    "        for gene_count,gene_ind in enumerate(gene_locations):\n",
    "            lm = np.asarray([U[gene_ind].max()+10,S[gene_ind].max()+10],dtype=int) \n",
    "            \n",
    "            pval = []\n",
    "            for which_model in ('gou','cir'):\n",
    "                if which_model == 'gou':\n",
    "                    par_array = gou_pars\n",
    "                    lik_fun = get_GOU_2sp\n",
    "                elif which_model == 'cir':\n",
    "                    par_array = cir_pars\n",
    "                    lik_fun = get_CIR_2sp\n",
    "                    \n",
    "                pars_gene = par_array[test_data_ind,model_set][gene_count]\n",
    "                expect_freq = lik_fun(lm,pars_gene) * n_cells\n",
    "\n",
    "                unique_values,counts = np.unique(np.vstack((U[gene_ind],S[gene_ind])).astype(int),axis=1,return_counts=True) \n",
    "\n",
    "                expect_freq = expect_freq[unique_values[0],unique_values[1]]\n",
    "\n",
    "                expect_freq = np.concatenate((expect_freq,[n_cells-expect_freq.sum()]))\n",
    "                counts = np.concatenate((counts,[0]))\n",
    "\n",
    "                filt = (expect_freq>chisq_thr) & (counts>chisq_thr)\n",
    "\n",
    "                observed = np.concatenate((counts[filt],[counts[~filt].sum()]))\n",
    "                proposed = np.concatenate((expect_freq[filt],[expect_freq[~filt].sum()])) #this is incredibly severe.\n",
    "                csq = scipy.stats.mstats.chisquare(observed, proposed, 4) #there are four parameters.\n",
    "                pval.append(csq.pvalue)\n",
    "            if (np.asarray(pval)<1e-8).any():\n",
    "                lik_ratios_checked[test_data_ind,model_set][gene_count] = np.nan"
   ]
  },
  {
   "cell_type": "code",
   "execution_count": 228,
   "metadata": {
    "id": "bI5X13t6r7y4",
    "outputId": "312290c9-edda-4154-e15b-d759a0dbb631"
   },
   "outputs": [
    {
     "data": {
      "image/png": "[encoded data removed]",
      "text/plain": [
       "<Figure size 864x288 with 1 Axes>"
      ]
     },
     "metadata": {
      "needs_background": "light"
     },
     "output_type": "display_data"
    }
   ],
   "source": [
    "colors= ('r','b','k')\n",
    "fig1,ax1 = plt.subplots(1,1,figsize=(12,4))\n",
    "\n",
    "for test_data_ind in range(len(sample_names)):\n",
    "    for model_set in range(3):\n",
    "        plt.scatter(indices[model_set],lik_ratios_checked[test_data_ind][model_set],60,c=colors[model_set],alpha=0.5)\n",
    "# plt.ylim([-100,100])\n",
    "plt.plot([0,sum([len(x) for x in indices])],[0,0],'g-')\n",
    "_=plt.xticks(np.concatenate(indices),np.concatenate(gene_names_to_run),rotation=90)"
   ]
  },
  {
   "cell_type": "code",
   "execution_count": 229,
   "metadata": {
    "id": "s8a2CCqqr7y4",
    "outputId": "54df2c46-2624-4fca-e226-1836948c70d7"
   },
   "outputs": [
    {
     "name": "stderr",
     "output_type": "stream",
     "text": [
      "/tmp/ipykernel_2801884/553159084.py:9: RuntimeWarning: Mean of empty slice\n",
      "  d_mean[gene] = np.nanmean(d[:,gene])\n"
     ]
    },
    {
     "data": {
      "image/png": "[encoded data removed]",
      "text/plain": [
       "<Figure size 864x288 with 1 Axes>"
      ]
     },
     "metadata": {
      "needs_background": "light"
     },
     "output_type": "display_data"
    }
   ],
   "source": [
    "colors= ('r','b','k')\n",
    "fig1,ax1 = plt.subplots(1,1,figsize=(12,4))\n",
    "for model_set in range(n_models):\n",
    "    d = np.asarray([lik_ratios_checked[test_data_ind][model_set] for test_data_ind in range(n_datasets)])\n",
    "    ng = len(gene_names_to_run[model_set])\n",
    "    d_mean = np.empty(ng)\n",
    "    for gene in range(ng):\n",
    "        try: \n",
    "            d_mean[gene] = np.nanmean(d[:,gene])\n",
    "        except:\n",
    "            pass\n",
    "    ax1.scatter(indices[model_set],d_mean,c=colors[model_set])\n",
    "\n",
    "ax1.plot([0,1+sum([len(x) for x in indices])],[0,0],'g-')\n",
    "_=ax1.set_xticks(np.concatenate(indices),np.concatenate(gene_names_to_run),rotation=90)"
   ]
  },
  {
   "cell_type": "markdown",
   "metadata": {
    "id": "M1qrig9or7y5"
   },
   "source": [
    "## Visualization of results"
   ]
  },
  {
   "cell_type": "code",
   "execution_count": 244,
   "metadata": {
    "id": "AmERuYJUr7y5",
    "outputId": "c864634a-9c0c-4aee-e787-f535a8149818"
   },
   "outputs": [
    {
     "data": {
      "text/plain": [
       "[array(['Ddx17', 'Map3k13', 'Aftph', 'Xiap', 'Gabra4', 'Mark1', 'Btbd10',\n",
       "        'Bzw2', 'Plppr5', 'Unc13a', 'Tnrc6a', 'Ldah', 'Stim1', 'Fut8',\n",
       "        'Ncoa2', 'Ap3s2', 'Ppp2r3a', 'Pde2a', 'Mphosph9', 'Desi2', 'Whrn',\n",
       "        'Cacna1i', 'Zmynd11', 'Pou6f1', 'Mrpl48', 'Scaper', 'Lgr4',\n",
       "        'Slc16a7', 'Mgll', 'Fxr2', 'Dock9', 'Mgat4a', 'Wipf2'],\n",
       "       dtype='<U16'),\n",
       " array(['Fez1', 'Tmem50b', 'Psma2', 'Smarca5', 'Aplp2', 'Tmem65', 'Camkk2',\n",
       "        'Ndufv2', 'Uqcrc2', 'Bphl', 'Rheb', 'Gars', 'Ccdc136', 'Irs2',\n",
       "        'Ppp1r2'], dtype='<U16'),\n",
       " array(['Sdf4', 'Srpk1', 'Srsf10', 'Actr10', 'Tmem63b', 'Celf3', 'Marf1',\n",
       "        'Samd8', 'Epn1', 'Cox7a2l', 'Nucks1', 'Bace1', 'B230219D22Rik',\n",
       "        'Ktn1', 'Apbb1', 'Hnrnpu', 'Pura', 'Syngap1', 'Cadm3', 'Sv2a',\n",
       "        'Bclaf1'], dtype='<U16')]"
      ]
     },
     "execution_count": 244,
     "metadata": {},
     "output_type": "execute_result"
    }
   ],
   "source": [
    "gene_names_to_run"
   ]
  },
  {
   "cell_type": "code",
   "execution_count": 516,
   "metadata": {
    "id": "xuWWmQCir7y5",
    "outputId": "9f426cb7-a2a7-4c5e-8d9f-2094f0d588b2"
   },
   "outputs": [
    {
     "name": "stdout",
     "output_type": "stream",
     "text": [
      "./loom/allen_F08_glu.loom\n"
     ]
    }
   ],
   "source": [
    "\n",
    "test_data_ind = 3\n",
    "\n",
    "with lp.connect(sample_looms[test_data_ind]) as ds:\n",
    "    print(sample_looms[test_data_ind])\n",
    "    U = ds.layers['unspliced'][:]\n",
    "    S = ds.layers['spliced'][:]\n",
    "    loom_gene_names = ds.ra['gene_name']"
   ]
  },
  {
   "cell_type": "code",
   "execution_count": 519,
   "metadata": {
    "id": "UO0VP4cHr7y5",
    "outputId": "111f7031-e053-44bb-ebff-b1523ecd9af3"
   },
   "outputs": [
    {
     "data": {
      "image/png": "[encoded data removed]",
      "text/plain": [
       "<Figure size 864x432 with 6 Axes>"
      ]
     },
     "metadata": {
      "needs_background": "light"
     },
     "output_type": "display_data"
    }
   ],
   "source": [
    "# genes_to_plot = ['Unc13a','Aplp2','Srpk1']\n",
    "genes_to_plot = ['Gabra4','Tmem65','Bace1']\n",
    "# \n",
    "####\n",
    "n_genes_to_plot= len(genes_to_plot)\n",
    "\n",
    "# gou_color='r'\n",
    "# cir_color='royalblue'\n",
    "\n",
    "fig1,ax1=plt.subplots(2,n_genes_to_plot,figsize=(4*n_genes_to_plot,6))\n",
    "\n",
    "gene_locations = np.asarray([np.where(loom_gene_names==x)[0][0] for x in genes_to_plot])\n",
    "\n",
    "for k,gene_ind in enumerate(gene_locations):\n",
    "    gene_name = genes_to_plot[k]\n",
    "    model_set = np.where([gene_name in x for x in gene_names_to_run])[0][0]\n",
    "    location_in_model_set = np.where(gene_name == gene_names_to_run[model_set])[0][0]\n",
    "    \n",
    "    mx = np.asarray([U[gene_ind].max()+10,S[gene_ind].max()+10],dtype=int)\n",
    "\n",
    "    bins = np.arange(mx[0]-8)-0.5\n",
    "    ax1[0,k].hist(U[gene_ind],bins,color='lightgray',density=True)\n",
    "    ax1[0,k].set_title(loom_gene_names[gene_ind],fontsize=16)\n",
    "    ax1[0,k].set_xlim([-0.5,bins[-1]])\n",
    "    \n",
    "    pars_sde_gou = oss_res[sample_names[test_data_ind]][models[model_set]][location_in_model_set][1]\n",
    "    pars_sde_cir = oss_res[sample_names[test_data_ind]][models[model_set]][location_in_model_set][2]\n",
    "\n",
    "    y = get_GOU_2sp([mx[0],1],pars_sde_gou)\n",
    "    ax1[0,k].plot(y,'-',color=gou_color,label='GOU')\n",
    "    y = get_CIR_2sp([mx[0],1],pars_sde_cir)\n",
    "    ax1[0,k].plot(y,'-',color=cir_color,label='CIR')\n",
    "#     ax1[0,k].legend()\n",
    "\n",
    "    bins = np.arange(mx[1]-8)-0.5\n",
    "    ax1[1,k].hist(S[gene_ind],bins,color='lightgray',density=True)\n",
    "    ax1[1,k].set_xlim([-0.5,bins[-1]])\n",
    "\n",
    "#     ax1[0,k].set_yscale('log')\n",
    "#     ax1[1,k].set_yscale('log')\n",
    "    \n",
    "    y = get_GOU_2sp([1,mx[1]],pars_sde_gou).squeeze()\n",
    "    ax1[1,k].plot(y,'-',color=gou_color)\n",
    "    y = get_CIR_2sp([1,mx[1]],pars_sde_cir).squeeze()\n",
    "    ax1[1,k].plot(y,'-',color=cir_color)\n",
    "    \n",
    "    ax1[0,k].set_yticks([])\n",
    "    ax1[1,k].set_yticks([])\n",
    "    if k==0:\n",
    "        ax1[0,k].set_ylabel('Nascent',fontsize=14)\n",
    "        ax1[1,k].set_ylabel('Mature',fontsize=14)\n",
    "    ax1[1,k].set_xlabel('# molecules',fontsize=14)\n",
    "fig1.tight_layout()\n",
    "\n",
    "\n",
    "plt.savefig('fig/good_fits.png',dpi=450)\n",
    "plt.savefig('fig/good_fits.svg')\n",
    "plt.savefig('fig/good_fits.pdf')"
   ]
  },
  {
   "cell_type": "code",
   "execution_count": 550,
   "metadata": {},
   "outputs": [
    {
     "name": "stdout",
     "output_type": "stream",
     "text": [
      "./loom/allen_C01_glu.loom\n"
     ]
    }
   ],
   "source": [
    "\n",
    "test_data_ind = 0\n",
    "\n",
    "with lp.connect(sample_looms[test_data_ind]) as ds:\n",
    "    print(sample_looms[test_data_ind])\n",
    "    U = ds.layers['unspliced'][:]\n",
    "    S = ds.layers['spliced'][:]\n",
    "    loom_gene_names = ds.ra['gene_name']"
   ]
  },
  {
   "cell_type": "code",
   "execution_count": 556,
   "metadata": {},
   "outputs": [
    {
     "data": {
      "image/png": "[encoded data removed]",
      "text/plain": [
       "<Figure size 576x432 with 4 Axes>"
      ]
     },
     "metadata": {
      "needs_background": "light"
     },
     "output_type": "display_data"
    }
   ],
   "source": [
    "genes_to_plot = ['Pde2a', 'Srpk1']\n",
    "\n",
    "####\n",
    "n_genes_to_plot= len(genes_to_plot)\n",
    "\n",
    "# gou_color='r'\n",
    "# cir_color='royalblue'\n",
    "\n",
    "fig1,ax1=plt.subplots(2,n_genes_to_plot,figsize=(4*n_genes_to_plot,6))\n",
    "\n",
    "gene_locations = np.asarray([np.where(loom_gene_names==x)[0][0] for x in genes_to_plot])\n",
    "\n",
    "for k,gene_ind in enumerate(gene_locations):\n",
    "    gene_name = genes_to_plot[k]\n",
    "    model_set = np.where([gene_name in x for x in gene_names_to_run])[0][0]\n",
    "    location_in_model_set = np.where(gene_name == gene_names_to_run[model_set])[0][0]\n",
    "    \n",
    "    mx = np.asarray([U[gene_ind].max()+10,S[gene_ind].max()+10],dtype=int)\n",
    "\n",
    "    bins = np.arange(mx[0]-8)-0.5\n",
    "    ax1[0,k].hist(U[gene_ind],bins,color='lightgray',density=True)\n",
    "    ax1[0,k].set_title(loom_gene_names[gene_ind],fontsize=16)\n",
    "    ax1[0,k].set_xlim([-0.5,bins[-1]])\n",
    "    ax1[0,k].set_xticks(np.arange(0,bins[-1],5))\n",
    "    \n",
    "    pars_sde_gou = oss_res[sample_names[test_data_ind]][models[model_set]][location_in_model_set][1]\n",
    "    pars_sde_cir = oss_res[sample_names[test_data_ind]][models[model_set]][location_in_model_set][2]\n",
    "\n",
    "    y = get_GOU_2sp([mx[0],1],pars_sde_gou)\n",
    "    ax1[0,k].plot(y,'-',color=gou_color,label='GOU')\n",
    "    y = get_CIR_2sp([mx[0],1],pars_sde_cir)\n",
    "    ax1[0,k].plot(y,'-',color=cir_color,label='CIR')\n",
    "#     ax1[0,k].legend()\n",
    "\n",
    "    bins = np.arange(mx[1]-8)-0.5\n",
    "    ax1[1,k].hist(S[gene_ind],bins,color='lightgray',density=True)\n",
    "    ax1[1,k].set_xlim([-0.5,bins[-1]])\n",
    "    ax1[1,k].set_xticks(np.arange(0,bins[-1],5))\n",
    "\n",
    "#     ax1[0,k].set_yscale('log')\n",
    "#     ax1[1,k].set_yscale('log')\n",
    "    \n",
    "    y = get_GOU_2sp([1,mx[1]],pars_sde_gou).squeeze()\n",
    "    ax1[1,k].plot(y,'-',color=gou_color)\n",
    "    y = get_CIR_2sp([1,mx[1]],pars_sde_cir).squeeze()\n",
    "    ax1[1,k].plot(y,'-',color=cir_color)\n",
    "    \n",
    "    ax1[0,k].set_yticks([])\n",
    "    ax1[1,k].set_yticks([])\n",
    "    if k==0:\n",
    "        ax1[0,k].set_ylabel('Nascent',fontsize=14)\n",
    "        ax1[1,k].set_ylabel('Mature',fontsize=14)\n",
    "    ax1[1,k].set_xlabel('# molecules',fontsize=14)\n",
    "fig1.tight_layout()\n",
    "\n",
    "\n",
    "plt.savefig('fig/questionable_fits.png',dpi=450)\n",
    "plt.savefig('fig/questionable_fits.svg')\n",
    "plt.savefig('fig/questionable_fits.pdf')"
   ]
  },
  {
   "cell_type": "markdown",
   "metadata": {},
   "source": [
    "## Bayes factors"
   ]
  },
  {
   "cell_type": "code",
   "execution_count": 348,
   "metadata": {},
   "outputs": [],
   "source": [
    "BF_genes= ['Pou6f1','Gabra4', 'Tmem65','Aplp2', 'Bace1','Srpk1']\n",
    "BF = np.load('loom/smc_results/four/bfs.npy')"
   ]
  },
  {
   "cell_type": "code",
   "execution_count": 500,
   "metadata": {},
   "outputs": [
    {
     "data": {
      "text/plain": [
       "array(['Ddx17', 'Aftph', 'Xiap', 'Gabra4', 'Mark1', 'Btbd10', 'Unc13a',\n",
       "       'Tnrc6a', 'Ldah', 'Fut8', 'Ap3s2', 'Pde2a', 'Mphosph9', 'Desi2',\n",
       "       'Cacna1i', 'Zmynd11', 'Pou6f1', 'Slc16a7', 'Fxr2', 'Mgat4a',\n",
       "       'Wipf2', 'Fez1', 'Tmem50b', 'Psma2', 'Smarca5', 'Aplp2', 'Tmem65',\n",
       "       'Camkk2', 'Ndufv2', 'Uqcrc2', 'Bphl', 'Rheb', 'Gars', 'Ccdc136',\n",
       "       'Irs2', 'Ppp1r2', 'Sdf4', 'Srpk1', 'Srsf10', 'Actr10', 'Tmem63b',\n",
       "       'Celf3', 'Marf1', 'Samd8', 'Epn1', 'Cox7a2l', 'Nucks1', 'Bace1',\n",
       "       'B230219D22Rik', 'Ktn1', 'Apbb1', 'Hnrnpu', 'Pura', 'Syngap1',\n",
       "       'Cadm3', 'Sv2a', 'Bclaf1'], dtype='<U16')"
      ]
     },
     "execution_count": 500,
     "metadata": {},
     "output_type": "execute_result"
    }
   ],
   "source": [
    "genes_all"
   ]
  },
  {
   "cell_type": "code",
   "execution_count": 552,
   "metadata": {},
   "outputs": [
    {
     "data": {
      "text/plain": [
       "array([-8.14530655,         nan,  6.33396   , -8.2521169 ])"
      ]
     },
     "execution_count": 552,
     "metadata": {},
     "output_type": "execute_result"
    }
   ],
   "source": [
    "lik_ratios[:,np.where(genes_all=='Pde2a')[0][0]]"
   ]
  },
  {
   "cell_type": "code",
   "execution_count": 553,
   "metadata": {},
   "outputs": [
    {
     "data": {
      "text/plain": [
       "array([4.67612806, 3.48597834,        nan,        nan])"
      ]
     },
     "execution_count": 553,
     "metadata": {},
     "output_type": "execute_result"
    }
   ],
   "source": [
    "lik_ratios[:,np.where(genes_all=='Srpk1')[0][0]]"
   ]
  },
  {
   "cell_type": "code",
   "execution_count": 439,
   "metadata": {},
   "outputs": [],
   "source": [
    "indices_all = np.concatenate(indices)\n",
    "n_genes = len(indices_all)\n",
    "lik_ratios = np.zeros((n_datasets,n_genes))\n",
    "for test_data_ind in range(n_datasets):\n",
    "    for model_ind in range(n_models):\n",
    "        lik_ratios[test_data_ind,indices[model_ind]] = lik_ratios_checked[test_data_ind,model_ind]\n",
    "genes_all = np.concatenate(gene_names_to_run)\n",
    "gene_colors = sum([[colors[x]]*len(indices[x]) for x in range(n_models)],[])\n",
    "\n",
    "gf = ~(np.isnan(lik_ratios).all(0))\n",
    "lik_ratios = lik_ratios[:,gf]\n",
    "genes_all = genes_all[gf]\n",
    "gene_colors = [x for k,x in enumerate(gene_colors) if gf[k]]\n",
    "n_genes = gf.sum()\n",
    "indices_all = indices_all[gf]\n",
    "plot_indices = np.arange(n_genes)"
   ]
  },
  {
   "cell_type": "code",
   "execution_count": 475,
   "metadata": {},
   "outputs": [
    {
     "name": "stderr",
     "output_type": "stream",
     "text": [
      "/home/ggorin/miniconda3/lib/python3.9/site-packages/matplotlib/cbook/__init__.py:1026: VisibleDeprecationWarning: Creating an ndarray from ragged nested sequences (which is a list-or-tuple of lists-or-tuples-or ndarrays with different lengths or shapes) is deprecated. If you meant to do this, you must specify 'dtype=object' when creating the ndarray.\n",
      "  x = np.asanyarray(x)\n"
     ]
    },
    {
     "data": {
      "image/png": "[encoded data removed]",
      "text/plain": [
       "<Figure size 1080x288 with 1 Axes>"
      ]
     },
     "metadata": {
      "needs_background": "light"
     },
     "output_type": "display_data"
    }
   ],
   "source": [
    "markeralpha=0.2\n",
    "fig1,ax1 = plt.subplots(1,1,figsize=(15,4))\n",
    "\n",
    "ax1.plot([0,n_genes],[0,0],'k--')\n",
    "\n",
    "for test_data_ind in range(len(sample_names)):\n",
    "    ax1.scatter(plot_indices,lik_ratios[test_data_ind],\\\n",
    "                60,c=gene_colors,alpha=markeralpha)\n",
    "\n",
    "lw=2\n",
    "\n",
    "for k,BF_gene in enumerate(BF_genes):\n",
    "    BF_gene_ind = np.where(genes_all==BF_gene)[0][0]\n",
    "    bp_dict = {'linewidth':lw,'color':gene_colors[BF_gene_ind]}\n",
    "    bplot = ax1.boxplot(BF[:,k], \\\n",
    "                        positions = [BF_gene_ind],widths=1,patch_artist=True,\\\n",
    "                        boxprops = {'linewidth':lw,'color':gene_colors[BF_gene_ind],'facecolor':'None'},\n",
    "                        capprops = bp_dict,\n",
    "                        medianprops = bp_dict,\n",
    "                        whiskerprops = bp_dict,\n",
    "                        flierprops = bp_dict)\n",
    "\n",
    "ax1.set_ylabel('Likelihood ratio in favor of CIR',fontsize=14)\n",
    "_=ax1.set_xticks(plot_indices,genes_all,rotation=90,fontsize=12)\n",
    "ax1.set_xlim([-0.5,n_genes-0.5])\n",
    "\n",
    "plt.savefig('fig/BFs.png',dpi=450)\n",
    "plt.savefig('fig/BFs.svg')\n",
    "plt.savefig('fig/BFs.pdf')"
   ]
  },
  {
   "cell_type": "code",
   "execution_count": null,
   "metadata": {},
   "outputs": [],
   "source": []
  }
 ],
 "metadata": {
  "colab": {
   "collapsed_sections": [],
   "include_colab_link": true,
   "name": "gg220406_refactor.ipynb",
   "provenance": []
  },
  "kernelspec": {
   "display_name": "Python 3",
   "language": "python",
   "name": "python3"
  },
  "language_info": {
   "codemirror_mode": {
    "name": "ipython",
    "version": 3
   },
   "file_extension": ".py",
   "mimetype": "text/x-python",
   "name": "python",
   "nbconvert_exporter": "python",
   "pygments_lexer": "ipython3",
   "version": "3.9.1"
  }
 },
 "nbformat": 4,
 "nbformat_minor": 1
}
