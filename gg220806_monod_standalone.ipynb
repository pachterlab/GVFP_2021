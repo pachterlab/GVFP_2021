{
  "cells": [
    {
      "cell_type": "markdown",
      "metadata": {
        "id": "view-in-github",
        "colab_type": "text"
      },
      "source": [
        "<a href=\"https://colab.research.google.com/github/pachterlab/GVFP_2021/blob/dev/gg220806_monod_standalone.ipynb\" target=\"_parent\"><img src=\"https://colab.research.google.com/assets/colab-badge.svg\" alt=\"Open In Colab\"/></a>"
      ]
    },
    {
      "cell_type": "markdown",
      "metadata": {
        "id": "VPTqP9OGouov"
      },
      "source": [
        "# Identification of CIR- and $\\Gamma$-OU-like genes"
      ]
    },
    {
      "cell_type": "markdown",
      "metadata": {
        "id": "d2qrzWG0_Yqm"
      },
      "source": [
        "In the current notebook, we attempt to find genes that consistently with the CIR and $\\Gamma$-OU models of stochastic time-dependent transcription, as well as genes that cannot be confidently assigned to one of the two models."
      ]
    },
    {
      "cell_type": "markdown",
      "source": [
        "## Colab prerequisites"
      ],
      "metadata": {
        "id": "QqGJNnwEr9KZ"
      }
    },
    {
      "cell_type": "code",
      "source": [
        "!git clone https://github.com/pachterlab/monod.git"
      ],
      "metadata": {
        "colab": {
          "base_uri": "https://localhost:8080/"
        },
        "id": "gU64Ym6ksBX3",
        "outputId": "f665746f-5a9d-4c8d-a059-df707dfa5ef0"
      },
      "execution_count": 2,
      "outputs": [
        {
          "output_type": "stream",
          "name": "stdout",
          "text": [
            "fatal: destination path 'monod' already exists and is not an empty directory.\n"
          ]
        }
      ]
    },
    {
      "cell_type": "code",
      "source": [
        "import sys\n",
        "sys.path.insert(0, './monod/src/')"
      ],
      "metadata": {
        "id": "3EljkQ-dsQYx"
      },
      "execution_count": null,
      "outputs": []
    },
    {
      "cell_type": "code",
      "source": [
        "!git clone --branch dev https://github.com/pachterlab/GVFP_2021.git"
      ],
      "metadata": {
        "colab": {
          "base_uri": "https://localhost:8080/"
        },
        "id": "Y97G5kYAsRU_",
        "outputId": "df32b889-5d42-4d98-ce1e-554f6c7b8700"
      },
      "execution_count": 3,
      "outputs": [
        {
          "output_type": "stream",
          "name": "stdout",
          "text": [
            "Cloning into 'GVFP_2021'...\n",
            "remote: Enumerating objects: 1912, done.\u001b[K\n",
            "remote: Counting objects: 100% (558/558), done.\u001b[K\n",
            "remote: Compressing objects: 100% (321/321), done.\u001b[K\n",
            "remote: Total 1912 (delta 247), reused 548 (delta 237), pack-reused 1354\u001b[K\n",
            "Receiving objects: 100% (1912/1912), 846.36 MiB | 34.63 MiB/s, done.\n",
            "Resolving deltas: 100% (811/811), done.\n",
            "Checking out files: 100% (613/613), done.\n"
          ]
        }
      ]
    },
    {
      "cell_type": "code",
      "source": [
        "!mv GVFP_2021/* ."
      ],
      "metadata": {
        "id": "df0yTDmAsXW5"
      },
      "execution_count": 4,
      "outputs": []
    },
    {
      "cell_type": "code",
      "source": [
        "!rm -r GVFP_2021"
      ],
      "metadata": {
        "id": "uD8WVAt3saT9"
      },
      "execution_count": 7,
      "outputs": []
    },
    {
      "cell_type": "code",
      "source": [
        "%%capture\n",
        "!wget https://raw.githubusercontent.com/pachterlab/monod_examples/main/polyA_ref/gg_200524_mouse_genome_polyA_cum_1\n",
        "#not strictly necessary"
      ],
      "metadata": {
        "id": "7uWUEZpesoq_"
      },
      "execution_count": 19,
      "outputs": []
    },
    {
      "cell_type": "code",
      "source": [
        "subcluster_loom_dir = './loom/'"
      ],
      "metadata": {
        "id": "c7lW1YAWsio8"
      },
      "execution_count": 8,
      "outputs": []
    },
    {
      "cell_type": "code",
      "source": [
        "transcriptome_filepath = 'gg_200524_mouse_genome_polyA_cum_1'"
      ],
      "metadata": {
        "id": "xGtSnNwLs1Gq"
      },
      "execution_count": 10,
      "outputs": []
    },
    {
      "cell_type": "code",
      "source": [
        "%%capture\n",
        "!pip install loompy anndata numdifftools"
      ],
      "metadata": {
        "id": "LIiC8quWs5Bn"
      },
      "execution_count": 18,
      "outputs": []
    },
    {
      "cell_type": "markdown",
      "metadata": {
        "id": "b7xvAgxMr7yk"
      },
      "source": [
        "## Predictive filtering: prerequisites"
      ]
    },
    {
      "cell_type": "markdown",
      "metadata": {
        "id": "eaIw2tirr7yl"
      },
      "source": [
        "First, we do a round of preliminary filtering using five moderate- to high-abundance glutamatergic cell subtypes from four mice, released by the Allen brain institute. This requires the *Monod* framework."
      ]
    },
    {
      "cell_type": "code",
      "execution_count": 11,
      "metadata": {
        "id": "LUYKnMm4r7yl"
      },
      "outputs": [],
      "source": [
        "import time\n",
        "t1 = time.time()"
      ]
    },
    {
      "cell_type": "markdown",
      "metadata": {
        "id": "dHqEaJxhr7yn"
      },
      "source": [
        "Define the dataset metadata and disk locations."
      ]
    },
    {
      "cell_type": "code",
      "execution_count": 12,
      "metadata": {
        "id": "Kx9Vkj-lXUCE"
      },
      "outputs": [],
      "source": [
        "subcluster_names = ['l23it','l5it','l6it', 'l56np', 'l6ct']\n",
        "subcluster_dataset_names = ['allen_B08_'+y  for y in subcluster_names] \n",
        "subcluster_loom_filepaths = [subcluster_loom_dir+x+'.loom' for x in subcluster_dataset_names] \n",
        "\n",
        "attribute_names=['spliced','unspliced','gene_name','barcode']\n",
        "n_subcluster_datasets = len(subcluster_dataset_names)"
      ]
    },
    {
      "cell_type": "markdown",
      "source": [
        "Define models to analyze."
      ],
      "metadata": {
        "id": "xPuXUZFdua7k"
      }
    },
    {
      "cell_type": "code",
      "source": [
        "models = ('Bursty','CIR','Extrinsic')\n",
        "n_models = len(models)"
      ],
      "metadata": {
        "id": "As0ETff0uacv"
      },
      "execution_count": null,
      "outputs": []
    },
    {
      "cell_type": "code",
      "execution_count": 20,
      "metadata": {
        "id": "MFhM3dNdr7yo"
      },
      "outputs": [],
      "source": [
        "import monod\n",
        "from monod.preprocess import *\n",
        "from monod.extract_data import extract_data\n",
        "import monod.cme_toolbox as cme_toolbox\n",
        "from monod.cme_toolbox import CMEModel\n",
        "import monod.inference as inference\n",
        "from monod.inference import InferenceParameters, GradientInference\n",
        "import monod.analysis as analysis\n",
        "from monod.analysis import *"
      ]
    },
    {
      "cell_type": "markdown",
      "metadata": {
        "id": "JTVHNvler7yp"
      },
      "source": [
        "## Helper functions"
      ]
    },
    {
      "cell_type": "markdown",
      "metadata": {
        "id": "cZfRwmVfr7yp"
      },
      "source": [
        "These helper functions evaluate and fit the $\\Gamma$-OU and CIR models."
      ]
    },
    {
      "cell_type": "code",
      "execution_count": 21,
      "metadata": {
        "id": "D_GGnjoRr7yq"
      },
      "outputs": [],
      "source": [
        "def par_fun_fullfit(fitinput):\n",
        "    U,S,n_restarts,maxiter = fitinput\n",
        "    reduced_guess=None\n",
        "    limit=None\n",
        "    pars_sde_gou = convert_pars(get_MLE('GOU',U,S,reduced_guess,disp=False,limit=limit,n_restarts=n_restarts,maxiter=maxiter))\n",
        "    pars_sde_cir = convert_pars(get_MLE('CIR',U,S,reduced_guess,disp=False,limit=limit,n_restarts=n_restarts,maxiter=maxiter))\n",
        "    lik_ratio, logL_gou, logL_cir = get_lik_ratio(pars_sde_gou,pars_sde_cir,U,S)\n",
        "    return lik_ratio,pars_sde_gou,pars_sde_cir,logL_gou, logL_cir\n",
        "\n",
        "\n",
        "def get_MoM(U,S):\n",
        "    raw_guess = np.zeros(4)\n",
        "    Um = U.mean()\n",
        "    Uv = U.var()\n",
        "    Sm = S.mean()\n",
        "    Sv = S.var()\n",
        "\n",
        "    beta = 1/Um #assuming <k>=1\n",
        "    gamma = 1/Sm\n",
        "    kappa = beta / ( (Sv - Sm)/(Uv - Um) * Um * (beta + gamma) / (Sm*beta) - 1) - gamma\n",
        "    theta = (kappa+beta)/Um * (Uv - Um)\n",
        "    \n",
        "    a = kappa/theta\n",
        "    \n",
        "    raw_guess = np.asarray([beta,gamma,kappa,theta])/a\n",
        "    \n",
        "    return raw_guess\n",
        "\n",
        "def get_MLE(model,U,S,reduced_guess=None,disp=True,limit='fast',n_restarts = 4,maxiter=10):\n",
        "    data = np.unique(np.vstack((U,S)).astype(int),\\\n",
        "                     axis=1,return_counts=True)\n",
        "    \n",
        "    \n",
        "    phys_lb = np.asarray([-2]*4)+np.random.randn(4)*0.02\n",
        "    phys_ub = np.asarray([2]*4)+np.random.randn(4)*0.02\n",
        "    phys_lb_raw = 10**phys_lb\n",
        "    phys_ub_raw = 10**phys_ub\n",
        "    \n",
        "    initial_guess = np.zeros(4)\n",
        "    if reduced_guess is not None:\n",
        "        raw_guess = 10**reduced_guess\n",
        "        if limit=='fast':\n",
        "            initial_guess[0] = raw_guess[1] #beta\n",
        "            initial_guess[1] = raw_guess[2] #gamma\n",
        "            initial_guess[2] = 5.9 #kappa -- must be pretty fast\n",
        "            initial_guess[3] = raw_guess[0]*initial_guess[2] #theta\n",
        "        elif limit=='slow':\n",
        "            initial_guess[2] = 1/raw_guess[0] #alpha=a/kappa, a set to 1\n",
        "            initial_guess[3] = 4 #theta: arbitary\n",
        "            initial_guess[0] = raw_guess[1]*initial_guess[3] #beta\n",
        "            initial_guess[1] = raw_guess[2]*initial_guess[3] #gamma\n",
        "    else:\n",
        "        raw_guess = get_MoM(U,S)\n",
        "        initial_guess = np.clip(raw_guess,phys_lb_raw,phys_ub_raw)\n",
        "    log_initial_guess = np.log10(initial_guess)\n",
        "    \n",
        "    if model=='CIR':\n",
        "        pssfun = get_CIR_2sp\n",
        "    if model=='GOU':\n",
        "        pssfun = get_GOU_2sp\n",
        "        \n",
        "    err = np.inf\n",
        "    err_thr = 0.99\n",
        "    if n_restarts>0:\n",
        "        for restart in range(n_restarts):\n",
        "            if restart>0:\n",
        "                log_initial_guess = np.random.rand(4) * (phys_ub-phys_lb) + phys_lb\n",
        "            grad_bnd=scipy.optimize.Bounds(phys_lb,phys_ub)\n",
        "            res_arr = scipy.optimize.minimize(lambda x: get_kld(x,pssfun,data),\n",
        "                                x0=log_initial_guess, \\\n",
        "                                bounds=grad_bnd,\\\n",
        "                                options={'maxiter':maxiter,'disp':disp})\n",
        "            if res_arr.fun<err*err_thr:\n",
        "                x=res_arr.x\n",
        "                err=res_arr.fun\n",
        "        return x\n",
        "    else:\n",
        "        return log_initial_guess\n",
        "    \n",
        "    \n",
        "def convert_pars(pars): #go from log10 4 parameters to raw 5 parameters\n",
        "    raw_pars = 10**pars\n",
        "    pars_sde = np.zeros(5)\n",
        "    pars_sde[0] = raw_pars[0] #beta\n",
        "    pars_sde[1] = raw_pars[1] #gamma\n",
        "    pars_sde[2] = 1\n",
        "    pars_sde[3] = raw_pars[2] #kappa\n",
        "    pars_sde[4] = raw_pars[3] #theta\n",
        "    return pars_sde\n",
        "\n",
        "def get_lik_ratio(pars_gou,pars_cir,U,S,EPS=1e-15):\n",
        "    data = np.unique(np.vstack((U,S)).astype(int),\\\n",
        "                     axis=1,return_counts=True)\n",
        "    unique_values, counts = data\n",
        "    coords = tuple([tuple(x) for x in unique_values.T])\n",
        "    mx = unique_values.max(1)+10\n",
        "    pss_gou = get_GOU_2sp(np.copy(mx),pars_gou)\n",
        "    pss_cir = get_CIR_2sp(np.copy(mx),pars_cir)\n",
        "    \n",
        "    pss_gou[pss_gou<EPS] = EPS\n",
        "    pss_gou = [pss_gou[x] for x in coords]\n",
        "    pss_cir[pss_cir<EPS] = EPS\n",
        "    pss_cir = [pss_cir[x] for x in coords]\n",
        "    logL_gou = (counts * np.log(pss_gou)).sum()\n",
        "    logL_cir = (counts * np.log(pss_cir)).sum()\n",
        "    lik_ratio = logL_cir - logL_gou\n",
        "    return lik_ratio, logL_gou, logL_cir\n",
        "    \n",
        "    \n",
        "\n",
        "def get_kld(pars,pssfun,data,EPS=1e-15):\n",
        "    unique_values, counts = data\n",
        "    mx = unique_values.max(1)+10\n",
        "    proposal_probabilities = pssfun(np.copy(mx),convert_pars(pars))\n",
        "    proposal_probabilities[proposal_probabilities<EPS] = EPS\n",
        "    coords = tuple([tuple(x) for x in unique_values.T])\n",
        "    proposal_probabilities = [proposal_probabilities[x] for x in coords]\n",
        "    kld = counts * np.log(counts / proposal_probabilities)\n",
        "    return np.sum(kld)\n",
        "\n",
        "\n",
        "from numpy.fft import irfftn\n",
        "x_gauss,w_gauss = scipy.special.roots_legendre(60, mu=False)\n",
        "\n",
        "def get_gf_GOU_2sp_ODE(g0, g1, params):\n",
        "    beta_0, beta_1, a, kappa, theta = params     # get parameters\n",
        "    \n",
        "    c0 = (g0) + (beta_0/(beta_1 - beta_0))*(g1)       #  relevant linear combinations of g_i\n",
        "    c1 = - (beta_0/(beta_1 - beta_0))*(g1)   \n",
        "    \n",
        "    min_fudge, max_fudge = 1, 10                                     # Determine integration time scale / length\n",
        "    dt = np.min([1/kappa, 1/theta, 1/beta_0, 1/beta_1])*min_fudge\n",
        "    t_max = np.max([1/kappa, 1/theta, 1/beta_0, 1/beta_1])*max_fudge\n",
        "    num_tsteps = int(np.ceil(t_max/dt))\n",
        "    \n",
        "#     t_array = np.linspace(0, t_max, num_tsteps+1)\n",
        "#     t_array = t_array.reshape((1, num_tsteps + 1))\n",
        "    t_array = (t_max*(x_gauss+1)/2)[None,:]\n",
        "    \n",
        "    q = np.zeros((g0.shape[0], num_tsteps + 1), dtype=np.complex64)    # initialize array to store ODE\n",
        "    c0 = c0.reshape((c0.shape[0],1))\n",
        "    c1 = c1.reshape((c1.shape[0],1))\n",
        "\n",
        "    q0 = theta*c0*(np.exp(-beta_0*t_array) - np.exp(-kappa*t_array))/(kappa - beta_0) \n",
        "    q1 = theta*c1*(np.exp(-beta_1*t_array) - np.exp(-kappa*t_array))/(kappa - beta_1)\n",
        "    q = q0 + q1\n",
        "    \n",
        "\n",
        "    integrand = q/(1-q)\n",
        "    \n",
        "#     print(integrand.shape)\n",
        "#     print(w_gauss.shape)\n",
        "    integral=np.matmul(integrand,w_gauss[:,None]).sum(1)/2*t_max\n",
        "#     integral = np.trapz(integrand, dx=dt, axis=1)     # integrate ODE solution\n",
        "    gf = np.exp( a*integral)               # get generating function\n",
        "    return gf\n",
        "\n",
        "\n",
        "# Get Pss for 2 species GOU model via ODE method\n",
        "def get_GOU_2sp(mx, params):\n",
        "    # Get generating function argument\n",
        "    u = []\n",
        "    half = np.copy(mx[:])\n",
        "    half[-1] = mx[-1]//2 + 1\n",
        "    for i in range(len(mx)):\n",
        "        l = np.arange(half[i])\n",
        "        u_ = np.exp(-2j*np.pi*l/mx[i])-1\n",
        "        u.append(u_)\n",
        "    g = np.meshgrid(*[u_ for u_ in u], indexing='ij')\n",
        "    for i in range(len(mx)):\n",
        "        g[i] = g[i].flatten()\n",
        "    \n",
        "    # Get generating function\n",
        "    gf = get_gf_GOU_2sp_ODE(g[0], g[1], params)                    \n",
        "    gf = gf.reshape(tuple(half))\n",
        "    \n",
        "    Pss = irfftn(gf, s=mx)                        # Get Pss by inverse fast Fourier transform\n",
        "    Pss = np.abs(Pss)/np.sum(np.abs(Pss))           # Normalize\n",
        "    return Pss\n",
        "\n",
        "\n",
        "# ODE for 2 species CIR model\n",
        "def f_2sp(q, t, c0, c1, params):\n",
        "    beta_0, beta_1, a, kappa, theta = params\n",
        "    result = - kappa*q + theta*q*q + kappa*( c0*np.exp(-beta_0*t) + c1*np.exp(-beta_1*t)  ) \n",
        "    return result\n",
        "\n",
        "\n",
        "# Vectorized RK4 implementation for 2 species CIR model\n",
        "def RK4_2sp(q, f, t, c0, c1, step_size, param):\n",
        "    j1 = f(q, t, c0, c1, param)\n",
        "    j2 = f(q + (step_size/2)*j1, t + (step_size/2), c0, c1, param)   \n",
        "    j3 = f(q + (step_size/2)*j2, t + (step_size/2), c0, c1, param)   \n",
        "    j4 = f(q + (step_size)*j3, t + (step_size), c0, c1, param)  \n",
        "    \n",
        "    q_new = q + (step_size/6)*(j1 + 2*j2 + 2*j3 + j4)\n",
        "    return q_new\n",
        "\n",
        "\n",
        "# Get 2 species CIR generating function using ODE method\n",
        "def get_gf_CIR_2sp(g0, g1, params):\n",
        "#     print('in pgf routine')\n",
        "    beta_0, beta_1, a, kappa, theta = params     # get parameters\n",
        "    \n",
        "    c0 = (g0) + (beta_0/(beta_1 - beta_0))*(g1)       #  relevant linear combinations of g_i\n",
        "    c1 = - (beta_0/(beta_1 - beta_0))*(g1)   \n",
        "\n",
        "    t_max = (1/np.asarray(params)).max()*5   \n",
        "    c0 = c0[:,None]\n",
        "    c1 = c1[:,None]\n",
        "    t_eval = t_max*(x_gauss+1)/2\n",
        "    def intfun_(t,y):\n",
        "        return f_2sp(y, t, c0, c1, params)\n",
        "    rk = scipy.integrate.solve_ivp(fun=intfun_,t_span=[0,t_max],y0=np.zeros((g0.shape[0]), dtype=np.complex64),t_eval = t_eval,\n",
        "                              vectorized=True)\n",
        "    try:\n",
        "        integral = np.matmul(rk.y,w_gauss[:,None]).sum(1)/2*t_max\n",
        "    except:\n",
        "        print('falling back on jjv solution')\n",
        "        min_fudge, max_fudge = 0.5, 10                                     # Determine integration time scale / length\n",
        "        dt = np.min([1/kappa, 1/theta, 1/beta_0, 1/beta_1])*min_fudge\n",
        "        num_tsteps = int(np.ceil(t_max/dt))\n",
        "        q = np.zeros((g0.shape[0], num_tsteps + 1), dtype=np.complex64)    # initialize array to store ODE\n",
        "\n",
        "        # Solve ODE using RK4 method \n",
        "        for i in range(0, num_tsteps):\n",
        "            t = i*dt\n",
        "            q[:,i+1] = RK4_2sp(q[:,i], f_2sp, t, c0[:,0], c1[:,0], dt, params)\n",
        "\n",
        "        integral = np.trapz(q, dx=dt, axis=1)     # integrate ODE solution\n",
        "        if (~np.isfinite(integral)).any():\n",
        "            print('Procedure failed.')\n",
        "            print(params)\n",
        "            print(rk.y.shape)\n",
        "            print(w_gauss[:,None].shape)\n",
        "            print(t_eval.shape)\n",
        "            print(x_gauss.shape)\n",
        "            print(t_max)\n",
        "            \n",
        "    gf = np.exp((a*theta/kappa)*integral)               # get generating function\n",
        "    return gf\n",
        "\n",
        "\n",
        "# Get Pss for 2 species CIR model via ODE method\n",
        "def get_CIR_2sp(mx, params):\n",
        "    # Get generating function argument\n",
        "    u = []\n",
        "    half = np.copy(mx[:])\n",
        "    half[-1] = mx[-1]//2 + 1\n",
        "    for i in range(len(mx)):\n",
        "        l = np.arange(half[i])\n",
        "        u_ = np.exp(-2j*np.pi*l/mx[i])-1\n",
        "        u.append(u_)\n",
        "    g = np.meshgrid(*[u_ for u_ in u], indexing='ij')\n",
        "    for i in range(len(mx)):\n",
        "        g[i] = g[i].flatten()\n",
        "    \n",
        "    # Get generating function\n",
        "    gf = get_gf_CIR_2sp(g[0], g[1], params)                    \n",
        "    gf = gf.reshape(tuple(half))\n",
        "                              \n",
        "    Pss = irfftn(gf, s=mx)                        # Get Pss by inverse fast Fourier transform\n",
        "    Pss = np.abs(Pss)/np.sum(np.abs(Pss))           # Normalize\n",
        "    return Pss\n"
      ]
    },
    {
      "cell_type": "markdown",
      "metadata": {
        "id": "RlkMO_TBr7ys"
      },
      "source": [
        "## Predictive filtering: preprocessing"
      ]
    },
    {
      "cell_type": "markdown",
      "metadata": {
        "id": "GuqrZNh8r7yt"
      },
      "source": [
        "Construct a batch by finding 3,000 genes which have at least moderate expression across all datasets. Visualize the set of genes (purple) that meet the expression filtering criteria."
      ]
    },
    {
      "cell_type": "code",
      "execution_count": 22,
      "metadata": {
        "colab": {
          "base_uri": "https://localhost:8080/"
        },
        "id": "q6uC8qrYXUEP",
        "outputId": "8bc5d40b-18da-4e6f-ac41-f698c59bb201",
        "scrolled": true
      },
      "outputs": [
        {
          "output_type": "stream",
          "name": "stderr",
          "text": [
            "INFO:root:Beginning data preprocessing and filtering.\n",
            "INFO:root:Directory ./fits/GVFP_nodate_022_subtypes_1 created.\n",
            "INFO:root:Dataset: allen_B08_l23it\n",
            "INFO:root:621 cells detected.\n",
            "INFO:root:32285 features observed, 32005 match genome annotations. 31649 were unique.\n",
            "INFO:root:5864 genes retained after expression filter.\n",
            "INFO:root:Directory ./fits/GVFP_nodate_022_subtypes_1/allen_B08_l23it created.\n",
            "INFO:root:Dataset: allen_B08_l5it\n",
            "INFO:root:1702 cells detected.\n",
            "INFO:root:32285 features observed, 32005 match genome annotations. 31649 were unique.\n",
            "INFO:root:6759 genes retained after expression filter.\n",
            "INFO:root:Directory ./fits/GVFP_nodate_022_subtypes_1/allen_B08_l5it created.\n",
            "INFO:root:Dataset: allen_B08_l6it\n",
            "INFO:root:471 cells detected.\n",
            "INFO:root:32285 features observed, 32005 match genome annotations. 31649 were unique.\n",
            "INFO:root:5773 genes retained after expression filter.\n",
            "INFO:root:Directory ./fits/GVFP_nodate_022_subtypes_1/allen_B08_l6it created.\n",
            "INFO:root:Dataset: allen_B08_l56np\n",
            "INFO:root:191 cells detected.\n",
            "INFO:root:32285 features observed, 32005 match genome annotations. 31649 were unique.\n",
            "INFO:root:4268 genes retained after expression filter.\n",
            "INFO:root:Directory ./fits/GVFP_nodate_022_subtypes_1/allen_B08_l56np created.\n",
            "INFO:root:Dataset: allen_B08_l6ct\n",
            "INFO:root:1359 cells detected.\n",
            "INFO:root:32285 features observed, 32005 match genome annotations. 31649 were unique.\n",
            "INFO:root:6599 genes retained after expression filter.\n",
            "INFO:root:Directory ./fits/GVFP_nodate_022_subtypes_1/allen_B08_l6ct created.\n",
            "INFO:root:Gene set size: 3787\n",
            "INFO:root:3000 genes selected.\n"
          ]
        }
      ],
      "source": [
        "subcluster_dir_string,subcluster_dataset_strings = construct_batch(subcluster_loom_filepaths, \\\n",
        "                                             transcriptome_filepath, \\\n",
        "                                             subcluster_dataset_names, \\\n",
        "                                             attribute_names=attribute_names,\\\n",
        "                                             batch_location='./fits',meta='subtypes',batch_id=1,\\\n",
        "                                             n_genes=3000,viz=False,datestring='nodate',creator='GVFP')"
      ]
    },
    {
      "cell_type": "markdown",
      "metadata": {
        "id": "DqbTdmw1r7yv"
      },
      "source": [
        "## Predictive filtering: inference with *Monod*"
      ]
    },
    {
      "cell_type": "markdown",
      "metadata": {
        "id": "ozKD1Rxkr7yv"
      },
      "source": [
        "Here, we iterate over the subcluster datasets and fit the three models, omitting technical noise."
      ]
    },
    {
      "cell_type": "code",
      "execution_count": 35,
      "metadata": {
        "id": "WofE7NvHr7yv"
      },
      "outputs": [],
      "source": [
        "def par_fun_monod(x):\n",
        "    models = ('Bursty','CIR','Extrinsic')\n",
        "    n_models = len(models)\n",
        "    fp,tx,dn,ds,dirs,att = x\n",
        "    # for j in range(1,2):\n",
        "    result_strings = []\n",
        "    for j in range(1,n_models):\n",
        "        fitmodel = CMEModel(models[j],'None')\n",
        "        inference_parameters = InferenceParameters([-2.0, -2.0, -2.0],[4.2, 2.5, 3.5],[1,1],[1,1],[1,1],\\\n",
        "                    ds,fitmodel,use_lengths = False,\n",
        "                    gradient_params = {'max_iterations':10,'init_pattern':'moments','num_restarts':1})\n",
        "        if j==0:\n",
        "            search_data = extract_data(fp,tx,dn,\n",
        "                                ds,dirs,dataset_attr_names=att)\n",
        "        else:\n",
        "            search_data = load_search_data(ds+'/raw.sd')\n",
        "        full_result_string = inference_parameters.fit_all_grid_points(1,search_data)\n",
        "        result_strings.append(full_result_string)\n",
        "    return result_strings"
      ]
    },
    {
      "cell_type": "code",
      "source": [
        "subcluster_loom_filepaths"
      ],
      "metadata": {
        "colab": {
          "base_uri": "https://localhost:8080/"
        },
        "id": "SnTuuDDntY3Y",
        "outputId": "eabaf67e-4ef8-4307-f624-a79a9ebe4e1d"
      },
      "execution_count": 36,
      "outputs": [
        {
          "output_type": "execute_result",
          "data": {
            "text/plain": [
              "['./loom/allen_B08_l23it.loom',\n",
              " './loom/allen_B08_l5it.loom',\n",
              " './loom/allen_B08_l6it.loom',\n",
              " './loom/allen_B08_l56np.loom',\n",
              " './loom/allen_B08_l6ct.loom']"
            ]
          },
          "metadata": {},
          "execution_count": 36
        }
      ]
    },
    {
      "cell_type": "code",
      "execution_count": null,
      "metadata": {
        "scrolled": true,
        "colab": {
          "base_uri": "https://localhost:8080/"
        },
        "id": "sC-C4Vh1r7yw",
        "outputId": "7760e8bb-9342-4b15-b3a3-a4efb5ffd24e"
      },
      "outputs": [
        {
          "output_type": "stream",
          "name": "stderr",
          "text": [
            "INFO:root:Sequencing model set to None. All sampling parameters set to null.\n",
            "WARNING:root:Directory ./fits/GVFP_nodate_022_subtypes_1/allen_B08_l5it/CIR_None_1x1 already exists.\n",
            "INFO:root:Sequencing model set to None. All sampling parameters set to null.\n",
            "INFO:root:Global inference parameters stored to ./fits/GVFP_nodate_022_subtypes_1/allen_B08_l5it/CIR_None_1x1/parameters.pr.\n",
            "WARNING:root:Directory ./fits/GVFP_nodate_022_subtypes_1/allen_B08_l6it/CIR_None_1x1 already exists.\n",
            "INFO:root:Global inference parameters stored to ./fits/GVFP_nodate_022_subtypes_1/allen_B08_l6it/CIR_None_1x1/parameters.pr.\n",
            "INFO:root:Sequencing model set to None. All sampling parameters set to null.\n",
            "INFO:root:Sequencing model set to None. All sampling parameters set to null.\n",
            "WARNING:root:Directory ./fits/GVFP_nodate_022_subtypes_1/allen_B08_l23it/CIR_None_1x1 already exists.\n",
            "INFO:root:Sequencing model set to None. All sampling parameters set to null.\n",
            "WARNING:root:Directory ./fits/GVFP_nodate_022_subtypes_1/allen_B08_l56np/CIR_None_1x1 already exists.\n",
            "INFO:root:Global inference parameters stored to ./fits/GVFP_nodate_022_subtypes_1/allen_B08_l23it/CIR_None_1x1/parameters.pr.\n",
            "INFO:root:Global inference parameters stored to ./fits/GVFP_nodate_022_subtypes_1/allen_B08_l56np/CIR_None_1x1/parameters.pr.\n",
            "WARNING:root:Directory ./fits/GVFP_nodate_022_subtypes_1/allen_B08_l6ct/CIR_None_1x1 already exists.\n",
            "INFO:root:Global inference parameters stored to ./fits/GVFP_nodate_022_subtypes_1/allen_B08_l6ct/CIR_None_1x1/parameters.pr.\n",
            "INFO:root:Search data loaded from ./fits/GVFP_nodate_022_subtypes_1/allen_B08_l56np/raw.sd.\n",
            "INFO:root:Starting non-parallelized grid scan.\n",
            "INFO:root:Search data loaded from ./fits/GVFP_nodate_022_subtypes_1/allen_B08_l6it/raw.sd.\n",
            "INFO:root:Starting non-parallelized grid scan.\n",
            "INFO:root:Search data loaded from ./fits/GVFP_nodate_022_subtypes_1/allen_B08_l23it/raw.sd.\n",
            "INFO:root:Starting non-parallelized grid scan.\n",
            "INFO:root:Search data loaded from ./fits/GVFP_nodate_022_subtypes_1/allen_B08_l5it/raw.sd.\n",
            "INFO:root:Starting non-parallelized grid scan.\n",
            "INFO:root:Search data loaded from ./fits/GVFP_nodate_022_subtypes_1/allen_B08_l6ct/raw.sd.\n",
            "INFO:root:Starting non-parallelized grid scan.\n"
          ]
        }
      ],
      "source": [
        "try:\n",
        "    pool = multiprocessing.Pool(processes=5)\n",
        "    iterable = zip(subcluster_loom_filepaths,[transcriptome_filepath]*n_subcluster_datasets,\\\n",
        "                   subcluster_dataset_names,subcluster_dataset_strings,\\\n",
        "                   [subcluster_dir_string]*n_subcluster_datasets,[attribute_names]*n_subcluster_datasets)\n",
        "    pool.map(par_fun_monod, iterable)\n",
        "    pool.close()\n",
        "    pool.join()\n",
        "except:\n",
        "    print('failed!')\n",
        "    pool.terminate()\n",
        "    pool.join()"
      ]
    },
    {
      "cell_type": "code",
      "execution_count": null,
      "metadata": {
        "id": "-WY4q5hRr7yw",
        "outputId": "4f528550-7bba-44f3-8357-95b112c36203"
      },
      "outputs": [
        {
          "name": "stdout",
          "output_type": "stream",
          "text": [
            "heck\n"
          ]
        }
      ],
      "source": [
        "print('heck')"
      ]
    },
    {
      "cell_type": "code",
      "execution_count": 32,
      "metadata": {
        "colab": {
          "base_uri": "https://localhost:8080/",
          "height": 35
        },
        "id": "_HZ_3hoVr7yw",
        "outputId": "77d17c1e-ad22-4da6-8ce0-47ddad324f04"
      },
      "outputs": [
        {
          "output_type": "execute_result",
          "data": {
            "text/plain": [
              "'./fits/GVFP_nodate_022_subtypes_1'"
            ],
            "application/vnd.google.colaboratory.intrinsic+json": {
              "type": "string"
            }
          },
          "metadata": {},
          "execution_count": 32
        }
      ],
      "source": [
        "subcluster_dir_string"
      ]
    },
    {
      "cell_type": "markdown",
      "metadata": {
        "id": "NzPDAK2ur7yx"
      },
      "source": [
        "## Predictive filtering: analysis of *Monod* results and AIC computation"
      ]
    },
    {
      "cell_type": "markdown",
      "metadata": {
        "id": "vYyEU4rPr7yx"
      },
      "source": [
        "You can restart from here by loading in the result files.\n",
        "\n",
        "I need to put in a function to re-extract `sd` objects if this is where we start."
      ]
    },
    {
      "cell_type": "code",
      "source": [
        "subcluster_dir_string = './fits/GVFP_nodate_022_subtypes_1'\n",
        "subcluster_dataset_strings = [subcluster_dir_string+'/'+x for x in subcluster_dataset_names]\n",
        "sd_arr = [extract_data(x) for x in zip(subcluster_loom_filepaths,[transcriptome_filepath]*n_subcluster_datasets,\\\n",
        "                   subcluster_dataset_names,subcluster_dataset_strings,\\\n",
        "                   [subcluster_dir_string]*n_subcluster_datasets,[attribute_names]*n_subcluster_datasets)\n"
      ],
      "metadata": {
        "id": "adWyIbM2tiD5"
      },
      "execution_count": null,
      "outputs": []
    },
    {
      "cell_type": "code",
      "execution_count": null,
      "metadata": {
        "id": "i8fyEm9Qr7yx"
      },
      "outputs": [],
      "source": [
        "# subcluster_result_strings"
      ]
    },
    {
      "cell_type": "code",
      "execution_count": 33,
      "metadata": {
        "id": "mHQU_B56r7yx"
      },
      "outputs": [],
      "source": [
        "subcluster_result_strings = [[subcluster_dir_string+'/'+x+'/'+y+'_None_1x1/grid_scan_results.res' \\\n",
        "                   for x in subcluster_dataset_names] \\\n",
        "                  for y in models]"
      ]
    },
    {
      "cell_type": "code",
      "execution_count": null,
      "metadata": {
        "id": "e5Kbj1B_r7yy",
        "outputId": "9f67278b-7c31-4d7c-d680-f72c2d96e837"
      },
      "outputs": [
        {
          "name": "stdout",
          "output_type": "stream",
          "text": [
            "INFO:root:Grid scan results loaded from ./fits/gg_220806_022_allen_celltypes_1/allen_B08_l23it/Bursty_None_1x1/grid_scan_results.res.\n",
            "INFO:root:Grid scan results loaded from ./fits/gg_220806_022_allen_celltypes_1/allen_B08_l23it/CIR_None_1x1/grid_scan_results.res.\n",
            "INFO:root:Grid scan results loaded from ./fits/gg_220806_022_allen_celltypes_1/allen_B08_l23it/Extrinsic_None_1x1/grid_scan_results.res.\n",
            "INFO:root:Directory ./fits/gg_220806_022_allen_celltypes_1/analysis_figures created.\n",
            "INFO:root:Grid scan results loaded from ./fits/gg_220806_022_allen_celltypes_1/allen_B08_l5it/Bursty_None_1x1/grid_scan_results.res.\n",
            "INFO:root:Grid scan results loaded from ./fits/gg_220806_022_allen_celltypes_1/allen_B08_l5it/CIR_None_1x1/grid_scan_results.res.\n",
            "INFO:root:Grid scan results loaded from ./fits/gg_220806_022_allen_celltypes_1/allen_B08_l5it/Extrinsic_None_1x1/grid_scan_results.res.\n",
            "WARNING:root:Directory ./fits/gg_220806_022_allen_celltypes_1/analysis_figures already exists.\n",
            "INFO:root:Grid scan results loaded from ./fits/gg_220806_022_allen_celltypes_1/allen_B08_l6it/Bursty_None_1x1/grid_scan_results.res.\n",
            "INFO:root:Grid scan results loaded from ./fits/gg_220806_022_allen_celltypes_1/allen_B08_l6it/CIR_None_1x1/grid_scan_results.res.\n",
            "INFO:root:Grid scan results loaded from ./fits/gg_220806_022_allen_celltypes_1/allen_B08_l6it/Extrinsic_None_1x1/grid_scan_results.res.\n",
            "WARNING:root:Directory ./fits/gg_220806_022_allen_celltypes_1/analysis_figures already exists.\n",
            "INFO:root:Grid scan results loaded from ./fits/gg_220806_022_allen_celltypes_1/allen_B08_l56np/Bursty_None_1x1/grid_scan_results.res.\n",
            "INFO:root:Grid scan results loaded from ./fits/gg_220806_022_allen_celltypes_1/allen_B08_l56np/CIR_None_1x1/grid_scan_results.res.\n",
            "INFO:root:Grid scan results loaded from ./fits/gg_220806_022_allen_celltypes_1/allen_B08_l56np/Extrinsic_None_1x1/grid_scan_results.res.\n",
            "WARNING:root:Directory ./fits/gg_220806_022_allen_celltypes_1/analysis_figures already exists.\n",
            "INFO:root:Grid scan results loaded from ./fits/gg_220806_022_allen_celltypes_1/allen_B08_l6ct/Bursty_None_1x1/grid_scan_results.res.\n",
            "INFO:root:Grid scan results loaded from ./fits/gg_220806_022_allen_celltypes_1/allen_B08_l6ct/CIR_None_1x1/grid_scan_results.res.\n",
            "INFO:root:Grid scan results loaded from ./fits/gg_220806_022_allen_celltypes_1/allen_B08_l6ct/Extrinsic_None_1x1/grid_scan_results.res.\n",
            "WARNING:root:Directory ./fits/gg_220806_022_allen_celltypes_1/analysis_figures already exists.\n"
          ]
        }
      ],
      "source": [
        "sr_arr = []\n",
        "for j in range(n_subcluster_datasets):\n",
        "    sr_ = []\n",
        "    for k in range(n_models):\n",
        "        loaded_res = load_search_results(result_strings[k][j])\n",
        "        loaded_res.find_sampling_optimum()\n",
        "        sr_.append(loaded_res)\n",
        "    make_batch_analysis_dir(sr_,subcluster_dir_string)\n",
        "    sr_arr.append(sr_)"
      ]
    },
    {
      "cell_type": "code",
      "execution_count": null,
      "metadata": {
        "id": "ncI1LEoGr7yy",
        "outputId": "797929e9-9241-453f-c7e9-db276916be5b"
      },
      "outputs": [
        {
          "data": {
            "text/plain": [
              "[621, 1702, 471, 191, 1359]"
            ]
          },
          "execution_count": 23,
          "metadata": {},
          "output_type": "execute_result"
        }
      ],
      "source": [
        "[sd.n_cells for sd in sd_arr]"
      ]
    },
    {
      "cell_type": "code",
      "execution_count": null,
      "metadata": {
        "id": "oh1vlujDr7yy"
      },
      "outputs": [],
      "source": [
        "w = []\n",
        "for j in range(n_subcluster_datasets):\n",
        "    w_ = get_AIC_weights(sr_arr[j],sd_arr[j])\n",
        "    w.append(w_)\n",
        "w = np.asarray(w)"
      ]
    },
    {
      "cell_type": "code",
      "execution_count": null,
      "metadata": {
        "id": "clPxv0MBr7yz"
      },
      "outputs": [],
      "source": [
        "# thr = 0.8\n",
        "gf_gou = (w[:,0,:]>0.9).all(0)\n",
        "gf_cir = (w[:,1,:]>0.5).all(0)\n",
        "gf_ext = (w[:,2,:]>0.8).all(0)"
      ]
    },
    {
      "cell_type": "code",
      "execution_count": null,
      "metadata": {
        "id": "yseVssY3r7yz"
      },
      "outputs": [],
      "source": [
        "# def get_cartesian_from_barycentric(b, t):\n",
        "#     return t.dot(b)\n",
        "\n",
        "# b = np.array([0.25,0.3,0.45]) # Barycentric coordinates\n",
        "# t = np.transpose(np.array([[0,0],[1,0],[0,1]])) # Triangle\n",
        "# c = get_cartesian_from_barycentric(b, t)\n",
        "w_bary = np.tensordot(w,np.asarray([[0,0],[1,0],[1/2,np.sqrt(3)/2]]).T,axes=([1],[1]))"
      ]
    },
    {
      "cell_type": "code",
      "execution_count": null,
      "metadata": {
        "id": "a95qbuEWr7yz"
      },
      "outputs": [],
      "source": [
        "gfs = np.vstack((gf_gou,gf_cir,gf_ext))\n",
        "# np.any"
      ]
    },
    {
      "cell_type": "markdown",
      "metadata": {
        "id": "K-dwuCR1r7yz"
      },
      "source": [
        "Tried to draw convex hulls but tbh they looked like complete trash"
      ]
    },
    {
      "cell_type": "code",
      "execution_count": null,
      "metadata": {
        "id": "UJvKqxVAr7yz",
        "outputId": "db973414-f4cf-4a96-d7c4-163ef968e167"
      },
      "outputs": [
        {
          "data": {
            "image/png": "[encoded data removed]",
            "text/plain": [
              "<Figure size 360x360 with 1 Axes>"
            ]
          },
          "metadata": {
            "needs_background": "light"
          },
          "output_type": "display_data"
        }
      ],
      "source": [
        "cols = ('r','b','k')\n",
        "fig1,ax1=plt.subplots(1,1,figsize=(5,5))\n",
        "ax1.scatter(w_bary[0,~gfs.any(0),0],w_bary[0,~gfs.any(0),1],1,'lightgray')\n",
        "for k in range(3):\n",
        "    ax1.scatter(w_bary[0,gfs[k],0],w_bary[0,gfs[k],1],10,cols[k],alpha=0.5)\n",
        "ax1.axis('off')\n",
        "ax1.set_aspect('equal')"
      ]
    },
    {
      "cell_type": "code",
      "execution_count": null,
      "metadata": {
        "id": "mivOvM6mr7y0"
      },
      "outputs": [],
      "source": [
        "gn = sd_arr[0].gene_names"
      ]
    },
    {
      "cell_type": "code",
      "execution_count": null,
      "metadata": {
        "id": "JglJ4IFtr7y0"
      },
      "outputs": [],
      "source": [
        "gfs = [gf_gou,gf_cir,gf_ext]"
      ]
    },
    {
      "cell_type": "code",
      "execution_count": null,
      "metadata": {
        "id": "rdV-ZozAr7y0"
      },
      "outputs": [],
      "source": [
        "chisq_thr = 5\n",
        "gene_inds_kept = []\n",
        "for model_ind in range(n_models):\n",
        "    n_genes = gfs[model_ind].sum()\n",
        "    gene_inds = np.where(gfs[model_ind])[0]\n",
        "    keep = np.zeros((n_genes,n_subcluster_datasets),dtype=bool)\n",
        "    pval = np.zeros((n_genes,n_subcluster_datasets))\n",
        "    for gene_count,gene_ind in enumerate(gene_inds):\n",
        "        for dataset in range(n_subcluster_datasets):\n",
        "            lm = [sd_arr[dataset].M[gene_ind], sd_arr[dataset].N[gene_ind]]\n",
        "            pars = sr_arr[dataset][model_ind].phys_optimum[gene_ind]\n",
        "            expect_freq = sr_arr[dataset][model_ind].model.eval_model_pss(pars,lm) * sd_arr[dataset].n_cells\n",
        "            \n",
        "            unique_values,counts = np.unique(np.vstack(\\\n",
        "                       (sd_arr[dataset].U[gene_ind],sd_arr[dataset].S[gene_ind])).astype(int),axis=1,\\\n",
        "                        return_counts=True) #create the dataset of observed counts\n",
        "            expect_freq = expect_freq[unique_values[0],unique_values[1]]\n",
        "                #the added bin accounts for all the stuff that's not in the \n",
        "                #observed categories\n",
        "            expect_freq = np.concatenate((expect_freq,[sd_arr[dataset].n_cells-expect_freq.sum()]))\n",
        "            counts = np.concatenate((counts,[0])) \n",
        "            \n",
        "            filt = (expect_freq>chisq_thr) & (counts>chisq_thr)\n",
        "            observed = np.concatenate((counts[filt],[counts[~filt].sum()]))\n",
        "            proposed = np.concatenate((expect_freq[filt],[expect_freq[~filt].sum()])) #this is incredibly severe.\n",
        "            csq = scipy.stats.mstats.chisquare(observed, proposed, 3) #3 dof because models have 3 parameters...\n",
        "            pval[gene_count,dataset] = csq.pvalue\n",
        "            if csq.pvalue>0.01:\n",
        "                keep[gene_count,dataset] = True\n",
        "                \n",
        "    gene_inds_kept.append(gene_inds[keep.all(1)])"
      ]
    },
    {
      "cell_type": "code",
      "execution_count": null,
      "metadata": {
        "id": "5LFhG5ugr7y0"
      },
      "outputs": [],
      "source": [
        "n_cells = np.asarray([sd.n_cells for sd in sd_arr])\n",
        "subtype_weights = n_cells/n_cells.sum()"
      ]
    },
    {
      "cell_type": "code",
      "execution_count": null,
      "metadata": {
        "id": "b1vCHI0Hr7y0"
      },
      "outputs": [],
      "source": [
        "results = []\n",
        "for model_ind in range(n_models):\n",
        "    data = {'meta':models[model_ind],'genes':gn[gene_inds_kept[model_ind]],'aic':w[:,:,gene_inds_kept[model_ind]]}\n",
        "    n_genes = len(data['genes'])\n",
        "    pars = np.zeros((n_genes,n_subcluster_datasets,3))\n",
        "    for gene_count,gene_ind in enumerate(gene_inds_kept[model_ind]):\n",
        "        for dataset in range(n_subcluster_datasets):\n",
        "            pars[gene_count,dataset] = sr_arr[dataset][model_ind].phys_optimum[gene_ind]\n",
        "    data['pars'] = pars\n",
        "    data['par_initial_guess'] = (pars*subtype_weights[None,:,None]).sum(1)\n",
        "    results.append(data)\n"
      ]
    },
    {
      "cell_type": "code",
      "execution_count": null,
      "metadata": {
        "id": "BYi83OC0r7y1"
      },
      "outputs": [],
      "source": [
        "with open(subcluster_dir_string+'/weights_and_genes.pickle','wb') as rfs:\n",
        "    pickle.dump(results,rfs)"
      ]
    },
    {
      "cell_type": "markdown",
      "metadata": {
        "id": "qfBgnAYxr7y1"
      },
      "source": [
        "## Out-of-sample analysis"
      ]
    },
    {
      "cell_type": "code",
      "execution_count": null,
      "metadata": {
        "id": "-T8NzG3dr7y1"
      },
      "outputs": [],
      "source": [
        "n_cores=33"
      ]
    },
    {
      "cell_type": "code",
      "execution_count": null,
      "metadata": {
        "id": "6DKn2A_Or7y1"
      },
      "outputs": [],
      "source": [
        "with open(subcluster_dir_string+'/weights_and_genes.pickle','rb') as rfs:\n",
        "    results = pickle.load(rfs)"
      ]
    },
    {
      "cell_type": "code",
      "execution_count": null,
      "metadata": {
        "id": "U3K6fNOCr7y1"
      },
      "outputs": [],
      "source": [
        "loom_directory = '/home/ggorin/count_data/loom_allen_celltype_kb/test/'"
      ]
    },
    {
      "cell_type": "code",
      "execution_count": null,
      "metadata": {
        "id": "iqlg1cyfr7y1"
      },
      "outputs": [],
      "source": [
        "genes_kept = [x['genes'] for x in results]\n",
        "sample_names = ['C01','B08','H12','F08']\n",
        "models=('Bursty','CIR','Extrinsic')\n",
        "dataset_names = ['allen_'+y+'_glu'  for y in sample_names] \n",
        "sample_looms = [loom_directory+x+'.loom' for x in dataset_names] \n",
        "gene_names_to_run = [x for x in genes_kept] #use this if you want to run everything\n",
        "# gene_names_to_run = [x[:5] for x in genes_kept] #use this if you want to only run first five in each category\n",
        "n_datasets = len(dataset_names)\n"
      ]
    },
    {
      "cell_type": "code",
      "execution_count": null,
      "metadata": {
        "id": "IY6YoSwKr7y2",
        "outputId": "4df193a5-9624-449c-f8db-2e24c0412c78"
      },
      "outputs": [
        {
          "data": {
            "text/plain": [
              "[array(['Ddx17', 'Map3k13', 'Aftph', 'Xiap', 'Gabra4', 'Mark1', 'Btbd10',\n",
              "        'Bzw2', 'Plppr5', 'Unc13a', 'Tnrc6a', 'Ldah', 'Stim1', 'Fut8',\n",
              "        'Ncoa2', 'Ap3s2', 'Ppp2r3a', 'Pde2a', 'Mphosph9', 'Desi2', 'Whrn',\n",
              "        'Cacna1i', 'Zmynd11', 'Pou6f1', 'Mrpl48', 'Scaper', 'Lgr4',\n",
              "        'Slc16a7', 'Mgll', 'Fxr2', 'Dock9', 'Mgat4a', 'Wipf2'],\n",
              "       dtype='<U16'),\n",
              " array(['Fez1', 'Tmem50b', 'Psma2', 'Smarca5', 'Aplp2', 'Tmem65', 'Camkk2',\n",
              "        'Ndufv2', 'Uqcrc2', 'Bphl', 'Rheb', 'Gars', 'Ccdc136', 'Irs2',\n",
              "        'Ppp1r2'], dtype='<U16'),\n",
              " array(['Sdf4', 'Srpk1', 'Srsf10', 'Actr10', 'Tmem63b', 'Celf3', 'Marf1',\n",
              "        'Samd8', 'Epn1', 'Cox7a2l', 'Nucks1', 'Bace1', 'B230219D22Rik',\n",
              "        'Ktn1', 'Apbb1', 'Hnrnpu', 'Pura', 'Syngap1', 'Cadm3', 'Sv2a',\n",
              "        'Bclaf1'], dtype='<U16')]"
            ]
          },
          "execution_count": 347,
          "metadata": {},
          "output_type": "execute_result"
        }
      ],
      "source": [
        "gene_names_to_run"
      ]
    },
    {
      "cell_type": "code",
      "execution_count": null,
      "metadata": {
        "id": "jZKP4E8Dr7y2",
        "outputId": "b6c66242-874f-49b7-8698-beac08269acf"
      },
      "outputs": [
        {
          "name": "stdout",
          "output_type": "stream",
          "text": [
            "C01\n",
            "Bursty\n",
            "CIR\n",
            "Extrinsic\n",
            "B08\n",
            "Bursty\n"
          ]
        }
      ],
      "source": [
        "import multiprocessing\n",
        "# pool=multiprocessing.Pool(processes=n_cores)\n",
        "\n",
        "t1=time.time()\n",
        "oss_res = {}\n",
        "\n",
        "for test_data_ind in range(len(sample_looms)):\n",
        "    print(sample_names[test_data_ind])\n",
        "    with lp.connect(sample_looms[test_data_ind]) as ds:\n",
        "        U = ds.layers['unspliced'][:]\n",
        "        S = ds.layers['spliced'][:]\n",
        "        loom_gene_names = ds.ra['gene_name']\n",
        "    \n",
        "    \n",
        "    oos_res_dataset = {}\n",
        "    for model_set in range(3):\n",
        "        print(models[model_set])\n",
        "        \n",
        "        \n",
        "        gntr = gene_names_to_run[model_set]\n",
        "        gene_locations = [np.where(loom_gene_names==x)[0][0] for x in gntr]    \n",
        "        try:\n",
        "            n_genes_to_run = len(gntr)\n",
        "            pool = multiprocessing.Pool(processes=n_cores)\n",
        "            fit_iterable = zip(U[gene_locations],\\\n",
        "                               S[gene_locations],\\\n",
        "                               [1]*n_genes_to_run,\\\n",
        "                               [5]*n_genes_to_run)  #maximum number of gradient descent iterations\n",
        "            model_res = pool.map(par_fun_fullfit, fit_iterable)\n",
        "            oos_res_dataset[models[model_set]] = model_res\n",
        "            pool.close()\n",
        "            pool.join()\n",
        "        except:\n",
        "            print('failed')\n",
        "            pool.terminate()\n",
        "            pool.join()\n",
        "    oss_res[sample_names[test_data_ind]] = oos_res_dataset\n",
        "t2 = time.time()\n",
        "print('Runtime: {:.1f} minutes.'.format((t2-t1)/60))"
      ]
    },
    {
      "cell_type": "code",
      "execution_count": null,
      "metadata": {
        "id": "2JZ29xzAr7y2"
      },
      "outputs": [],
      "source": [
        "lik_ratios_oos = [[[z[0] for z in oss_res[x][y]] for y in models] for x in sample_names]"
      ]
    },
    {
      "cell_type": "code",
      "execution_count": null,
      "metadata": {
        "id": "X2FCECOgr7y2"
      },
      "outputs": [],
      "source": [
        "indices = [np.arange(0,len(gene_names_to_run[0])), \\\n",
        "           np.arange(len(gene_names_to_run[0]), len(gene_names_to_run[0]) + len(gene_names_to_run[1])),\\\n",
        "           np.arange(len(gene_names_to_run[0]) + len(gene_names_to_run[1]), \\\n",
        "                                                len(gene_names_to_run[0]) + len(gene_names_to_run[1]) + len(gene_names_to_run[2]))]"
      ]
    },
    {
      "cell_type": "markdown",
      "metadata": {
        "id": "rJ9E8h4cr7y2"
      },
      "source": [
        "Visualize raw results."
      ]
    },
    {
      "cell_type": "code",
      "execution_count": null,
      "metadata": {
        "id": "YUjIJGOHr7y3"
      },
      "outputs": [],
      "source": [
        "colors= ('r','b','k')\n",
        "for test_data_ind in range(len(sample_names)):\n",
        "    for model_set in range(3):\n",
        "        plt.scatter(indices[model_set],lik_ratios_oos[test_data_ind][model_set],c=colors[model_set])\n",
        "plt.ylim([-100,100])\n",
        "plt.plot([0,sum([len(x) for x in indices])],[0,0],'g-')"
      ]
    },
    {
      "cell_type": "code",
      "execution_count": null,
      "metadata": {
        "id": "0-Vi9k3_r7y3"
      },
      "outputs": [],
      "source": [
        "colors= ('salmon','royalblue','grey')\n",
        "fig1,ax1 = plt.subplots(1,1,figsize=(15,4))\n",
        "for model_set in range(3):\n",
        "    d = np.asarray([lik_ratios_oos[test_data_ind][model_set] for test_data_ind in range(len(sample_looms))])\n",
        "    bplot = ax1.boxplot(d,positions=indices[model_set],vert=True,patch_artist=True)\n",
        "    for patch in bplot['boxes']:\n",
        "        patch.set_facecolor(colors[model_set])\n",
        "    for median in bplot['medians']:\n",
        "        median.set_color('k')\n",
        "#     print(bplot)\n",
        "#     for test_data_ind in range(len(sample_looms)):\n",
        "#         plt.scatter(indices[model_set],lik_ratios_oos[test_data_ind][model_set],c=colors[model_set])\n",
        "ax1.set_ylim([-200,200])\n",
        "ax1.plot([0,sum([len(x) for x in indices])],[0,0],'g-')\n",
        "_=ax1.set_xticks(np.concatenate(indices),np.concatenate(gene_names_to_run),rotation=90)"
      ]
    },
    {
      "cell_type": "code",
      "execution_count": null,
      "metadata": {
        "id": "3a4d3E7hr7y3"
      },
      "outputs": [],
      "source": [
        "colors= ('salmon','royalblue','grey')\n",
        "fig1,ax1 = plt.subplots(1,1,figsize=(12,4))\n",
        "for model_set in range(3):\n",
        "    d = np.asarray([lik_ratios_oos[test_data_ind][model_set] for test_data_ind in range(len(sample_looms))])\n",
        "    ax1.scatter(indices[model_set],d.mean(0),c=colors[model_set])\n",
        "ax1.set_ylim([-200,200])\n",
        "ax1.plot([0,1+sum([len(x) for x in indices])],[0,0],'g-')\n",
        "_=ax1.set_xticks(np.concatenate(indices),np.concatenate(gene_names_to_run),rotation=90)"
      ]
    },
    {
      "cell_type": "code",
      "execution_count": null,
      "metadata": {
        "id": "fmR8l-gcr7y3"
      },
      "outputs": [],
      "source": [
        "with open(subcluster_dir_string+'/logl_fit_results_multis_full_220806.pickle','wb') as rfs:\n",
        "    pickle.dump((oss_res,lik_ratios_oos,sample_names,models,gene_names_to_run),rfs)"
      ]
    },
    {
      "cell_type": "markdown",
      "metadata": {
        "id": "ck3IU7Yur7y3"
      },
      "source": [
        "## SDE goodness of fit"
      ]
    },
    {
      "cell_type": "markdown",
      "metadata": {
        "id": "VxKY_Q7Xr7y3"
      },
      "source": [
        "Some of the fits are giving unrealistic and inconsistent likelihood ratios, likely due to suboptimal convergence. In principle, we could fix this by running a lot more trials, or by using Bayes factors, but this is not really practical for exploratory analysis. Instead, we can run another GOF test and throw away fits (and LRs) that are wildly inconsistent with data ($p<10^{-6}$)."
      ]
    },
    {
      "cell_type": "code",
      "execution_count": null,
      "metadata": {
        "id": "bYEFOl0Mr7y4"
      },
      "outputs": [],
      "source": [
        "gou_pars  = np.array([[np.asarray([z[1] for z in oss_res[x][y]]) for y in models] for x in sample_names],dtype=object)\n",
        "cir_pars  = np.array([[np.asarray([z[2] for z in oss_res[x][y]]) for y in models] for x in sample_names],dtype=object)"
      ]
    },
    {
      "cell_type": "code",
      "execution_count": null,
      "metadata": {
        "id": "sIrFLwe6r7y4",
        "outputId": "bb38b810-d63f-45b0-8d5a-5e92d28af879"
      },
      "outputs": [
        {
          "data": {
            "text/plain": [
              "(5, 5)"
            ]
          },
          "execution_count": 197,
          "metadata": {},
          "output_type": "execute_result"
        }
      ],
      "source": [
        "gou_pars[1][0].shape"
      ]
    },
    {
      "cell_type": "code",
      "execution_count": null,
      "metadata": {
        "scrolled": true,
        "id": "BcQGyEUpr7y4",
        "outputId": "f39dde99-686e-428a-c437-0e467862ced1"
      },
      "outputs": [
        {
          "name": "stdout",
          "output_type": "stream",
          "text": [
            "C01\n",
            "Bursty\n",
            "CIR\n",
            "Extrinsic\n",
            "B08\n",
            "Bursty\n",
            "CIR\n",
            "Extrinsic\n",
            "H12\n",
            "Bursty\n",
            "CIR\n",
            "Extrinsic\n",
            "F08\n",
            "Bursty\n",
            "CIR\n",
            "Extrinsic\n"
          ]
        }
      ],
      "source": [
        "import copy\n",
        "lik_ratios_checked = np.array(copy.copy([[[z[0] for z in oss_res[x][y]] for y in models] for x in sample_names]),dtype=object)\n",
        "chisq_thr=5\n",
        "for test_data_ind in range(len(sample_looms)):\n",
        "    print(sample_names[test_data_ind])\n",
        "    with lp.connect(sample_looms[test_data_ind]) as ds:\n",
        "        U = ds.layers['unspliced'][:]\n",
        "        S = ds.layers['spliced'][:]\n",
        "        loom_gene_names = ds.ra['gene_name']\n",
        "    n_cells = S.shape[1]\n",
        "    for model_set in range(3):\n",
        "        print(models[model_set])\n",
        "        gntr = gene_names_to_run[model_set]\n",
        "        gene_locations = [np.where(loom_gene_names==x)[0][0] for x in gntr]\n",
        "#         print(loom_gene_names[gene_locations])\n",
        "        for gene_count,gene_ind in enumerate(gene_locations):\n",
        "            lm = np.asarray([U[gene_ind].max()+10,S[gene_ind].max()+10],dtype=int) \n",
        "            \n",
        "            pval = []\n",
        "            for which_model in ('gou','cir'):\n",
        "                if which_model == 'gou':\n",
        "                    par_array = gou_pars\n",
        "                    lik_fun = get_GOU_2sp\n",
        "                elif which_model == 'cir':\n",
        "                    par_array = cir_pars\n",
        "                    lik_fun = get_CIR_2sp\n",
        "                    \n",
        "                pars_gene = par_array[test_data_ind,model_set][gene_count]\n",
        "                expect_freq = lik_fun(lm,pars_gene) * n_cells\n",
        "\n",
        "                unique_values,counts = np.unique(np.vstack((U[gene_ind],S[gene_ind])).astype(int),axis=1,return_counts=True) \n",
        "\n",
        "                expect_freq = expect_freq[unique_values[0],unique_values[1]]\n",
        "\n",
        "                expect_freq = np.concatenate((expect_freq,[n_cells-expect_freq.sum()]))\n",
        "                counts = np.concatenate((counts,[0]))\n",
        "\n",
        "                filt = (expect_freq>chisq_thr) & (counts>chisq_thr)\n",
        "\n",
        "                observed = np.concatenate((counts[filt],[counts[~filt].sum()]))\n",
        "                proposed = np.concatenate((expect_freq[filt],[expect_freq[~filt].sum()])) #this is incredibly severe.\n",
        "                csq = scipy.stats.mstats.chisquare(observed, proposed, 4) #there are four parameters.\n",
        "                pval.append(csq.pvalue)\n",
        "            if (np.asarray(pval)<1e-6).any():\n",
        "                lik_ratios_checked[test_data_ind,model_set][gene_count] = np.nan"
      ]
    },
    {
      "cell_type": "code",
      "execution_count": null,
      "metadata": {
        "id": "bI5X13t6r7y4",
        "outputId": "312290c9-edda-4154-e15b-d759a0dbb631"
      },
      "outputs": [
        {
          "data": {
            "image/png": "[encoded data removed]",
            "text/plain": [
              "<Figure size 864x288 with 1 Axes>"
            ]
          },
          "metadata": {
            "needs_background": "light"
          },
          "output_type": "display_data"
        }
      ],
      "source": [
        "colors= ('r','b','k')\n",
        "fig1,ax1 = plt.subplots(1,1,figsize=(12,4))\n",
        "\n",
        "for test_data_ind in range(len(sample_names)):\n",
        "    for model_set in range(3):\n",
        "        plt.scatter(indices[model_set],lik_ratios_checked[test_data_ind][model_set],3,c=colors[model_set])\n",
        "# plt.ylim([-100,100])\n",
        "plt.plot([0,sum([len(x) for x in indices])],[0,0],'g-')\n",
        "_=plt.xticks(np.concatenate(indices),np.concatenate(gene_names_to_run),rotation=90)"
      ]
    },
    {
      "cell_type": "code",
      "execution_count": null,
      "metadata": {
        "id": "s8a2CCqqr7y4",
        "outputId": "54df2c46-2624-4fca-e226-1836948c70d7"
      },
      "outputs": [
        {
          "name": "stderr",
          "output_type": "stream",
          "text": [
            "/tmp/ipykernel_2749744/553159084.py:9: RuntimeWarning: Mean of empty slice\n",
            "  d_mean[gene] = np.nanmean(d[:,gene])\n"
          ]
        },
        {
          "data": {
            "image/png": "[encoded data removed]",
            "text/plain": [
              "<Figure size 864x288 with 1 Axes>"
            ]
          },
          "metadata": {
            "needs_background": "light"
          },
          "output_type": "display_data"
        }
      ],
      "source": [
        "colors= ('r','b','k')\n",
        "fig1,ax1 = plt.subplots(1,1,figsize=(12,4))\n",
        "for model_set in range(n_models):\n",
        "    d = np.asarray([lik_ratios_checked[test_data_ind][model_set] for test_data_ind in range(n_datasets)])\n",
        "    ng = len(gene_names_to_run[model_set])\n",
        "    d_mean = np.empty(ng)\n",
        "    for gene in range(ng):\n",
        "        try: \n",
        "            d_mean[gene] = np.nanmean(d[:,gene])\n",
        "        except:\n",
        "            pass\n",
        "    ax1.scatter(indices[model_set],d_mean,c=colors[model_set])\n",
        "\n",
        "ax1.plot([0,1+sum([len(x) for x in indices])],[0,0],'g-')\n",
        "_=ax1.set_xticks(np.concatenate(indices),np.concatenate(gene_names_to_run),rotation=90)"
      ]
    },
    {
      "cell_type": "markdown",
      "metadata": {
        "id": "M1qrig9or7y5"
      },
      "source": [
        "## Visualization of results"
      ]
    },
    {
      "cell_type": "code",
      "execution_count": null,
      "metadata": {
        "id": "AmERuYJUr7y5",
        "outputId": "c864634a-9c0c-4aee-e787-f535a8149818"
      },
      "outputs": [
        {
          "data": {
            "text/plain": [
              "[array(['Ddx17', 'Map3k13', 'Aftph', 'Xiap', 'Gabra4'], dtype='<U16'),\n",
              " array(['Fez1', 'Tmem50b', 'Psma2', 'Smarca5', 'Aplp2'], dtype='<U16'),\n",
              " array(['Sdf4', 'Srpk1', 'Srsf10', 'Actr10', 'Tmem63b'], dtype='<U16')]"
            ]
          },
          "execution_count": 277,
          "metadata": {},
          "output_type": "execute_result"
        }
      ],
      "source": [
        "gene_names_to_run"
      ]
    },
    {
      "cell_type": "code",
      "execution_count": null,
      "metadata": {
        "id": "xuWWmQCir7y5",
        "outputId": "9f426cb7-a2a7-4c5e-8d9f-2094f0d588b2"
      },
      "outputs": [
        {
          "name": "stdout",
          "output_type": "stream",
          "text": [
            "/home/ggorin/count_data/loom_allen_celltype_kb/test/allen_F08_glu.loom\n"
          ]
        }
      ],
      "source": [
        "\n",
        "test_data_ind = 3\n",
        "\n",
        "with lp.connect(sample_looms[test_data_ind]) as ds:\n",
        "    print(sample_looms[test_data_ind])\n",
        "    U = ds.layers['unspliced'][:]\n",
        "    S = ds.layers['spliced'][:]\n",
        "    loom_gene_names = ds.ra['gene_name']"
      ]
    },
    {
      "cell_type": "code",
      "execution_count": null,
      "metadata": {
        "id": "UO0VP4cHr7y5",
        "outputId": "111f7031-e053-44bb-ebff-b1523ecd9af3"
      },
      "outputs": [
        {
          "data": {
            "image/png": "[encoded data removed]",
            "text/plain": [
              "<Figure size 864x432 with 6 Axes>"
            ]
          },
          "metadata": {
            "needs_background": "light"
          },
          "output_type": "display_data"
        }
      ],
      "source": [
        "genes_to_plot = ['Gabra4','Aplp2','Srpk1']\n",
        "\n",
        "####\n",
        "n_genes_to_plot= len(genes_to_plot)\n",
        "\n",
        "gou_color='r'\n",
        "cir_color='royalblue'\n",
        "\n",
        "fig1,ax1=plt.subplots(2,n_genes_to_plot,figsize=(4*n_genes_to_plot,6))\n",
        "\n",
        "gene_locations = np.asarray([np.where(loom_gene_names==x)[0][0] for x in genes_to_plot])\n",
        "\n",
        "for k,gene_ind in enumerate(gene_locations):\n",
        "    gene_name = genes_to_plot[k]\n",
        "    model_set = np.where([gene_name in x for x in gene_names_to_run])[0][0]\n",
        "    location_in_model_set = np.where(gene_name == gene_names_to_run[model_set])[0][0]\n",
        "#     print([gene_name == gene_names_to_run[model_set]])\n",
        "#     print(location_in_model_set)\n",
        "    \n",
        "    mx = np.asarray([U[gene_ind].max()+10,S[gene_ind].max()+10],dtype=int)\n",
        "\n",
        "    bins = np.arange(mx[0]-8)-0.5\n",
        "    ax1[0,k].hist(U[gene_ind],bins,color='lightgray',density=True)\n",
        "    ax1[0,k].set_title(loom_gene_names[gene_ind])\n",
        "    \n",
        "#     print(sample_names[test_data_ind])\n",
        "    pars_sde_gou = oss_res[sample_names[test_data_ind]][models[model_set]][location_in_model_set][1]\n",
        "    pars_sde_cir = oss_res[sample_names[test_data_ind]][models[model_set]][location_in_model_set][2]\n",
        "\n",
        "    y = get_GOU_2sp([mx[0],1],pars_sde_gou)\n",
        "    ax1[0,k].plot(y,'-',color=gou_color,label='GOU')\n",
        "    y = get_CIR_2sp([mx[0],1],pars_sde_cir)\n",
        "    ax1[0,k].plot(y,'-',color=cir_color,label='CIR')\n",
        "    ax1[0,k].legend()\n",
        "\n",
        "    bins = np.arange(mx[1]-8)-0.5\n",
        "    ax1[1,k].hist(S[gene_ind],bins,color='lightgray',density=True)\n",
        "\n",
        "#     ax1[0,k].set_yscale('log')\n",
        "#     ax1[1,k].set_yscale('log')\n",
        "    \n",
        "    y = get_GOU_2sp([1,mx[1]],pars_sde_gou).squeeze()\n",
        "    ax1[1,k].plot(y,'-',color=gou_color)\n",
        "    y = get_CIR_2sp([1,mx[1]],pars_sde_cir).squeeze()\n",
        "    ax1[1,k].plot(y,'-',color=cir_color)\n",
        "    \n",
        "    ax1[0,k].set_yticks([])\n",
        "    ax1[1,k].set_yticks([])\n",
        "    if k==0:\n",
        "        ax1[0,k].set_ylabel('Nascent')\n",
        "        ax1[1,k].set_ylabel('Mature')\n",
        "fig1.tight_layout()"
      ]
    },
    {
      "cell_type": "code",
      "execution_count": null,
      "metadata": {
        "id": "WS8Q8KeZr7y5"
      },
      "outputs": [],
      "source": [
        "# oss_res[sample_names[test_data_ind]]"
      ]
    },
    {
      "cell_type": "code",
      "execution_count": null,
      "metadata": {
        "id": "nZAPp6f6r7y6"
      },
      "outputs": [],
      "source": [
        ""
      ]
    },
    {
      "cell_type": "code",
      "execution_count": null,
      "metadata": {
        "id": "NUx5XXcer7y6"
      },
      "outputs": [],
      "source": [
        ""
      ]
    },
    {
      "cell_type": "code",
      "execution_count": null,
      "metadata": {
        "id": "fJlHyj3nr7y6",
        "outputId": "4bff166e-d864-4756-9492-7d729a96f929"
      },
      "outputs": [
        {
          "data": {
            "text/plain": [
              "0"
            ]
          },
          "execution_count": 254,
          "metadata": {},
          "output_type": "execute_result"
        }
      ],
      "source": [
        "genid"
      ]
    },
    {
      "cell_type": "code",
      "execution_count": null,
      "metadata": {
        "id": "t4Q89zAbr7y6"
      },
      "outputs": [],
      "source": [
        ""
      ]
    },
    {
      "cell_type": "code",
      "execution_count": null,
      "metadata": {
        "id": "G5_UpN4Mr7y6"
      },
      "outputs": [],
      "source": [
        ""
      ]
    },
    {
      "cell_type": "code",
      "execution_count": null,
      "metadata": {
        "id": "_ZVwFy5ar7y6"
      },
      "outputs": [],
      "source": [
        ""
      ]
    },
    {
      "cell_type": "markdown",
      "metadata": {
        "id": "6r2sxAGDr7y6"
      },
      "source": [
        "# Out-of-sample data analysis"
      ]
    },
    {
      "cell_type": "code",
      "execution_count": null,
      "metadata": {
        "id": "pilT6vkFr7y6"
      },
      "outputs": [],
      "source": [
        "# n_restarts = 4"
      ]
    },
    {
      "cell_type": "code",
      "execution_count": null,
      "metadata": {
        "id": "snsX3GjUr7y7"
      },
      "outputs": [],
      "source": [
        ""
      ]
    },
    {
      "cell_type": "code",
      "execution_count": null,
      "metadata": {
        "id": "iZkxPKh0r7y7"
      },
      "outputs": [],
      "source": [
        "cell_type_names = ['C01','B08','H12','F08']\n",
        "dataset_names = ['allen_'+y+'_glu'  for y in cell_type_names] \n",
        "cell_type_looms = ['/home/ggorin/count_data/loom_allen_celltype_kb/test/'+x+'.loom' for x in dataset_names] \n",
        "test_data_ind = 2\n",
        "with lp.connect(cell_type_looms[test_data_ind]) as ds:\n",
        "    U = ds.layers['unspliced'][:]\n",
        "    S = ds.layers['spliced'][:]\n",
        "    loom_gene_names = ds.ra['gene_name']\n",
        "\n",
        "    genes_to_run = [x[:5] for x in gene_inds_kept]\n",
        "    \n",
        "    model_set = 0\n",
        "    try:\n",
        "        gtr = genes_to_run[model_set]\n",
        "        gene_locations = [np.where(loom_gene_names==x)[0][0] for x in gn[gtr]]\n",
        "        n_genes_to_run = len(gtr)\n",
        "        pool = multiprocessing.Pool(processes=n_cores)\n",
        "        fit_iterable = zip(U[gene_locations],\\\n",
        "                           S[gene_locations],\\\n",
        "                           [1]*n_genes_to_run,\\\n",
        "                           [10]*n_genes_to_run)\n",
        "        gou_results_test = pool.map(par_fun_fullfit, fit_iterable)\n",
        "        pool.close()\n",
        "        pool.join()\n",
        "    except:\n",
        "        print('failed')\n",
        "        pool.terminate()\n",
        "        pool.join()\n",
        "\n",
        "#     genes_to_run = [x for x in gene_inds_kept]"
      ]
    },
    {
      "cell_type": "code",
      "execution_count": null,
      "metadata": {
        "id": "DjUJMzGfr7y7"
      },
      "outputs": [],
      "source": [
        "# oss_res[sample_names[0]][models[2]]"
      ]
    },
    {
      "cell_type": "code",
      "execution_count": null,
      "metadata": {
        "id": "TMaqa9JKr7y7",
        "outputId": "0d06e919-ff63-47ab-daba-ebab61c4bf11"
      },
      "outputs": [
        {
          "data": {
            "text/plain": [
              "(array([  9.,  15.,  43.,  75., 101., 147., 165., 190., 212., 223., 248.,\n",
              "        246., 266., 239., 215., 207., 177., 158., 140.,  83.,  72.,  36.,\n",
              "         26.,  17.,  14.,   6.,   2.,   0.,   2.,   1.]),\n",
              " array([4.217984 , 4.24972  , 4.2814565, 4.3131924, 4.3449283, 4.376664 ,\n",
              "        4.4084005, 4.4401364, 4.4718723, 4.5036087, 4.5353446, 4.5670805,\n",
              "        4.598817 , 4.630553 , 4.6622887, 4.694025 , 4.725761 , 4.757497 ,\n",
              "        4.7892327, 4.820969 , 4.852705 , 4.884441 , 4.9161773, 4.947913 ,\n",
              "        4.979649 , 5.011385 , 5.0431213, 5.074857 , 5.106593 , 5.1383295,\n",
              "        5.1700654], dtype=float32),\n",
              " <BarContainer object of 30 artists>)"
            ]
          },
          "execution_count": 1093,
          "metadata": {},
          "output_type": "execute_result"
        },
        {
          "data": {
            "image/png": "[encoded data removed]",
            "text/plain": [
              "<Figure size 432x288 with 1 Axes>"
            ]
          },
          "metadata": {
            "needs_background": "light"
          },
          "output_type": "display_data"
        }
      ],
      "source": [
        "total_UMIs = U.sum(0)+S.sum(0)\n",
        "plt.hist(np.log10(total_UMIs),30,color='lightgray')"
      ]
    },
    {
      "cell_type": "code",
      "execution_count": null,
      "metadata": {
        "id": "AuPZqXNDr7y7",
        "outputId": "96df96ad-80e0-4988-b0de-78e3de5c5b77"
      },
      "outputs": [
        {
          "data": {
            "text/plain": [
              "7.200000000000003"
            ]
          },
          "execution_count": 241,
          "metadata": {},
          "output_type": "execute_result"
        }
      ],
      "source": [
        "d_mean[0]"
      ]
    },
    {
      "cell_type": "code",
      "execution_count": null,
      "metadata": {
        "id": "Esa9zcdDr7y7",
        "outputId": "85d0df33-d87e-47ac-d38a-67a6b11fca41"
      },
      "outputs": [
        {
          "data": {
            "text/plain": [
              "4"
            ]
          },
          "execution_count": 238,
          "metadata": {},
          "output_type": "execute_result"
        }
      ],
      "source": [
        "n_datasets"
      ]
    },
    {
      "cell_type": "code",
      "execution_count": null,
      "metadata": {
        "id": "8C2Jv0Wvr7y7",
        "outputId": "f194aa54-23a5-4818-bc31-8a49f2308e3e"
      },
      "outputs": [
        {
          "data": {
            "text/plain": [
              "array(['Ddx17', 'Map3k13', 'Aftph', 'Xiap', 'Gabra4', 'Mark1', 'Btbd10',\n",
              "       'Bzw2', 'Plppr5', 'Unc13a', 'Tnrc6a', 'Ldah', 'Stim1', 'Fut8',\n",
              "       'Ncoa2', 'Ap3s2', 'Ppp2r3a', 'Pde2a', 'Mphosph9', 'Desi2', 'Whrn',\n",
              "       'Cacna1i', 'Zmynd11', 'Pou6f1', 'Mrpl48', 'Scaper', 'Lgr4',\n",
              "       'Slc16a7', 'Mgll', 'Fxr2', 'Dock9', 'Mgat4a', 'Wipf2'],\n",
              "      dtype='<U16')"
            ]
          },
          "execution_count": 158,
          "metadata": {},
          "output_type": "execute_result"
        }
      ],
      "source": [
        "gntr"
      ]
    },
    {
      "cell_type": "code",
      "execution_count": null,
      "metadata": {
        "id": "JorCeJdxr7y8",
        "outputId": "e2b4b9f0-b2df-450b-a9c2-3493c4579cdd"
      },
      "outputs": [
        {
          "data": {
            "text/plain": [
              "100000.0"
            ]
          },
          "execution_count": 1090,
          "metadata": {},
          "output_type": "execute_result"
        }
      ],
      "source": [
        "1e5"
      ]
    },
    {
      "cell_type": "code",
      "execution_count": null,
      "metadata": {
        "id": "gsipiNIir7y8"
      },
      "outputs": [],
      "source": [
        "cf = np.log10(total_UMIs)<5\n",
        "U=U[:,cf]\n",
        "S=S[:,cf]"
      ]
    },
    {
      "cell_type": "code",
      "execution_count": null,
      "metadata": {
        "id": "w8GGvoc6r7y8",
        "outputId": "eacd14cd-0089-40fe-ef19-21f701156730"
      },
      "outputs": [
        {
          "data": {
            "text/plain": [
              "3318"
            ]
          },
          "execution_count": 1095,
          "metadata": {},
          "output_type": "execute_result"
        }
      ],
      "source": [
        "cf.sum()"
      ]
    },
    {
      "cell_type": "code",
      "execution_count": null,
      "metadata": {
        "id": "1ZLWDF40r7y8"
      },
      "outputs": [],
      "source": [
        "n_cores = 20"
      ]
    },
    {
      "cell_type": "code",
      "execution_count": null,
      "metadata": {
        "id": "Jaahz_7Br7y8",
        "outputId": "a40afe1a-628f-4100-a1c5-46d55f6017ed"
      },
      "outputs": [
        {
          "data": {
            "text/plain": [
              "[array([  85,  116,  161,  417,  449,  482,  687,  762,  781,  960, 1145,\n",
              "        1292, 1303, 1351, 1355, 1404, 1496, 1555, 1633, 1664, 1813, 1988,\n",
              "        2069, 2308, 2491, 2558, 2577, 2587, 2606, 2648, 2691, 2895, 2967]),\n",
              " array([  44,  146,  180,  314,  639,  715,  837,  887, 1756, 1809, 1826,\n",
              "        1949, 2429, 2748, 2878]),\n",
              " array([ 227,  692,  708,  805,  926,  945, 1053, 1425, 1610, 1619, 1886,\n",
              "        2073, 2076, 2127, 2158, 2343, 2487, 2545, 2768, 2913, 2973])]"
            ]
          },
          "execution_count": 1097,
          "metadata": {},
          "output_type": "execute_result"
        }
      ],
      "source": [
        "gene_inds_kept"
      ]
    },
    {
      "cell_type": "code",
      "execution_count": null,
      "metadata": {
        "id": "IVVVTwi7r7y8"
      },
      "outputs": [],
      "source": [
        "genes_to_run = [x[:5] for x in gene_inds_kept]\n",
        "genes_to_run = [x for x in gene_inds_kept]"
      ]
    },
    {
      "cell_type": "code",
      "execution_count": null,
      "metadata": {
        "id": "_PT7JHwIr7y9",
        "outputId": "957492a1-a5e9-4894-d4c5-47daf7c2fb46"
      },
      "outputs": [
        {
          "data": {
            "text/plain": [
              "array([  85,  116,  161,  417,  449,  482,  687,  762,  781,  960, 1145,\n",
              "       1292, 1303, 1351, 1355, 1404, 1496, 1555, 1633, 1664, 1813, 1988,\n",
              "       2069, 2308, 2491, 2558, 2577, 2587, 2606, 2648, 2691, 2895, 2967])"
            ]
          },
          "execution_count": 1114,
          "metadata": {},
          "output_type": "execute_result"
        }
      ],
      "source": [
        "genes_to_run[0]"
      ]
    },
    {
      "cell_type": "code",
      "execution_count": null,
      "metadata": {
        "id": "I1_a5-EOr7y9"
      },
      "outputs": [],
      "source": [
        "model_set = 0\n",
        "try:\n",
        "    gtr = genes_to_run[model_set]\n",
        "    gene_locations = [np.where(loom_gene_names==x)[0][0] for x in gn[gtr]]\n",
        "    n_genes_to_run = len(gtr)\n",
        "    pool = multiprocessing.Pool(processes=n_cores)\n",
        "    fit_iterable = zip(U[gene_locations],\\\n",
        "                       S[gene_locations],\\\n",
        "                       [1]*n_genes_to_run,\\\n",
        "                       [10]*n_genes_to_run)\n",
        "    gou_results_test = pool.map(par_fun_fullfit, fit_iterable)\n",
        "    pool.close()\n",
        "    pool.join()\n",
        "except:\n",
        "    print('failed')\n",
        "    pool.terminate()\n",
        "    pool.join()\n"
      ]
    },
    {
      "cell_type": "code",
      "execution_count": null,
      "metadata": {
        "id": "W5gZDNEkr7y9"
      },
      "outputs": [],
      "source": [
        "# genes_to_run[model_set]"
      ]
    },
    {
      "cell_type": "code",
      "execution_count": null,
      "metadata": {
        "id": "qqljclN_r7y9"
      },
      "outputs": [],
      "source": [
        "# gn[gtr]"
      ]
    },
    {
      "cell_type": "code",
      "execution_count": null,
      "metadata": {
        "id": "ku0OVNwOr7y9"
      },
      "outputs": [],
      "source": [
        "# gtr = genes_to_run[0]\n",
        "# gene_locations = [np.where(loom_gene_names==x)[0][0] for x in gn[gtr]]"
      ]
    },
    {
      "cell_type": "code",
      "execution_count": null,
      "metadata": {
        "id": "5xnKilJxr7y9"
      },
      "outputs": [],
      "source": [
        "# loom_gene_names[gene_locations]"
      ]
    },
    {
      "cell_type": "code",
      "execution_count": null,
      "metadata": {
        "id": "omSITiapr7y9"
      },
      "outputs": [],
      "source": [
        "# U.shape"
      ]
    },
    {
      "cell_type": "code",
      "execution_count": null,
      "metadata": {
        "id": "C7C9vjhtr7y-"
      },
      "outputs": [],
      "source": [
        "# fitit = list(zip(U[gene_locations],\\\n",
        "#                S[gene_locations],\\\n",
        "#                [5]*n_genes_to_run,\\\n",
        "#                [10]*n_genes_to_run))[2]\n",
        "# par_fun_fullfit(fitit)"
      ]
    },
    {
      "cell_type": "code",
      "execution_count": null,
      "metadata": {
        "id": "ZgAAggM5r7y-"
      },
      "outputs": [],
      "source": [
        "# Um = U[gene_locations[0]].mean()\n",
        "# Uv = U[gene_locations[0]].var()\n",
        "# Sm = S[gene_locations[0]].mean()\n",
        "# Sv = S[gene_locations[0]].var()\n",
        "\n",
        "# beta = 1/Um #assuming <k>=1\n",
        "# gamma = 1/Sm\n",
        "# kappa = beta / ( (Sv - Sm)/(Uv - Um) * Um * (beta + gamma) / (Sm*beta) - 1) - gamma\n",
        "# theta = (kappa+beta)/Um * (Uv - Um)\n"
      ]
    },
    {
      "cell_type": "code",
      "execution_count": null,
      "metadata": {
        "id": "EqboyTMUr7y-"
      },
      "outputs": [],
      "source": [
        "# a = kappa/theta"
      ]
    },
    {
      "cell_type": "code",
      "execution_count": null,
      "metadata": {
        "id": "5BL7dw4vr7y-"
      },
      "outputs": [],
      "source": [
        "# np.asarray([beta,gamma,kappa,theta])/a"
      ]
    },
    {
      "cell_type": "code",
      "execution_count": null,
      "metadata": {
        "id": "XG9czyADr7y-"
      },
      "outputs": [],
      "source": [
        "# get_MoM(U[gene_locations[2]],S[gene_locations[2]])"
      ]
    },
    {
      "cell_type": "code",
      "execution_count": null,
      "metadata": {
        "id": "68acsjiCr7y-"
      },
      "outputs": [],
      "source": [
        "# fitit = list(zip(U[gene_locations],\\\n",
        "#                S[gene_locations],\\\n",
        "#                results[model_set]['par_initial_guess'][:n_genes_to_run],\\\n",
        "#                ['fast']*n_genes_to_run))[0]\n",
        "# par_fun_fullfit(fitit)"
      ]
    },
    {
      "cell_type": "code",
      "execution_count": null,
      "metadata": {
        "id": "foleUdFKr7y-",
        "outputId": "5a61426e-0c2c-496b-8689-2e596b18bbab"
      },
      "outputs": [
        {
          "data": {
            "image/png": "[encoded data removed]",
            "text/plain": [
              "<Figure size 1440x720 with 10 Axes>"
            ]
          },
          "metadata": {
            "needs_background": "light"
          },
          "output_type": "display_data"
        }
      ],
      "source": [
        "fig1,ax1=plt.subplots(2,5,figsize=(20,10))\n",
        "\n",
        "gou_reduced_color='lightcoral'\n",
        "cir_reduced_color='skyblue'\n",
        "gou_color='r'\n",
        "cir_color='royalblue'\n",
        "\n",
        "model_set=0\n",
        "gtr = genes_to_run[model_set]\n",
        "gene_locations = [np.where(loom_gene_names==x)[0][0] for x in gn[gtr]]\n",
        "\n",
        "\n",
        "for k,gene_ind in enumerate(gene_locations[:5]):\n",
        "    mx = np.asarray([U[gene_ind].max()+10,S[gene_ind].max()+10],dtype=int)\n",
        "\n",
        "    bins = np.arange(mx[0]-8)-0.5\n",
        "    ax1[0,k].hist(U[gene_ind],bins,color='lightgray',density=True)\n",
        "    ax1[0,k].set_title(loom_gene_names[gene_ind])\n",
        "    \n",
        "    pars_sde_gou = gou_results_test[k][1]\n",
        "    pars_sde_cir = gou_results_test[k][2]\n",
        "\n",
        "    y = get_GOU_2sp([mx[0],1],pars_sde_gou)\n",
        "    ax1[0,k].plot(y,'-',color=gou_color,label='GOU')\n",
        "    y = get_CIR_2sp([mx[0],1],pars_sde_cir)\n",
        "    ax1[0,k].plot(y,'-',color=cir_color,label='CIR')\n",
        "    ax1[0,k].legend()\n",
        "\n",
        "    bins = np.arange(mx[1]-8)-0.5\n",
        "    ax1[1,k].hist(S[gene_ind],bins,color='lightgray',density=True)\n",
        "\n",
        "    y = get_GOU_2sp([1,mx[1]],pars_sde_gou).squeeze()\n",
        "    ax1[1,k].plot(y,'-',color=gou_color)\n",
        "    y = get_CIR_2sp([1,mx[1]],pars_sde_cir).squeeze()\n",
        "    ax1[1,k].plot(y,'-',color=cir_color)\n"
      ]
    },
    {
      "cell_type": "code",
      "execution_count": null,
      "metadata": {
        "id": "M4gD43gsr7y_"
      },
      "outputs": [],
      "source": [
        "model_set = 1\n",
        "try:\n",
        "    gtr = genes_to_run[model_set]\n",
        "    gene_locations = [np.where(loom_gene_names==x)[0][0] for x in gn[gtr]]\n",
        "    n_genes_to_run = len(genes_to_run)\n",
        "    pool = multiprocessing.Pool(processes=n_cores)\n",
        "    fit_iterable = zip(U[gene_locations],\\\n",
        "                       S[gene_locations],\\\n",
        "                       [1]*n_genes_to_run,\\\n",
        "                       [10]*n_genes_to_run)\n",
        "    cir_results_test = pool.map(par_fun_fullfit, fit_iterable)\n",
        "    pool.close()\n",
        "    pool.join()\n",
        "except:\n",
        "    print('failed')\n",
        "    pool.terminate()\n",
        "    pool.join()\n"
      ]
    },
    {
      "cell_type": "code",
      "execution_count": null,
      "metadata": {
        "id": "zLzinPxrr7y_",
        "outputId": "8408de39-bc49-4ba1-a5e0-feb29707df46"
      },
      "outputs": [
        {
          "data": {
            "image/png": "[encoded data removed]",
            "text/plain": [
              "<Figure size 1440x720 with 10 Axes>"
            ]
          },
          "metadata": {
            "needs_background": "light"
          },
          "output_type": "display_data"
        }
      ],
      "source": [
        "fig1,ax1=plt.subplots(2,5,figsize=(20,10))\n",
        "\n",
        "model_set=1\n",
        "genes_to_run = gene_inds_kept[model_set]\n",
        "gene_locations = [np.where(loom_gene_names==x)[0][0] for x in gn[genes_to_run]]\n",
        "\n",
        "\n",
        "gou_reduced_color='lightcoral'\n",
        "cir_reduced_color='skyblue'\n",
        "gou_color='r'\n",
        "cir_color='royalblue'\n",
        "\n",
        "for k,gene_ind in enumerate(gene_locations[:5]):\n",
        "    mx = np.asarray([U[gene_ind].max()+10,S[gene_ind].max()+10],dtype=int)\n",
        "\n",
        "    bins = np.arange(mx[0]-8)-0.5\n",
        "    ax1[0,k].hist(U[gene_ind],bins,color='lightgray',density=True)\n",
        "    ax1[0,k].set_title(loom_gene_names[gene_ind])\n",
        "    \n",
        "    pars_sde_gou = cir_results_test[k][1]\n",
        "    pars_sde_cir = cir_results_test[k][2]\n",
        "\n",
        "    y = get_GOU_2sp([mx[0],1],pars_sde_gou)\n",
        "    ax1[0,k].plot(y,'-',color=gou_color,label='GOU')\n",
        "    y = get_CIR_2sp([mx[0],1],pars_sde_cir)\n",
        "    ax1[0,k].plot(y,'-',color=cir_color,label='CIR')\n",
        "    ax1[0,k].legend()\n",
        "\n",
        "    bins = np.arange(mx[1]-8)-0.5\n",
        "    ax1[1,k].hist(S[gene_ind],bins,color='lightgray',density=True)\n",
        "\n",
        "    y = get_GOU_2sp([1,mx[1]],pars_sde_gou).squeeze()\n",
        "    ax1[1,k].plot(y,'-',color=gou_color)\n",
        "    y = get_CIR_2sp([1,mx[1]],pars_sde_cir).squeeze()\n",
        "    ax1[1,k].plot(y,'-',color=cir_color)\n"
      ]
    },
    {
      "cell_type": "code",
      "execution_count": null,
      "metadata": {
        "id": "fSZnhhiyr7y_"
      },
      "outputs": [],
      "source": [
        "model_set = 2\n",
        "try:\n",
        "    gtr = genes_to_run[model_set]\n",
        "    gene_locations = [np.where(loom_gene_names==x)[0][0] for x in gn[gtr]]\n",
        "    n_genes_to_run = len(genes_to_run)\n",
        "    pool = multiprocessing.Pool(processes=n_cores)\n",
        "    fit_iterable = zip(U[gene_locations],\\\n",
        "                       S[gene_locations],\\\n",
        "                       [1]*n_genes_to_run,\\\n",
        "                       [10]*n_genes_to_run)\n",
        "    ext_results_test = pool.map(par_fun_fullfit, fit_iterable)\n",
        "    pool.close()\n",
        "    pool.join()\n",
        "except:\n",
        "    print('failed')\n",
        "    pool.terminate()\n",
        "    pool.join()\n"
      ]
    },
    {
      "cell_type": "code",
      "execution_count": null,
      "metadata": {
        "id": "k0Sg9b9Ur7y_",
        "outputId": "041204e7-fe2b-4562-a3d0-6bb25ffa2039"
      },
      "outputs": [
        {
          "data": {
            "image/png": "[encoded data removed]",
            "text/plain": [
              "<Figure size 1440x720 with 10 Axes>"
            ]
          },
          "metadata": {
            "needs_background": "light"
          },
          "output_type": "display_data"
        }
      ],
      "source": [
        "fig1,ax1=plt.subplots(2,5,figsize=(20,10))\n",
        "model_set=2\n",
        "genes_to_run = gene_inds_kept[model_set]\n",
        "gene_locations = [np.where(loom_gene_names==x)[0][0] for x in gn[genes_to_run]]\n",
        "\n",
        "gou_reduced_color='lightcoral'\n",
        "cir_reduced_color='skyblue'\n",
        "gou_color='r'\n",
        "cir_color='royalblue'\n",
        "\n",
        "for k,gene_ind in enumerate(gene_locations[:5]):\n",
        "    mx = np.asarray([U[gene_ind].max()+10,S[gene_ind].max()+10],dtype=int)\n",
        "#     print(mx)\n",
        "\n",
        "    bins = np.arange(mx[0]-8)-0.5\n",
        "    ax1[0,k].hist(U[gene_ind],bins,color='lightgray',density=True)\n",
        "    ax1[0,k].set_title(loom_gene_names[gene_ind])\n",
        "    \n",
        "    pars_sde_gou = ext_results_test[k][1]\n",
        "    pars_sde_cir = ext_results_test[k][2]\n",
        "\n",
        "    y = get_GOU_2sp([mx[0],1],pars_sde_gou)\n",
        "    ax1[0,k].plot(y,'-',color=gou_color,label='GOU')\n",
        "    y = get_CIR_2sp([mx[0],1],pars_sde_cir)\n",
        "    ax1[0,k].plot(y,'-',color=cir_color,label='CIR')\n",
        "    ax1[0,k].legend()\n",
        "\n",
        "    bins = np.arange(mx[1]-8)-0.5\n",
        "    ax1[1,k].hist(S[gene_ind],bins,color='lightgray',density=True)\n",
        "\n",
        "    y = get_GOU_2sp([1,mx[1]],pars_sde_gou).squeeze()\n",
        "    ax1[1,k].plot(y,'-',color=gou_color)\n",
        "    y = get_CIR_2sp([1,mx[1]],pars_sde_cir).squeeze()\n",
        "    ax1[1,k].plot(y,'-',color=cir_color)\n"
      ]
    },
    {
      "cell_type": "code",
      "execution_count": null,
      "metadata": {
        "id": "EyVD-0PVr7y_"
      },
      "outputs": [],
      "source": [
        "lik_ratios_test = [x[0] for x in gou_results_test] + [x[0] for x in cir_results_test] + [x[0] for x in ext_results_test] "
      ]
    },
    {
      "cell_type": "code",
      "execution_count": null,
      "metadata": {
        "id": "2XJx8Jk-r7zA"
      },
      "outputs": [],
      "source": [
        "colors = ['k']*len(gou_results_test) + ['b']*len(cir_results_test) + ['g']*len(ext_results_test)"
      ]
    },
    {
      "cell_type": "code",
      "execution_count": null,
      "metadata": {
        "id": "jblJeHm9r7zA",
        "outputId": "87c1defa-29e0-4143-bc52-8060ba2249e5"
      },
      "outputs": [
        {
          "data": {
            "text/plain": [
              "(-100.0, 100.0)"
            ]
          },
          "execution_count": 1119,
          "metadata": {},
          "output_type": "execute_result"
        },
        {
          "data": {
            "image/png": "[encoded data removed]",
            "text/plain": [
              "<Figure size 432x288 with 1 Axes>"
            ]
          },
          "metadata": {
            "needs_background": "light"
          },
          "output_type": "display_data"
        }
      ],
      "source": [
        "plt.scatter(range(len(lik_ratios_test)),lik_ratios_test,color=colors)\n",
        "plt.plot([0,len(lik_ratios_test)],[0,0],'r-')\n",
        "plt.ylim([-100,100])"
      ]
    },
    {
      "cell_type": "code",
      "execution_count": null,
      "metadata": {
        "id": "4WC5Q7HOr7zA",
        "outputId": "1f30d57c-0b17-4776-f50c-ad42367df583"
      },
      "outputs": [
        {
          "data": {
            "text/plain": [
              "[7.72105727285998,\n",
              " 6.810173459287398,\n",
              " 14.312122459081365,\n",
              " 22.333598149807585,\n",
              " 932.3403535063626,\n",
              " 7.680938496272574,\n",
              " 22.568180641388608,\n",
              " 8.079140588817609,\n",
              " 6.888274379407449,\n",
              " 20.393843703586754,\n",
              " 83.80570244158662,\n",
              " 34.73125677266398,\n",
              " -136.16996705380552,\n",
              " -222.68177768377063,\n",
              " -540.3706391576052,\n",
              " -3.3960317311375547,\n",
              " 313.4579605760864,\n",
              " 16.637272996191314,\n",
              " 9.589947460270196,\n",
              " -10.362078882368223,\n",
              " -13.705297189482735,\n",
              " -11.291369203523573,\n",
              " -6.076023133649869,\n",
              " 6.859274254153206,\n",
              " 90.72052168455775,\n",
              " 686.6689101268694,\n",
              " 33.655304685032206,\n",
              " -9.017056333228538,\n",
              " -21.01335935341376,\n",
              " 6.080175650185993,\n",
              " 55.39673145717097,\n",
              " 45.06477726488629,\n",
              " 16.25486396420274,\n",
              " 16.15337873649878,\n",
              " 4.589969131793623,\n",
              " 36.272693466547935,\n",
              " 13.104795117871618,\n",
              " 108.89536361677165,\n",
              " 37.4806148134212,\n",
              " 22.383820720689982,\n",
              " 16.653296833150307,\n",
              " 8.543148165445018,\n",
              " -0.6926291460586071,\n",
              " 85.56215575681563,\n",
              " 15.199928567129973,\n",
              " 9.413097815144283,\n",
              " 48.13356606174057,\n",
              " 7.576091924256616,\n",
              " 2.0968032681685145,\n",
              " 18.987904659818014,\n",
              " 8.975666946125784,\n",
              " -2.6079918839550373,\n",
              " 8.653675773895884,\n",
              " 21.95078864511015,\n",
              " 24.701928015074373,\n",
              " 12.331637673880323,\n",
              " -0.9689082571985637,\n",
              " 13.497022678231588,\n",
              " 5.5785746419987845,\n",
              " 0.11791698308115883,\n",
              " 5.694909852309138,\n",
              " 4.0234159498577355,\n",
              " 12.862168823170578,\n",
              " 18.568130162311718,\n",
              " 17.40887381986795,\n",
              " 32.3602058058641,\n",
              " 21.041350725789016,\n",
              " 9.705651731999751,\n",
              " 1.1695185193166253]"
            ]
          },
          "execution_count": 1120,
          "metadata": {},
          "output_type": "execute_result"
        }
      ],
      "source": [
        "lik_ratios_test"
      ]
    },
    {
      "cell_type": "code",
      "execution_count": null,
      "metadata": {
        "id": "MrcDukuhr7zA"
      },
      "outputs": [],
      "source": [
        "with open('/home/ggorin/projects/GVFP_2021/fits/gg_220802_022_allen_celltypes_1/logl_fit_results.pickle','wb') as rfs:\n",
        "    pickle.dump((gou_results_test,cir_results_test,ext_results_test),rfs)"
      ]
    },
    {
      "cell_type": "code",
      "execution_count": null,
      "metadata": {
        "id": "UlsmHcdxr7zA"
      },
      "outputs": [],
      "source": [
        ""
      ]
    },
    {
      "cell_type": "code",
      "execution_count": null,
      "metadata": {
        "id": "MUeHkJoer7zA"
      },
      "outputs": [],
      "source": [
        ""
      ]
    },
    {
      "cell_type": "code",
      "execution_count": null,
      "metadata": {
        "id": "SCp4fzWSr7zA"
      },
      "outputs": [],
      "source": [
        "model_gou = CMEModel('Bursty','None')\n",
        "model_cir = CMEModel('CIR','None')"
      ]
    },
    {
      "cell_type": "code",
      "execution_count": null,
      "metadata": {
        "id": "MYY70zNvr7zB"
      },
      "outputs": [],
      "source": [
        "reduced_guess = results[0]['par_initial_guess'][0]\n",
        "pars_sde_gou = convert_pars(get_MLE('GOU',sd_arr[dataset],gene_ind,reduced_guess,disp=False))\n",
        "pars_sde_cir = convert_pars(get_MLE('CIR',sd_arr[dataset],gene_ind,reduced_guess,disp=False))"
      ]
    },
    {
      "cell_type": "code",
      "execution_count": null,
      "metadata": {
        "scrolled": false,
        "id": "Kk6aYXIyr7zB",
        "outputId": "0a4369c7-4abe-4d4b-8d06-a16f9c765114"
      },
      "outputs": [
        {
          "data": {
            "text/plain": [
              "[<matplotlib.lines.Line2D at 0x7fc0e5689100>]"
            ]
          },
          "execution_count": 711,
          "metadata": {},
          "output_type": "execute_result"
        },
        {
          "data": {
            "image/png": "[encoded data removed]",
            "text/plain": [
              "<Figure size 720x360 with 2 Axes>"
            ]
          },
          "metadata": {
            "needs_background": "light"
          },
          "output_type": "display_data"
        }
      ],
      "source": [
        "fig1,ax1=plt.subplots(1,2,figsize=(10,5))\n",
        "\n",
        "# pars = results[0]['pars'][0,0]\n",
        "# raw_pars = 10**pars\n",
        "# pars_sde = np.zeros(5)\n",
        "# pars_sde[0] = raw_pars[1]\n",
        "# pars_sde[1] = raw_pars[2]\n",
        "# pars_sde[2] = 1\n",
        "# pars_sde[3] = 10\n",
        "# pars_sde[4] = raw_pars[0]*pars_sde[3]\n",
        "# print(mx)\n",
        "\n",
        "\n",
        "gou_reduced_color='skyblue'\n",
        "cir_reduced_color='lightcoral'\n",
        "gou_color='steelblue'\n",
        "cir_color='red'\n",
        "\n",
        "bins = np.arange(mx[0]-8)-0.5\n",
        "ax1[0].hist(sd_arr[dataset].U[gene_ind],bins,color='lightgray',density=True)\n",
        "\n",
        "# print(reduced_guess)\n",
        "# print(mx)\n",
        "y = get_GOU_2sp([mx[0],1],pars_sde_gou)\n",
        "ax1[0].plot(y,'-',color=gou_color,label='GOU')\n",
        "y = get_CIR_2sp([mx[0],1],pars_sde_cir)\n",
        "ax1[0].plot(y,'-',color=cir_color,label='CIR')\n",
        "ax1[0].legend()\n",
        "\n",
        "# y = model_gou.eval_model_pss(results[0]['pars'][0,0],[mx[0],1])\n",
        "# ax1[0].plot(y,'-',color=gou_reduced_color)\n",
        "# y = model_cir.eval_model_pss(results[0]['pars'][0,0],[mx[0],1])\n",
        "# ax1[0].plot(y,'-',color=cir_reduced_color)\n",
        "\n",
        "bins = np.arange(mx[1]-8)-0.5\n",
        "ax1[1].hist(sd_arr[dataset].S[gene_ind],bins,color='lightgray',density=True)\n",
        "\n",
        "y = get_GOU_2sp([1,mx[1]],pars_sde_gou).squeeze()\n",
        "ax1[1].plot(y,'-',color=gou_color)\n",
        "y = get_CIR_2sp([1,mx[1]],pars_sde_cir).squeeze()\n",
        "ax1[1].plot(y,'-',color=cir_color)\n",
        "\n",
        "# y = model_gou.eval_model_pss(results[0]['pars'][0,0],[1,mx[1]])\n",
        "# ax1[1].plot(y,'-',color=gou_reduced_color)\n",
        "# y = model_cir.eval_model_pss(results[0]['pars'][0,0],[1,mx[1]])\n",
        "# ax1[1].plot(y,'-',color=cir_reduced_color)\n",
        "\n"
      ]
    },
    {
      "cell_type": "code",
      "execution_count": null,
      "metadata": {
        "id": "sU7OZpZYr7zB",
        "outputId": "b2a17a85-634d-41c4-f440-8a68431d668a"
      },
      "outputs": [
        {
          "data": {
            "text/plain": [
              "array([0.69846587, 0.34059974, 1.        , 5.33865792, 8.58307563])"
            ]
          },
          "execution_count": 709,
          "metadata": {},
          "output_type": "execute_result"
        }
      ],
      "source": [
        "pars_sde_gou"
      ]
    },
    {
      "cell_type": "code",
      "execution_count": null,
      "metadata": {
        "id": "MRznGzNIr7zB",
        "outputId": "e705a57e-ab71-4866-dc0c-765f036b50ce"
      },
      "outputs": [
        {
          "data": {
            "text/plain": [
              "array([1.11828597, 0.55709416, 1.        , 3.70344119, 9.69163971])"
            ]
          },
          "execution_count": 710,
          "metadata": {},
          "output_type": "execute_result"
        }
      ],
      "source": [
        "pars_sde_cir"
      ]
    },
    {
      "cell_type": "code",
      "execution_count": null,
      "metadata": {
        "id": "tYrJHE26r7zB"
      },
      "outputs": [],
      "source": [
        "lik_ratio, logL_gou, logL_cir = get_lik_ratio(pars_sde_gou,pars_sde_cir,sd_arr[dataset],gene_ind)"
      ]
    },
    {
      "cell_type": "code",
      "execution_count": null,
      "metadata": {
        "id": "f04Be1Gnr7zB",
        "outputId": "6fd83c3d-0a6c-4eca-b417-f3d52f72351c"
      },
      "outputs": [
        {
          "data": {
            "text/plain": [
              "0.0008416052667578937"
            ]
          },
          "execution_count": 723,
          "metadata": {},
          "output_type": "execute_result"
        }
      ],
      "source": [
        "np.exp(lik_ratio)"
      ]
    },
    {
      "cell_type": "code",
      "execution_count": null,
      "metadata": {
        "id": "jX0eaWtkr7zC"
      },
      "outputs": [],
      "source": [
        "# logL_cir"
      ]
    },
    {
      "cell_type": "code",
      "execution_count": null,
      "metadata": {
        "id": "JaKa45jsr7zC"
      },
      "outputs": [],
      "source": [
        ""
      ]
    },
    {
      "cell_type": "code",
      "execution_count": null,
      "metadata": {
        "id": "KzwDJ5Dgr7zC",
        "outputId": "b189b465-2da6-42d0-a2b8-bbe5c094d0c6"
      },
      "outputs": [
        {
          "data": {
            "text/plain": [
              "array([[ 0.61372314,  0.71400019, -0.0534286 ],\n",
              "       [ 0.49207032,  0.28764252, -0.13998206],\n",
              "       [ 0.51649076,  0.33332578,  0.259165  ],\n",
              "       [ 0.65798982,  0.90407471, -0.06664039],\n",
              "       [ 0.50257677,  0.43672378, -0.08166862],\n",
              "       [ 0.56896899,  0.32475503, -0.04905389],\n",
              "       [ 0.57303585,  0.45543787, -0.22442979],\n",
              "       [ 0.57096672,  0.3093385 , -0.05130626],\n",
              "       [ 0.59825045,  0.57515689, -0.09370603],\n",
              "       [ 0.60444444,  1.11465733, -0.27654753],\n",
              "       [ 0.6247251 ,  0.85859456, -0.50929776],\n",
              "       [ 0.57455281,  0.46505862, -0.04826072],\n",
              "       [ 0.63296907,  0.6880956 , -0.21616537],\n",
              "       [ 0.4161751 , -0.05985304, -0.10934765],\n",
              "       [ 0.61699898,  0.91419371, -0.2923707 ],\n",
              "       [ 0.25186238,  0.25695717, -0.21070212],\n",
              "       [ 0.66102217,  0.78704108, -0.65377645],\n",
              "       [ 0.60307264,  0.05641369,  0.05646185],\n",
              "       [ 0.56458335,  0.75621751, -0.41151128],\n",
              "       [ 0.52427475,  0.90574789, -0.17088431],\n",
              "       [ 0.4134201 ,  0.25317057, -0.03669417]])"
            ]
          },
          "execution_count": 806,
          "metadata": {},
          "output_type": "execute_result"
        }
      ],
      "source": [
        "results[2]['par_initial_guess']"
      ]
    },
    {
      "cell_type": "code",
      "execution_count": null,
      "metadata": {
        "id": "27HK9FPEr7zC"
      },
      "outputs": [],
      "source": [
        ""
      ]
    },
    {
      "cell_type": "code",
      "execution_count": null,
      "metadata": {
        "id": "TWV0u9Hsr7zC"
      },
      "outputs": [],
      "source": [
        ""
      ]
    },
    {
      "cell_type": "code",
      "execution_count": null,
      "metadata": {
        "id": "MZMG7XCsr7zC"
      },
      "outputs": [],
      "source": [
        ""
      ]
    },
    {
      "cell_type": "code",
      "execution_count": null,
      "metadata": {
        "id": "9JJ5qjZvr7zC"
      },
      "outputs": [],
      "source": [
        ""
      ]
    }
  ],
  "metadata": {
    "colab": {
      "collapsed_sections": [],
      "name": "gg220406_refactor.ipynb",
      "provenance": [],
      "include_colab_link": true
    },
    "kernelspec": {
      "display_name": "Python 3",
      "language": "python",
      "name": "python3"
    },
    "language_info": {
      "codemirror_mode": {
        "name": "ipython",
        "version": 3
      },
      "file_extension": ".py",
      "mimetype": "text/x-python",
      "name": "python",
      "nbconvert_exporter": "python",
      "pygments_lexer": "ipython3",
      "version": "3.9.1"
    }
  },
  "nbformat": 4,
  "nbformat_minor": 0
}